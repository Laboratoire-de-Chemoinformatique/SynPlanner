{
 "cells": [
  {
   "attachments": {},
   "cell_type": "markdown",
   "id": "ba8ece36-edab-4b0f-9cd8-5dcd13206fcc",
   "metadata": {
    "tags": []
   },
   "source": [
    "# Benchmarking retrosynthetic planning\n",
    "\n",
    "This tutorial demonstrates how to easily use SynPlanner with pre-trained retrosynthetic models for retrosynthetic planning of several target molecules and benchmark it against other tools."
   ]
  },
  {
   "cell_type": "markdown",
   "id": "3ee3cf95-89da-4343-be94-69d18e56225a",
   "metadata": {},
   "source": [
    "## Basic recommendations\n",
    "\n",
    "1. Basic recommendation"
   ]
  },
  {
   "cell_type": "code",
   "execution_count": null,
   "id": "2942eff3-69bf-4e6b-96ec-cad5546ec784",
   "metadata": {},
   "outputs": [],
   "source": [
    "#@title SynPlanner Installation\n",
    "%%bash\n",
    "\n",
    "git clone https://github.com/Laboratoire-de-Chemoinformatique/SynPlanner.git\n",
    "cd SynPlanner/\n",
    "pip install -q ."
   ]
  },
  {
   "attachments": {},
   "cell_type": "markdown",
   "id": "9032f567-7443-4aa8-9d19-80c88d8ec038",
   "metadata": {},
   "source": [
    "## Targets file\n",
    "Specify here the path to the target molecules for retrosynthetic planning in SynPlanner"
   ]
  },
  {
   "cell_type": "code",
   "execution_count": null,
   "id": "ccdfc1c4-f9ed-4f87-aa13-6514c71a09b2",
   "metadata": {},
   "outputs": [],
   "source": [
    "targets_path = \"synplan_data/benchmarks/sascore/targets_with_sascore_1.5_2.5.smi\""
   ]
  },
  {
   "cell_type": "markdown",
   "id": "47eeb2a7-6f33-4289-812a-34db1bc192bc",
   "metadata": {},
   "source": [
    "## 1. Set up input and output data locations"
   ]
  },
  {
   "cell_type": "markdown",
   "id": "1e5c54c1-935a-45e8-a1c4-f444118793fc",
   "metadata": {},
   "source": [
    "The ``SynPlanner`` input data will be downloaded from the ``HuggingFace`` repository to the specified directory.\n",
    "\n",
    "For the retrosynthetic planning the following data and files are needed:\n",
    "    \n",
    "| Data / Files | Description |\n",
    "| --- | --- |\n",
    "| Reaction rules  | Extracted reaction rules for precursors dissection in retrosynthetic planning |\n",
    "| Policy network  | Trained ranking or filtering policy network for node expansion in tree search |\n",
    "| Value network   | Trained value neural network for node evaluation in tree search (optional, the default evaluation method is rollout) |\n",
    "| Building blocks | Set of building block molecules, which are used as terminal materials in the retrosynthetic route planning |"
   ]
  },
  {
   "cell_type": "code",
   "execution_count": null,
   "id": "5f47d536-0c4f-4d9c-bc77-422c5d066411",
   "metadata": {},
   "outputs": [],
   "source": [
    "import os\n",
    "import pickle\n",
    "import shutil\n",
    "from pathlib import Path\n",
    "from synplan.utils.loading import download_all_data\n",
    "\n",
    "# download SynPlanner data\n",
    "data_folder = Path(\"synplan_data\").resolve()\n",
    "download_all_data(save_to=data_folder)\n",
    "\n",
    "# input data\n",
    "ranking_policy_network = data_folder.joinpath(\"uspto/weights/ranking_policy_network.ckpt\").resolve(strict=True)\n",
    "reaction_rules_path = data_folder.joinpath(\"uspto/uspto_reaction_rules.pickle\")\n",
    "\n",
    "# planning reslts folder\n",
    "results_folder = Path(\"planning_results\").resolve()\n",
    "results_folder.mkdir(exist_ok=True)\n",
    "\n",
    "# use your custom building blocks if needed\n",
    "building_blocks_path = data_folder.joinpath(\"building_blocks/building_blocks_em_sa_ln.smi\")"
   ]
  },
  {
   "cell_type": "markdown",
   "id": "ed4cd205-22e7-4d0d-8073-bb49390630a3",
   "metadata": {},
   "source": [
    "## 2. Planning configuration"
   ]
  },
  {
   "cell_type": "code",
   "execution_count": null,
   "id": "50fe4773-5c00-4e8e-bcab-02b7c093e9c2",
   "metadata": {},
   "outputs": [],
   "source": [
    "from synplan.utils.config import PolicyNetworkConfig\n",
    "\n",
    "search_config = {\n",
    "    \"search_strategy\":\"expansion_first\",\n",
    "    \"evaluation_type\":\"rollout\",\n",
    "    \"max_iterations\":300,\n",
    "    \"max_time\":120,\n",
    "    \"max_depth\":9,\n",
    "    \"min_mol_size\":1,\n",
    "    \"init_node_value\":0.5,\n",
    "    \"ucb_type\":\"uct\",\n",
    "    \"c_ucb\":0.1,\n",
    "}\n",
    "\n",
    "policy_config = PolicyNetworkConfig.from_dict({\n",
    "    \"top_rules\":50,\n",
    "    \"rule_prob_threshold\":0.0,\n",
    "    \"priority_rules_fraction\":0.5,\n",
    "    \"weights_path\":ranking_policy_network,\n",
    "})"
   ]
  },
  {
   "cell_type": "markdown",
   "id": "bb2caeea-f878-4e6d-b8be-c8f89f43f932",
   "metadata": {},
   "source": [
    "## 3. Running planning"
   ]
  },
  {
   "cell_type": "code",
   "execution_count": null,
   "id": "16a77305-91bc-40cd-8495-1241e32c1ac5",
   "metadata": {},
   "outputs": [],
   "source": [
    "from synplan.mcts.search import run_search\n",
    "\n",
    "run_search(\n",
    "    targets_path=targets_path,\n",
    "    search_config=search_config,\n",
    "    policy_config=policy_config,\n",
    "    reaction_rules_path=reaction_rules_path,\n",
    "    building_blocks_path=building_blocks_path,\n",
    "    value_network_path=None,\n",
    "    results_root=results_folder,\n",
    ")"
   ]
  },
  {
   "cell_type": "markdown",
   "id": "7e472eca-d88e-43a6-bb2b-f3e3aaf758c1",
   "metadata": {},
   "source": [
    "## 4. Results"
   ]
  },
  {
   "cell_type": "code",
   "execution_count": null,
   "id": "2b30e17e-de25-4271-be80-188813449523",
   "metadata": {},
   "outputs": [],
   "source": [
    "import pandas as pd\n",
    "\n",
    "res = pd.read_csv(\"planning_results/tree_search_stats.csv\")\n",
    "columns = [\"target_smiles\", \"num_routes\", \"num_iter\", \"search_time\"]\n",
    "res[columns]"
   ]
  }
 ],
 "metadata": {
  "kernelspec": {
   "display_name": "synplan",
   "language": "python",
   "name": "synplan_env"
  },
  "language_info": {
   "codemirror_mode": {
    "name": "ipython",
    "version": 3
   },
   "file_extension": ".py",
   "mimetype": "text/x-python",
   "name": "python",
   "nbconvert_exporter": "python",
   "pygments_lexer": "ipython3",
   "version": "3.11.9"
  }
 },
 "nbformat": 4,
 "nbformat_minor": 5
}
