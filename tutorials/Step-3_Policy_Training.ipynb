{
 "cells": [
  {
   "cell_type": "markdown",
   "id": "1e3d66a85d15b9ca",
   "metadata": {},
   "source": [
    "# Step 3: Policy Network Training\n",
    "\n",
    "This tutorial demonstrates how to train ranking and filtering policy netwirk in ``SynPlanner``"
   ]
  },
  {
   "cell_type": "markdown",
   "id": "6b43180f-3215-444d-97f7-c19292ba9591",
   "metadata": {},
   "source": [
    "## Basic recommendations\n",
    "\n",
    "**1. Prefer ranking policy network over filtering policy network**\n",
    "\n",
    "The filtering policy network in its current implementation requires a lot of computational resources and its training is practically feasible with many CPUs and several dozen GB of RAM in case of large training sets. The bottleneck of the current implementation is the preparation of the training dataset, particularly the generation of binary vectors if successfully applied reaction rules to each training molecule. Thus, with limited computational\n",
    "resources, it is recommended to use a ranking policy network.\n",
    "\n",
    "**2. Use a filtering policy network for the portability of reaction rules between different tools**\n",
    "\n",
    "Filtering policy networks can be trained with any set of reaction rules, including those generated with other software because filtering network training does not depend on the original reaction dataset from which the reaction rules were extracted. In this case, the filtering policy network can be used for comparison of reaction rules extracted with different software/tools.\n",
    "\n",
    "**3. Reduce the size of the training molecules for filtering policy network**\n",
    "\n",
    "The problem of computational resources for filtering policy networks can be partially solved by a drastic reduction of the training set of molecules."
   ]
  },
  {
   "cell_type": "markdown",
   "id": "b39ecf78-7103-4fa1-8ab0-88c995d40350",
   "metadata": {},
   "source": [
    "## 1. Set up input and output data locations"
   ]
  },
  {
   "cell_type": "markdown",
   "id": "944dc45c-c5b3-4255-82de-667edf364b3e",
   "metadata": {},
   "source": [
    "The ``SynPlanner`` input data will be downloaded from the ``HuggingFace`` repository to the specified directory."
   ]
  },
  {
   "cell_type": "code",
   "execution_count": 1,
   "id": "928513a8-df22-4927-937a-230799d49d64",
   "metadata": {},
   "outputs": [
    {
     "data": {
      "application/vnd.jupyter.widget-view+json": {
       "model_id": "2a2bb3f418294f9b9ffcd3973e536412",
       "version_major": 2,
       "version_minor": 0
      },
      "text/plain": [
       "Fetching 25 files:   0%|          | 0/25 [00:00<?, ?it/s]"
      ]
     },
     "metadata": {},
     "output_type": "display_data"
    }
   ],
   "source": [
    "import os\n",
    "import pickle\n",
    "import shutil\n",
    "from pathlib import Path\n",
    "from synplan.utils.loading import download_all_data\n",
    "\n",
    "# download SynPlanner data\n",
    "data_folder = Path(\"synplan_data\").resolve()\n",
    "download_all_data(save_to=data_folder)\n",
    "\n",
    "# results folder\n",
    "results_folder = Path(\"tutorial_results\").resolve()\n",
    "results_folder.mkdir(exist_ok=True)\n",
    "\n",
    "# input data\n",
    "# use default filtered data from tutorial folder or replace with custom data prepared with data curation tutorial\n",
    "# be sure that you use the same reaction dataset from which the reaction rules were extracted \n",
    "\n",
    "reaction_rules_path = results_folder.joinpath(\"uspto_reaction_rules.pickle\") # needed for both ranking and filtering policy network training\n",
    "\n",
    "filtered_data_path = results_folder.joinpath(\"uspto_filtered.smi\") # needed for ranking policy network training\n",
    "molecules_data_path = results_folder.joinpath(\"\") # needed for filtering policy network training\n",
    "\n",
    "# output data\n",
    "ranking_policy_network_folder = results_folder.joinpath(\"ranking_policy_network\")\n",
    "filtering_policy_network_folder = results_folder.joinpath(\"filtering_policy_network\")\n",
    "\n",
    "# output data\n",
    "ranking_policy_dataset_path = ranking_policy_network_folder.joinpath(\"ranking_policy_dataset.pt\") # the generated training set for ranking network\n",
    "filtering_policy_dataset_path = filtering_policy_network_folder.joinpath(\"filtering_policy_dataset.pt\") # the generated training set for ranking network"
   ]
  },
  {
   "cell_type": "markdown",
   "id": "76c7178d-ea22-4fcc-a39d-00ae95c24cdf",
   "metadata": {},
   "source": [
    "## 2. Ranking policy training"
   ]
  },
  {
   "cell_type": "markdown",
   "id": "15ec9665-b316-41d3-9c85-45f9e5016f93",
   "metadata": {},
   "source": [
    "### Ranking network configuration"
   ]
  },
  {
   "cell_type": "code",
   "execution_count": 2,
   "id": "1d0ad0a2-4fad-47f5-ab5c-6f5b38343e30",
   "metadata": {},
   "outputs": [],
   "source": [
    "from synplan.utils.config import PolicyNetworkConfig\n",
    "from synplan.ml.training.supervised import create_policy_dataset, run_policy_training\n",
    "\n",
    "training_config = PolicyNetworkConfig(\n",
    "    policy_type=\"ranking\",  # the type of policy network\n",
    "    num_conv_layers=5,  # the number of graph convolutional layers in the network\n",
    "    vector_dim=512,  # the dimensionality of the final embedding vector\n",
    "    learning_rate=0.0008,  # the learning rate for the training process\n",
    "    dropout=0.4,  # the dropout rate\n",
    "    num_epoch=100,  # the number of epochs for training\n",
    "    batch_size=100,\n",
    ")  # the size of training batch of input data"
   ]
  },
  {
   "cell_type": "markdown",
   "id": "94f5db29397d4d95",
   "metadata": {},
   "source": [
    "### Creating ranking network training set\n",
    "\n",
    "Next, we create the policy dataset using the `create_policy_dataset` function. This involves specifying paths to the reaction rules and the reaction data:"
   ]
  },
  {
   "cell_type": "code",
   "execution_count": 3,
   "id": "2905b131ed0268c1",
   "metadata": {},
   "outputs": [
    {
     "name": "stderr",
     "output_type": "stream",
     "text": [
      "Number of reactions processed: 1019304 [2:19:19]\n"
     ]
    },
    {
     "name": "stdout",
     "output_type": "stream",
     "text": [
      "Training set size: 659781, validation set size: 164946\n"
     ]
    }
   ],
   "source": [
    "datamodule = create_policy_dataset(\n",
    "    dataset_type=\"ranking\",\n",
    "    reaction_rules_path=reaction_rules_path,\n",
    "    molecules_or_reactions_path=filtered_data_path,\n",
    "    output_path=ranking_policy_dataset_path,\n",
    "    batch_size=training_config.batch_size,\n",
    "    num_cpus=4,\n",
    ")"
   ]
  },
  {
   "cell_type": "markdown",
   "id": "6f9e9e8cd9423f30",
   "metadata": {},
   "source": [
    "### Running ranking policy network training\n",
    "\n",
    "Finally, we train the policy network using the `run_policy_training` function. This step involves feeding the dataset and the training configuration into the network:"
   ]
  },
  {
   "cell_type": "code",
   "execution_count": 4,
   "id": "d59c420b56fb3e00",
   "metadata": {},
   "outputs": [
    {
     "name": "stderr",
     "output_type": "stream",
     "text": [
      "GPU available: True (cuda), used: True\n",
      "TPU available: False, using: 0 TPU cores\n",
      "HPU available: False, using: 0 HPUs\n",
      "LOCAL_RANK: 0 - CUDA_VISIBLE_DEVICES: [0]\n",
      "\n",
      "  | Name        | Type           | Params | Mode \n",
      "-------------------------------------------------------\n",
      "0 | embedder    | GraphEmbedding | 1.3 M  | train\n",
      "1 | y_predictor | Linear         | 12.5 M | train\n",
      "-------------------------------------------------------\n",
      "13.8 M    Trainable params\n",
      "0         Non-trainable params\n",
      "13.8 M    Total params\n",
      "55.392    Total estimated model params size (MB)\n"
     ]
    },
    {
     "name": "stdout",
     "output_type": "stream",
     "text": [
      "Weight decoupling enabled in AdaBelief\n",
      "Rectification enabled in AdaBelief\n"
     ]
    },
    {
     "data": {
      "application/vnd.jupyter.widget-view+json": {
       "model_id": "",
       "version_major": 2,
       "version_minor": 0
      },
      "text/plain": [
       "Sanity Checking: | | 0/? ["
      ]
     },
     "metadata": {},
     "output_type": "display_data"
    },
    {
     "data": {
      "application/vnd.jupyter.widget-view+json": {
       "model_id": "47536b3fdcb8469591cb3866d5249929",
       "version_major": 2,
       "version_minor": 0
      },
      "text/plain": [
       "Training: | | 0/? [00:00<?"
      ]
     },
     "metadata": {},
     "output_type": "display_data"
    },
    {
     "data": {
      "application/vnd.jupyter.widget-view+json": {
       "model_id": "",
       "version_major": 2,
       "version_minor": 0
      },
      "text/plain": [
       "Validation: | | 0/? [00:00"
      ]
     },
     "metadata": {},
     "output_type": "display_data"
    },
    {
     "data": {
      "application/vnd.jupyter.widget-view+json": {
       "model_id": "",
       "version_major": 2,
       "version_minor": 0
      },
      "text/plain": [
       "Validation: | | 0/? [00:00"
      ]
     },
     "metadata": {},
     "output_type": "display_data"
    },
    {
     "data": {
      "application/vnd.jupyter.widget-view+json": {
       "model_id": "",
       "version_major": 2,
       "version_minor": 0
      },
      "text/plain": [
       "Validation: | | 0/? [00:00"
      ]
     },
     "metadata": {},
     "output_type": "display_data"
    },
    {
     "data": {
      "application/vnd.jupyter.widget-view+json": {
       "model_id": "",
       "version_major": 2,
       "version_minor": 0
      },
      "text/plain": [
       "Validation: | | 0/? [00:00"
      ]
     },
     "metadata": {},
     "output_type": "display_data"
    },
    {
     "data": {
      "application/vnd.jupyter.widget-view+json": {
       "model_id": "",
       "version_major": 2,
       "version_minor": 0
      },
      "text/plain": [
       "Validation: | | 0/? [00:00"
      ]
     },
     "metadata": {},
     "output_type": "display_data"
    },
    {
     "data": {
      "application/vnd.jupyter.widget-view+json": {
       "model_id": "",
       "version_major": 2,
       "version_minor": 0
      },
      "text/plain": [
       "Validation: | | 0/? [00:00"
      ]
     },
     "metadata": {},
     "output_type": "display_data"
    },
    {
     "data": {
      "application/vnd.jupyter.widget-view+json": {
       "model_id": "",
       "version_major": 2,
       "version_minor": 0
      },
      "text/plain": [
       "Validation: | | 0/? [00:00"
      ]
     },
     "metadata": {},
     "output_type": "display_data"
    },
    {
     "data": {
      "application/vnd.jupyter.widget-view+json": {
       "model_id": "",
       "version_major": 2,
       "version_minor": 0
      },
      "text/plain": [
       "Validation: | | 0/? [00:00"
      ]
     },
     "metadata": {},
     "output_type": "display_data"
    },
    {
     "data": {
      "application/vnd.jupyter.widget-view+json": {
       "model_id": "",
       "version_major": 2,
       "version_minor": 0
      },
      "text/plain": [
       "Validation: | | 0/? [00:00"
      ]
     },
     "metadata": {},
     "output_type": "display_data"
    },
    {
     "data": {
      "application/vnd.jupyter.widget-view+json": {
       "model_id": "",
       "version_major": 2,
       "version_minor": 0
      },
      "text/plain": [
       "Validation: | | 0/? [00:00"
      ]
     },
     "metadata": {},
     "output_type": "display_data"
    },
    {
     "data": {
      "application/vnd.jupyter.widget-view+json": {
       "model_id": "",
       "version_major": 2,
       "version_minor": 0
      },
      "text/plain": [
       "Validation: | | 0/? [00:00"
      ]
     },
     "metadata": {},
     "output_type": "display_data"
    },
    {
     "data": {
      "application/vnd.jupyter.widget-view+json": {
       "model_id": "",
       "version_major": 2,
       "version_minor": 0
      },
      "text/plain": [
       "Validation: | | 0/? [00:00"
      ]
     },
     "metadata": {},
     "output_type": "display_data"
    },
    {
     "data": {
      "application/vnd.jupyter.widget-view+json": {
       "model_id": "",
       "version_major": 2,
       "version_minor": 0
      },
      "text/plain": [
       "Validation: | | 0/? [00:00"
      ]
     },
     "metadata": {},
     "output_type": "display_data"
    },
    {
     "data": {
      "application/vnd.jupyter.widget-view+json": {
       "model_id": "",
       "version_major": 2,
       "version_minor": 0
      },
      "text/plain": [
       "Validation: | | 0/? [00:00"
      ]
     },
     "metadata": {},
     "output_type": "display_data"
    },
    {
     "data": {
      "application/vnd.jupyter.widget-view+json": {
       "model_id": "",
       "version_major": 2,
       "version_minor": 0
      },
      "text/plain": [
       "Validation: | | 0/? [00:00"
      ]
     },
     "metadata": {},
     "output_type": "display_data"
    },
    {
     "data": {
      "application/vnd.jupyter.widget-view+json": {
       "model_id": "",
       "version_major": 2,
       "version_minor": 0
      },
      "text/plain": [
       "Validation: | | 0/? [00:00"
      ]
     },
     "metadata": {},
     "output_type": "display_data"
    },
    {
     "data": {
      "application/vnd.jupyter.widget-view+json": {
       "model_id": "",
       "version_major": 2,
       "version_minor": 0
      },
      "text/plain": [
       "Validation: | | 0/? [00:00"
      ]
     },
     "metadata": {},
     "output_type": "display_data"
    },
    {
     "data": {
      "application/vnd.jupyter.widget-view+json": {
       "model_id": "",
       "version_major": 2,
       "version_minor": 0
      },
      "text/plain": [
       "Validation: | | 0/? [00:00"
      ]
     },
     "metadata": {},
     "output_type": "display_data"
    },
    {
     "data": {
      "application/vnd.jupyter.widget-view+json": {
       "model_id": "",
       "version_major": 2,
       "version_minor": 0
      },
      "text/plain": [
       "Validation: | | 0/? [00:00"
      ]
     },
     "metadata": {},
     "output_type": "display_data"
    },
    {
     "data": {
      "application/vnd.jupyter.widget-view+json": {
       "model_id": "",
       "version_major": 2,
       "version_minor": 0
      },
      "text/plain": [
       "Validation: | | 0/? [00:00"
      ]
     },
     "metadata": {},
     "output_type": "display_data"
    },
    {
     "data": {
      "application/vnd.jupyter.widget-view+json": {
       "model_id": "",
       "version_major": 2,
       "version_minor": 0
      },
      "text/plain": [
       "Validation: | | 0/? [00:00"
      ]
     },
     "metadata": {},
     "output_type": "display_data"
    },
    {
     "data": {
      "application/vnd.jupyter.widget-view+json": {
       "model_id": "",
       "version_major": 2,
       "version_minor": 0
      },
      "text/plain": [
       "Validation: | | 0/? [00:00"
      ]
     },
     "metadata": {},
     "output_type": "display_data"
    },
    {
     "data": {
      "application/vnd.jupyter.widget-view+json": {
       "model_id": "",
       "version_major": 2,
       "version_minor": 0
      },
      "text/plain": [
       "Validation: | | 0/? [00:00"
      ]
     },
     "metadata": {},
     "output_type": "display_data"
    },
    {
     "data": {
      "application/vnd.jupyter.widget-view+json": {
       "model_id": "",
       "version_major": 2,
       "version_minor": 0
      },
      "text/plain": [
       "Validation: | | 0/? [00:00"
      ]
     },
     "metadata": {},
     "output_type": "display_data"
    },
    {
     "data": {
      "application/vnd.jupyter.widget-view+json": {
       "model_id": "",
       "version_major": 2,
       "version_minor": 0
      },
      "text/plain": [
       "Validation: | | 0/? [00:00"
      ]
     },
     "metadata": {},
     "output_type": "display_data"
    },
    {
     "data": {
      "application/vnd.jupyter.widget-view+json": {
       "model_id": "",
       "version_major": 2,
       "version_minor": 0
      },
      "text/plain": [
       "Validation: | | 0/? [00:00"
      ]
     },
     "metadata": {},
     "output_type": "display_data"
    },
    {
     "data": {
      "application/vnd.jupyter.widget-view+json": {
       "model_id": "",
       "version_major": 2,
       "version_minor": 0
      },
      "text/plain": [
       "Validation: | | 0/? [00:00"
      ]
     },
     "metadata": {},
     "output_type": "display_data"
    },
    {
     "data": {
      "application/vnd.jupyter.widget-view+json": {
       "model_id": "",
       "version_major": 2,
       "version_minor": 0
      },
      "text/plain": [
       "Validation: | | 0/? [00:00"
      ]
     },
     "metadata": {},
     "output_type": "display_data"
    },
    {
     "data": {
      "application/vnd.jupyter.widget-view+json": {
       "model_id": "",
       "version_major": 2,
       "version_minor": 0
      },
      "text/plain": [
       "Validation: | | 0/? [00:00"
      ]
     },
     "metadata": {},
     "output_type": "display_data"
    },
    {
     "data": {
      "application/vnd.jupyter.widget-view+json": {
       "model_id": "",
       "version_major": 2,
       "version_minor": 0
      },
      "text/plain": [
       "Validation: | | 0/? [00:00"
      ]
     },
     "metadata": {},
     "output_type": "display_data"
    },
    {
     "data": {
      "application/vnd.jupyter.widget-view+json": {
       "model_id": "",
       "version_major": 2,
       "version_minor": 0
      },
      "text/plain": [
       "Validation: | | 0/? [00:00"
      ]
     },
     "metadata": {},
     "output_type": "display_data"
    },
    {
     "data": {
      "application/vnd.jupyter.widget-view+json": {
       "model_id": "",
       "version_major": 2,
       "version_minor": 0
      },
      "text/plain": [
       "Validation: | | 0/? [00:00"
      ]
     },
     "metadata": {},
     "output_type": "display_data"
    },
    {
     "data": {
      "application/vnd.jupyter.widget-view+json": {
       "model_id": "",
       "version_major": 2,
       "version_minor": 0
      },
      "text/plain": [
       "Validation: | | 0/? [00:00"
      ]
     },
     "metadata": {},
     "output_type": "display_data"
    },
    {
     "data": {
      "application/vnd.jupyter.widget-view+json": {
       "model_id": "",
       "version_major": 2,
       "version_minor": 0
      },
      "text/plain": [
       "Validation: | | 0/? [00:00"
      ]
     },
     "metadata": {},
     "output_type": "display_data"
    },
    {
     "data": {
      "application/vnd.jupyter.widget-view+json": {
       "model_id": "",
       "version_major": 2,
       "version_minor": 0
      },
      "text/plain": [
       "Validation: | | 0/? [00:00"
      ]
     },
     "metadata": {},
     "output_type": "display_data"
    },
    {
     "data": {
      "application/vnd.jupyter.widget-view+json": {
       "model_id": "",
       "version_major": 2,
       "version_minor": 0
      },
      "text/plain": [
       "Validation: | | 0/? [00:00"
      ]
     },
     "metadata": {},
     "output_type": "display_data"
    },
    {
     "data": {
      "application/vnd.jupyter.widget-view+json": {
       "model_id": "",
       "version_major": 2,
       "version_minor": 0
      },
      "text/plain": [
       "Validation: | | 0/? [00:00"
      ]
     },
     "metadata": {},
     "output_type": "display_data"
    },
    {
     "data": {
      "application/vnd.jupyter.widget-view+json": {
       "model_id": "",
       "version_major": 2,
       "version_minor": 0
      },
      "text/plain": [
       "Validation: | | 0/? [00:00"
      ]
     },
     "metadata": {},
     "output_type": "display_data"
    },
    {
     "data": {
      "application/vnd.jupyter.widget-view+json": {
       "model_id": "",
       "version_major": 2,
       "version_minor": 0
      },
      "text/plain": [
       "Validation: | | 0/? [00:00"
      ]
     },
     "metadata": {},
     "output_type": "display_data"
    },
    {
     "data": {
      "application/vnd.jupyter.widget-view+json": {
       "model_id": "",
       "version_major": 2,
       "version_minor": 0
      },
      "text/plain": [
       "Validation: | | 0/? [00:00"
      ]
     },
     "metadata": {},
     "output_type": "display_data"
    },
    {
     "data": {
      "application/vnd.jupyter.widget-view+json": {
       "model_id": "",
       "version_major": 2,
       "version_minor": 0
      },
      "text/plain": [
       "Validation: | | 0/? [00:00"
      ]
     },
     "metadata": {},
     "output_type": "display_data"
    },
    {
     "data": {
      "application/vnd.jupyter.widget-view+json": {
       "model_id": "",
       "version_major": 2,
       "version_minor": 0
      },
      "text/plain": [
       "Validation: | | 0/? [00:00"
      ]
     },
     "metadata": {},
     "output_type": "display_data"
    },
    {
     "data": {
      "application/vnd.jupyter.widget-view+json": {
       "model_id": "",
       "version_major": 2,
       "version_minor": 0
      },
      "text/plain": [
       "Validation: | | 0/? [00:00"
      ]
     },
     "metadata": {},
     "output_type": "display_data"
    },
    {
     "data": {
      "application/vnd.jupyter.widget-view+json": {
       "model_id": "",
       "version_major": 2,
       "version_minor": 0
      },
      "text/plain": [
       "Validation: | | 0/? [00:00"
      ]
     },
     "metadata": {},
     "output_type": "display_data"
    },
    {
     "data": {
      "application/vnd.jupyter.widget-view+json": {
       "model_id": "",
       "version_major": 2,
       "version_minor": 0
      },
      "text/plain": [
       "Validation: | | 0/? [00:00"
      ]
     },
     "metadata": {},
     "output_type": "display_data"
    },
    {
     "data": {
      "application/vnd.jupyter.widget-view+json": {
       "model_id": "",
       "version_major": 2,
       "version_minor": 0
      },
      "text/plain": [
       "Validation: | | 0/? [00:00"
      ]
     },
     "metadata": {},
     "output_type": "display_data"
    },
    {
     "data": {
      "application/vnd.jupyter.widget-view+json": {
       "model_id": "cafa2dae1e464777a0c3b0a798dd5b8c",
       "version_major": 2,
       "version_minor": 0
      },
      "text/plain": [
       "Validation: | | 0/? [00:00"
      ]
     },
     "metadata": {},
     "output_type": "display_data"
    },
    {
     "data": {
      "application/vnd.jupyter.widget-view+json": {
       "model_id": "b4413bcc2a1c471f8f16bbdc474df6f2",
       "version_major": 2,
       "version_minor": 0
      },
      "text/plain": [
       "Validation: | | 0/? [00:00"
      ]
     },
     "metadata": {},
     "output_type": "display_data"
    },
    {
     "data": {
      "application/vnd.jupyter.widget-view+json": {
       "model_id": "588528c4c0574701a463cf8bd4d86fe0",
       "version_major": 2,
       "version_minor": 0
      },
      "text/plain": [
       "Validation: | | 0/? [00:00"
      ]
     },
     "metadata": {},
     "output_type": "display_data"
    },
    {
     "data": {
      "application/vnd.jupyter.widget-view+json": {
       "model_id": "833fafad349c4d0cb42e63c65455bd87",
       "version_major": 2,
       "version_minor": 0
      },
      "text/plain": [
       "Validation: | | 0/? [00:00"
      ]
     },
     "metadata": {},
     "output_type": "display_data"
    },
    {
     "data": {
      "application/vnd.jupyter.widget-view+json": {
       "model_id": "e39f76803bdd49d8954cccab2c2dcd12",
       "version_major": 2,
       "version_minor": 0
      },
      "text/plain": [
       "Validation: | | 0/? [00:00"
      ]
     },
     "metadata": {},
     "output_type": "display_data"
    },
    {
     "data": {
      "application/vnd.jupyter.widget-view+json": {
       "model_id": "a171197bf8da4f9684961dc861032d54",
       "version_major": 2,
       "version_minor": 0
      },
      "text/plain": [
       "Validation: | | 0/? [00:00"
      ]
     },
     "metadata": {},
     "output_type": "display_data"
    },
    {
     "data": {
      "application/vnd.jupyter.widget-view+json": {
       "model_id": "f886a379c3104807a727aace6500f333",
       "version_major": 2,
       "version_minor": 0
      },
      "text/plain": [
       "Validation: | | 0/? [00:00"
      ]
     },
     "metadata": {},
     "output_type": "display_data"
    },
    {
     "data": {
      "application/vnd.jupyter.widget-view+json": {
       "model_id": "6f2a2dd3b9ab40edbf39c17c31c3da8c",
       "version_major": 2,
       "version_minor": 0
      },
      "text/plain": [
       "Validation: | | 0/? [00:00"
      ]
     },
     "metadata": {},
     "output_type": "display_data"
    },
    {
     "data": {
      "application/vnd.jupyter.widget-view+json": {
       "model_id": "9ab62e67a9b2469d8adea6953dadaf28",
       "version_major": 2,
       "version_minor": 0
      },
      "text/plain": [
       "Validation: | | 0/? [00:00"
      ]
     },
     "metadata": {},
     "output_type": "display_data"
    },
    {
     "data": {
      "application/vnd.jupyter.widget-view+json": {
       "model_id": "1fc770471b0a4ef1b5fea414234d2030",
       "version_major": 2,
       "version_minor": 0
      },
      "text/plain": [
       "Validation: | | 0/? [00:00"
      ]
     },
     "metadata": {},
     "output_type": "display_data"
    },
    {
     "data": {
      "application/vnd.jupyter.widget-view+json": {
       "model_id": "fb2d0a03ffb447c19cabb73081478101",
       "version_major": 2,
       "version_minor": 0
      },
      "text/plain": [
       "Validation: | | 0/? [00:00"
      ]
     },
     "metadata": {},
     "output_type": "display_data"
    },
    {
     "data": {
      "application/vnd.jupyter.widget-view+json": {
       "model_id": "586166716b9340c492238a031ce89299",
       "version_major": 2,
       "version_minor": 0
      },
      "text/plain": [
       "Validation: | | 0/? [00:00"
      ]
     },
     "metadata": {},
     "output_type": "display_data"
    },
    {
     "data": {
      "application/vnd.jupyter.widget-view+json": {
       "model_id": "469505a9c1084c8e9c65efa997981006",
       "version_major": 2,
       "version_minor": 0
      },
      "text/plain": [
       "Validation: | | 0/? [00:00"
      ]
     },
     "metadata": {},
     "output_type": "display_data"
    },
    {
     "data": {
      "application/vnd.jupyter.widget-view+json": {
       "model_id": "d821fa90829f49faaa32eea077c59769",
       "version_major": 2,
       "version_minor": 0
      },
      "text/plain": [
       "Validation: | | 0/? [00:00"
      ]
     },
     "metadata": {},
     "output_type": "display_data"
    },
    {
     "data": {
      "application/vnd.jupyter.widget-view+json": {
       "model_id": "1c0096cfae584d549f9ee8f9957eb982",
       "version_major": 2,
       "version_minor": 0
      },
      "text/plain": [
       "Validation: | | 0/? [00:00"
      ]
     },
     "metadata": {},
     "output_type": "display_data"
    },
    {
     "data": {
      "application/vnd.jupyter.widget-view+json": {
       "model_id": "02426110b9c942dfaac81361e33f1b9a",
       "version_major": 2,
       "version_minor": 0
      },
      "text/plain": [
       "Validation: | | 0/? [00:00"
      ]
     },
     "metadata": {},
     "output_type": "display_data"
    },
    {
     "data": {
      "application/vnd.jupyter.widget-view+json": {
       "model_id": "66d80fe1a5964031986ef50d6e1493cd",
       "version_major": 2,
       "version_minor": 0
      },
      "text/plain": [
       "Validation: | | 0/? [00:00"
      ]
     },
     "metadata": {},
     "output_type": "display_data"
    },
    {
     "data": {
      "application/vnd.jupyter.widget-view+json": {
       "model_id": "2ccbf2da41c64621a7c3fb2b11ea917f",
       "version_major": 2,
       "version_minor": 0
      },
      "text/plain": [
       "Validation: | | 0/? [00:00"
      ]
     },
     "metadata": {},
     "output_type": "display_data"
    },
    {
     "data": {
      "application/vnd.jupyter.widget-view+json": {
       "model_id": "eb16176d981f4cb58673bf888168946c",
       "version_major": 2,
       "version_minor": 0
      },
      "text/plain": [
       "Validation: | | 0/? [00:00"
      ]
     },
     "metadata": {},
     "output_type": "display_data"
    },
    {
     "data": {
      "application/vnd.jupyter.widget-view+json": {
       "model_id": "5b47df26eb6d4e289d268bf4244c2e95",
       "version_major": 2,
       "version_minor": 0
      },
      "text/plain": [
       "Validation: | | 0/? [00:00"
      ]
     },
     "metadata": {},
     "output_type": "display_data"
    },
    {
     "data": {
      "application/vnd.jupyter.widget-view+json": {
       "model_id": "6d8d8bf62e0f4b2f9f71de8bff3f3ce3",
       "version_major": 2,
       "version_minor": 0
      },
      "text/plain": [
       "Validation: | | 0/? [00:00"
      ]
     },
     "metadata": {},
     "output_type": "display_data"
    },
    {
     "data": {
      "application/vnd.jupyter.widget-view+json": {
       "model_id": "b5f83bcc1cba49d49fe823503e050265",
       "version_major": 2,
       "version_minor": 0
      },
      "text/plain": [
       "Validation: | | 0/? [00:00"
      ]
     },
     "metadata": {},
     "output_type": "display_data"
    },
    {
     "data": {
      "application/vnd.jupyter.widget-view+json": {
       "model_id": "9c7e52419f8b41b1a6565bccc75cc6f0",
       "version_major": 2,
       "version_minor": 0
      },
      "text/plain": [
       "Validation: | | 0/? [00:00"
      ]
     },
     "metadata": {},
     "output_type": "display_data"
    },
    {
     "data": {
      "application/vnd.jupyter.widget-view+json": {
       "model_id": "887fc009bc954057b2f43757786f2b7a",
       "version_major": 2,
       "version_minor": 0
      },
      "text/plain": [
       "Validation: | | 0/? [00:00"
      ]
     },
     "metadata": {},
     "output_type": "display_data"
    },
    {
     "data": {
      "application/vnd.jupyter.widget-view+json": {
       "model_id": "e3293b90d4c241508335742d74f23939",
       "version_major": 2,
       "version_minor": 0
      },
      "text/plain": [
       "Validation: | | 0/? [00:00"
      ]
     },
     "metadata": {},
     "output_type": "display_data"
    },
    {
     "data": {
      "application/vnd.jupyter.widget-view+json": {
       "model_id": "da3e20cf0dcd4ea2a7f796e2136f3921",
       "version_major": 2,
       "version_minor": 0
      },
      "text/plain": [
       "Validation: | | 0/? [00:00"
      ]
     },
     "metadata": {},
     "output_type": "display_data"
    },
    {
     "data": {
      "application/vnd.jupyter.widget-view+json": {
       "model_id": "93ceefabe078456ab596260d13bff653",
       "version_major": 2,
       "version_minor": 0
      },
      "text/plain": [
       "Validation: | | 0/? [00:00"
      ]
     },
     "metadata": {},
     "output_type": "display_data"
    },
    {
     "data": {
      "application/vnd.jupyter.widget-view+json": {
       "model_id": "1cffd2b5ab864800b0e6b0152a796cfb",
       "version_major": 2,
       "version_minor": 0
      },
      "text/plain": [
       "Validation: | | 0/? [00:00"
      ]
     },
     "metadata": {},
     "output_type": "display_data"
    },
    {
     "data": {
      "application/vnd.jupyter.widget-view+json": {
       "model_id": "4fc510e47ebe4202bbb13452a2cbd224",
       "version_major": 2,
       "version_minor": 0
      },
      "text/plain": [
       "Validation: | | 0/? [00:00"
      ]
     },
     "metadata": {},
     "output_type": "display_data"
    },
    {
     "data": {
      "application/vnd.jupyter.widget-view+json": {
       "model_id": "e25e6db519144103a48c39da62cb3478",
       "version_major": 2,
       "version_minor": 0
      },
      "text/plain": [
       "Validation: | | 0/? [00:00"
      ]
     },
     "metadata": {},
     "output_type": "display_data"
    },
    {
     "data": {
      "application/vnd.jupyter.widget-view+json": {
       "model_id": "f9f1c80b1c2d4d76884a782a97dc9ca0",
       "version_major": 2,
       "version_minor": 0
      },
      "text/plain": [
       "Validation: | | 0/? [00:00"
      ]
     },
     "metadata": {},
     "output_type": "display_data"
    },
    {
     "data": {
      "application/vnd.jupyter.widget-view+json": {
       "model_id": "49b8f20f87a54cbabe1a29ab1e2c8c61",
       "version_major": 2,
       "version_minor": 0
      },
      "text/plain": [
       "Validation: | | 0/? [00:00"
      ]
     },
     "metadata": {},
     "output_type": "display_data"
    },
    {
     "data": {
      "application/vnd.jupyter.widget-view+json": {
       "model_id": "f50492591d934868aed93d1d10167d6a",
       "version_major": 2,
       "version_minor": 0
      },
      "text/plain": [
       "Validation: | | 0/? [00:00"
      ]
     },
     "metadata": {},
     "output_type": "display_data"
    },
    {
     "data": {
      "application/vnd.jupyter.widget-view+json": {
       "model_id": "99fb9dc7f754440d9140aad8f0e3d0e3",
       "version_major": 2,
       "version_minor": 0
      },
      "text/plain": [
       "Validation: | | 0/? [00:00"
      ]
     },
     "metadata": {},
     "output_type": "display_data"
    },
    {
     "data": {
      "application/vnd.jupyter.widget-view+json": {
       "model_id": "5e85fd5127244921b9292a6bf0e967df",
       "version_major": 2,
       "version_minor": 0
      },
      "text/plain": [
       "Validation: | | 0/? [00:00"
      ]
     },
     "metadata": {},
     "output_type": "display_data"
    },
    {
     "data": {
      "application/vnd.jupyter.widget-view+json": {
       "model_id": "49cdd7b19c44417891b5295b2402faa6",
       "version_major": 2,
       "version_minor": 0
      },
      "text/plain": [
       "Validation: | | 0/? [00:00"
      ]
     },
     "metadata": {},
     "output_type": "display_data"
    },
    {
     "data": {
      "application/vnd.jupyter.widget-view+json": {
       "model_id": "94d853ef9b4d4fcf8e13a5e58bc3ef1a",
       "version_major": 2,
       "version_minor": 0
      },
      "text/plain": [
       "Validation: | | 0/? [00:00"
      ]
     },
     "metadata": {},
     "output_type": "display_data"
    },
    {
     "data": {
      "application/vnd.jupyter.widget-view+json": {
       "model_id": "5f8946dbae4a49baab69049f5450a551",
       "version_major": 2,
       "version_minor": 0
      },
      "text/plain": [
       "Validation: | | 0/? [00:00"
      ]
     },
     "metadata": {},
     "output_type": "display_data"
    },
    {
     "data": {
      "application/vnd.jupyter.widget-view+json": {
       "model_id": "d19ace363c884d04ae5288ece6097c9a",
       "version_major": 2,
       "version_minor": 0
      },
      "text/plain": [
       "Validation: | | 0/? [00:00"
      ]
     },
     "metadata": {},
     "output_type": "display_data"
    },
    {
     "data": {
      "application/vnd.jupyter.widget-view+json": {
       "model_id": "0368dfcdfab74898a54b6e943e9dddcc",
       "version_major": 2,
       "version_minor": 0
      },
      "text/plain": [
       "Validation: | | 0/? [00:00"
      ]
     },
     "metadata": {},
     "output_type": "display_data"
    },
    {
     "data": {
      "application/vnd.jupyter.widget-view+json": {
       "model_id": "26cb6e0818aa44f5ac094e2a106d8897",
       "version_major": 2,
       "version_minor": 0
      },
      "text/plain": [
       "Validation: | | 0/? [00:00"
      ]
     },
     "metadata": {},
     "output_type": "display_data"
    },
    {
     "data": {
      "application/vnd.jupyter.widget-view+json": {
       "model_id": "eeb07400ada64409b3c9bb1056378479",
       "version_major": 2,
       "version_minor": 0
      },
      "text/plain": [
       "Validation: | | 0/? [00:00"
      ]
     },
     "metadata": {},
     "output_type": "display_data"
    },
    {
     "data": {
      "application/vnd.jupyter.widget-view+json": {
       "model_id": "cdce6e95d25147879e2abc8350e5fee4",
       "version_major": 2,
       "version_minor": 0
      },
      "text/plain": [
       "Validation: | | 0/? [00:00"
      ]
     },
     "metadata": {},
     "output_type": "display_data"
    },
    {
     "data": {
      "application/vnd.jupyter.widget-view+json": {
       "model_id": "016b25e2be134cf7a70fdf0417347f36",
       "version_major": 2,
       "version_minor": 0
      },
      "text/plain": [
       "Validation: | | 0/? [00:00"
      ]
     },
     "metadata": {},
     "output_type": "display_data"
    },
    {
     "data": {
      "application/vnd.jupyter.widget-view+json": {
       "model_id": "e2b48d509cb94b5296c2ba288049cbdb",
       "version_major": 2,
       "version_minor": 0
      },
      "text/plain": [
       "Validation: | | 0/? [00:00"
      ]
     },
     "metadata": {},
     "output_type": "display_data"
    },
    {
     "data": {
      "application/vnd.jupyter.widget-view+json": {
       "model_id": "eac132f802fb4891832b94033e4062c4",
       "version_major": 2,
       "version_minor": 0
      },
      "text/plain": [
       "Validation: | | 0/? [00:00"
      ]
     },
     "metadata": {},
     "output_type": "display_data"
    },
    {
     "data": {
      "application/vnd.jupyter.widget-view+json": {
       "model_id": "f10d25d5144447538175390c7cc4a3f9",
       "version_major": 2,
       "version_minor": 0
      },
      "text/plain": [
       "Validation: | | 0/? [00:00"
      ]
     },
     "metadata": {},
     "output_type": "display_data"
    },
    {
     "data": {
      "application/vnd.jupyter.widget-view+json": {
       "model_id": "33fcff7e98be415e9677c548a4d2a7e3",
       "version_major": 2,
       "version_minor": 0
      },
      "text/plain": [
       "Validation: | | 0/? [00:00"
      ]
     },
     "metadata": {},
     "output_type": "display_data"
    },
    {
     "data": {
      "application/vnd.jupyter.widget-view+json": {
       "model_id": "450a141cf851495b92ac2fd66a748ec9",
       "version_major": 2,
       "version_minor": 0
      },
      "text/plain": [
       "Validation: | | 0/? [00:00"
      ]
     },
     "metadata": {},
     "output_type": "display_data"
    },
    {
     "data": {
      "application/vnd.jupyter.widget-view+json": {
       "model_id": "8dee3b0f89f9415a82f34eedb7957e48",
       "version_major": 2,
       "version_minor": 0
      },
      "text/plain": [
       "Validation: | | 0/? [00:00"
      ]
     },
     "metadata": {},
     "output_type": "display_data"
    },
    {
     "data": {
      "application/vnd.jupyter.widget-view+json": {
       "model_id": "49490d27d82c41769342fdb4cd6d06b9",
       "version_major": 2,
       "version_minor": 0
      },
      "text/plain": [
       "Validation: | | 0/? [00:00"
      ]
     },
     "metadata": {},
     "output_type": "display_data"
    },
    {
     "data": {
      "application/vnd.jupyter.widget-view+json": {
       "model_id": "220d9ef9e05649f4af76c98d68c2159a",
       "version_major": 2,
       "version_minor": 0
      },
      "text/plain": [
       "Validation: | | 0/? [00:00"
      ]
     },
     "metadata": {},
     "output_type": "display_data"
    },
    {
     "data": {
      "application/vnd.jupyter.widget-view+json": {
       "model_id": "db990fe131014af48c5496c08c5ff907",
       "version_major": 2,
       "version_minor": 0
      },
      "text/plain": [
       "Validation: | | 0/? [00:00"
      ]
     },
     "metadata": {},
     "output_type": "display_data"
    },
    {
     "data": {
      "application/vnd.jupyter.widget-view+json": {
       "model_id": "77932362597e439480ebacafbb52d957",
       "version_major": 2,
       "version_minor": 0
      },
      "text/plain": [
       "Validation: | | 0/? [00:00"
      ]
     },
     "metadata": {},
     "output_type": "display_data"
    },
    {
     "name": "stderr",
     "output_type": "stream",
     "text": [
      "`Trainer.fit` stopped: `max_epochs=100` reached.\n"
     ]
    },
    {
     "name": "stdout",
     "output_type": "stream",
     "text": [
      "Policy network balanced accuracy: 0.82\n"
     ]
    }
   ],
   "source": [
    "run_policy_training(\n",
    "    datamodule,  # the prepared data module for training\n",
    "    config=training_config,  # the training configuration\n",
    "    results_path=ranking_policy_network_folder,\n",
    ")  # path to save the training results"
   ]
  },
  {
   "cell_type": "markdown",
   "id": "df8006e0-3dc7-4763-a8ec-0ab89caaacdd",
   "metadata": {},
   "source": [
    "## 3. Filtering policy training"
   ]
  },
  {
   "cell_type": "markdown",
   "id": "da06f811-c043-459d-bd9f-b7f444c9eb5f",
   "metadata": {},
   "source": [
    "### Filtering network configuration"
   ]
  },
  {
   "cell_type": "code",
   "execution_count": null,
   "id": "6c93e76e-d5a6-4443-a2f5-445b1c6dd79c",
   "metadata": {},
   "outputs": [],
   "source": [
    "from synplan.utils.config import PolicyNetworkConfig\n",
    "from synplan.ml.training.supervised import create_policy_dataset, run_policy_training\n",
    "\n",
    "training_config = PolicyNetworkConfig(\n",
    "    policy_type=\"filtering\",  # the type of policy network\n",
    "    num_conv_layers=5,  # the number of graph convolutional layers in the network\n",
    "    vector_dim=512,  # the dimensionality of the final embedding vector\n",
    "    learning_rate=0.0008,  # the learning rate for the training process\n",
    "    dropout=0.4,  # the dropout rate\n",
    "    num_epoch=100,  # the number of epochs for training\n",
    "    batch_size=100,\n",
    ")  # the size of training batch of input data"
   ]
  },
  {
   "cell_type": "markdown",
   "id": "5feee9a4-19ee-470a-b535-41478e0624e1",
   "metadata": {},
   "source": [
    "### Creating filtering network training set\n",
    "\n",
    "Next, we create the policy dataset using the `create_policy_dataset` function. This involves specifying paths to the reaction rules and the molecules dataset:"
   ]
  },
  {
   "cell_type": "code",
   "execution_count": null,
   "id": "8bbf54db-112e-4b1c-b512-5f48f04ffd84",
   "metadata": {},
   "outputs": [],
   "source": [
    "datamodule = create_policy_dataset(\n",
    "    dataset_type=\"filtering\",\n",
    "    reaction_rules_path=reaction_rules_path,\n",
    "    molecules_or_reactions_path=filtered_data_path,\n",
    "    output_path=filtering_policy_dataset_path,\n",
    "    batch_size=training_config.batch_size,\n",
    "    num_cpus=4,\n",
    ")"
   ]
  },
  {
   "cell_type": "markdown",
   "id": "9796eb30-98cd-4208-b04c-33f9a1bb3b20",
   "metadata": {},
   "source": [
    "### Running filtering policy network training\n",
    "\n",
    "Finally, we train the policy network using the `run_policy_training` function. This step involves feeding the dataset and the training configuration into the network:"
   ]
  },
  {
   "cell_type": "code",
   "execution_count": null,
   "id": "9d42ff2c-96ca-49f3-8cb2-54ced3063d5e",
   "metadata": {},
   "outputs": [],
   "source": [
    "run_policy_training(\n",
    "    datamodule,  # the prepared data module for training\n",
    "    config=training_config,  # the training configuration\n",
    "    results_path=filtering_policy_network_folder,\n",
    ")  # path to save the training results"
   ]
  },
  {
   "cell_type": "markdown",
   "id": "ef8fca9f-c0e6-4aac-a12d-32a77ce8ad69",
   "metadata": {},
   "source": [
    "## Results\n",
    "\n",
    "If the tutorial is executed successfully, you will get in the results folder three reaction data files (from reaction curation tutorial), corresponding extracted reaction rules (from reaction rules extraction tutorial) and trained ranking and filtering policy network:\n",
    "- original reaction data\n",
    "- standardized reaction data\n",
    "- filtered reaction data\n",
    "- extracted reaction rules\n",
    "- ranking policy network folder (the training set and trained network)\n",
    "- filtering policy network folder (the training set and trained network)"
   ]
  },
  {
   "cell_type": "code",
   "execution_count": 5,
   "id": "c69c834b-b821-495a-acd9-6beb8a5a5cca",
   "metadata": {},
   "outputs": [
    {
     "data": {
      "text/plain": [
       "[PosixPath('/home1/dima/synplanner/tutorials/tutorial_results/uspto_original.smi'),\n",
       " PosixPath('/home1/dima/synplanner/tutorials/tutorial_results/uspto_standardized.smi'),\n",
       " PosixPath('/home1/dima/synplanner/tutorials/tutorial_results/uspto_filtered.smi'),\n",
       " PosixPath('/home1/dima/synplanner/tutorials/tutorial_results/uspto_reaction_rules.pickle'),\n",
       " PosixPath('/home1/dima/synplanner/tutorials/tutorial_results/ranking_policy_network')]"
      ]
     },
     "execution_count": 5,
     "metadata": {},
     "output_type": "execute_result"
    }
   ],
   "source": [
    "sorted(Path(results_folder).iterdir(), key=os.path.getmtime, reverse=False)"
   ]
  }
 ],
 "metadata": {
  "kernelspec": {
   "display_name": "synplan",
   "language": "python",
   "name": "synplan_env"
  },
  "language_info": {
   "codemirror_mode": {
    "name": "ipython",
    "version": 3
   },
   "file_extension": ".py",
   "mimetype": "text/x-python",
   "name": "python",
   "nbconvert_exporter": "python",
   "pygments_lexer": "ipython3",
   "version": "3.11.9"
  }
 },
 "nbformat": 4,
 "nbformat_minor": 5
}
