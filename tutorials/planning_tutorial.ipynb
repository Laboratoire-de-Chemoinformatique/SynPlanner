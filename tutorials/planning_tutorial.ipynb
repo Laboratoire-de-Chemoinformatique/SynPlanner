{
 "cells": [
  {
   "cell_type": "markdown",
   "id": "497d2ba5-52c1-4693-8ca0-6dcac57e521e",
   "metadata": {},
   "source": "# SynPlanner tutorial: retrosynthesis planning"
  },
  {
   "cell_type": "markdown",
   "id": "fc790f96-d0a9-4fbf-ac36-878e129256a3",
   "metadata": {},
   "source": "<font size=\"4\">This tutorial explains how to perform retrosynthesis planning in SynPlanner using various planning algorithm settings</font>"
  },
  {
   "cell_type": "markdown",
   "id": "6b010b07-59fd-48c7-9577-44c11fcdcea5",
   "metadata": {},
   "source": [
    "## 1. Download input data"
   ]
  },
  {
   "cell_type": "markdown",
   "id": "c96db3fe-934b-411c-b9dd-846a97eeceda",
   "metadata": {},
   "source": [
    "The input data will be downloaded from the Google disk to the current location (./). The planning data directory includes.\n",
    "\n",
    " - `uspto_reaction_rules.pickle` - the reaction rules extracted from the USPTO dataset.\n",
    " - `ranking_policy_network.ckpt` - the trained ranking policy network.\n",
    " - `filtering_policy_network.ckpt` - the trained filtering policy network.\n",
    " - `value_network.ckpt` - the trained value network network.\n",
    " - `building_blocks.smi` -  a set of building block molecules used in value neural network tuning (not considered in this tutorial) and in retrosynthesis planning."
   ]
  },
  {
   "cell_type": "code",
   "execution_count": 1,
   "id": "5983ac72-739c-47b3-a646-086a242a06cd",
   "metadata": {},
   "outputs": [],
   "source": [
    "import os\n",
    "import shutil\n",
    "from synplan.utils.loading import download_all_data"
   ]
  },
  {
   "cell_type": "code",
   "execution_count": null,
   "id": "5bf028a9-f4f3-4443-a37c-15846bcc0a16",
   "metadata": {},
   "outputs": [],
   "source": [
    "download_all_data(save_to=\".\")"
   ]
  },
  {
   "cell_type": "markdown",
   "id": "b7b506e0-f4ae-4636-8670-83fbce2fbd20",
   "metadata": {},
   "source": [
    "## 2. Set up inpud data and basic configuration"
   ]
  },
  {
   "cell_type": "code",
   "execution_count": 2,
   "id": "3897d5a8-af8d-4ddc-ab84-cedc229b2e40",
   "metadata": {},
   "outputs": [],
   "source": [
    "from pathlib import Path\n",
    "\n",
    "import pandas as pd\n",
    "\n",
    "from synplan.utils.config import TreeConfig\n",
    "from synplan.utils.config import PolicyNetworkConfig\n",
    "from synplan.mcts.search import run_search"
   ]
  },
  {
   "cell_type": "markdown",
   "id": "4fa37c95-9c95-455c-96fc-304d2f2ad369",
   "metadata": {},
   "source": [
    "**Set up reaction rules, building blocks and retrosynthetic models:**"
   ]
  },
  {
   "cell_type": "code",
   "execution_count": 3,
   "id": "9e8d0f38-e823-4dce-9c1a-7e702d3202bd",
   "metadata": {},
   "outputs": [],
   "source": [
    "# reaction rules path\n",
    "reaction_rules_path = os.path.join(\"syntool_planning_data\", 'uspto_reaction_rules.pickle')\n",
    "\n",
    "# building blocks path\n",
    "building_blocks_path = os.path.join(\"syntool_planning_data\", 'building_blocks.smi')\n",
    "\n",
    "# ranking policy network path\n",
    "ranking_policy_path = os.path.join(\"syntool_planning_data\", 'ranking_policy_network.ckpt')\n",
    "\n",
    "# filtering policy network path\n",
    "filtering_policy_path = os.path.join(\"syntool_planning_data\", 'filtering_policy_network.ckpt')\n",
    "\n",
    "# value network path\n",
    "value_network_path = os.path.join(\"syntool_planning_data\", 'value_network.ckpt')"
   ]
  },
  {
   "cell_type": "markdown",
   "id": "6c770afb-85c3-4d1f-94f3-6f8c505ab133",
   "metadata": {},
   "source": [
    "**Set up search basic configuration:**"
   ]
  },
  {
   "cell_type": "code",
   "execution_count": 4,
   "id": "a8164527-dffa-4d5f-8342-3cc31ae8ead7",
   "metadata": {},
   "outputs": [],
   "source": [
    "search_config = {\"max_time\": 600, \"max_iterations\": 300, \"max_depth\": 9, \"silent\": True}"
   ]
  },
  {
   "cell_type": "markdown",
   "id": "fc773df1-dc2f-4dc2-bf3c-7f0e8d1356be",
   "metadata": {},
   "source": [
    "**Set up targets file path:**"
   ]
  },
  {
   "cell_type": "code",
   "execution_count": 5,
   "id": "4926ce50-f897-43dd-b7a3-4c50e8a0555b",
   "metadata": {},
   "outputs": [],
   "source": [
    "targets_path = \"targets_with_sascore_2.5_3.5.smi\""
   ]
  },
  {
   "cell_type": "markdown",
   "id": "541d56d3-62a7-4466-879d-10abc59c9f18",
   "metadata": {},
   "source": [
    "**Create result folder:**"
   ]
  },
  {
   "cell_type": "code",
   "execution_count": 6,
   "id": "2be8b62f-0bf5-48bd-ac25-a7ac7276ab77",
   "metadata": {},
   "outputs": [],
   "source": [
    "results_path = 'planning_results'\n",
    "\n",
    "if os.path.exists(results_path):\n",
    "    shutil.rmtree(results_path)\n",
    "os.makedirs(results_path)"
   ]
  },
  {
   "cell_type": "markdown",
   "id": "d6742817-d39a-4b55-9ba9-8090efb170ec",
   "metadata": {},
   "source": "## 3. SynPlanner planning algorithms"
  },
  {
   "cell_type": "markdown",
   "id": "fa1e41ad-0356-4e73-9bc7-9edbc94c9e72",
   "metadata": {},
   "source": [
    "Retrosynthesis planning in SynPlanner is based on the Monte-Carlo Tree Search (MCTS) algorithm, which has several configurations depending on the type of expansion/evaluation function and search strategy. In this section, we compare some planning configurations in SynPlanner. \n",
    "\n",
    "- For planning performance comparison, we take a set of 100 target molecules with a synthetic accessibility score (calculated with RDKit) between 2.5 and 3.5 (medium complexity).\n",
    " \n",
    "- For all planning configurations we fix (except section 3.4) the maximum amount of search time, the maximum number of iterations, and the maximum depth of the search tree, as well as a set of reaction rules and building blocks."
   ]
  },
  {
   "cell_type": "code",
   "execution_count": 7,
   "id": "a448c0d2-f14a-448e-b64e-9fd91bda4af4",
   "metadata": {},
   "outputs": [],
   "source": [
    "def extract_stats(res_df, method_name=None):\n",
    "\n",
    "    df = pd.DataFrame(\n",
    "        [\n",
    "            {\n",
    "                \"METHOD\": method_name,\n",
    "                \"SOLVED_TARGETS\": (res_df[\"num_routes\"] > 0).sum(),\n",
    "                \"AVERAGE_NUMBER_OF_NODES\": int(res_df[\"num_nodes\"].mean()),\n",
    "                \"AVERAGE_NUMBER_OF_ROUTES\": int(res_df[\"num_routes\"].mean()),\n",
    "                \"AVERAGE_NUMBER_OF_ITERATIONS\": int(res_df[\"num_iter\"].mean()),\n",
    "                \"AVERAGE_TIME\": round(res_df[\"search_time\"].mean(), 1),\n",
    "            }\n",
    "        ]\n",
    "    )\n",
    "    return df"
   ]
  },
  {
   "cell_type": "markdown",
   "id": "72dc1429-af35-4c1d-8add-e91c318df58a",
   "metadata": {},
   "source": [
    "### 3.1. Ranking vs Filtering policy network\n",
    "\n",
    "The tree nodes in MCTS are expanded by an expansion function approximated by a policy graph neu-ral network.\n",
    "The policy network is composed of two parts: molecular representation and reaction rule prediction parts.\n",
    "In the representation part, the molecular graph is converted to a single vector by graph convolutional layers.\n",
    "The training set structure and the prediction part architecture depend on the type of policy network,\n",
    "particularly the ranking or filtering policy network.\n",
    "\n",
    "**Ranking policy network**. The training dataset for ranking policy network consists of pairs of reactions and\n",
    "corresponding reaction rules extracted from it. The products of the reaction are transformed to the CGR encoded\n",
    "as a molecular graph with the one-hot encoded label vector where the positive label corresponds to the reaction rule.\n",
    "The prediction part is terminated with the softmax function generating the “probability of successful application” of\n",
    "each reaction rule to a given input molecular graph, which can be used for the reaction rules “ranking”.\n",
    "\n",
    "**Filtering policy network**. The training dataset for the filtering policy is formed by the application of all\n",
    "reaction rules to the training molecules. The labels vector is filled with positive labels in positions corresponding\n",
    "to the successfully applied reaction rules. The prediction part of the filtering policy is formed from two linear layers\n",
    "with a sigmoid function that assigns the probabilities for the “regular”, as well as “priority” reaction rules\n",
    "(cyclization reaction rules). These two vectors are then combined with a coefficient α ranging from 0 to 1.\n",
    "This approach ensures that the priority reaction rules receive the highest score, followed by other regular reaction rules.\n",
    "The filtering policy network requires much more computational resources for the generating of the training dataset than\n",
    "the ranking policy but can be used with any set of reaction rules because the original reaction dataset is not needed.\n",
    "This allows for the portability of reaction rules extracted with another software from any source of reaction data."
   ]
  },
  {
   "cell_type": "markdown",
   "id": "4f555bc7-2df8-46c4-bdee-382704e7c7dd",
   "metadata": {},
   "source": [
    "#### Search with ranking policy network"
   ]
  },
  {
   "cell_type": "code",
   "execution_count": 8,
   "id": "0d240d4a-8ea4-4c73-b106-6e454e078308",
   "metadata": {
    "scrolled": true
   },
   "outputs": [
    {
     "name": "stderr",
     "output_type": "stream",
     "text": [
      "Number of target molecules processed: 100 [1:55:16]\n"
     ]
    },
    {
     "name": "stdout",
     "output_type": "stream",
     "text": [
      "Number of solved target molecules: 52\n"
     ]
    }
   ],
   "source": [
    "search_config[\"evaluation_type\"] = \"rollout\"\n",
    "search_config[\"search_strategy\"] = \"expansion_first\"\n",
    "policy_config = PolicyNetworkConfig(\n",
    "    weights_path=ranking_policy_path\n",
    ")\n",
    "\n",
    "run_search(\n",
    "    targets_path=targets_path,\n",
    "    search_config=search_config,\n",
    "    policy_config=policy_config,\n",
    "    reaction_rules_path=reaction_rules_path,\n",
    "    building_blocks_path=building_blocks_path,\n",
    "    value_network_path=None,\n",
    "    results_root=os.path.join(results_path, \"search_results_ranking\"),\n",
    ")"
   ]
  },
  {
   "cell_type": "markdown",
   "id": "a7d1fab1-32e1-40f2-9021-09e186e09ec5",
   "metadata": {},
   "source": [
    "#### Search with filtering policy network"
   ]
  },
  {
   "cell_type": "code",
   "execution_count": null,
   "id": "f1cd26c3-5260-4f1b-b93c-ff7fb9b7834d",
   "metadata": {},
   "outputs": [],
   "source": [
    "search_config[\"evaluation_type\"] = \"rollout\"\n",
    "search_config[\"search_strategy\"] = \"expansion_first\"\n",
    "policy_config = PolicyNetworkConfig(\n",
    "    weights_path=filtering_policy_path\n",
    ")\n",
    "\n",
    "run_search(\n",
    "    targets_path=targets_path,\n",
    "    search_config=search_config,\n",
    "    policy_config=policy_config,\n",
    "    reaction_rules_path=reaction_rules_path,\n",
    "    building_blocks_path=building_blocks_path,\n",
    "    value_network_path=None,\n",
    "    results_root=os.path.join(results_path, \"search_results_filtering\"),\n",
    ")"
   ]
  },
  {
   "cell_type": "markdown",
   "id": "dbcf95c2-67b6-49f2-98b8-b0d6443a92cd",
   "metadata": {},
   "source": [
    "#### Exapansion results comparison"
   ]
  },
  {
   "cell_type": "code",
   "execution_count": null,
   "id": "531c7591-c457-4107-a1b9-65d0b88e83f7",
   "metadata": {},
   "outputs": [],
   "source": [
    "res_ranking = pd.read_csv(os.path.join(results_path, \"search_results_ranking\", 'tree_search_stats.csv'))\n",
    "res_filtering = pd.read_csv(os.path.join(results_path, \"search_results_filtering\", 'tree_search_stats.csv'))\n",
    "\n",
    "pd.concat(\n",
    "    [extract_stats(res_ranking, \"Ranking\"), extract_stats(res_filtering, \"Filtering\")]\n",
    ")"
   ]
  },
  {
   "cell_type": "markdown",
   "id": "af6ba12a-5911-4c86-86de-a6e7bec80470",
   "metadata": {},
   "source": [
    "### 3.2. Rollout vs Value network evaluation\n",
    "\n",
    "**Node evaluation**. During the evaluation step, the value function (or evaluation function) is used to estimate the\n",
    "retrosynthetic feasibility of newly created nodes. In SynPlanner, there are three types of evaluation functions implemented:\n",
    "\n",
    " - `random function` - assigns a random value between 0 and 1 to the new node. Mostly used as a baseline.\n",
    "\n",
    " - `rollout function`  - default evaluation type in MCTS. In the current implementation it does a series of node expansions until it reaches some stope criterion (maximum simulation depth, discovered retrosynthetic route, etc.). Based on the simulation results it assigns the value between (-1 and 1) to the new node.\n",
    "\n",
    " - `value network` - instantly predicts the value between 0 and 1. The value neural network is trained on the data from planning simulations (performed with the previous version of the value network) including examples with precursors leading to the solutions and those which are part of the unsuccessful routes.\n",
    "\n",
    "**Value network tuning**. The training set for the value neural network is generated from the simulations of planning sessions.\n",
    "In the first iteration, the value network is initialized with random weights and is used for the initial retrosynthesis\n",
    "planning session for N target molecules. Then, precursors that were part of a successful retrosynthesis path leading\n",
    "to building block molecules are labeled with a positive label, and precursors that did not lead to building blocks are\n",
    "labeled with a negative label. This generated training data is used to train the value network to better recognize precursors\n",
    "leading to possible successful retrosynthetic paths. The trained value network is used in the next iteration of the simulated\n",
    "planning session alternat-ed by the retraining of the value network until it reaches the acceptable accuracy of predictions."
   ]
  },
  {
   "cell_type": "markdown",
   "id": "247dcf81-c36f-4e7a-8998-40d257c292b6",
   "metadata": {},
   "source": [
    "#### Search with random evaluation"
   ]
  },
  {
   "cell_type": "code",
   "execution_count": 9,
   "id": "22297d95-e7d6-45fb-8529-b237ada4cd76",
   "metadata": {},
   "outputs": [
    {
     "name": "stderr",
     "output_type": "stream",
     "text": [
      "Number of target molecules processed: 100 [1:04:49]\n"
     ]
    },
    {
     "name": "stdout",
     "output_type": "stream",
     "text": [
      "Number of solved target molecules: 57\n"
     ]
    }
   ],
   "source": [
    "search_config[\"evaluation_type\"] = \"random\"\n",
    "search_config[\"search_strategy\"] = \"expansion_first\"\n",
    "policy_config = PolicyNetworkConfig(\n",
    "    weights_path=ranking_policy_path\n",
    ")\n",
    "\n",
    "run_search(\n",
    "    targets_path=targets_path,\n",
    "    search_config=search_config,\n",
    "    policy_config=policy_config,\n",
    "    reaction_rules_path=reaction_rules_path,\n",
    "    building_blocks_path=building_blocks_path,\n",
    "    value_network_path=None,\n",
    "    results_root=os.path.join(results_path, \"search_results_random\"),\n",
    ")\n"
   ]
  },
  {
   "cell_type": "markdown",
   "id": "4280e51f-7d9a-4a15-9252-f4fa62fb4819",
   "metadata": {},
   "source": [
    "#### Search with rollout evaluation"
   ]
  },
  {
   "cell_type": "code",
   "execution_count": 10,
   "id": "e975cf8d-2c70-4d4f-b8d8-93229e1141d6",
   "metadata": {},
   "outputs": [
    {
     "name": "stderr",
     "output_type": "stream",
     "text": [
      "Number of target molecules processed: 100 [1:55:27]\n"
     ]
    },
    {
     "name": "stdout",
     "output_type": "stream",
     "text": [
      "Number of solved target molecules: 52\n"
     ]
    }
   ],
   "source": [
    "search_config[\"evaluation_type\"] = \"rollout\"\n",
    "search_config[\"search_strategy\"] = \"expansion_first\"\n",
    "policy_config = PolicyNetworkConfig(\n",
    "    weights_path=ranking_policy_path\n",
    ")\n",
    "\n",
    "run_search(\n",
    "    targets_path=targets_path,\n",
    "    search_config=search_config,\n",
    "    policy_config=policy_config,\n",
    "    reaction_rules_path=reaction_rules_path,\n",
    "    building_blocks_path=building_blocks_path,\n",
    "    value_network_path=None,\n",
    "    results_root=os.path.join(results_path, \"search_results_rollout\"),\n",
    ")"
   ]
  },
  {
   "cell_type": "markdown",
   "id": "12b7ebdd-c00b-4c08-8d68-3e39b3ab1271",
   "metadata": {},
   "source": [
    "#### Search with value network evaluation"
   ]
  },
  {
   "cell_type": "code",
   "execution_count": 11,
   "id": "bff6386e-be66-47b1-9da5-7edbf70415e5",
   "metadata": {},
   "outputs": [
    {
     "name": "stderr",
     "output_type": "stream",
     "text": [
      "Number of target molecules processed: 100 [57:23]\n"
     ]
    },
    {
     "name": "stdout",
     "output_type": "stream",
     "text": [
      "Number of solved target molecules: 55\n"
     ]
    }
   ],
   "source": [
    "search_config[\"evaluation_type\"] = \"gcn\"\n",
    "search_config[\"search_strategy\"] = \"expansion_first\"\n",
    "policy_config = PolicyNetworkConfig(\n",
    "    weights_path=ranking_policy_path\n",
    ")\n",
    "\n",
    "run_search(\n",
    "    targets_path=targets_path,\n",
    "    search_config=search_config,\n",
    "    policy_config=policy_config,\n",
    "    reaction_rules_path=reaction_rules_path,\n",
    "    building_blocks_path=building_blocks_path,\n",
    "    value_network_path=value_network_path,\n",
    "    results_root=os.path.join(results_path, \"search_results_value\"),\n",
    ")"
   ]
  },
  {
   "cell_type": "markdown",
   "id": "62de1049-0ff7-4362-9ca5-ec7befd06aab",
   "metadata": {},
   "source": [
    "#### Evaluation results comparison"
   ]
  },
  {
   "cell_type": "code",
   "execution_count": 12,
   "id": "a53a6c38-8b74-4463-b02e-28653117cc81",
   "metadata": {},
   "outputs": [
    {
     "data": {
      "text/html": [
       "<div>\n",
       "<style scoped>\n",
       "    .dataframe tbody tr th:only-of-type {\n",
       "        vertical-align: middle;\n",
       "    }\n",
       "\n",
       "    .dataframe tbody tr th {\n",
       "        vertical-align: top;\n",
       "    }\n",
       "\n",
       "    .dataframe thead th {\n",
       "        text-align: right;\n",
       "    }\n",
       "</style>\n",
       "<table border=\"1\" class=\"dataframe\">\n",
       "  <thead>\n",
       "    <tr style=\"text-align: right;\">\n",
       "      <th></th>\n",
       "      <th>METHOD</th>\n",
       "      <th>SOLVED_TARGETS</th>\n",
       "      <th>AVERAGE_NUMBER_OF_NODES</th>\n",
       "      <th>AVERAGE_NUMBER_OF_ROUTES</th>\n",
       "      <th>AVERAGE_NUMBER_OF_ITERATIONS</th>\n",
       "      <th>AVERAGE_TIME</th>\n",
       "    </tr>\n",
       "  </thead>\n",
       "  <tbody>\n",
       "    <tr>\n",
       "      <th>0</th>\n",
       "      <td>Random</td>\n",
       "      <td>57</td>\n",
       "      <td>2760</td>\n",
       "      <td>44</td>\n",
       "      <td>297</td>\n",
       "      <td>37.2</td>\n",
       "    </tr>\n",
       "    <tr>\n",
       "      <th>0</th>\n",
       "      <td>Rollout</td>\n",
       "      <td>52</td>\n",
       "      <td>2858</td>\n",
       "      <td>76</td>\n",
       "      <td>297</td>\n",
       "      <td>66.4</td>\n",
       "    </tr>\n",
       "    <tr>\n",
       "      <th>0</th>\n",
       "      <td>Network</td>\n",
       "      <td>55</td>\n",
       "      <td>2243</td>\n",
       "      <td>37</td>\n",
       "      <td>297</td>\n",
       "      <td>33.1</td>\n",
       "    </tr>\n",
       "  </tbody>\n",
       "</table>\n",
       "</div>"
      ],
      "text/plain": [
       "    METHOD  SOLVED_TARGETS  AVERAGE_NUMBER_OF_NODES  AVERAGE_NUMBER_OF_ROUTES  \\\n",
       "0   Random              57                     2760                        44   \n",
       "0  Rollout              52                     2858                        76   \n",
       "0  Network              55                     2243                        37   \n",
       "\n",
       "   AVERAGE_NUMBER_OF_ITERATIONS  AVERAGE_TIME  \n",
       "0                           297          37.2  \n",
       "0                           297          66.4  \n",
       "0                           297          33.1  "
      ]
     },
     "execution_count": 12,
     "metadata": {},
     "output_type": "execute_result"
    }
   ],
   "source": [
    "res_random = pd.read_csv(os.path.join(results_path, \"search_results_random\", 'tree_search_stats.csv'))\n",
    "res_rollout = pd.read_csv(os.path.join(results_path, \"search_results_rollout\", 'tree_search_stats.csv'))\n",
    "res_value = pd.read_csv(os.path.join(results_path, \"search_results_value\", 'tree_search_stats.csv'))\n",
    "\n",
    "pd.concat(\n",
    "    [\n",
    "        extract_stats(res_random, \"Random\"),\n",
    "        extract_stats(res_rollout, \"Rollout\"),\n",
    "        extract_stats(res_value, \"Network\"),\n",
    "    ]\n",
    ")"
   ]
  },
  {
   "cell_type": "markdown",
   "id": "aca21836-84d4-4748-bc84-f0b7eb446fd7",
   "metadata": {},
   "source": [
    "### 3.3. Expansion-first vs Evaluation-first search strategy"
   ]
  },
  {
   "cell_type": "markdown",
   "id": "8ce33f9f-11cc-438a-b558-2ea43fb3279f",
   "metadata": {},
   "source": [
    "The retrosynthesis planning in SynPlanner is executed with the MCTS algorithm. The nodes in the MCTS algorithm are expanded\n",
    "by the expansion function predicting reaction rules applicable to the current precursor and evaluated by\n",
    "the evaluation function navigating the tree exploration in the promising directions. The tree search is limited\n",
    "by tree parameters: number of iterations, time of the search, and size of the tree (total number of nodes).\n",
    "Retrosynthesis planning in SynPlanner can be performed using two search strategies:\n",
    "the evaluation-first and the expansion-first strategy.\n",
    "\n",
    "**Expansion-first strategy.** In the expansion-first strategy, each newly created node is assigned a predefined constant value.\n",
    "This approach is characterized by a more stochastic selection of nodes for expansion but allows for a reduction in the\n",
    "computational resources.\n",
    "\n",
    "**Evaluation-first strategy.** In the evaluation-first strategy, each newly created node immediately is evaluated with\n",
    "the evaluation function, which allows for more exhaustive tree exploration. Although the node evaluation in the\n",
    "evaluation-first strategy imposes an additional computational overhead, this problem can be overcome by the application\n",
    "of fast evaluation functions, such as one approximated by a value neural network."
   ]
  },
  {
   "cell_type": "markdown",
   "id": "24b51b13-eddb-44fd-a1ed-009dd7f54ba4",
   "metadata": {},
   "source": [
    "#### Search with expansion-first strategy"
   ]
  },
  {
   "cell_type": "code",
   "execution_count": 13,
   "id": "fdf5e0ee-6b8f-4cb6-b2b3-251d69c62668",
   "metadata": {},
   "outputs": [
    {
     "name": "stderr",
     "output_type": "stream",
     "text": [
      "Number of target molecules processed: 100 [57:20]\n"
     ]
    },
    {
     "name": "stdout",
     "output_type": "stream",
     "text": [
      "Number of solved target molecules: 55\n"
     ]
    }
   ],
   "source": [
    "search_config[\"evaluation_type\"] = \"gcn\"\n",
    "search_config[\"search_strategy\"] = \"expansion_first\"\n",
    "policy_config = PolicyNetworkConfig(\n",
    "    weights_path=ranking_policy_path\n",
    ")\n",
    "\n",
    "run_search(\n",
    "    targets_path=targets_path,\n",
    "    search_config=search_config,\n",
    "    policy_config=policy_config,\n",
    "    reaction_rules_path=reaction_rules_path,\n",
    "    building_blocks_path=building_blocks_path,\n",
    "    value_network_path=value_network_path,\n",
    "    results_root=os.path.join(results_path, \"search_results_expansion\"),\n",
    ")"
   ]
  },
  {
   "cell_type": "markdown",
   "id": "30de3723-3376-4bcf-8d1c-c3e7523e0c61",
   "metadata": {},
   "source": [
    "#### Search with evaluation-first strategy"
   ]
  },
  {
   "cell_type": "code",
   "execution_count": 14,
   "id": "28132bfd-47f3-47df-bb09-01dea58f8f0f",
   "metadata": {},
   "outputs": [
    {
     "name": "stderr",
     "output_type": "stream",
     "text": [
      "Number of target molecules processed: 100 [3:09:46]\n"
     ]
    },
    {
     "name": "stdout",
     "output_type": "stream",
     "text": [
      "Number of solved target molecules: 40\n"
     ]
    }
   ],
   "source": [
    "search_config[\"evaluation_type\"] = \"gcn\"\n",
    "search_config[\"search_strategy\"] = \"evaluation_first\"\n",
    "policy_config = PolicyNetworkConfig(\n",
    "    weights_path=ranking_policy_path\n",
    ")\n",
    "\n",
    "run_search(\n",
    "    targets_path=targets_path,\n",
    "    search_config=search_config,\n",
    "    policy_config=policy_config,\n",
    "    reaction_rules_path=reaction_rules_path,\n",
    "    building_blocks_path=building_blocks_path,\n",
    "    value_network_path=value_network_path,\n",
    "    results_root=os.path.join(results_path, \"search_results_evaluation\"),\n",
    ")"
   ]
  },
  {
   "cell_type": "markdown",
   "id": "e11abd95-a2aa-4558-a29c-68e8df2ebc5a",
   "metadata": {},
   "source": [
    "#### Search strategy results comparison"
   ]
  },
  {
   "cell_type": "code",
   "execution_count": 15,
   "id": "86b11086-3062-46f0-8f6e-44a0cb128470",
   "metadata": {},
   "outputs": [
    {
     "data": {
      "text/html": [
       "<div>\n",
       "<style scoped>\n",
       "    .dataframe tbody tr th:only-of-type {\n",
       "        vertical-align: middle;\n",
       "    }\n",
       "\n",
       "    .dataframe tbody tr th {\n",
       "        vertical-align: top;\n",
       "    }\n",
       "\n",
       "    .dataframe thead th {\n",
       "        text-align: right;\n",
       "    }\n",
       "</style>\n",
       "<table border=\"1\" class=\"dataframe\">\n",
       "  <thead>\n",
       "    <tr style=\"text-align: right;\">\n",
       "      <th></th>\n",
       "      <th>METHOD</th>\n",
       "      <th>SOLVED_TARGETS</th>\n",
       "      <th>AVERAGE_NUMBER_OF_NODES</th>\n",
       "      <th>AVERAGE_NUMBER_OF_ROUTES</th>\n",
       "      <th>AVERAGE_NUMBER_OF_ITERATIONS</th>\n",
       "      <th>AVERAGE_TIME</th>\n",
       "    </tr>\n",
       "  </thead>\n",
       "  <tbody>\n",
       "    <tr>\n",
       "      <th>0</th>\n",
       "      <td>Expansion-first</td>\n",
       "      <td>55</td>\n",
       "      <td>2243</td>\n",
       "      <td>37</td>\n",
       "      <td>297</td>\n",
       "      <td>33.0</td>\n",
       "    </tr>\n",
       "    <tr>\n",
       "      <th>0</th>\n",
       "      <td>Evaluation-first</td>\n",
       "      <td>40</td>\n",
       "      <td>3611</td>\n",
       "      <td>19</td>\n",
       "      <td>297</td>\n",
       "      <td>113.1</td>\n",
       "    </tr>\n",
       "  </tbody>\n",
       "</table>\n",
       "</div>"
      ],
      "text/plain": [
       "             METHOD  SOLVED_TARGETS  AVERAGE_NUMBER_OF_NODES  \\\n",
       "0   Expansion-first              55                     2243   \n",
       "0  Evaluation-first              40                     3611   \n",
       "\n",
       "   AVERAGE_NUMBER_OF_ROUTES  AVERAGE_NUMBER_OF_ITERATIONS  AVERAGE_TIME  \n",
       "0                        37                           297          33.0  \n",
       "0                        19                           297         113.1  "
      ]
     },
     "execution_count": 15,
     "metadata": {},
     "output_type": "execute_result"
    }
   ],
   "source": [
    "res_exp = pd.read_csv(os.path.join(results_path, \"search_results_expansion\", 'tree_search_stats.csv'))\n",
    "res_eva = pd.read_csv(os.path.join(results_path, \"search_results_evaluation\", 'tree_search_stats.csv'))\n",
    "\n",
    "pd.concat(\n",
    "    [\n",
    "        extract_stats(res_exp, \"Expansion-first\"),\n",
    "        extract_stats(res_eva, \"Evaluation-first\"),\n",
    "    ]\n",
    ")"
   ]
  },
  {
   "cell_type": "markdown",
   "id": "c462004a-d5ae-4d25-a351-c88dbe1d39fa",
   "metadata": {},
   "source": [
    "## 4. Default and dvanced planning"
   ]
  },
  {
   "attachments": {},
   "cell_type": "markdown",
   "id": "03bc5c7c-c23d-4c33-8957-b479c590ce11",
   "metadata": {},
   "source": [
    "The aforementioned planning configurations can be grouped into two planning algorithms in SynPlanner: advanced and default planning.\n",
    "\n",
    "**Default planning**. This planning configuration includes the ranking policy network for node expansion,\n",
    "rollout simulations for node evaluation, and expansion-first search strategy. This default configuration\n",
    "requires only reaction data for training the policy network and is independent of the building block set\n",
    "(they can be changed) because the rollout simulations can be considered as an online evaluation function\n",
    "interacting with the given set of building blocks.\n",
    "\n",
    "**Advanced planning**. This planning configuration includes the ranking policy network for node expansion,\n",
    "value neural network for instant node evaluation, and evaluation-first strategy. This configuration requires reaction data\n",
    "for training the policy network and molecule data for planning simulations in value network tuning.\n",
    "Because the building block set is used in planning simulations, the value network should be returned\n",
    "if the building block set is changed. The evaluation-first strategy supposes more computations,\n",
    "but the total time of search is partially reduced by instant predictions of node values by value neural network\n",
    "instead of expansive rollout simulations."
   ]
  },
  {
   "cell_type": "markdown",
   "id": "62e1f639-2090-475b-95d1-70d78fed6495",
   "metadata": {},
   "source": [
    "#### Default planning"
   ]
  },
  {
   "cell_type": "code",
   "execution_count": 16,
   "id": "65f1def3-7c5d-4e88-8622-18ac7b880afa",
   "metadata": {},
   "outputs": [
    {
     "name": "stderr",
     "output_type": "stream",
     "text": [
      "Number of target molecules processed: 100 [1:55:35]\n"
     ]
    },
    {
     "name": "stdout",
     "output_type": "stream",
     "text": [
      "Number of solved target molecules: 52\n"
     ]
    }
   ],
   "source": [
    "search_config[\"evaluation_type\"] = \"rollout\"\n",
    "search_config[\"search_strategy\"] = \"expansion_first\"\n",
    "policy_config = PolicyNetworkConfig(\n",
    "    weights_path=ranking_policy_path\n",
    ")\n",
    "\n",
    "run_search(\n",
    "    targets_path=targets_path,\n",
    "    search_config=search_config,\n",
    "    policy_config=policy_config,\n",
    "    reaction_rules_path=reaction_rules_path,\n",
    "    building_blocks_path=building_blocks_path,\n",
    "    value_network_path=None,\n",
    "    results_root=os.path.join(results_path, \"search_results_default\"),\n",
    ")"
   ]
  },
  {
   "cell_type": "markdown",
   "id": "bbfcee70-e0ac-4380-8ed6-8eafc83c071d",
   "metadata": {},
   "source": [
    "#### Advanced planning"
   ]
  },
  {
   "cell_type": "code",
   "execution_count": 17,
   "id": "acc71ec3-0e1c-49a3-9db4-291b799f5c0e",
   "metadata": {},
   "outputs": [
    {
     "name": "stderr",
     "output_type": "stream",
     "text": [
      "Number of target molecules processed: 100 [3:09:56]\n"
     ]
    },
    {
     "name": "stdout",
     "output_type": "stream",
     "text": [
      "Number of solved target molecules: 40\n"
     ]
    }
   ],
   "source": [
    "search_config[\"evaluation_type\"] = \"gcn\"\n",
    "search_config[\"search_strategy\"] = \"evaluation_first\"\n",
    "value_network_path = \"syntool_planning_data/value_network.ckpt\"\n",
    "policy_config = PolicyNetworkConfig(\n",
    "    weights_path=ranking_policy_path\n",
    ")\n",
    "\n",
    "run_search(\n",
    "    targets_path=targets_path,\n",
    "    search_config=search_config,\n",
    "    policy_config=policy_config,\n",
    "    reaction_rules_path=reaction_rules_path,\n",
    "    building_blocks_path=building_blocks_path,\n",
    "    value_network_path=value_network_path,\n",
    "    results_root=os.path.join(results_path, \"search_results_advanced\"),\n",
    ")"
   ]
  },
  {
   "cell_type": "markdown",
   "id": "e3d1158c-8c9a-49cf-83fe-2243f188cb2b",
   "metadata": {},
   "source": [
    "#### Planning algorithms results comparison"
   ]
  },
  {
   "cell_type": "code",
   "execution_count": 18,
   "id": "f3d76c6c-d8e7-4e41-a5a7-bc91ddea1f1e",
   "metadata": {},
   "outputs": [
    {
     "data": {
      "text/html": [
       "<div>\n",
       "<style scoped>\n",
       "    .dataframe tbody tr th:only-of-type {\n",
       "        vertical-align: middle;\n",
       "    }\n",
       "\n",
       "    .dataframe tbody tr th {\n",
       "        vertical-align: top;\n",
       "    }\n",
       "\n",
       "    .dataframe thead th {\n",
       "        text-align: right;\n",
       "    }\n",
       "</style>\n",
       "<table border=\"1\" class=\"dataframe\">\n",
       "  <thead>\n",
       "    <tr style=\"text-align: right;\">\n",
       "      <th></th>\n",
       "      <th>METHOD</th>\n",
       "      <th>SOLVED_TARGETS</th>\n",
       "      <th>AVERAGE_NUMBER_OF_NODES</th>\n",
       "      <th>AVERAGE_NUMBER_OF_ROUTES</th>\n",
       "      <th>AVERAGE_NUMBER_OF_ITERATIONS</th>\n",
       "      <th>AVERAGE_TIME</th>\n",
       "    </tr>\n",
       "  </thead>\n",
       "  <tbody>\n",
       "    <tr>\n",
       "      <th>0</th>\n",
       "      <td>Default</td>\n",
       "      <td>52</td>\n",
       "      <td>2858</td>\n",
       "      <td>76</td>\n",
       "      <td>297</td>\n",
       "      <td>66.5</td>\n",
       "    </tr>\n",
       "    <tr>\n",
       "      <th>0</th>\n",
       "      <td>Advanced</td>\n",
       "      <td>40</td>\n",
       "      <td>3611</td>\n",
       "      <td>19</td>\n",
       "      <td>297</td>\n",
       "      <td>113.2</td>\n",
       "    </tr>\n",
       "  </tbody>\n",
       "</table>\n",
       "</div>"
      ],
      "text/plain": [
       "     METHOD  SOLVED_TARGETS  AVERAGE_NUMBER_OF_NODES  \\\n",
       "0   Default              52                     2858   \n",
       "0  Advanced              40                     3611   \n",
       "\n",
       "   AVERAGE_NUMBER_OF_ROUTES  AVERAGE_NUMBER_OF_ITERATIONS  AVERAGE_TIME  \n",
       "0                        76                           297          66.5  \n",
       "0                        19                           297         113.2  "
      ]
     },
     "execution_count": 18,
     "metadata": {},
     "output_type": "execute_result"
    }
   ],
   "source": [
    "res_def = pd.read_csv(os.path.join(results_path, \"search_results_default\", 'tree_search_stats.csv'))\n",
    "res_adv = pd.read_csv(os.path.join(results_path, \"search_results_advanced\", 'tree_search_stats.csv'))\n",
    "\n",
    "pd.concat(\n",
    "    [\n",
    "        extract_stats(res_def, \"Default\"),\n",
    "        extract_stats(res_adv, \"Advanced\"),\n",
    "    ]\n",
    ")"
   ]
  }
 ],
 "metadata": {
  "kernelspec": {
   "display_name": "syntool",
   "language": "python",
   "name": "syntool"
  },
  "language_info": {
   "codemirror_mode": {
    "name": "ipython",
    "version": 3
   },
   "file_extension": ".py",
   "mimetype": "text/x-python",
   "name": "python",
   "nbconvert_exporter": "python",
   "pygments_lexer": "ipython3",
   "version": "3.10.14"
  }
 },
 "nbformat": 4,
 "nbformat_minor": 5
}
