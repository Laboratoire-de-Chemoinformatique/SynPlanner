{
 "cells": [
  {
   "cell_type": "code",
   "execution_count": null,
   "metadata": {},
   "outputs": [],
   "source": [
    "import os\n",
    "import pickle\n",
    "import shutil\n",
    "from pathlib import Path\n",
    "from synplan.utils.loading import download_all_data\n",
    "\n",
    "# download SynPlanner data\n",
    "data_folder = Path(\"synplan_data\").resolve()\n",
    "download_all_data(save_to=data_folder)\n",
    "\n",
    "# input data\n",
    "# You can use the input data:\n",
    "# 1. Curated USPTO data, extracted reaction rules, pretrained policy network and building blocks from downloaded data\n",
    "# 2. Use curated USPTO data, extracted reaction rules, pretrained policy network prepared with tutorials\n",
    "\n",
    "USE_DOWNLOAD_DATA = True # is False if you want to use the data and models from previous tutorial steps\n",
    "if USE_DOWNLOAD_DATA:\n",
    "    # input data\n",
    "    ranking_policy_network = data_folder.joinpath(\"uspto/weights/ranking_policy_network.ckpt\").resolve(strict=True)\n",
    "    reaction_rules_path = data_folder.joinpath(\"uspto/uspto_reaction_rules.pickle\")\n",
    "    # planning reslts folder\n",
    "    results_folder = Path(\"planning_with_downloaded_data\").resolve()\n",
    "    results_folder.mkdir(exist_ok=True)\n",
    "else:\n",
    "    # input data\n",
    "    tutorial_results_folder = Path(\"tutorial_results\").resolve()\n",
    "    ranking_policy_network = tutorial_results_folder.joinpath(\"ranking_policy_network/policy_network.ckpt\").resolve(strict=True)\n",
    "    reaction_rules_path = tutorial_results_folder.joinpath(\"uspto_reaction_rules.pickle\")\n",
    "    # planning reslts folder\n",
    "    results_folder = Path(\"planning_with_tutorial_data\").resolve()\n",
    "    results_folder.mkdir(exist_ok=True)\n",
    "\n",
    "# use your custom building blocks if needed\n",
    "building_blocks_path = data_folder.joinpath(\"building_blocks/building_blocks_em_sa_ln.smi\")"
   ]
  },
  {
   "cell_type": "code",
   "execution_count": null,
   "metadata": {},
   "outputs": [],
   "source": [
    "from synplan.utils.loading import load_building_blocks\n",
    "\n",
    "building_blocks = load_building_blocks(building_blocks_path, standardize=True)"
   ]
  },
  {
   "cell_type": "code",
   "execution_count": 3,
   "metadata": {},
   "outputs": [],
   "source": [
    "from synplan.utils.loading import load_reaction_rules\n",
    "\n",
    "reaction_rules = load_reaction_rules(reaction_rules_path)"
   ]
  },
  {
   "cell_type": "code",
   "execution_count": null,
   "metadata": {},
   "outputs": [],
   "source": [
    "from synplan.mcts.expansion import PolicyNetworkFunction\n",
    "from synplan.utils.config import PolicyNetworkConfig\n",
    "\n",
    "policy_config = PolicyNetworkConfig(weights_path=ranking_policy_network) \n",
    "policy_network = PolicyNetworkFunction(policy_config=policy_config)"
   ]
  },
  {
   "cell_type": "code",
   "execution_count": 5,
   "metadata": {},
   "outputs": [],
   "source": [
    "from synplan.utils.config import TreeConfig\n",
    "\n",
    "tree_config = TreeConfig(\n",
    "    search_strategy=\"expansion_first\",\n",
    "    evaluation_type=\"rollout\",\n",
    "    max_iterations=300,\n",
    "    max_time=120,\n",
    "    max_depth=9,\n",
    "    min_mol_size=1,\n",
    "    init_node_value=0.5,\n",
    "    ucb_type=\"uct\",\n",
    "    c_ucb=0.1,\n",
    ")"
   ]
  },
  {
   "cell_type": "code",
   "execution_count": 6,
   "metadata": {},
   "outputs": [],
   "source": [
    "from synplan.chem.utils import mol_from_smiles\n",
    "\n",
    "# let's take capivasertib used as anti-cancer medication for the treatment \n",
    "# of breast cancer and approved by FDA in 2023\n",
    "example_smiles = \"NC1(C(=O)N[C@@H](CCO)c2ccc(Cl)cc2)CCN(c2nc[nH]c3nccc2-3)CC1\"\n",
    "\n",
    "target_molecule = mol_from_smiles(example_smiles, clean2d=True, standardize=True, clean_stereo=True)"
   ]
  },
  {
   "cell_type": "code",
   "execution_count": 7,
   "metadata": {},
   "outputs": [],
   "source": [
    "from synplan.mcts.tree import Tree\n",
    "\n",
    "tree = Tree(\n",
    "    target=target_molecule,\n",
    "    config=tree_config,\n",
    "    reaction_rules=reaction_rules,\n",
    "    building_blocks=building_blocks,\n",
    "    expansion_function=policy_network,\n",
    "    # you can also specify evaluation_function=ValueNetwork(...), by default it is None\n",
    ")"
   ]
  },
  {
   "cell_type": "code",
   "execution_count": null,
   "metadata": {},
   "outputs": [],
   "source": [
    "tree_solved = False\n",
    "for solved, node_id in tree:\n",
    "    if solved:\n",
    "        tree_solved = True\n",
    "tree"
   ]
  },
  {
   "cell_type": "markdown",
   "metadata": {},
   "source": [
    "### Extract RouteCGR and ReducedRouteCGR"
   ]
  },
  {
   "cell_type": "code",
   "execution_count": 9,
   "metadata": {},
   "outputs": [],
   "source": [
    "from synplan.chem.reaction_routes.route_cgr import *\n",
    "from synplan.chem.reaction_routes.clustering import *"
   ]
  },
  {
   "cell_type": "code",
   "execution_count": 151,
   "metadata": {},
   "outputs": [],
   "source": [
    "all_route_cgrs = compose_all_route_cgrs(tree)"
   ]
  },
  {
   "cell_type": "code",
   "execution_count": 152,
   "metadata": {},
   "outputs": [],
   "source": [
    "all_reduced_route_cgrs = compose_all_reduced_route_cgrs(all_route_cgrs)"
   ]
  },
  {
   "cell_type": "markdown",
   "metadata": {},
   "source": [
    "### Clustering"
   ]
  },
  {
   "cell_type": "code",
   "execution_count": 153,
   "metadata": {},
   "outputs": [],
   "source": [
    "clusters = cluster_routes(all_reduced_route_cgrs, use_strat= False)"
   ]
  },
  {
   "cell_type": "code",
   "execution_count": null,
   "metadata": {},
   "outputs": [],
   "source": [
    "from synplan.utils.visualisation import routes_clustering_report, routes_subclustering_report\n",
    "from IPython.display import display, HTML\n",
    "\n",
    "cluster_index = '3.2'\n",
    "if cluster_index in clusters.keys():\n",
    "    display(HTML(routes_clustering_report(tree, clusters, cluster_index,\n",
    "                         all_reduced_route_cgrs)))"
   ]
  },
  {
   "cell_type": "markdown",
   "metadata": {},
   "source": [
    "### Subclustering"
   ]
  },
  {
   "cell_type": "code",
   "execution_count": 155,
   "metadata": {},
   "outputs": [],
   "source": [
    "all_subclusters = subcluster_all_clusters(clusters, all_reduced_route_cgrs, all_route_cgrs)"
   ]
  },
  {
   "cell_type": "code",
   "execution_count": null,
   "metadata": {},
   "outputs": [],
   "source": [
    "subcluster_num = 1\n",
    "\n",
    "if subcluster_num in all_subclusters[cluster_index].keys():\n",
    "    subgroup = all_subclusters[cluster_index][subcluster_num]\n",
    "    display(HTML(routes_subclustering_report(tree, subgroup, cluster_index, subcluster_num, all_reduced_route_cgrs, aam=False)))"
   ]
  },
  {
   "cell_type": "code",
   "execution_count": null,
   "metadata": {},
   "outputs": [],
   "source": [
    "\n",
    "\n",
    "if len(subgroup['nodes_data']) != 1:\n",
    "    new_subgroup = post_process_subgroup(subgroup)\n",
    "    display(HTML(routes_subclustering_report(tree, new_subgroup, cluster_index, subcluster_num, all_reduced_route_cgrs, if_lg_group=True)))"
   ]
  },
  {
   "cell_type": "code",
   "execution_count": null,
   "metadata": {},
   "outputs": [],
   "source": []
  }
 ],
 "metadata": {
  "kernelspec": {
   "display_name": "synplan",
   "language": "python",
   "name": "python3"
  },
  "language_info": {
   "codemirror_mode": {
    "name": "ipython",
    "version": 3
   },
   "file_extension": ".py",
   "mimetype": "text/x-python",
   "name": "python",
   "nbconvert_exporter": "python",
   "pygments_lexer": "ipython3",
   "version": "3.11.9"
  }
 },
 "nbformat": 4,
 "nbformat_minor": 2
}
