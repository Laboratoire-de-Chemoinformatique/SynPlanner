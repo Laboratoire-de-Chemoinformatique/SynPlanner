{
 "cells": [
  {
   "cell_type": "markdown",
   "metadata": {},
   "source": [
    "# Step 5: Clustering of Retrosynthesis Routes\n",
    "\n",
    "In retrosynthetic analysis, multiple synthetic routes can be generated for a single target molecule. Clustering these routes helps to group together pathways that share similar high-level strategies, making it easier to identify fundamentally different approaches and prioritize the most promising ones. This step enables chemists to focus on unique synthetic ideas rather than redundant variations.\n",
    "\n",
    "This tutorial demonstrates how to cluster the Retrosynthesis Routes by unique strategic bond patterns.\n",
    "At this stage you should have a set of solved retrosynthetic routes (either from running the planning step here or from loading previously saved results)."
   ]
  },
  {
   "cell_type": "markdown",
   "metadata": {},
   "source": [
    "## 1.1. Running retrosynthetic planning"
   ]
  },
  {
   "cell_type": "code",
   "execution_count": null,
   "metadata": {},
   "outputs": [],
   "source": [
    "import os\n",
    "import pickle\n",
    "import shutil\n",
    "from pathlib import Path\n",
    "from synplan.utils.loading import download_all_data\n",
    "\n",
    "# download SynPlanner data\n",
    "data_folder = Path(\"synplan_data\").resolve()\n",
    "download_all_data(save_to=data_folder)\n",
    "\n",
    "# input data\n",
    "# You can use the input data:\n",
    "# 1. Curated USPTO data, extracted reaction rules, pretrained policy network and building blocks from downloaded data\n",
    "# 2. Use curated USPTO data, extracted reaction rules, pretrained policy network prepared with tutorials\n",
    "\n",
    "USE_DOWNLOAD_DATA = True # is False if you want to use the data and models from previous tutorial steps\n",
    "if USE_DOWNLOAD_DATA:\n",
    "    # input data\n",
    "    ranking_policy_network = data_folder.joinpath(\"uspto/weights/ranking_policy_network.ckpt\").resolve(strict=True)\n",
    "    reaction_rules_path = data_folder.joinpath(\"uspto/uspto_reaction_rules.pickle\")\n",
    "    # planning reslts folder\n",
    "    planning_results_folder = Path(\"planning_with_downloaded_data\").resolve()\n",
    "    planning_results_folder.mkdir(exist_ok=True)\n",
    "    clustering_results_folder = Path(\"clustering_with_downloaded_data\").resolve()\n",
    "    clustering_results_folder.mkdir(exist_ok=True)\n",
    "else:\n",
    "    # input data\n",
    "    tutorial_results_folder = Path(\"tutorial_results\").resolve()\n",
    "    ranking_policy_network = tutorial_results_folder.joinpath(\"ranking_policy_network/policy_network.ckpt\").resolve(strict=True)\n",
    "    reaction_rules_path = tutorial_results_folder.joinpath(\"uspto_reaction_rules.pickle\")\n",
    "    # planning reslts folder\n",
    "    results_folder = Path(\"planning_with_tutorial_data\").resolve()\n",
    "    results_folder.mkdir(exist_ok=True)\n",
    "\n",
    "# use your custom building blocks if needed\n",
    "building_blocks_path = data_folder.joinpath(\"building_blocks/building_blocks_em_sa_ln.smi\")"
   ]
  },
  {
   "cell_type": "code",
   "execution_count": null,
   "metadata": {},
   "outputs": [],
   "source": [
    "from synplan.utils.loading import load_building_blocks\n",
    "\n",
    "building_blocks = load_building_blocks(building_blocks_path, standardize=True)"
   ]
  },
  {
   "cell_type": "code",
   "execution_count": null,
   "metadata": {},
   "outputs": [],
   "source": [
    "from synplan.utils.loading import load_reaction_rules\n",
    "\n",
    "reaction_rules = load_reaction_rules(reaction_rules_path)"
   ]
  },
  {
   "cell_type": "code",
   "execution_count": null,
   "metadata": {},
   "outputs": [],
   "source": [
    "from synplan.mcts.expansion import PolicyNetworkFunction\n",
    "from synplan.utils.config import PolicyNetworkConfig\n",
    "\n",
    "policy_config = PolicyNetworkConfig(weights_path=ranking_policy_network) \n",
    "policy_network = PolicyNetworkFunction(policy_config=policy_config)"
   ]
  },
  {
   "cell_type": "code",
   "execution_count": null,
   "metadata": {},
   "outputs": [],
   "source": [
    "from synplan.utils.config import TreeConfig\n",
    "\n",
    "tree_config = TreeConfig(\n",
    "    search_strategy=\"expansion_first\",\n",
    "    evaluation_type=\"rollout\",\n",
    "    max_iterations=300,\n",
    "    max_time=120,\n",
    "    max_depth=9,\n",
    "    min_mol_size=1,\n",
    "    init_node_value=0.5,\n",
    "    ucb_type=\"uct\",\n",
    "    c_ucb=0.1,\n",
    ")"
   ]
  },
  {
   "cell_type": "code",
   "execution_count": null,
   "metadata": {},
   "outputs": [],
   "source": [
    "from synplan.chem.utils import mol_from_smiles\n",
    "\n",
    "# let's take capivasertib used as anti-cancer medication for the treatment \n",
    "# of breast cancer and approved by FDA in 2023\n",
    "example_smiles = \"NC1(C(=O)N[C@@H](CCO)c2ccc(Cl)cc2)CCN(c2nc[nH]c3nccc2-3)CC1\"\n",
    "\n",
    "target_molecule = mol_from_smiles(example_smiles, clean2d=True, standardize=True, clean_stereo=True)"
   ]
  },
  {
   "cell_type": "code",
   "execution_count": null,
   "metadata": {},
   "outputs": [],
   "source": [
    "from synplan.mcts.tree import Tree\n",
    "\n",
    "tree = Tree(\n",
    "    target=target_molecule,\n",
    "    config=tree_config,\n",
    "    reaction_rules=reaction_rules,\n",
    "    building_blocks=building_blocks,\n",
    "    expansion_function=policy_network,\n",
    "    # you can also specify evaluation_function=ValueNetwork(...), by default it is None\n",
    ")"
   ]
  },
  {
   "cell_type": "code",
   "execution_count": null,
   "metadata": {},
   "outputs": [],
   "source": [
    "tree_solved = False\n",
    "for solved, node_id in tree:\n",
    "    if solved:\n",
    "        tree_solved = True\n",
    "tree"
   ]
  },
  {
   "cell_type": "markdown",
   "metadata": {},
   "source": [
    "## 1.2. Download retrosynthetic planning results\n",
    "\n",
    "**Input Data Structure**\n",
    "\n",
    "The clustering workflow accepts routes in several formats:\n",
    " * CSV: Tabular format with route information.\n",
    " * JSON: Structured format with detailed route data.\n",
    " * Serialized tree: Pickled object containing the full search tree.\n",
    "\n",
    "Each format can be loaded into a routes_dict, which is a Python dictionary mapping route IDs to route data. Choose the loading method that matches your available data"
   ]
  },
  {
   "cell_type": "code",
   "execution_count": null,
   "metadata": {},
   "outputs": [],
   "source": [
    "from synplan.chem.reaction_routes.io import *"
   ]
  },
  {
   "cell_type": "markdown",
   "metadata": {},
   "source": [
    "From CSV file"
   ]
  },
  {
   "cell_type": "code",
   "execution_count": null,
   "metadata": {},
   "outputs": [],
   "source": [
    "csv_path = clustering_results_folder.joinpath(\"routes_1_1.csv\")\n",
    "routes_dict_1 = read_routes_csv(csv_path)"
   ]
  },
  {
   "cell_type": "markdown",
   "metadata": {},
   "source": [
    "From JSON file"
   ]
  },
  {
   "cell_type": "code",
   "execution_count": null,
   "metadata": {},
   "outputs": [],
   "source": [
    "json_path = clustering_results_folder.joinpath(\"routes_1_1.json\")\n",
    "\n",
    "routes_dict_2 = read_routes_json(file_path=json_path, to_dict=True)"
   ]
  },
  {
   "cell_type": "markdown",
   "metadata": {},
   "source": [
    "From serialized tree"
   ]
  },
  {
   "cell_type": "code",
   "execution_count": null,
   "metadata": {},
   "outputs": [],
   "source": [
    "# serialized tree should be named as tree_{mol_id}_{config}\n",
    "#      were the mol_id is the id of the target molecule\n",
    "#      and the config is the string representation of the tree config\n",
    "ser_tree_path = clustering_results_folder.joinpath('forest')\n",
    "mol_id = 1\n",
    "config = '1'\n",
    "tree_2 = TreeWrapper.load_tree_from_id(mol_id, config, ser_tree_path)"
   ]
  },
  {
   "cell_type": "code",
   "execution_count": null,
   "metadata": {},
   "outputs": [],
   "source": [
    "routes_json = make_json(routes_dict_2)"
   ]
  },
  {
   "cell_type": "markdown",
   "metadata": {},
   "source": [
    "## 2. Extract RouteCGR and ReducedRouteCGR"
   ]
  },
  {
   "cell_type": "markdown",
   "metadata": {},
   "source": [
    "Here we convert each multi-step synthetic route into a single graph representation that captures all bond-breaking and bond-forming events:\n",
    "\n",
    "- **Condensed Graph of Reaction (CGR):** Overlay reactants and products of each reaction step using atom mappings.  \n",
    "- **RouteCGR:** Merge the per-step CGRs into one unified graph that preserves connectivity changes across the entire pathway.  \n",
    "- **ReducedRouteCGR:** Filter the RouteCGR to retain only the “strategic bonds” (those involving atoms present in the target), removing extraneous leaving-group and reagent details.  \n",
    "- **Visualization:** Render the resulting CGR to confirm that only core bond transformations remain."
   ]
  },
  {
   "cell_type": "code",
   "execution_count": null,
   "metadata": {},
   "outputs": [],
   "source": [
    "from synplan.chem.reaction_routes.route_cgr import *\n",
    "from synplan.chem.reaction_routes.clustering import *\n",
    "from synplan.chem.reaction_routes.visualisation import cgr_display\n",
    "from IPython.display import display, HTML, SVG\n",
    "from synplan.utils.visualisation import get_route_svg, get_route_svg_from_json, render_svg"
   ]
  },
  {
   "cell_type": "markdown",
   "metadata": {},
   "source": [
    "The function compose_all_route_cgrs can process synthetic routes extracted either from a reaction tree or from CSV/JSON files containing a routes_dict."
   ]
  },
  {
   "cell_type": "code",
   "execution_count": null,
   "metadata": {},
   "outputs": [],
   "source": [
    "all_route_cgrs = compose_all_route_cgrs(tree_2)\n",
    "# or\n",
    "all_route_cgrs = compose_all_route_cgrs(routes_dict_2)"
   ]
  },
  {
   "cell_type": "code",
   "execution_count": null,
   "metadata": {},
   "outputs": [],
   "source": [
    "i = 1\n",
    "for route_id, route_cgr in all_route_cgrs.items():\n",
    "    print(route_id)\n",
    "    cgr_prods = [route_cgr.substructure(c) for c in route_cgr.connected_components]\n",
    "    target_cgr = cgr_prods[0]\n",
    "    display(SVG(cgr_display(target_cgr)))\n",
    "    display(SVG(get_route_svg_from_json(routes_json, route_id)))\n",
    "    # or \n",
    "    display(SVG(get_route_svg(tree, route_id))) # Currently the pathway from the serialized tree can not be depicted\n",
    "    if i >= 3:\n",
    "        break\n",
    "    i += 1\n"
   ]
  },
  {
   "cell_type": "code",
   "execution_count": null,
   "metadata": {},
   "outputs": [],
   "source": [
    "all_reduced_route_cgrs = compose_all_reduced_route_cgrs(all_route_cgrs)"
   ]
  },
  {
   "cell_type": "code",
   "execution_count": null,
   "metadata": {},
   "outputs": [],
   "source": [
    "i = 1\n",
    "for route_id, route_cgr in all_reduced_route_cgrs.items():\n",
    "    print(route_id)\n",
    "    cgr_prods = [route_cgr.substructure(c) for c in route_cgr.connected_components]\n",
    "    target_cgr = cgr_prods[0]\n",
    "    display(SVG(cgr_display(target_cgr)))\n",
    "    display(SVG(get_route_svg_from_json(routes_json, route_id)))\n",
    "    # or \n",
    "    display(SVG(get_route_svg(tree, route_id)))\n",
    "    if i >= 3:\n",
    "        break\n",
    "    i += 1"
   ]
  },
  {
   "cell_type": "markdown",
   "metadata": {},
   "source": [
    "## 3. Clustering"
   ]
  },
  {
   "cell_type": "markdown",
   "metadata": {},
   "source": [
    "**How Does Clustering Work?**\n",
    "\n",
    "* Routes are grouped based on their ReducedRouteCGR representations, which capture the strategic bond changes.\n",
    "* The use_strat parameter controls whether clustering is based on structural signatures, ensuring that routes differing only in atom mappings are grouped together.\n",
    "* The output is a dictionary mapping cluster indices to lists of route IDs."
   ]
  },
  {
   "cell_type": "code",
   "execution_count": null,
   "metadata": {},
   "outputs": [],
   "source": [
    "# use_strat: if True, clustering will use the CGRContainer’s structural signature\n",
    "#            to ensure that routes which are chemically identical but differ only\n",
    "#            in their atom mappings are grouped together instead of split apart\n",
    "clusters = cluster_routes(all_reduced_route_cgrs, use_strat=False)"
   ]
  },
  {
   "cell_type": "code",
   "execution_count": null,
   "metadata": {},
   "outputs": [],
   "source": [
    "clusters"
   ]
  },
  {
   "cell_type": "markdown",
   "metadata": {},
   "source": [
    "### Clustering report file:\n",
    "\n",
    "This guide walks you through how to assemble an interactive HTML report that displays, for each cluster of synthetic routes:\n",
    "- The **target molecule** (SMILES string)\n",
    "- The **cluster index**\n",
    "- The **cluster size** (number of distinct pathways in the cluster)\n",
    "- A **RouteCGR** graphic highlighting the common strategic bond transformations\n",
    "- A gallery (“roll”) of each individual route showing:\n",
    "    * Number of steps\n",
    "    * (Optional) route score\n",
    "    * Image of the route\n",
    "    * Reactions SMILES for each transformation"
   ]
  },
  {
   "cell_type": "code",
   "execution_count": null,
   "metadata": {},
   "outputs": [],
   "source": [
    "cluster_index = '5.1'\n",
    "if cluster_index in clusters.keys():\n",
    "    # display(HTML(routes_clustering_report(tree, clusters, cluster_index,\n",
    "    #                      all_reduced_route_cgrs)))\n",
    "    # or\n",
    "    display(HTML(routes_clustering_report(routes_json, clusters, cluster_index,\n",
    "                         all_reduced_route_cgrs)))\n",
    "else:\n",
    "    print(f\"Cluster {cluster_index} not found in the clustering results.\")\n"
   ]
  },
  {
   "cell_type": "markdown",
   "metadata": {},
   "source": [
    "## 4. Subclustering\n",
    "\n",
    "**Why Subcluster?**\n",
    "\n",
    "* Subclustering reveals finer variations within each main cluster by abstracting away non-strategic details (e.g., leaving groups, protective groups).\n",
    "\n",
    "- **Abstraction:** Replace all non-core groups in the original RouteCGR (e.g., leaving groups, protective groups) with a generic placeholder (e.g., “X”).  \n",
    "- **Pseudo-Reaction Generation:** Export each abstracted graph as a Markush-style pseudo-SMILES or simplified representation.\n",
    "- **Leaving group collection:** Identify, label and collect all leaving groups from the original RouteCGR.\n",
    "\n",
    "* This step helps to further differentiate routes that share the same core strategy but differ in peripheral modifications\n",
    "\n",
    "    Example: Secondary amine formation strategies\n",
    "\n",
    "    1. Coupling a haloalkane with a primary amine\n",
    "    2. Reductive amination (formally a two-step process)\n",
    "    \n",
    "    In the initial clustering layer, these routes are grouped together because they share the same core approach. However, subclustering allows us to differentiate between them based on their specific modifications.\n",
    "\n",
    "* The output includes Markush-style pseudo-SMILES and a collection of leaving groups for each subgroup."
   ]
  },
  {
   "cell_type": "code",
   "execution_count": null,
   "metadata": {},
   "outputs": [],
   "source": [
    "all_subclusters = subcluster_all_clusters(clusters, all_reduced_route_cgrs, all_route_cgrs)"
   ]
  },
  {
   "cell_type": "code",
   "execution_count": null,
   "metadata": {},
   "outputs": [],
   "source": [
    "cluster_index = '3.1'\n",
    "subcluster_num = 1\n",
    "\n",
    "if subcluster_num in all_subclusters[cluster_index].keys():\n",
    "    subgroup = all_subclusters[cluster_index][subcluster_num]\n",
    "    display(HTML(routes_subclustering_report(tree, subgroup, cluster_index, subcluster_num, all_reduced_route_cgrs, aam=False)))\n",
    "else:\n",
    "    print(f\"Cluster {cluster_index} not found in the subclustering results.\")"
   ]
  },
  {
   "cell_type": "markdown",
   "metadata": {},
   "source": [
    "### Post-processing the subclustering result (Under development):\n",
    "\n",
    "1. Remove ubiquitous leaving‑groups\n",
    " - Within any subgroup, if every pathway contains the same leaving‑group (or set of leaving‑groups), delete that X column.\n",
    " - Then reinstate the original parent compound from which that X was derived.\n",
    " - This reduces the table’s width and focuses on variable elements.\n",
    "\n",
    "2. Merge duplicate routes\n",
    " - If two or more routes share an identical set of leaving‑groups, collapse them into a single entry.\n",
    " - In the first column (route ID), list all merged route IDs (one per row).\n",
    "\n",
    "3. Unify symmetric pseudo‑reactions\n",
    " - When subgroups exhibit the same Markus‑style pseudo‑reaction SMILES (same bond changes) but differ only in atom‑atom mapping, merge them into one.\n",
    " - Because building‑block symmetry makes these mappings chemically equivalent, combining them avoids artificial duplication."
   ]
  },
  {
   "cell_type": "code",
   "execution_count": null,
   "metadata": {},
   "outputs": [],
   "source": [
    "if len(subgroup['nodes_data']) != 1:\n",
    "    new_subgroup = post_process_subgroup(subgroup)\n",
    "    display(HTML(routes_subclustering_report(tree, new_subgroup, cluster_index, subcluster_num, all_reduced_route_cgrs, if_lg_group=True)))"
   ]
  },
  {
   "cell_type": "markdown",
   "metadata": {},
   "source": [
    "## References & Further Reading\n",
    "More details about clustering in ``SynPlanner`` can be found in <a href=\"https://synplanner.readthedocs.io/\">official documentation</a>."
   ]
  },
  {
   "cell_type": "markdown",
   "metadata": {},
   "source": []
  }
 ],
 "metadata": {
  "kernelspec": {
   "display_name": "synplan",
   "language": "python",
   "name": "python3"
  },
  "language_info": {
   "codemirror_mode": {
    "name": "ipython",
    "version": 3
   },
   "file_extension": ".py",
   "mimetype": "text/x-python",
   "name": "python",
   "nbconvert_exporter": "python",
   "pygments_lexer": "ipython3",
   "version": "3.11.9"
  }
 },
 "nbformat": 4,
 "nbformat_minor": 2
}
