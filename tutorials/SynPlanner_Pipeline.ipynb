{
 "cells": [
  {
   "cell_type": "markdown",
   "id": "15da330e-122c-4f2d-82bc-8a684a7bed90",
   "metadata": {},
   "source": [
    "# SynPlanner Pipeline\n",
    "\n",
    "**Introduction.** Welcome to the SynPlanner tutorial, a detailed guide on utilizing a sophisticated retrosynthetic planning tool that combines Monte Carlo Tree Search (MCTS) with neural networks. This tutorial is designed for synthetic chemists and chemoinformaticians looking to deepen their understanding and application of SynPlanner in their work.\n",
    "\n",
    "**About SynPlanner.** SynPlanner is aimed as a one-box solution for building retrosynthesis planners and includes the original modules for reaction data curation, reaction rules extraction, retrosynthetic models training, and retrosynthesis planning. SynPlanner is based on the open-source Python 3 packages for reaction chemoinformatics and deep learning frameworks.\n",
    "\n",
    "**Tutorial focus.** This tutorial will lead through the steps of extraction of reaction rules, training retrosynthetic models (ranking policy network), and retrosynthesis planning in SynPlanner."
   ]
  },
  {
   "cell_type": "markdown",
   "id": "49c096e8-f13f-4d15-bbd8-d6a7553a944f",
   "metadata": {},
   "source": [
    "## 1. Set up input and output data locations"
   ]
  },
  {
   "cell_type": "code",
   "execution_count": 1,
   "id": "c5053330-261d-41e4-aeaa-901a20b4be02",
   "metadata": {},
   "outputs": [
    {
     "data": {
      "application/vnd.jupyter.widget-view+json": {
       "model_id": "b6624f902d6f451e82688a4c833a68dc",
       "version_major": 2,
       "version_minor": 0
      },
      "text/plain": [
       "Fetching 25 files:   0%|          | 0/25 [00:00<?, ?it/s]"
      ]
     },
     "metadata": {},
     "output_type": "display_data"
    }
   ],
   "source": [
    "import os\n",
    "import pickle\n",
    "import shutil\n",
    "from pathlib import Path\n",
    "from synplan.utils.loading import download_all_data\n",
    "\n",
    "# download SynPlanner data\n",
    "data_folder = Path(\"synplan_data\").resolve()\n",
    "download_all_data(save_to=data_folder)\n",
    "\n",
    "# results folder\n",
    "results_folder = Path(\"general_tutorial_results\").resolve()\n",
    "results_folder.mkdir(exist_ok=True)\n",
    "\n",
    "# input data\n",
    "# original_data_path = data_folder.joinpath(\"tutorial/uspto_tutorial.smi\").resolve(strict=True) # replace with custom data if needed\n",
    "original_data_path = data_folder.joinpath(\"uspto/uspto_standardized.smi\").resolve(strict=True) # replace with custom data if needed\n",
    "\n",
    "building_blocks_path = data_folder.joinpath(\"building_blocks/building_blocks_em_sa_ln.smi\").resolve(strict=True)\n",
    "\n",
    "# output data\n",
    "standardized_data_path = results_folder.joinpath(\"uspto_standardized.smi\")\n",
    "filtered_data_path = results_folder.joinpath(\"uspto_filtered.smi\")\n",
    "reaction_rules_path = results_folder.joinpath(\"uspto_reaction_rules.pickle\")\n",
    "ranking_policy_network_folder = results_folder.joinpath(\"ranking_policy_network\")\n",
    "ranking_policy_dataset_path = ranking_policy_network_folder.joinpath(\"ranking_policy_dataset.pt\") # the generated training set"
   ]
  },
  {
   "cell_type": "markdown",
   "id": "3b8da9d6-ebed-461d-9b5a-b3b4349d8b13",
   "metadata": {},
   "source": [
    "## 2. Reaction data standardization"
   ]
  },
  {
   "cell_type": "code",
   "execution_count": 2,
   "id": "409c5635-9d6c-443c-82b9-30aa69c32fc5",
   "metadata": {},
   "outputs": [],
   "source": [
    "from synplan.chem.data.standardizing import (\n",
    "    ReactionStandardizationConfig,\n",
    "    standardize_reactions_from_file,\n",
    ")\n",
    "\n",
    "from synplan.chem.data.standardizing import (\n",
    "    ReactionMappingStandardizer,\n",
    "    FunctionalGroupsConfig,\n",
    "    KekuleFormConfig,\n",
    "    CheckValenceConfig,\n",
    "    ImplicifyHydrogensConfig,\n",
    "    CheckIsotopesConfig,\n",
    "    AromaticFormConfig,\n",
    "    MappingFixConfig,\n",
    "    UnchangedPartsConfig,\n",
    "    DuplicateReactionConfig,\n",
    ")"
   ]
  },
  {
   "cell_type": "markdown",
   "id": "bc7e3475-6c17-43ba-bc32-4db673c85a00",
   "metadata": {},
   "source": [
    "### Standardization configuration"
   ]
  },
  {
   "cell_type": "code",
   "execution_count": 3,
   "id": "b17c184e-8e4b-4248-8a43-85ab243a08ea",
   "metadata": {},
   "outputs": [],
   "source": [
    "standardization_config = ReactionStandardizationConfig(\n",
    "    reaction_mapping_config=ReactionMappingStandardizer(),\n",
    "    functional_groups_config=FunctionalGroupsConfig(),\n",
    "    kekule_form_config=KekuleFormConfig(),\n",
    "    check_valence_config=CheckValenceConfig(),\n",
    "    implicify_hydrogens_config=ImplicifyHydrogensConfig(),\n",
    "    check_isotopes_config=CheckIsotopesConfig(),\n",
    "    aromatic_form_config=AromaticFormConfig(),\n",
    "    mapping_fix_config=MappingFixConfig(),\n",
    "    unchanged_parts_config=UnchangedPartsConfig(),\n",
    "    duplicate_reaction_config=DuplicateReactionConfig(),\n",
    ")"
   ]
  },
  {
   "cell_type": "markdown",
   "id": "3d4973f1-3fae-4983-9a96-15b18b3c98a2",
   "metadata": {},
   "source": [
    "### Running standardization"
   ]
  },
  {
   "cell_type": "code",
   "execution_count": 4,
   "id": "957c639d-5aa1-49a5-b3e3-788feba90611",
   "metadata": {},
   "outputs": [
    {
     "name": "stderr",
     "output_type": "stream",
     "text": [
      "Number of reactions processed: 1316539 [4:39:42]\n"
     ]
    },
    {
     "name": "stdout",
     "output_type": "stream",
     "text": [
      "Initial number of parsed reactions: 1316539\n",
      "Standardized number of reactions: 1314804\n"
     ]
    }
   ],
   "source": [
    "shutil.copy(original_data_path, results_folder.joinpath('uspto_original.smi'))\n",
    "\n",
    "standardize_reactions_from_file(\n",
    "    config=standardization_config,\n",
    "    input_reaction_data_path=original_data_path,\n",
    "    standardized_reaction_data_path=standardized_data_path,\n",
    "    num_cpus=4,\n",
    "    batch_size=100,\n",
    ")"
   ]
  },
  {
   "cell_type": "markdown",
   "id": "29abf54c-d4c9-4457-b55e-8c00e0919118",
   "metadata": {},
   "source": [
    "## 3. Reaction data filtration"
   ]
  },
  {
   "cell_type": "code",
   "execution_count": 5,
   "id": "2431d2d0-4f74-4e4f-aa89-d7dd5f810d3b",
   "metadata": {},
   "outputs": [],
   "source": [
    "from synplan.chem.data.filtering import (\n",
    "    ReactionFilterConfig,  # the main config class\n",
    "    filter_reactions_from_file,  # reaction filtration function\n",
    "    # reaction filters:\n",
    "    CCRingBreakingConfig,\n",
    "    WrongCHBreakingConfig,\n",
    "    CCsp3BreakingConfig,\n",
    "    DynamicBondsConfig,\n",
    "    MultiCenterConfig,\n",
    "    NoReactionConfig,\n",
    "    SmallMoleculesConfig,\n",
    ")"
   ]
  },
  {
   "cell_type": "markdown",
   "id": "ae5b6c9d-4b43-4878-b281-a148320b20f1",
   "metadata": {},
   "source": [
    "### Filtration configuration"
   ]
  },
  {
   "cell_type": "code",
   "execution_count": 6,
   "id": "6d5e4a23-e800-4f03-ba46-e3cb3737dc4d",
   "metadata": {},
   "outputs": [],
   "source": [
    "filtration_config = ReactionFilterConfig(\n",
    "    dynamic_bonds_config=DynamicBondsConfig(\n",
    "        min_bonds_number=1,  # minimum number of dynamic bonds for a reaction\n",
    "        max_bonds_number=6,\n",
    "    ),  # maximum number of dynamic bonds for a reaction\n",
    "    no_reaction_config=NoReactionConfig(),  # configuration for the 'no reaction' filter.\n",
    "    multi_center_config=MultiCenterConfig(),  # configuration for the 'multi-center reaction' filter\n",
    "    wrong_ch_breaking_config=WrongCHBreakingConfig(),  # configuration for the 'C-H breaking' filter\n",
    "    cc_sp3_breaking_config=CCsp3BreakingConfig(),  # configuration for the 'Csp3-C breaking' filter\n",
    "    cc_ring_breaking_config=CCRingBreakingConfig(),\n",
    ")  # configuration for the 'C-C ring breaking' filter"
   ]
  },
  {
   "cell_type": "markdown",
   "id": "3de6526d-b3f9-4b4a-8641-d6fb170a85a0",
   "metadata": {},
   "source": [
    "### Runing filtration"
   ]
  },
  {
   "cell_type": "code",
   "execution_count": 7,
   "id": "fb964f3a-5569-4b98-8979-f139a67ab3ef",
   "metadata": {},
   "outputs": [
    {
     "name": "stderr",
     "output_type": "stream",
     "text": [
      "Number of reactions processed: 1314804 [2:34:32]\n"
     ]
    },
    {
     "name": "stdout",
     "output_type": "stream",
     "text": [
      "Initial number of reactions: 1314804\n",
      "Removed number of reactions: 295500\n"
     ]
    }
   ],
   "source": [
    "filter_reactions_from_file(\n",
    "    config=filtration_config,\n",
    "    input_reaction_data_path=standardized_data_path,  # the path to the standardized reaction data file\n",
    "    filtered_reaction_data_path=filtered_data_path,  # the path to the filtered reaction data file\n",
    "    num_cpus=4,\n",
    "    batch_size=100,\n",
    ")"
   ]
  },
  {
   "cell_type": "markdown",
   "id": "cbbc5add-1108-49d8-bbcf-d31fe9d57df2",
   "metadata": {},
   "source": [
    "## 4. Reaction rules extraction"
   ]
  },
  {
   "cell_type": "code",
   "execution_count": 8,
   "id": "420642b6-5a4a-4688-9b93-f8c068ac0a9f",
   "metadata": {},
   "outputs": [],
   "source": [
    "from synplan.utils.config import RuleExtractionConfig\n",
    "from synplan.chem.reaction_rules.extraction import extract_rules_from_reactions"
   ]
  },
  {
   "cell_type": "markdown",
   "id": "018359c9-f721-49f3-810c-bff7b961ee2c",
   "metadata": {},
   "source": [
    "### Rule extraction configuration"
   ]
  },
  {
   "cell_type": "code",
   "execution_count": 9,
   "id": "0e1a6557-2532-48b8-8d41-3fe842665353",
   "metadata": {},
   "outputs": [
    {
     "name": "stdout",
     "output_type": "stream",
     "text": [
      "Functional group [N;H0;$(N-[#6]);D2]-,=[N;D2]-,=[N;D1] was not parsed because of [..[\n"
     ]
    }
   ],
   "source": [
    "# Functional group list from: Coley, Connor W., JCIM., 59.6 (2019): 2529-2537.\n",
    "functional_groups = [\n",
    "                    '[O,S;h0]=C[O,Cl,I,Br,F]',                   # carboxylic acid / halogen\n",
    "                    '[O,S;h0]=CN',                               # amide/sulfamide\n",
    "                    'S(O)(O)[Cl]',                               # sulfonyl chloride\n",
    "                    'B(O)O',                                     # boronic acid/ester\n",
    "                    '[Si](C)(C)C',                               # trialkyl silane\n",
    "                    '[Si](OC)(OC)(OC)',                          # trialkoxy silane, default to methyl\n",
    "                    '[N;H0;$(N-[#6]);D2]-,=[N;D2]-,=[N;D1]',     # azide\n",
    "                    'O=C1N([Br,I,F,Cl])C(=O)CC1',                # NBS brominating agent\n",
    "                    'Cc1ccc(S(=O)(=O)O)cc1',                     # Tosyl\n",
    "                    'CC(C)(C)OC(=O)[N]',                         # N(boc)\n",
    "                    '[C;h3][C;h0]([C;h3])([C;h3])O',             #\n",
    "                    '[C,N]=[C,N]',                               # alkene/imine\n",
    "                    '[C,N]#[C,N]',                               # alkyne/nitrile\n",
    "                    'C=C-[A]',                                   # adj to alkene\n",
    "                    'C#C-[A]',                                   # adj to alkyne\n",
    "                    'O=C-[A]',                                   # adj to carbonyl\n",
    "                    'O=C([C;h3])-[A]',                           # adj to methyl ketone\n",
    "                    'O=C([O,N])-[A]',                            # adj to carboxylic acid/amide/ester\n",
    "                    'ClS(Cl)=O',                                 # thionyl chloride\n",
    "                    '[Mg,Li,Zn,Sn][Br,Cl,I,F]',                  # grinard/metal (non-disassociated)\n",
    "                    'S(O)(O)',                                   # SO2 group\n",
    "                    'N~N',                                       # diazo\n",
    "                    '[C;a]:[N,S,O;a]',                           # adjacency to heteroatom in aromatic ring\n",
    "                    '[N,S,O;a]:[C;a]:[C;a]',                     # two-steps away from heteroatom in aromatic ring\n",
    "                    '[B,C](F)(F)F',                              # CF3, BF3 should have the F3 included\n",
    "                 ]\n",
    "\n",
    "extraction_config = RuleExtractionConfig(\n",
    "    min_popularity=3,\n",
    "    environment_atom_count=1,\n",
    "    multicenter_rules=True,\n",
    "    include_rings=False,\n",
    "    keep_leaving_groups=True,\n",
    "    keep_incoming_groups=False,\n",
    "    keep_reagents=False,\n",
    "    include_func_groups=True,\n",
    "    func_groups_list=functional_groups,\n",
    "    atom_info_retention={\n",
    "        \"reaction_center\": {\n",
    "            \"neighbors\": True,  # retains information about neighboring atoms to the reaction center\n",
    "            \"hybridization\": True,  # preserves the hybridization state of atoms at the reaction center\n",
    "            \"implicit_hydrogens\": False,  # includes data on implicit hydrogen atoms attached to the reaction center\n",
    "            \"ring_sizes\": False,  # keeps information about the sizes of rings that reaction center atoms are part of\n",
    "        },\n",
    "        \"environment\": {\n",
    "            \"neighbors\": False,  # retains information about neighboring atoms to the atoms in the environment of the reaction center\n",
    "            \"hybridization\": False,  # preserves the hybridization state of atoms in the environment\n",
    "            \"implicit_hydrogens\": False,  # includes data on implicit hydrogen atoms attached to atoms in the environment\n",
    "            \"ring_sizes\": False,  # keeps information about the sizes of rings that environment atoms are part of\n",
    "        },\n",
    "    },\n",
    ")"
   ]
  },
  {
   "cell_type": "markdown",
   "id": "90c318ae-3844-4585-a129-530120ebcfd9",
   "metadata": {},
   "source": [
    "### Running rule extraction"
   ]
  },
  {
   "cell_type": "code",
   "execution_count": 10,
   "id": "e42f25c1-f169-479f-9699-0d97815482ab",
   "metadata": {},
   "outputs": [
    {
     "name": "stderr",
     "output_type": "stream",
     "text": [
      "Number of reactions processed: 1019304 [2:12:56]\n"
     ]
    },
    {
     "name": "stdout",
     "output_type": "stream",
     "text": [
      "Number of extracted reaction rules: 34921\n"
     ]
    }
   ],
   "source": [
    "extract_rules_from_reactions(\n",
    "    config=extraction_config,  # the configuration settings for rule extraction\n",
    "    reaction_data_path=filtered_data_path,  # path to the reaction data file\n",
    "    reaction_rules_path=reaction_rules_path,  # path to the pickle file where the extracted reaction rules will be stored\n",
    "    num_cpus=4,\n",
    "    batch_size=100,\n",
    ")"
   ]
  },
  {
   "cell_type": "markdown",
   "id": "20e55911-23de-410e-b242-d0e95e36314e",
   "metadata": {},
   "source": [
    "## 5. Ranking policy training"
   ]
  },
  {
   "cell_type": "code",
   "execution_count": 11,
   "id": "a669dcd8-21e8-4c07-820c-78c1a46b0e06",
   "metadata": {},
   "outputs": [],
   "source": [
    "from synplan.utils.config import PolicyNetworkConfig\n",
    "from synplan.ml.training.supervised import create_policy_dataset, run_policy_training"
   ]
  },
  {
   "cell_type": "markdown",
   "id": "708e1581-3255-4ead-a4e9-6a3843a66655",
   "metadata": {},
   "source": [
    "### Ranking policy configuration"
   ]
  },
  {
   "cell_type": "code",
   "execution_count": 12,
   "id": "ffdb63c6-7ef0-4b54-b769-45b0c3dac5ea",
   "metadata": {},
   "outputs": [],
   "source": [
    "training_config = PolicyNetworkConfig(\n",
    "    policy_type=\"ranking\",  # the type of policy network\n",
    "    num_conv_layers=5,  # the number of graph convolutional layers in the network\n",
    "    vector_dim=512,  # the dimensionality of the final embedding vector\n",
    "    learning_rate=0.0008,  # the learning rate for the training process\n",
    "    dropout=0.4,  # the dropout rate\n",
    "    num_epoch=100,  # the number of epochs for training\n",
    "    batch_size=100,\n",
    ")  # the size of training batch of input data"
   ]
  },
  {
   "cell_type": "markdown",
   "id": "900ca916-d294-4a8c-b356-7d9c903f89b5",
   "metadata": {},
   "source": [
    "### Ranking policy training dataset"
   ]
  },
  {
   "cell_type": "code",
   "execution_count": 13,
   "id": "73f0fbbe-14d2-4e89-a106-5c4fd1a46de6",
   "metadata": {},
   "outputs": [
    {
     "name": "stderr",
     "output_type": "stream",
     "text": [
      "Number of reactions processed: 1019304 [3:15:45]\n"
     ]
    },
    {
     "name": "stdout",
     "output_type": "stream",
     "text": [
      "Training set size: 616953, validation set size: 154239\n"
     ]
    }
   ],
   "source": [
    "datamodule = create_policy_dataset(\n",
    "    dataset_type=\"ranking\",\n",
    "    reaction_rules_path=reaction_rules_path,\n",
    "    molecules_or_reactions_path=filtered_data_path,\n",
    "    output_path=ranking_policy_dataset_path,\n",
    "    batch_size=training_config.batch_size,\n",
    "    num_cpus=4,\n",
    ")"
   ]
  },
  {
   "cell_type": "markdown",
   "id": "f939e33f-3c32-429a-aa93-c1ae9cf14696",
   "metadata": {},
   "source": [
    "### Running ranking policy training"
   ]
  },
  {
   "cell_type": "code",
   "execution_count": 14,
   "id": "a3203d41-1ac6-4bba-a6ce-420ec7444b2a",
   "metadata": {},
   "outputs": [
    {
     "name": "stderr",
     "output_type": "stream",
     "text": [
      "GPU available: True (cuda), used: True\n",
      "TPU available: False, using: 0 TPU cores\n",
      "HPU available: False, using: 0 HPUs\n",
      "LOCAL_RANK: 0 - CUDA_VISIBLE_DEVICES: [0]\n",
      "\n",
      "  | Name        | Type           | Params | Mode \n",
      "-------------------------------------------------------\n",
      "0 | embedder    | GraphEmbedding | 1.3 M  | train\n",
      "1 | y_predictor | Linear         | 17.9 M | train\n",
      "-------------------------------------------------------\n",
      "19.2 M    Trainable params\n",
      "0         Non-trainable params\n",
      "19.2 M    Total params\n",
      "76.936    Total estimated model params size (MB)\n"
     ]
    },
    {
     "name": "stdout",
     "output_type": "stream",
     "text": [
      "Weight decoupling enabled in AdaBelief\n",
      "Rectification enabled in AdaBelief\n"
     ]
    },
    {
     "data": {
      "application/vnd.jupyter.widget-view+json": {
       "model_id": "",
       "version_major": 2,
       "version_minor": 0
      },
      "text/plain": [
       "Sanity Checking: |      | 0/? [00:00<?, ?it/s]"
      ]
     },
     "metadata": {},
     "output_type": "display_data"
    },
    {
     "data": {
      "application/vnd.jupyter.widget-view+json": {
       "model_id": "eb41c59b73ff4f2e9704a3a6c2722bbb",
       "version_major": 2,
       "version_minor": 0
      },
      "text/plain": [
       "Training: |             | 0/? [00:00<?, ?it/s]"
      ]
     },
     "metadata": {},
     "output_type": "display_data"
    },
    {
     "data": {
      "application/vnd.jupyter.widget-view+json": {
       "model_id": "",
       "version_major": 2,
       "version_minor": 0
      },
      "text/plain": [
       "Validation: |           | 0/? [00:00<?, ?it/s]"
      ]
     },
     "metadata": {},
     "output_type": "display_data"
    },
    {
     "data": {
      "application/vnd.jupyter.widget-view+json": {
       "model_id": "",
       "version_major": 2,
       "version_minor": 0
      },
      "text/plain": [
       "Validation: |           | 0/? [00:00<?, ?it/s]"
      ]
     },
     "metadata": {},
     "output_type": "display_data"
    },
    {
     "data": {
      "application/vnd.jupyter.widget-view+json": {
       "model_id": "",
       "version_major": 2,
       "version_minor": 0
      },
      "text/plain": [
       "Validation: |           | 0/? [00:00<?, ?it/s]"
      ]
     },
     "metadata": {},
     "output_type": "display_data"
    },
    {
     "data": {
      "application/vnd.jupyter.widget-view+json": {
       "model_id": "",
       "version_major": 2,
       "version_minor": 0
      },
      "text/plain": [
       "Validation: |           | 0/? [00:00<?, ?it/s]"
      ]
     },
     "metadata": {},
     "output_type": "display_data"
    },
    {
     "data": {
      "application/vnd.jupyter.widget-view+json": {
       "model_id": "",
       "version_major": 2,
       "version_minor": 0
      },
      "text/plain": [
       "Validation: |           | 0/? [00:00<?, ?it/s]"
      ]
     },
     "metadata": {},
     "output_type": "display_data"
    },
    {
     "data": {
      "application/vnd.jupyter.widget-view+json": {
       "model_id": "",
       "version_major": 2,
       "version_minor": 0
      },
      "text/plain": [
       "Validation: |           | 0/? [00:00<?, ?it/s]"
      ]
     },
     "metadata": {},
     "output_type": "display_data"
    },
    {
     "data": {
      "application/vnd.jupyter.widget-view+json": {
       "model_id": "",
       "version_major": 2,
       "version_minor": 0
      },
      "text/plain": [
       "Validation: |           | 0/? [00:00<?, ?it/s]"
      ]
     },
     "metadata": {},
     "output_type": "display_data"
    },
    {
     "data": {
      "application/vnd.jupyter.widget-view+json": {
       "model_id": "",
       "version_major": 2,
       "version_minor": 0
      },
      "text/plain": [
       "Validation: |           | 0/? [00:00<?, ?it/s]"
      ]
     },
     "metadata": {},
     "output_type": "display_data"
    },
    {
     "data": {
      "application/vnd.jupyter.widget-view+json": {
       "model_id": "",
       "version_major": 2,
       "version_minor": 0
      },
      "text/plain": [
       "Validation: |           | 0/? [00:00<?, ?it/s]"
      ]
     },
     "metadata": {},
     "output_type": "display_data"
    },
    {
     "data": {
      "application/vnd.jupyter.widget-view+json": {
       "model_id": "",
       "version_major": 2,
       "version_minor": 0
      },
      "text/plain": [
       "Validation: |           | 0/? [00:00<?, ?it/s]"
      ]
     },
     "metadata": {},
     "output_type": "display_data"
    },
    {
     "data": {
      "application/vnd.jupyter.widget-view+json": {
       "model_id": "",
       "version_major": 2,
       "version_minor": 0
      },
      "text/plain": [
       "Validation: |           | 0/? [00:00<?, ?it/s]"
      ]
     },
     "metadata": {},
     "output_type": "display_data"
    },
    {
     "data": {
      "application/vnd.jupyter.widget-view+json": {
       "model_id": "",
       "version_major": 2,
       "version_minor": 0
      },
      "text/plain": [
       "Validation: |           | 0/? [00:00<?, ?it/s]"
      ]
     },
     "metadata": {},
     "output_type": "display_data"
    },
    {
     "data": {
      "application/vnd.jupyter.widget-view+json": {
       "model_id": "",
       "version_major": 2,
       "version_minor": 0
      },
      "text/plain": [
       "Validation: |           | 0/? [00:00<?, ?it/s]"
      ]
     },
     "metadata": {},
     "output_type": "display_data"
    },
    {
     "data": {
      "application/vnd.jupyter.widget-view+json": {
       "model_id": "",
       "version_major": 2,
       "version_minor": 0
      },
      "text/plain": [
       "Validation: |           | 0/? [00:00<?, ?it/s]"
      ]
     },
     "metadata": {},
     "output_type": "display_data"
    },
    {
     "data": {
      "application/vnd.jupyter.widget-view+json": {
       "model_id": "",
       "version_major": 2,
       "version_minor": 0
      },
      "text/plain": [
       "Validation: |           | 0/? [00:00<?, ?it/s]"
      ]
     },
     "metadata": {},
     "output_type": "display_data"
    },
    {
     "data": {
      "application/vnd.jupyter.widget-view+json": {
       "model_id": "",
       "version_major": 2,
       "version_minor": 0
      },
      "text/plain": [
       "Validation: |           | 0/? [00:00<?, ?it/s]"
      ]
     },
     "metadata": {},
     "output_type": "display_data"
    },
    {
     "data": {
      "application/vnd.jupyter.widget-view+json": {
       "model_id": "",
       "version_major": 2,
       "version_minor": 0
      },
      "text/plain": [
       "Validation: |           | 0/? [00:00<?, ?it/s]"
      ]
     },
     "metadata": {},
     "output_type": "display_data"
    },
    {
     "data": {
      "application/vnd.jupyter.widget-view+json": {
       "model_id": "",
       "version_major": 2,
       "version_minor": 0
      },
      "text/plain": [
       "Validation: |           | 0/? [00:00<?, ?it/s]"
      ]
     },
     "metadata": {},
     "output_type": "display_data"
    },
    {
     "data": {
      "application/vnd.jupyter.widget-view+json": {
       "model_id": "",
       "version_major": 2,
       "version_minor": 0
      },
      "text/plain": [
       "Validation: |           | 0/? [00:00<?, ?it/s]"
      ]
     },
     "metadata": {},
     "output_type": "display_data"
    },
    {
     "data": {
      "application/vnd.jupyter.widget-view+json": {
       "model_id": "",
       "version_major": 2,
       "version_minor": 0
      },
      "text/plain": [
       "Validation: |           | 0/? [00:00<?, ?it/s]"
      ]
     },
     "metadata": {},
     "output_type": "display_data"
    },
    {
     "data": {
      "application/vnd.jupyter.widget-view+json": {
       "model_id": "",
       "version_major": 2,
       "version_minor": 0
      },
      "text/plain": [
       "Validation: |           | 0/? [00:00<?, ?it/s]"
      ]
     },
     "metadata": {},
     "output_type": "display_data"
    },
    {
     "data": {
      "application/vnd.jupyter.widget-view+json": {
       "model_id": "",
       "version_major": 2,
       "version_minor": 0
      },
      "text/plain": [
       "Validation: |           | 0/? [00:00<?, ?it/s]"
      ]
     },
     "metadata": {},
     "output_type": "display_data"
    },
    {
     "data": {
      "application/vnd.jupyter.widget-view+json": {
       "model_id": "",
       "version_major": 2,
       "version_minor": 0
      },
      "text/plain": [
       "Validation: |           | 0/? [00:00<?, ?it/s]"
      ]
     },
     "metadata": {},
     "output_type": "display_data"
    },
    {
     "data": {
      "application/vnd.jupyter.widget-view+json": {
       "model_id": "",
       "version_major": 2,
       "version_minor": 0
      },
      "text/plain": [
       "Validation: |           | 0/? [00:00<?, ?it/s]"
      ]
     },
     "metadata": {},
     "output_type": "display_data"
    },
    {
     "data": {
      "application/vnd.jupyter.widget-view+json": {
       "model_id": "",
       "version_major": 2,
       "version_minor": 0
      },
      "text/plain": [
       "Validation: |           | 0/? [00:00<?, ?it/s]"
      ]
     },
     "metadata": {},
     "output_type": "display_data"
    },
    {
     "data": {
      "application/vnd.jupyter.widget-view+json": {
       "model_id": "",
       "version_major": 2,
       "version_minor": 0
      },
      "text/plain": [
       "Validation: |           | 0/? [00:00<?, ?it/s]"
      ]
     },
     "metadata": {},
     "output_type": "display_data"
    },
    {
     "data": {
      "application/vnd.jupyter.widget-view+json": {
       "model_id": "",
       "version_major": 2,
       "version_minor": 0
      },
      "text/plain": [
       "Validation: |           | 0/? [00:00<?, ?it/s]"
      ]
     },
     "metadata": {},
     "output_type": "display_data"
    },
    {
     "data": {
      "application/vnd.jupyter.widget-view+json": {
       "model_id": "",
       "version_major": 2,
       "version_minor": 0
      },
      "text/plain": [
       "Validation: |           | 0/? [00:00<?, ?it/s]"
      ]
     },
     "metadata": {},
     "output_type": "display_data"
    },
    {
     "data": {
      "application/vnd.jupyter.widget-view+json": {
       "model_id": "",
       "version_major": 2,
       "version_minor": 0
      },
      "text/plain": [
       "Validation: |           | 0/? [00:00<?, ?it/s]"
      ]
     },
     "metadata": {},
     "output_type": "display_data"
    },
    {
     "data": {
      "application/vnd.jupyter.widget-view+json": {
       "model_id": "",
       "version_major": 2,
       "version_minor": 0
      },
      "text/plain": [
       "Validation: |           | 0/? [00:00<?, ?it/s]"
      ]
     },
     "metadata": {},
     "output_type": "display_data"
    },
    {
     "data": {
      "application/vnd.jupyter.widget-view+json": {
       "model_id": "",
       "version_major": 2,
       "version_minor": 0
      },
      "text/plain": [
       "Validation: |           | 0/? [00:00<?, ?it/s]"
      ]
     },
     "metadata": {},
     "output_type": "display_data"
    },
    {
     "data": {
      "application/vnd.jupyter.widget-view+json": {
       "model_id": "",
       "version_major": 2,
       "version_minor": 0
      },
      "text/plain": [
       "Validation: |           | 0/? [00:00<?, ?it/s]"
      ]
     },
     "metadata": {},
     "output_type": "display_data"
    },
    {
     "data": {
      "application/vnd.jupyter.widget-view+json": {
       "model_id": "",
       "version_major": 2,
       "version_minor": 0
      },
      "text/plain": [
       "Validation: |           | 0/? [00:00<?, ?it/s]"
      ]
     },
     "metadata": {},
     "output_type": "display_data"
    },
    {
     "data": {
      "application/vnd.jupyter.widget-view+json": {
       "model_id": "",
       "version_major": 2,
       "version_minor": 0
      },
      "text/plain": [
       "Validation: |           | 0/? [00:00<?, ?it/s]"
      ]
     },
     "metadata": {},
     "output_type": "display_data"
    },
    {
     "data": {
      "application/vnd.jupyter.widget-view+json": {
       "model_id": "",
       "version_major": 2,
       "version_minor": 0
      },
      "text/plain": [
       "Validation: |           | 0/? [00:00<?, ?it/s]"
      ]
     },
     "metadata": {},
     "output_type": "display_data"
    },
    {
     "data": {
      "application/vnd.jupyter.widget-view+json": {
       "model_id": "",
       "version_major": 2,
       "version_minor": 0
      },
      "text/plain": [
       "Validation: |           | 0/? [00:00<?, ?it/s]"
      ]
     },
     "metadata": {},
     "output_type": "display_data"
    },
    {
     "data": {
      "application/vnd.jupyter.widget-view+json": {
       "model_id": "",
       "version_major": 2,
       "version_minor": 0
      },
      "text/plain": [
       "Validation: |           | 0/? [00:00<?, ?it/s]"
      ]
     },
     "metadata": {},
     "output_type": "display_data"
    },
    {
     "data": {
      "application/vnd.jupyter.widget-view+json": {
       "model_id": "",
       "version_major": 2,
       "version_minor": 0
      },
      "text/plain": [
       "Validation: |           | 0/? [00:00<?, ?it/s]"
      ]
     },
     "metadata": {},
     "output_type": "display_data"
    },
    {
     "data": {
      "application/vnd.jupyter.widget-view+json": {
       "model_id": "",
       "version_major": 2,
       "version_minor": 0
      },
      "text/plain": [
       "Validation: |           | 0/? [00:00<?, ?it/s]"
      ]
     },
     "metadata": {},
     "output_type": "display_data"
    },
    {
     "data": {
      "application/vnd.jupyter.widget-view+json": {
       "model_id": "",
       "version_major": 2,
       "version_minor": 0
      },
      "text/plain": [
       "Validation: |           | 0/? [00:00<?, ?it/s]"
      ]
     },
     "metadata": {},
     "output_type": "display_data"
    },
    {
     "data": {
      "application/vnd.jupyter.widget-view+json": {
       "model_id": "",
       "version_major": 2,
       "version_minor": 0
      },
      "text/plain": [
       "Validation: |           | 0/? [00:00<?, ?it/s]"
      ]
     },
     "metadata": {},
     "output_type": "display_data"
    },
    {
     "data": {
      "application/vnd.jupyter.widget-view+json": {
       "model_id": "",
       "version_major": 2,
       "version_minor": 0
      },
      "text/plain": [
       "Validation: |           | 0/? [00:00<?, ?it/s]"
      ]
     },
     "metadata": {},
     "output_type": "display_data"
    },
    {
     "data": {
      "application/vnd.jupyter.widget-view+json": {
       "model_id": "",
       "version_major": 2,
       "version_minor": 0
      },
      "text/plain": [
       "Validation: |           | 0/? [00:00<?, ?it/s]"
      ]
     },
     "metadata": {},
     "output_type": "display_data"
    },
    {
     "data": {
      "application/vnd.jupyter.widget-view+json": {
       "model_id": "",
       "version_major": 2,
       "version_minor": 0
      },
      "text/plain": [
       "Validation: |           | 0/? [00:00<?, ?it/s]"
      ]
     },
     "metadata": {},
     "output_type": "display_data"
    },
    {
     "data": {
      "application/vnd.jupyter.widget-view+json": {
       "model_id": "",
       "version_major": 2,
       "version_minor": 0
      },
      "text/plain": [
       "Validation: |           | 0/? [00:00<?, ?it/s]"
      ]
     },
     "metadata": {},
     "output_type": "display_data"
    },
    {
     "data": {
      "application/vnd.jupyter.widget-view+json": {
       "model_id": "",
       "version_major": 2,
       "version_minor": 0
      },
      "text/plain": [
       "Validation: |           | 0/? [00:00<?, ?it/s]"
      ]
     },
     "metadata": {},
     "output_type": "display_data"
    },
    {
     "data": {
      "application/vnd.jupyter.widget-view+json": {
       "model_id": "23e1c16f788244bf853611e4e7497e5e",
       "version_major": 2,
       "version_minor": 0
      },
      "text/plain": [
       "Validation: |           | 0/? [00:00<?, ?it/s]"
      ]
     },
     "metadata": {},
     "output_type": "display_data"
    },
    {
     "data": {
      "application/vnd.jupyter.widget-view+json": {
       "model_id": "900537e15a2e4bd69952c8afec235a0d",
       "version_major": 2,
       "version_minor": 0
      },
      "text/plain": [
       "Validation: |           | 0/? [00:00<?, ?it/s]"
      ]
     },
     "metadata": {},
     "output_type": "display_data"
    },
    {
     "data": {
      "application/vnd.jupyter.widget-view+json": {
       "model_id": "c429d7c9315b4115889559007dc47d66",
       "version_major": 2,
       "version_minor": 0
      },
      "text/plain": [
       "Validation: |           | 0/? [00:00<?, ?it/s]"
      ]
     },
     "metadata": {},
     "output_type": "display_data"
    },
    {
     "data": {
      "application/vnd.jupyter.widget-view+json": {
       "model_id": "ab7186cc97aa4752a6ae90d2d0094936",
       "version_major": 2,
       "version_minor": 0
      },
      "text/plain": [
       "Validation: |           | 0/? [00:00<?, ?it/s]"
      ]
     },
     "metadata": {},
     "output_type": "display_data"
    },
    {
     "data": {
      "application/vnd.jupyter.widget-view+json": {
       "model_id": "289d9822ceed4dcaaf6c5e4981c74895",
       "version_major": 2,
       "version_minor": 0
      },
      "text/plain": [
       "Validation: |           | 0/? [00:00<?, ?it/s]"
      ]
     },
     "metadata": {},
     "output_type": "display_data"
    },
    {
     "data": {
      "application/vnd.jupyter.widget-view+json": {
       "model_id": "d832fbe3211f475d88a2879726a64ed4",
       "version_major": 2,
       "version_minor": 0
      },
      "text/plain": [
       "Validation: |           | 0/? [00:00<?, ?it/s]"
      ]
     },
     "metadata": {},
     "output_type": "display_data"
    },
    {
     "data": {
      "application/vnd.jupyter.widget-view+json": {
       "model_id": "2008eefbdbad45c99b14c59217101ab4",
       "version_major": 2,
       "version_minor": 0
      },
      "text/plain": [
       "Validation: |           | 0/? [00:00<?, ?it/s]"
      ]
     },
     "metadata": {},
     "output_type": "display_data"
    },
    {
     "data": {
      "application/vnd.jupyter.widget-view+json": {
       "model_id": "e39c64c85b0a478f8d730e70f649a6f6",
       "version_major": 2,
       "version_minor": 0
      },
      "text/plain": [
       "Validation: |           | 0/? [00:00<?, ?it/s]"
      ]
     },
     "metadata": {},
     "output_type": "display_data"
    },
    {
     "data": {
      "application/vnd.jupyter.widget-view+json": {
       "model_id": "cf01bfb911644c198496291ae42cc791",
       "version_major": 2,
       "version_minor": 0
      },
      "text/plain": [
       "Validation: |           | 0/? [00:00<?, ?it/s]"
      ]
     },
     "metadata": {},
     "output_type": "display_data"
    },
    {
     "data": {
      "application/vnd.jupyter.widget-view+json": {
       "model_id": "1da22ece59b34e69bdb3935bcf543475",
       "version_major": 2,
       "version_minor": 0
      },
      "text/plain": [
       "Validation: |           | 0/? [00:00<?, ?it/s]"
      ]
     },
     "metadata": {},
     "output_type": "display_data"
    },
    {
     "data": {
      "application/vnd.jupyter.widget-view+json": {
       "model_id": "fa6b45320b9b4cd6a98c4212991b9315",
       "version_major": 2,
       "version_minor": 0
      },
      "text/plain": [
       "Validation: |           | 0/? [00:00<?, ?it/s]"
      ]
     },
     "metadata": {},
     "output_type": "display_data"
    },
    {
     "data": {
      "application/vnd.jupyter.widget-view+json": {
       "model_id": "00fd6e41765846f39fdc9ecdf8d9a81d",
       "version_major": 2,
       "version_minor": 0
      },
      "text/plain": [
       "Validation: |           | 0/? [00:00<?, ?it/s]"
      ]
     },
     "metadata": {},
     "output_type": "display_data"
    },
    {
     "data": {
      "application/vnd.jupyter.widget-view+json": {
       "model_id": "d981bc97d1be49caa6df6ee4fdf1a663",
       "version_major": 2,
       "version_minor": 0
      },
      "text/plain": [
       "Validation: |           | 0/? [00:00<?, ?it/s]"
      ]
     },
     "metadata": {},
     "output_type": "display_data"
    },
    {
     "data": {
      "application/vnd.jupyter.widget-view+json": {
       "model_id": "4d4dc4e2a66144a6b445653b8963eb86",
       "version_major": 2,
       "version_minor": 0
      },
      "text/plain": [
       "Validation: |           | 0/? [00:00<?, ?it/s]"
      ]
     },
     "metadata": {},
     "output_type": "display_data"
    },
    {
     "data": {
      "application/vnd.jupyter.widget-view+json": {
       "model_id": "b8d06898fa914fc8a8824e40cc0f04c7",
       "version_major": 2,
       "version_minor": 0
      },
      "text/plain": [
       "Validation: |           | 0/? [00:00<?, ?it/s]"
      ]
     },
     "metadata": {},
     "output_type": "display_data"
    },
    {
     "data": {
      "application/vnd.jupyter.widget-view+json": {
       "model_id": "56fa9638fa4d435c840b7a7c6a979e9b",
       "version_major": 2,
       "version_minor": 0
      },
      "text/plain": [
       "Validation: |           | 0/? [00:00<?, ?it/s]"
      ]
     },
     "metadata": {},
     "output_type": "display_data"
    },
    {
     "data": {
      "application/vnd.jupyter.widget-view+json": {
       "model_id": "f8c91a112e7f4ae78acd8b1e476187f3",
       "version_major": 2,
       "version_minor": 0
      },
      "text/plain": [
       "Validation: |           | 0/? [00:00<?, ?it/s]"
      ]
     },
     "metadata": {},
     "output_type": "display_data"
    },
    {
     "data": {
      "application/vnd.jupyter.widget-view+json": {
       "model_id": "c479f1a600cd4e25a4de64ff807373f9",
       "version_major": 2,
       "version_minor": 0
      },
      "text/plain": [
       "Validation: |           | 0/? [00:00<?, ?it/s]"
      ]
     },
     "metadata": {},
     "output_type": "display_data"
    },
    {
     "data": {
      "application/vnd.jupyter.widget-view+json": {
       "model_id": "41389ef85b4e438ba68abef186d31c0e",
       "version_major": 2,
       "version_minor": 0
      },
      "text/plain": [
       "Validation: |           | 0/? [00:00<?, ?it/s]"
      ]
     },
     "metadata": {},
     "output_type": "display_data"
    },
    {
     "data": {
      "application/vnd.jupyter.widget-view+json": {
       "model_id": "5a48c007fdc8477e81af4692f2828a84",
       "version_major": 2,
       "version_minor": 0
      },
      "text/plain": [
       "Validation: |           | 0/? [00:00<?, ?it/s]"
      ]
     },
     "metadata": {},
     "output_type": "display_data"
    },
    {
     "data": {
      "application/vnd.jupyter.widget-view+json": {
       "model_id": "79c8b39e767b4eb4bf284741e49a759d",
       "version_major": 2,
       "version_minor": 0
      },
      "text/plain": [
       "Validation: |           | 0/? [00:00<?, ?it/s]"
      ]
     },
     "metadata": {},
     "output_type": "display_data"
    },
    {
     "data": {
      "application/vnd.jupyter.widget-view+json": {
       "model_id": "f5e2841ed07f448896bea1f29f362590",
       "version_major": 2,
       "version_minor": 0
      },
      "text/plain": [
       "Validation: |           | 0/? [00:00<?, ?it/s]"
      ]
     },
     "metadata": {},
     "output_type": "display_data"
    },
    {
     "data": {
      "application/vnd.jupyter.widget-view+json": {
       "model_id": "b86026c09e784491aedb14a2bb802200",
       "version_major": 2,
       "version_minor": 0
      },
      "text/plain": [
       "Validation: |           | 0/? [00:00<?, ?it/s]"
      ]
     },
     "metadata": {},
     "output_type": "display_data"
    },
    {
     "data": {
      "application/vnd.jupyter.widget-view+json": {
       "model_id": "cac63df71cef44a487e99611573ddf81",
       "version_major": 2,
       "version_minor": 0
      },
      "text/plain": [
       "Validation: |           | 0/? [00:00<?, ?it/s]"
      ]
     },
     "metadata": {},
     "output_type": "display_data"
    },
    {
     "data": {
      "application/vnd.jupyter.widget-view+json": {
       "model_id": "5d0323b73c6c41c584b806011f2c3487",
       "version_major": 2,
       "version_minor": 0
      },
      "text/plain": [
       "Validation: |           | 0/? [00:00<?, ?it/s]"
      ]
     },
     "metadata": {},
     "output_type": "display_data"
    },
    {
     "data": {
      "application/vnd.jupyter.widget-view+json": {
       "model_id": "a0f2b53473484f359f9865213d0beccb",
       "version_major": 2,
       "version_minor": 0
      },
      "text/plain": [
       "Validation: |           | 0/? [00:00<?, ?it/s]"
      ]
     },
     "metadata": {},
     "output_type": "display_data"
    },
    {
     "data": {
      "application/vnd.jupyter.widget-view+json": {
       "model_id": "1bb0747f19b846479f2112b4980fd461",
       "version_major": 2,
       "version_minor": 0
      },
      "text/plain": [
       "Validation: |           | 0/? [00:00<?, ?it/s]"
      ]
     },
     "metadata": {},
     "output_type": "display_data"
    },
    {
     "data": {
      "application/vnd.jupyter.widget-view+json": {
       "model_id": "794d99f08c944d2996f52ebde2ed7c78",
       "version_major": 2,
       "version_minor": 0
      },
      "text/plain": [
       "Validation: |           | 0/? [00:00<?, ?it/s]"
      ]
     },
     "metadata": {},
     "output_type": "display_data"
    },
    {
     "data": {
      "application/vnd.jupyter.widget-view+json": {
       "model_id": "a213dbd672f4484cbf49b9df94e03810",
       "version_major": 2,
       "version_minor": 0
      },
      "text/plain": [
       "Validation: |           | 0/? [00:00<?, ?it/s]"
      ]
     },
     "metadata": {},
     "output_type": "display_data"
    },
    {
     "data": {
      "application/vnd.jupyter.widget-view+json": {
       "model_id": "c226e71643404b3a83450c321259d86b",
       "version_major": 2,
       "version_minor": 0
      },
      "text/plain": [
       "Validation: |           | 0/? [00:00<?, ?it/s]"
      ]
     },
     "metadata": {},
     "output_type": "display_data"
    },
    {
     "data": {
      "application/vnd.jupyter.widget-view+json": {
       "model_id": "96d8cf0533dc47d6a6fc8c0e5679e776",
       "version_major": 2,
       "version_minor": 0
      },
      "text/plain": [
       "Validation: |           | 0/? [00:00<?, ?it/s]"
      ]
     },
     "metadata": {},
     "output_type": "display_data"
    },
    {
     "data": {
      "application/vnd.jupyter.widget-view+json": {
       "model_id": "38b04e804bbe4124b2eb198c6f6c9937",
       "version_major": 2,
       "version_minor": 0
      },
      "text/plain": [
       "Validation: |           | 0/? [00:00<?, ?it/s]"
      ]
     },
     "metadata": {},
     "output_type": "display_data"
    },
    {
     "data": {
      "application/vnd.jupyter.widget-view+json": {
       "model_id": "c6355436de4b460db3c3ccd33f8f3451",
       "version_major": 2,
       "version_minor": 0
      },
      "text/plain": [
       "Validation: |           | 0/? [00:00<?, ?it/s]"
      ]
     },
     "metadata": {},
     "output_type": "display_data"
    },
    {
     "data": {
      "application/vnd.jupyter.widget-view+json": {
       "model_id": "8589722afa46427787f20155cd4822e4",
       "version_major": 2,
       "version_minor": 0
      },
      "text/plain": [
       "Validation: |           | 0/? [00:00<?, ?it/s]"
      ]
     },
     "metadata": {},
     "output_type": "display_data"
    },
    {
     "data": {
      "application/vnd.jupyter.widget-view+json": {
       "model_id": "73e88a1332234cbc9d3ed9a814ab97c5",
       "version_major": 2,
       "version_minor": 0
      },
      "text/plain": [
       "Validation: |           | 0/? [00:00<?, ?it/s]"
      ]
     },
     "metadata": {},
     "output_type": "display_data"
    },
    {
     "data": {
      "application/vnd.jupyter.widget-view+json": {
       "model_id": "0b413a2c5e3b4a77a040634bc3d59ded",
       "version_major": 2,
       "version_minor": 0
      },
      "text/plain": [
       "Validation: |           | 0/? [00:00<?, ?it/s]"
      ]
     },
     "metadata": {},
     "output_type": "display_data"
    },
    {
     "data": {
      "application/vnd.jupyter.widget-view+json": {
       "model_id": "6035e371b01c47a68981fe5d7371b09f",
       "version_major": 2,
       "version_minor": 0
      },
      "text/plain": [
       "Validation: |           | 0/? [00:00<?, ?it/s]"
      ]
     },
     "metadata": {},
     "output_type": "display_data"
    },
    {
     "data": {
      "application/vnd.jupyter.widget-view+json": {
       "model_id": "bb6378adb48748bf9df591c9970e3efe",
       "version_major": 2,
       "version_minor": 0
      },
      "text/plain": [
       "Validation: |           | 0/? [00:00<?, ?it/s]"
      ]
     },
     "metadata": {},
     "output_type": "display_data"
    },
    {
     "data": {
      "application/vnd.jupyter.widget-view+json": {
       "model_id": "3cc8b4755e0c487686c173a34b31bb86",
       "version_major": 2,
       "version_minor": 0
      },
      "text/plain": [
       "Validation: |           | 0/? [00:00<?, ?it/s]"
      ]
     },
     "metadata": {},
     "output_type": "display_data"
    },
    {
     "data": {
      "application/vnd.jupyter.widget-view+json": {
       "model_id": "5831e52f70c642c5ba0446a17d39b1b4",
       "version_major": 2,
       "version_minor": 0
      },
      "text/plain": [
       "Validation: |           | 0/? [00:00<?, ?it/s]"
      ]
     },
     "metadata": {},
     "output_type": "display_data"
    },
    {
     "data": {
      "application/vnd.jupyter.widget-view+json": {
       "model_id": "649df5a55ce34ede97a39c19f1367c72",
       "version_major": 2,
       "version_minor": 0
      },
      "text/plain": [
       "Validation: |           | 0/? [00:00<?, ?it/s]"
      ]
     },
     "metadata": {},
     "output_type": "display_data"
    },
    {
     "data": {
      "application/vnd.jupyter.widget-view+json": {
       "model_id": "99500f50710a4b02b36c68f0b7a57cb6",
       "version_major": 2,
       "version_minor": 0
      },
      "text/plain": [
       "Validation: |           | 0/? [00:00<?, ?it/s]"
      ]
     },
     "metadata": {},
     "output_type": "display_data"
    },
    {
     "data": {
      "application/vnd.jupyter.widget-view+json": {
       "model_id": "2b76c4a0fc8b44cc8e0817756a6aa124",
       "version_major": 2,
       "version_minor": 0
      },
      "text/plain": [
       "Validation: |           | 0/? [00:00<?, ?it/s]"
      ]
     },
     "metadata": {},
     "output_type": "display_data"
    },
    {
     "data": {
      "application/vnd.jupyter.widget-view+json": {
       "model_id": "2dcf9a12bf2f4a9db7c00a38435ac351",
       "version_major": 2,
       "version_minor": 0
      },
      "text/plain": [
       "Validation: |           | 0/? [00:00<?, ?it/s]"
      ]
     },
     "metadata": {},
     "output_type": "display_data"
    },
    {
     "data": {
      "application/vnd.jupyter.widget-view+json": {
       "model_id": "4c6760ef2be046199b82fea21f732830",
       "version_major": 2,
       "version_minor": 0
      },
      "text/plain": [
       "Validation: |           | 0/? [00:00<?, ?it/s]"
      ]
     },
     "metadata": {},
     "output_type": "display_data"
    },
    {
     "data": {
      "application/vnd.jupyter.widget-view+json": {
       "model_id": "dcb27e57b5a54802b63ca519b1d8903b",
       "version_major": 2,
       "version_minor": 0
      },
      "text/plain": [
       "Validation: |           | 0/? [00:00<?, ?it/s]"
      ]
     },
     "metadata": {},
     "output_type": "display_data"
    },
    {
     "data": {
      "application/vnd.jupyter.widget-view+json": {
       "model_id": "d3bb133bb86345848eef4d5e7e6b42de",
       "version_major": 2,
       "version_minor": 0
      },
      "text/plain": [
       "Validation: |           | 0/? [00:00<?, ?it/s]"
      ]
     },
     "metadata": {},
     "output_type": "display_data"
    },
    {
     "data": {
      "application/vnd.jupyter.widget-view+json": {
       "model_id": "3bd2ed65c69f4a8f97902786f1f63ca6",
       "version_major": 2,
       "version_minor": 0
      },
      "text/plain": [
       "Validation: |           | 0/? [00:00<?, ?it/s]"
      ]
     },
     "metadata": {},
     "output_type": "display_data"
    },
    {
     "data": {
      "application/vnd.jupyter.widget-view+json": {
       "model_id": "a953511eecc04fe0b4d66d3c2ff39c74",
       "version_major": 2,
       "version_minor": 0
      },
      "text/plain": [
       "Validation: |           | 0/? [00:00<?, ?it/s]"
      ]
     },
     "metadata": {},
     "output_type": "display_data"
    },
    {
     "data": {
      "application/vnd.jupyter.widget-view+json": {
       "model_id": "6309dfc0a70e45109f9723b61aa2bddf",
       "version_major": 2,
       "version_minor": 0
      },
      "text/plain": [
       "Validation: |           | 0/? [00:00<?, ?it/s]"
      ]
     },
     "metadata": {},
     "output_type": "display_data"
    },
    {
     "data": {
      "application/vnd.jupyter.widget-view+json": {
       "model_id": "b97a8d59e3a5450eb8de1a46ab7a6e4d",
       "version_major": 2,
       "version_minor": 0
      },
      "text/plain": [
       "Validation: |           | 0/? [00:00<?, ?it/s]"
      ]
     },
     "metadata": {},
     "output_type": "display_data"
    },
    {
     "data": {
      "application/vnd.jupyter.widget-view+json": {
       "model_id": "dd2503e115a84f13bc887b345dbf65ec",
       "version_major": 2,
       "version_minor": 0
      },
      "text/plain": [
       "Validation: |           | 0/? [00:00<?, ?it/s]"
      ]
     },
     "metadata": {},
     "output_type": "display_data"
    },
    {
     "data": {
      "application/vnd.jupyter.widget-view+json": {
       "model_id": "7eaa171fff144dcabb925e582c62885c",
       "version_major": 2,
       "version_minor": 0
      },
      "text/plain": [
       "Validation: |           | 0/? [00:00<?, ?it/s]"
      ]
     },
     "metadata": {},
     "output_type": "display_data"
    },
    {
     "data": {
      "application/vnd.jupyter.widget-view+json": {
       "model_id": "91e1af7269754ae5ad2749c620beee58",
       "version_major": 2,
       "version_minor": 0
      },
      "text/plain": [
       "Validation: |           | 0/? [00:00<?, ?it/s]"
      ]
     },
     "metadata": {},
     "output_type": "display_data"
    },
    {
     "name": "stderr",
     "output_type": "stream",
     "text": [
      "`Trainer.fit` stopped: `max_epochs=100` reached.\n"
     ]
    },
    {
     "name": "stdout",
     "output_type": "stream",
     "text": [
      "Policy network balanced accuracy: 0.875\n"
     ]
    }
   ],
   "source": [
    "run_policy_training(\n",
    "    datamodule,  # the prepared data module for training\n",
    "    config=training_config,  # the training configuration\n",
    "    results_path=ranking_policy_network_folder,\n",
    ")  # path to save the training results"
   ]
  },
  {
   "cell_type": "markdown",
   "id": "2f7a35be-8fec-4542-be66-a539170b4e55",
   "metadata": {},
   "source": [
    "## 6. Tree search with the ranking policy network and rollout evaluation"
   ]
  },
  {
   "cell_type": "code",
   "execution_count": 15,
   "id": "5d8c97cd-0e70-47a8-9fc1-7f0dc8351c5f",
   "metadata": {},
   "outputs": [],
   "source": [
    "from CGRtools import smiles\n",
    "\n",
    "from IPython.display import SVG, display\n",
    "\n",
    "from synplan.utils.visualisation import get_route_svg\n",
    "from synplan.mcts.tree import Tree\n",
    "from synplan.mcts.expansion import PolicyNetworkFunction\n",
    "from synplan.utils.config import TreeConfig\n",
    "from synplan.utils.loading import load_reaction_rules, load_building_blocks"
   ]
  },
  {
   "cell_type": "markdown",
   "id": "23718d32-74d7-4aca-bdbb-9b47f780e75d",
   "metadata": {},
   "source": [
    "### MCTS configuration"
   ]
  },
  {
   "cell_type": "code",
   "execution_count": 16,
   "id": "17f18c3b-1889-4e7f-bbbf-fc8b51f5f469",
   "metadata": {},
   "outputs": [],
   "source": [
    "tree_config = TreeConfig(\n",
    "    search_strategy=\"expansion_first\",\n",
    "    evaluation_type=\"rollout\",\n",
    "    max_iterations=300,\n",
    "    max_time=120,\n",
    "    max_depth=9,\n",
    "    min_mol_size=0,\n",
    "    init_node_value=0.5,\n",
    "    ucb_type=\"uct\",\n",
    "    c_ucb=0.1,\n",
    ")"
   ]
  },
  {
   "cell_type": "markdown",
   "id": "9c6aab08-22ee-4bd8-88b3-310896dc66c5",
   "metadata": {},
   "source": [
    "### Choose the target molecule"
   ]
  },
  {
   "cell_type": "code",
   "execution_count": 17,
   "id": "070630a3-489d-48c1-933a-0b05881881c6",
   "metadata": {},
   "outputs": [
    {
     "data": {
      "image/svg+xml": [
       "<svg width=\"7.22cm\" height=\"5.04cm\" viewBox=\"-4.61 -1.56 7.22 5.04\" xmlns=\"http://www.w3.org/2000/svg\" version=\"1.1\">\n",
       "  <g>\n",
       "    <defs>\n",
       "      <mask id=\"mask-ed4f0652-475c-45ef-ad45-4fc825616c4c\">\n",
       "        <rect x=\"-4.61\" y=\"-1.56\" width=\"7.22\" height=\"5.04\" fill=\"white\"/>\n",
       "        <g fill=\"black\">\n",
       "          <ellipse cx=\"-0.54\" cy=\"0.71\" rx=\"0.3\" ry=\"0.2\"/>\n",
       "          <circle cx=\"-1.13\" cy=\"0.30\" r=\"0.20\"/>\n",
       "          <circle cx=\"-3.98\" cy=\"-0.52\" r=\"0.20\"/>\n",
       "          <circle cx=\"-3.98\" cy=\"0.30\" r=\"0.20\"/>\n",
       "          <circle cx=\"-3.27\" cy=\"1.54\" r=\"0.20\"/>\n",
       "        </g>\n",
       "        <g font-family=\"monospace\" stroke=\"black\">\n",
       "          <g font-family=\"sans-serif\" font-size=\"0.50\" stroke-width=\"0.05\">\n",
       "            <text x=\"-0.41\" y=\"0.71\" dx=\"-0.35\" dy=\"0.20\">Si</text>\n",
       "            <text x=\"-1.13\" y=\"0.30\" dx=\"-0.20\" dy=\"0.20\">O</text>\n",
       "            <text x=\"-3.98\" y=\"-0.52\" dx=\"-0.20\" dy=\"0.20\">N</text>\n",
       "            <text x=\"-3.98\" y=\"0.30\" dx=\"-0.20\" dy=\"0.20\">NH</text>\n",
       "            <text x=\"-3.27\" y=\"1.54\" dx=\"-0.20\" dy=\"0.20\">O</text>\n",
       "          </g>\n",
       "        </g>\n",
       "      </mask>\n",
       "    </defs>\n",
       "    <g fill=\"none\" stroke=\"black\" stroke-width=\"0.04\"  mask=\"url(#mask-ed4f0652-475c-45ef-ad45-4fc825616c4c)\">\n",
       "      <line x1=\"0.41\" y1=\"-0.71\" x2=\"0.00\" y2=\"-0.00\"/>\n",
       "      <line x1=\"0.00\" y1=\"-0.00\" x2=\"0.81\" y2=\"0.14\"/>\n",
       "      <line x1=\"0.00\" y1=\"-0.00\" x2=\"-0.71\" y2=\"-0.41\"/>\n",
       "      <line x1=\"0.00\" y1=\"-0.00\" x2=\"-0.41\" y2=\"0.71\"/>\n",
       "      <line x1=\"-0.41\" y1=\"0.71\" x2=\"-1.13\" y2=\"0.30\"/>\n",
       "      <line x1=\"-0.41\" y1=\"0.71\" x2=\"0.30\" y2=\"1.13\"/>\n",
       "      <line x1=\"-0.41\" y1=\"0.71\" x2=\"-0.82\" y2=\"1.43\"/>\n",
       "      <line x1=\"-1.13\" y1=\"0.30\" x2=\"-1.84\" y2=\"0.71\"/>\n",
       "      <line x1=\"-1.84\" y1=\"0.71\" x2=\"-2.56\" y2=\"0.30\"/>\n",
       "      <line x1=\"-2.62\" y1=\"0.30\" x2=\"-2.62\" y2=\"-0.52\"/>\n",
       "      <line x1=\"-2.50\" y1=\"0.30\" x2=\"-2.50\" y2=\"-0.52\"/>\n",
       "      <line x1=\"-2.56\" y1=\"0.30\" x2=\"-3.27\" y2=\"0.71\"/>\n",
       "      <line x1=\"-2.56\" y1=\"-0.52\" x2=\"-3.27\" y2=\"-0.94\"/>\n",
       "      <line x1=\"-3.24\" y1=\"-0.88\" x2=\"-3.95\" y2=\"-0.47\"/>\n",
       "      <line x1=\"-3.30\" y1=\"-0.99\" x2=\"-4.01\" y2=\"-0.57\"/>\n",
       "      <line x1=\"-3.98\" y1=\"-0.52\" x2=\"-3.98\" y2=\"0.30\"/>\n",
       "      <line x1=\"-3.98\" y1=\"0.30\" x2=\"-3.27\" y2=\"0.71\"/>\n",
       "      <line x1=\"-3.21\" y1=\"0.71\" x2=\"-3.21\" y2=\"1.54\"/>\n",
       "      <line x1=\"-3.33\" y1=\"0.71\" x2=\"-3.33\" y2=\"1.54\"/>\n",
       "      <line x1=\"0.30\" y1=\"1.13\" x2=\"1.02\" y2=\"0.71\"/>\n",
       "      <line x1=\"0.30\" y1=\"1.13\" x2=\"0.30\" y2=\"1.95\"/>\n",
       "      <line x1=\"1.02\" y1=\"0.71\" x2=\"1.73\" y2=\"1.13\"/>\n",
       "      <line x1=\"1.73\" y1=\"1.13\" x2=\"1.73\" y2=\"1.95\"/>\n",
       "      <line x1=\"1.73\" y1=\"1.95\" x2=\"1.02\" y2=\"2.36\"/>\n",
       "      <line x1=\"1.02\" y1=\"2.36\" x2=\"0.30\" y2=\"1.95\"/>\n",
       "      <line x1=\"-0.82\" y1=\"1.43\" x2=\"-1.65\" y2=\"1.43\"/>\n",
       "      <line x1=\"-0.82\" y1=\"1.43\" x2=\"-0.41\" y2=\"2.14\"/>\n",
       "      <line x1=\"-1.65\" y1=\"1.43\" x2=\"-2.06\" y2=\"2.14\"/>\n",
       "      <line x1=\"-2.06\" y1=\"2.14\" x2=\"-1.65\" y2=\"2.86\"/>\n",
       "      <line x1=\"-1.65\" y1=\"2.86\" x2=\"-0.82\" y2=\"2.86\"/>\n",
       "      <line x1=\"-0.82\" y1=\"2.86\" x2=\"-0.41\" y2=\"2.14\"/>\n",
       "      <line x1=\"-0.91\" y1=\"1.57\" x2=\"-1.57\" y2=\"1.57\" stroke-dasharray=\"0.15 0.05\"/>\n",
       "      <line x1=\"-1.57\" y1=\"1.57\" x2=\"-1.90\" y2=\"2.14\" stroke-dasharray=\"0.15 0.05\"/>\n",
       "      <line x1=\"-1.90\" y1=\"2.14\" x2=\"-1.57\" y2=\"2.72\" stroke-dasharray=\"0.15 0.05\"/>\n",
       "      <line x1=\"-1.57\" y1=\"2.72\" x2=\"-0.91\" y2=\"2.72\" stroke-dasharray=\"0.15 0.05\"/>\n",
       "      <line x1=\"-0.91\" y1=\"2.72\" x2=\"-0.57\" y2=\"2.14\" stroke-dasharray=\"0.15 0.05\"/>\n",
       "      <line x1=\"-0.57\" y1=\"2.14\" x2=\"-0.91\" y2=\"1.57\" stroke-dasharray=\"0.15 0.05\"/>\n",
       "      <line x1=\"0.44\" y1=\"1.21\" x2=\"1.02\" y2=\"0.88\" stroke-dasharray=\"0.15 0.05\"/>\n",
       "      <line x1=\"1.02\" y1=\"0.88\" x2=\"1.59\" y2=\"1.21\" stroke-dasharray=\"0.15 0.05\"/>\n",
       "      <line x1=\"1.59\" y1=\"1.21\" x2=\"1.59\" y2=\"1.87\" stroke-dasharray=\"0.15 0.05\"/>\n",
       "      <line x1=\"1.59\" y1=\"1.87\" x2=\"1.02\" y2=\"2.20\" stroke-dasharray=\"0.15 0.05\"/>\n",
       "      <line x1=\"1.02\" y1=\"2.20\" x2=\"0.44\" y2=\"1.87\" stroke-dasharray=\"0.15 0.05\"/>\n",
       "      <line x1=\"0.44\" y1=\"1.87\" x2=\"0.44\" y2=\"1.21\" stroke-dasharray=\"0.15 0.05\"/>\n",
       "    </g>\n",
       "    <g font-family=\"monospace\">\n",
       "      <g fill=\"#F0C8A0\" font-family=\"sans-serif\">\n",
       "        <text x=\"-0.41\" y=\"0.71\" dx=\"-0.35\" dy=\"0.20\" font-size=\"0.50\">Si</text>\n",
       "      </g>\n",
       "      <g fill=\"#FF0D0D\" font-family=\"sans-serif\">\n",
       "        <text x=\"-1.13\" y=\"0.30\" dx=\"-0.20\" dy=\"0.20\" font-size=\"0.50\">O</text>\n",
       "      </g>\n",
       "      <g fill=\"#3050F8\" font-family=\"sans-serif\">\n",
       "        <text x=\"-3.98\" y=\"-0.52\" dx=\"-0.20\" dy=\"0.20\" font-size=\"0.50\">N</text>\n",
       "      </g>\n",
       "      <g fill=\"#3050F8\" font-family=\"sans-serif\">\n",
       "        <text x=\"-3.98\" y=\"0.30\" dx=\"-0.20\" dy=\"0.20\" font-size=\"0.50\">NH</text>\n",
       "      </g>\n",
       "      <g fill=\"#FF0D0D\" font-family=\"sans-serif\">\n",
       "        <text x=\"-3.27\" y=\"1.54\" dx=\"-0.20\" dy=\"0.20\" font-size=\"0.50\">O</text>\n",
       "      </g>\n",
       "    </g>\n",
       "  </g>\n",
       "</svg>"
      ],
      "text/plain": [
       "<CGRtools.containers.molecule.MoleculeContainer at 0x7fa1f47ea990>"
      ]
     },
     "execution_count": 17,
     "metadata": {},
     "output_type": "execute_result"
    }
   ],
   "source": [
    "example_molecule = \"CC(C)(C)[Si](OCc1ccn[nH]c1=O)(c1ccccc1)c1ccccc1\"\n",
    "\n",
    "target = smiles(example_molecule)\n",
    "target.canonicalize()\n",
    "target.clean2d()\n",
    "target"
   ]
  },
  {
   "cell_type": "markdown",
   "id": "35fe4682-4ba3-4bbe-9aa1-87f71c41fd44",
   "metadata": {},
   "source": [
    "### Run retrosynthetic planning"
   ]
  },
  {
   "cell_type": "code",
   "execution_count": 18,
   "id": "343ed059-a57b-470d-b33c-8bc8207b68dd",
   "metadata": {},
   "outputs": [
    {
     "name": "stderr",
     "output_type": "stream",
     "text": [
      "Number of building blocks processed: 189144 [12:10]\n"
     ]
    }
   ],
   "source": [
    "# initialize the policy function\n",
    "ranking_policy_network = ranking_policy_network_folder.joinpath(\"policy_network.ckpt\")\n",
    "policy_config = PolicyNetworkConfig(weights_path=ranking_policy_network)\n",
    "policy_function = PolicyNetworkFunction(policy_config=policy_config)\n",
    "\n",
    "reaction_rules = load_reaction_rules(reaction_rules_path)\n",
    "building_blocks = load_building_blocks(building_blocks_path)"
   ]
  },
  {
   "cell_type": "code",
   "execution_count": 19,
   "id": "d5359d1a-06a0-4797-88f1-edafbbfe3b07",
   "metadata": {},
   "outputs": [],
   "source": [
    "tree = Tree(\n",
    "    target=target,\n",
    "    config=tree_config,\n",
    "    reaction_rules=reaction_rules,\n",
    "    building_blocks=building_blocks,\n",
    "    expansion_function=policy_function,\n",
    "    evaluation_function=None,\n",
    ")"
   ]
  },
  {
   "cell_type": "code",
   "execution_count": 20,
   "id": "f770fe0c-645c-49c6-9589-00f08fd6d515",
   "metadata": {},
   "outputs": [
    {
     "data": {
      "application/vnd.jupyter.widget-view+json": {
       "model_id": "5ea1b98bc58f400eb615b2b64efa75a4",
       "version_major": 2,
       "version_minor": 0
      },
      "text/plain": [
       "  0%|          | 0/300 [00:00<?, ?it/s]"
      ]
     },
     "metadata": {},
     "output_type": "display_data"
    },
    {
     "data": {
      "text/plain": [
       "Tree for: c1ccccc1[Si](c2ccccc2)(OCC=3C(=O)NN=CC=3)C(C)(C)C\n",
       "Time: 52.5 seconds\n",
       "Number of nodes: 2180\n",
       "Number of iterations: 300\n",
       "Number of visited nodes: 296\n",
       "Number of found routes: 7"
      ]
     },
     "execution_count": 20,
     "metadata": {},
     "output_type": "execute_result"
    }
   ],
   "source": [
    "tree_solved = False\n",
    "for solved, node_id in tree:\n",
    "    if solved:\n",
    "        tree_solved = True\n",
    "tree"
   ]
  },
  {
   "cell_type": "markdown",
   "id": "ebe6eef0-791f-456f-8d9d-5e7d7f80f910",
   "metadata": {},
   "source": [
    "### Retrosynthetic routes visualisation"
   ]
  },
  {
   "cell_type": "code",
   "execution_count": 21,
   "id": "b53f2832-a5ec-43ee-86d3-6fa3952fc784",
   "metadata": {},
   "outputs": [
    {
     "name": "stdout",
     "output_type": "stream",
     "text": [
      "-------- Path starts from node #65 with total route score -0.11078304643496137 --------\n"
     ]
    },
    {
     "data": {
      "image/svg+xml": [
       "<svg xmlns=\"http://www.w3.org/2000/svg\" width=\"19.45cm\" height=\"6.12cm\" viewBox=\"-0.62 -5.10 32.42 10.19\" version=\"1.1\">\n",
       "  <defs>\n",
       "    <marker id=\"arrow\" markerWidth=\"10\" markerHeight=\"10\" refX=\"0\" refY=\"3\" orient=\"auto\">\n",
       "      <path d=\"M0,0 L0,6 L9,3\"/>\n",
       "    </marker>\n",
       "  </defs>\n",
       "  <polyline points=\"21.06 -2.57, 22.40 -2.57, 22.40 0.00, 24.06 0.00\" fill=\"none\" stroke=\"black\" stroke-width=\".04\" marker-end=\"url(#arrow)\"/>  <circle cx=\"22.395159637460154\" cy=\"-2.5717062520514085\" r=\"0.1\"/>\n",
       "  <polyline points=\"19.66 3.15, 22.40 3.15, 22.40 0.00, 24.06 0.00\" fill=\"none\" stroke=\"black\" stroke-width=\".04\" marker-end=\"url(#arrow)\"/>  <circle cx=\"22.395159637460154\" cy=\"3.1499996793429617\" r=\"0.1\"/>\n",
       "  <polyline points=\"11.77 0.00, 13.11 0.00, 13.11 3.15, 14.77 3.15\" fill=\"none\" stroke=\"black\" stroke-width=\".04\" marker-end=\"url(#arrow)\"/>  <circle cx=\"13.108333333333084\" cy=\"0.0\" r=\"0.1\"/>\n",
       "  <polyline points=\"2.24 -2.57, 5.63 -2.57, 5.63 0.00, 7.30 0.00\" fill=\"none\" stroke=\"black\" stroke-width=\".04\" marker-end=\"url(#arrow)\"/>  <circle cx=\"5.633333333333334\" cy=\"-2.5717064371832428\" r=\"0.1\"/>\n",
       "  <polyline points=\"4.30 2.21, 5.63 2.21, 5.63 0.00, 7.30 0.00\" fill=\"none\" stroke=\"black\" stroke-width=\".04\" marker-end=\"url(#arrow)\"/>  <circle cx=\"5.633333333333334\" cy=\"2.214470958122162\" r=\"0.1\"/>\n",
       "  <g>\n",
       "<rect x=\"-0.6\" y=\"0.6927645209389193\" rx=\"0.3043412874366486\" ry=\"0.3043412874366486\" width=\"4.8\" height=\"3.043412874366486\" stroke=\"black\" stroke-width=\".0025\" fill=\"#9BFAB3\" fill-opacity=\"0.30\"/>\n",
       "    <defs>\n",
       "      <mask id=\"mask-b2782494-d82c-45cd-aaf7-ba4e1038d901\">\n",
       "        <rect x=\"-0.62\" y=\"-5.10\" width=\"32.42\" height=\"10.19\" fill=\"white\"/>\n",
       "        <g fill=\"black\">\n",
       "          <circle cx=\"0.00\" cy=\"1.86\" r=\"0.20\"/>\n",
       "          <circle cx=\"0.41\" cy=\"2.57\" r=\"0.20\"/>\n",
       "          <circle cx=\"1.65\" cy=\"3.29\" r=\"0.20\"/>\n",
       "          <circle cx=\"3.30\" cy=\"1.86\" r=\"0.20\"/>\n",
       "        </g>\n",
       "        <g font-family=\"monospace\" stroke=\"black\">\n",
       "          <g font-family=\"sans-serif\" font-size=\"0.50\" stroke-width=\"0.05\">\n",
       "            <text x=\"0.00\" y=\"1.86\" dx=\"-0.20\" dy=\"0.20\">N</text>\n",
       "            <text x=\"0.41\" y=\"2.57\" dx=\"-0.20\" dy=\"0.20\">NH</text>\n",
       "            <text x=\"1.65\" y=\"3.29\" dx=\"-0.20\" dy=\"0.20\">O</text>\n",
       "            <text x=\"3.30\" y=\"1.86\" dx=\"-0.20\" dy=\"0.20\">N</text>\n",
       "          </g>\n",
       "        </g>\n",
       "      </mask>\n",
       "    </defs>\n",
       "    <g fill=\"none\" stroke=\"black\" stroke-width=\"0.04\" mask=\"url(#mask-b2782494-d82c-45cd-aaf7-ba4e1038d901)\">\n",
       "      <line x1=\"0.41\" y1=\"1.14\" x2=\"1.24\" y2=\"1.14\"/>\n",
       "      <line x1=\"0.46\" y1=\"1.17\" x2=\"0.05\" y2=\"1.89\"/>\n",
       "      <line x1=\"0.36\" y1=\"1.11\" x2=\"-0.05\" y2=\"1.83\"/>\n",
       "      <line x1=\"0.41\" y1=\"2.57\" x2=\"1.24\" y2=\"2.57\"/>\n",
       "      <line x1=\"0.41\" y1=\"2.57\" x2=\"0.00\" y2=\"1.86\"/>\n",
       "      <line x1=\"1.29\" y1=\"2.54\" x2=\"1.70\" y2=\"3.26\"/>\n",
       "      <line x1=\"1.19\" y1=\"2.60\" x2=\"1.60\" y2=\"3.32\"/>\n",
       "      <line x1=\"1.24\" y1=\"2.57\" x2=\"1.65\" y2=\"1.86\"/>\n",
       "      <line x1=\"1.65\" y1=\"1.86\" x2=\"2.48\" y2=\"1.86\"/>\n",
       "      <line x1=\"1.60\" y1=\"1.89\" x2=\"1.19\" y2=\"1.17\"/>\n",
       "      <line x1=\"1.70\" y1=\"1.83\" x2=\"1.29\" y2=\"1.11\"/>\n",
       "      <line x1=\"2.48\" y1=\"1.73\" x2=\"3.30\" y2=\"1.73\"/>\n",
       "      <line x1=\"2.48\" y1=\"1.86\" x2=\"3.30\" y2=\"1.86\"/>\n",
       "      <line x1=\"2.48\" y1=\"1.99\" x2=\"3.30\" y2=\"1.99\"/>\n",
       "    </g>\n",
       "    <g font-family=\"monospace\">\n",
       "      <g fill=\"#3050F8\" font-family=\"sans-serif\">\n",
       "        <text x=\"0.00\" y=\"1.86\" dx=\"-0.20\" dy=\"0.20\" font-size=\"0.50\">N</text>\n",
       "      </g>\n",
       "      <g fill=\"#3050F8\" font-family=\"sans-serif\">\n",
       "        <text x=\"0.41\" y=\"2.57\" dx=\"-0.20\" dy=\"0.20\" font-size=\"0.50\">NH</text>\n",
       "      </g>\n",
       "      <g fill=\"#FF0D0D\" font-family=\"sans-serif\">\n",
       "        <text x=\"1.65\" y=\"3.29\" dx=\"-0.20\" dy=\"0.20\" font-size=\"0.50\">O</text>\n",
       "      </g>\n",
       "      <g fill=\"#3050F8\" font-family=\"sans-serif\">\n",
       "        <text x=\"3.30\" y=\"1.86\" dx=\"-0.20\" dy=\"0.20\" font-size=\"0.50\">N</text>\n",
       "      </g>\n",
       "    </g>\n",
       "  </g>\n",
       "  <g>\n",
       "<rect x=\"-0.6\" y=\"-3.736177395305405\" rx=\"0.23289419162443245\" ry=\"0.23289419162443245\" width=\"2.7375000000000003\" height=\"2.3289419162443243\" stroke=\"black\" stroke-width=\".0025\" fill=\"#9BFAB3\" fill-opacity=\"0.30\"/>\n",
       "    <defs>\n",
       "      <mask id=\"mask-ae7d3016-32c3-46c0-b2f5-8c391f978428\">\n",
       "        <rect x=\"-0.62\" y=\"-5.10\" width=\"32.42\" height=\"10.19\" fill=\"white\"/>\n",
       "        <g fill=\"black\">\n",
       "          <circle cx=\"0.00\" cy=\"-2.57\" r=\"0.20\"/>\n",
       "          <circle cx=\"1.24\" cy=\"-1.86\" r=\"0.20\"/>\n",
       "        </g>\n",
       "        <g font-family=\"monospace\" stroke=\"black\">\n",
       "          <g font-family=\"sans-serif\" font-size=\"0.50\" stroke-width=\"0.05\">\n",
       "            <text x=\"0.00\" y=\"-2.57\" dx=\"-0.20\" dy=\"0.20\">OH</text>\n",
       "            <text x=\"1.24\" y=\"-1.86\" dx=\"-0.20\" dy=\"0.20\">O</text>\n",
       "          </g>\n",
       "        </g>\n",
       "      </mask>\n",
       "    </defs>\n",
       "    <g fill=\"none\" stroke=\"black\" stroke-width=\"0.04\" mask=\"url(#mask-ae7d3016-32c3-46c0-b2f5-8c391f978428)\">\n",
       "      <line x1=\"1.19\" y1=\"-1.83\" x2=\"0.77\" y2=\"-2.54\"/>\n",
       "      <line x1=\"1.29\" y1=\"-1.89\" x2=\"0.88\" y2=\"-2.60\"/>\n",
       "      <line x1=\"0.82\" y1=\"-2.57\" x2=\"0.00\" y2=\"-2.57\"/>\n",
       "      <line x1=\"0.82\" y1=\"-2.57\" x2=\"1.24\" y2=\"-3.29\"/>\n",
       "    </g>\n",
       "    <g font-family=\"monospace\">\n",
       "      <g fill=\"#FF0D0D\" font-family=\"sans-serif\">\n",
       "        <text x=\"0.00\" y=\"-2.57\" dx=\"-0.20\" dy=\"0.20\" font-size=\"0.50\">OH</text>\n",
       "      </g>\n",
       "      <g fill=\"#FF0D0D\" font-family=\"sans-serif\">\n",
       "        <text x=\"1.24\" y=\"-1.86\" dx=\"-0.20\" dy=\"0.20\" font-size=\"0.50\">O</text>\n",
       "      </g>\n",
       "    </g>\n",
       "  </g>\n",
       "  <g>\n",
       "<rect x=\"7.700000000000001\" y=\"-1.8789415963084173\" rx=\"0.3757883192616835\" ry=\"0.3757883192616835\" width=\"3.974999999999749\" height=\"3.7578831926168346\" stroke=\"black\" stroke-width=\".0025\" fill=\"#F0AB90\" fill-opacity=\"0.30\"/>\n",
       "    <defs>\n",
       "      <mask id=\"mask-ed31b330-174e-469e-8cbd-b848d781f255\">\n",
       "        <rect x=\"-0.62\" y=\"-5.10\" width=\"32.42\" height=\"10.19\" fill=\"white\"/>\n",
       "        <g fill=\"black\">\n",
       "          <circle cx=\"9.54\" cy=\"-1.43\" r=\"0.20\"/>\n",
       "          <circle cx=\"10.36\" cy=\"1.43\" r=\"0.20\"/>\n",
       "          <circle cx=\"9.54\" cy=\"1.43\" r=\"0.20\"/>\n",
       "          <circle cx=\"8.30\" cy=\"0.71\" r=\"0.20\"/>\n",
       "          <circle cx=\"8.30\" cy=\"-0.71\" r=\"0.20\"/>\n",
       "        </g>\n",
       "        <g font-family=\"monospace\" stroke=\"black\">\n",
       "          <g font-family=\"sans-serif\" font-size=\"0.50\" stroke-width=\"0.05\">\n",
       "            <text x=\"9.54\" y=\"-1.43\" dx=\"-0.20\" dy=\"0.20\">OH</text>\n",
       "            <text x=\"10.36\" y=\"1.43\" dx=\"-0.20\" dy=\"0.20\">N</text>\n",
       "            <text x=\"9.54\" y=\"1.43\" dx=\"-0.20\" dy=\"0.20\">NH</text>\n",
       "            <text x=\"8.30\" y=\"0.71\" dx=\"-0.20\" dy=\"0.20\">O</text>\n",
       "            <text x=\"8.30\" y=\"-0.71\" dx=\"-0.20\" dy=\"0.20\">O</text>\n",
       "          </g>\n",
       "        </g>\n",
       "      </mask>\n",
       "    </defs>\n",
       "    <g fill=\"none\" stroke=\"black\" stroke-width=\"0.04\" mask=\"url(#mask-ed31b330-174e-469e-8cbd-b848d781f255)\">\n",
       "      <line x1=\"9.54\" y1=\"1.43\" x2=\"9.12\" y2=\"0.71\"/>\n",
       "      <line x1=\"9.54\" y1=\"1.43\" x2=\"10.36\" y2=\"1.43\"/>\n",
       "      <line x1=\"10.77\" y1=\"0.71\" x2=\"10.36\" y2=\"-0.00\"/>\n",
       "      <line x1=\"10.83\" y1=\"0.74\" x2=\"10.41\" y2=\"1.46\"/>\n",
       "      <line x1=\"10.72\" y1=\"0.68\" x2=\"10.31\" y2=\"1.40\"/>\n",
       "      <line x1=\"10.36\" y1=\"0.06\" x2=\"9.54\" y2=\"0.06\"/>\n",
       "      <line x1=\"10.36\" y1=\"-0.06\" x2=\"9.54\" y2=\"-0.06\"/>\n",
       "      <line x1=\"9.54\" y1=\"-0.00\" x2=\"9.13\" y2=\"-0.71\"/>\n",
       "      <line x1=\"9.54\" y1=\"-0.00\" x2=\"9.12\" y2=\"0.71\"/>\n",
       "      <line x1=\"9.13\" y1=\"-0.71\" x2=\"9.54\" y2=\"-1.43\"/>\n",
       "      <line x1=\"9.13\" y1=\"-0.65\" x2=\"8.30\" y2=\"-0.65\"/>\n",
       "      <line x1=\"9.13\" y1=\"-0.77\" x2=\"8.30\" y2=\"-0.77\"/>\n",
       "      <line x1=\"9.12\" y1=\"0.77\" x2=\"8.30\" y2=\"0.77\"/>\n",
       "      <line x1=\"9.13\" y1=\"0.65\" x2=\"8.30\" y2=\"0.65\"/>\n",
       "    </g>\n",
       "    <g font-family=\"monospace\">\n",
       "      <g fill=\"#FF0D0D\" font-family=\"sans-serif\">\n",
       "        <text x=\"9.54\" y=\"-1.43\" dx=\"-0.20\" dy=\"0.20\" font-size=\"0.50\">OH</text>\n",
       "      </g>\n",
       "      <g fill=\"#3050F8\" font-family=\"sans-serif\">\n",
       "        <text x=\"10.36\" y=\"1.43\" dx=\"-0.20\" dy=\"0.20\" font-size=\"0.50\">N</text>\n",
       "      </g>\n",
       "      <g fill=\"#3050F8\" font-family=\"sans-serif\">\n",
       "        <text x=\"9.54\" y=\"1.43\" dx=\"-0.20\" dy=\"0.20\" font-size=\"0.50\">NH</text>\n",
       "      </g>\n",
       "      <g fill=\"#FF0D0D\" font-family=\"sans-serif\">\n",
       "        <text x=\"8.30\" y=\"0.71\" dx=\"-0.20\" dy=\"0.20\" font-size=\"0.50\">O</text>\n",
       "      </g>\n",
       "      <g fill=\"#FF0D0D\" font-family=\"sans-serif\">\n",
       "        <text x=\"8.30\" y=\"-0.71\" dx=\"-0.20\" dy=\"0.20\" font-size=\"0.50\">O</text>\n",
       "      </g>\n",
       "    </g>\n",
       "  </g>\n",
       "  <g>\n",
       "<rect x=\"15.174999999999748\" y=\"1.6282934272915537\" rx=\"0.30434125041028165\" ry=\"0.30434125041028165\" width=\"4.38750064131283\" height=\"3.0434125041028164\" stroke=\"black\" stroke-width=\".0025\" fill=\"#F0AB90\" fill-opacity=\"0.30\"/>\n",
       "    <defs>\n",
       "      <mask id=\"mask-5f7dd5e4-5842-4981-8b4a-0469eb923da4\">\n",
       "        <rect x=\"-0.62\" y=\"-5.10\" width=\"32.42\" height=\"10.19\" fill=\"white\"/>\n",
       "        <g fill=\"black\">\n",
       "          <circle cx=\"18.66\" cy=\"2.79\" r=\"0.20\"/>\n",
       "          <circle cx=\"15.77\" cy=\"3.51\" r=\"0.20\"/>\n",
       "          <circle cx=\"16.19\" cy=\"2.79\" r=\"0.20\"/>\n",
       "          <circle cx=\"17.43\" cy=\"2.08\" r=\"0.20\"/>\n",
       "        </g>\n",
       "        <g font-family=\"monospace\" stroke=\"black\">\n",
       "          <g font-family=\"sans-serif\" font-size=\"0.50\" stroke-width=\"0.05\">\n",
       "            <text x=\"18.66\" y=\"2.79\" dx=\"-0.20\" dy=\"0.20\">OH</text>\n",
       "            <text x=\"15.77\" y=\"3.51\" dx=\"-0.20\" dy=\"0.20\">N</text>\n",
       "            <text x=\"16.19\" y=\"2.79\" dx=\"-0.20\" dy=\"0.20\">NH</text>\n",
       "            <text x=\"17.43\" y=\"2.08\" dx=\"-0.20\" dy=\"0.20\">O</text>\n",
       "          </g>\n",
       "        </g>\n",
       "      </mask>\n",
       "    </defs>\n",
       "    <g fill=\"none\" stroke=\"black\" stroke-width=\"0.04\" mask=\"url(#mask-5f7dd5e4-5842-4981-8b4a-0469eb923da4)\">\n",
       "      <line x1=\"17.42\" y1=\"3.51\" x2=\"18.25\" y2=\"3.51\"/>\n",
       "      <line x1=\"17.48\" y1=\"3.54\" x2=\"17.06\" y2=\"4.25\"/>\n",
       "      <line x1=\"17.37\" y1=\"3.48\" x2=\"16.96\" y2=\"4.19\"/>\n",
       "      <line x1=\"17.42\" y1=\"3.51\" x2=\"17.01\" y2=\"2.79\"/>\n",
       "      <line x1=\"18.25\" y1=\"3.51\" x2=\"18.66\" y2=\"2.79\"/>\n",
       "      <line x1=\"17.01\" y1=\"4.22\" x2=\"16.19\" y2=\"4.22\"/>\n",
       "      <line x1=\"16.14\" y1=\"4.25\" x2=\"15.72\" y2=\"3.54\"/>\n",
       "      <line x1=\"16.24\" y1=\"4.19\" x2=\"15.83\" y2=\"3.48\"/>\n",
       "      <line x1=\"15.77\" y1=\"3.51\" x2=\"16.19\" y2=\"2.79\"/>\n",
       "      <line x1=\"16.19\" y1=\"2.79\" x2=\"17.01\" y2=\"2.79\"/>\n",
       "      <line x1=\"16.96\" y1=\"2.76\" x2=\"17.37\" y2=\"2.05\"/>\n",
       "      <line x1=\"17.06\" y1=\"2.82\" x2=\"17.48\" y2=\"2.11\"/>\n",
       "    </g>\n",
       "    <g font-family=\"monospace\">\n",
       "      <g fill=\"#FF0D0D\" font-family=\"sans-serif\">\n",
       "        <text x=\"18.66\" y=\"2.79\" dx=\"-0.20\" dy=\"0.20\" font-size=\"0.50\">OH</text>\n",
       "      </g>\n",
       "      <g fill=\"#3050F8\" font-family=\"sans-serif\">\n",
       "        <text x=\"15.77\" y=\"3.51\" dx=\"-0.20\" dy=\"0.20\" font-size=\"0.50\">N</text>\n",
       "      </g>\n",
       "      <g fill=\"#3050F8\" font-family=\"sans-serif\">\n",
       "        <text x=\"16.19\" y=\"2.79\" dx=\"-0.20\" dy=\"0.20\" font-size=\"0.50\">NH</text>\n",
       "      </g>\n",
       "      <g fill=\"#FF0D0D\" font-family=\"sans-serif\">\n",
       "        <text x=\"17.43\" y=\"2.08\" dx=\"-0.20\" dy=\"0.20\" font-size=\"0.50\">O</text>\n",
       "      </g>\n",
       "    </g>\n",
       "  </g>\n",
       "  <g>\n",
       "<rect x=\"15.174999999999748\" y=\"-4.671705931394371\" rx=\"0.41999993586859247\" ry=\"0.41999993586859247\" width=\"5.7868263041270716\" height=\"4.1999993586859246\" stroke=\"black\" stroke-width=\".0025\" fill=\"#9BFAB3\" fill-opacity=\"0.30\"/>\n",
       "    <defs>\n",
       "      <mask id=\"mask-1cc19885-0d26-44ab-85a4-e09f6acef1de\">\n",
       "        <rect x=\"-0.62\" y=\"-5.10\" width=\"32.42\" height=\"10.19\" fill=\"white\"/>\n",
       "        <g fill=\"black\">\n",
       "          <ellipse cx=\"17.79\" cy=\"-2.57\" rx=\"0.3\" ry=\"0.2\"/>\n",
       "          <ellipse cx=\"17.38\" cy=\"-1.86\" rx=\"0.3\" ry=\"0.2\"/>\n",
       "        </g>\n",
       "        <g font-family=\"monospace\" stroke=\"black\">\n",
       "          <g font-family=\"sans-serif\" font-size=\"0.50\" stroke-width=\"0.05\">\n",
       "            <text x=\"17.92\" y=\"-2.57\" dx=\"-0.35\" dy=\"0.20\">Si</text>\n",
       "            <text x=\"17.51\" y=\"-1.86\" dx=\"-0.35\" dy=\"0.20\">Cl</text>\n",
       "          </g>\n",
       "        </g>\n",
       "      </mask>\n",
       "    </defs>\n",
       "    <g fill=\"none\" stroke=\"black\" stroke-width=\"0.04\" mask=\"url(#mask-1cc19885-0d26-44ab-85a4-e09f6acef1de)\">\n",
       "      <line x1=\"17.20\" y1=\"-2.98\" x2=\"17.92\" y2=\"-2.57\"/>\n",
       "      <line x1=\"17.20\" y1=\"-2.98\" x2=\"16.49\" y2=\"-2.57\"/>\n",
       "      <line x1=\"17.20\" y1=\"-2.98\" x2=\"17.20\" y2=\"-3.81\"/>\n",
       "      <line x1=\"17.92\" y1=\"-2.57\" x2=\"18.63\" y2=\"-2.16\"/>\n",
       "      <line x1=\"17.92\" y1=\"-2.57\" x2=\"17.51\" y2=\"-1.86\"/>\n",
       "      <line x1=\"17.92\" y1=\"-2.57\" x2=\"18.33\" y2=\"-3.29\"/>\n",
       "      <line x1=\"18.63\" y1=\"-2.16\" x2=\"19.35\" y2=\"-2.57\"/>\n",
       "      <line x1=\"18.63\" y1=\"-2.16\" x2=\"18.63\" y2=\"-1.33\"/>\n",
       "      <line x1=\"18.33\" y1=\"-3.29\" x2=\"18.74\" y2=\"-4.00\"/>\n",
       "      <line x1=\"18.33\" y1=\"-3.29\" x2=\"19.14\" y2=\"-3.14\"/>\n",
       "      <line x1=\"18.33\" y1=\"-3.29\" x2=\"17.80\" y2=\"-3.92\"/>\n",
       "      <line x1=\"19.35\" y1=\"-2.57\" x2=\"20.06\" y2=\"-2.16\"/>\n",
       "      <line x1=\"20.06\" y1=\"-2.16\" x2=\"20.06\" y2=\"-1.33\"/>\n",
       "      <line x1=\"20.06\" y1=\"-1.33\" x2=\"19.35\" y2=\"-0.92\"/>\n",
       "      <line x1=\"19.35\" y1=\"-0.92\" x2=\"18.63\" y2=\"-1.33\"/>\n",
       "      <line x1=\"16.49\" y1=\"-2.57\" x2=\"15.78\" y2=\"-2.98\"/>\n",
       "      <line x1=\"15.78\" y1=\"-2.98\" x2=\"15.77\" y2=\"-3.81\"/>\n",
       "      <line x1=\"15.77\" y1=\"-3.81\" x2=\"16.49\" y2=\"-4.22\"/>\n",
       "      <line x1=\"16.49\" y1=\"-4.22\" x2=\"17.20\" y2=\"-3.81\"/>\n",
       "      <line x1=\"17.06\" y1=\"-3.07\" x2=\"16.49\" y2=\"-2.73\" stroke-dasharray=\"0.15 0.05\"/>\n",
       "      <line x1=\"16.49\" y1=\"-2.73\" x2=\"15.92\" y2=\"-3.07\" stroke-dasharray=\"0.15 0.05\"/>\n",
       "      <line x1=\"15.92\" y1=\"-3.07\" x2=\"15.92\" y2=\"-3.73\" stroke-dasharray=\"0.15 0.05\"/>\n",
       "      <line x1=\"15.92\" y1=\"-3.73\" x2=\"16.49\" y2=\"-4.06\" stroke-dasharray=\"0.15 0.05\"/>\n",
       "      <line x1=\"16.49\" y1=\"-4.06\" x2=\"17.06\" y2=\"-3.73\" stroke-dasharray=\"0.15 0.05\"/>\n",
       "      <line x1=\"17.06\" y1=\"-3.73\" x2=\"17.06\" y2=\"-3.07\" stroke-dasharray=\"0.15 0.05\"/>\n",
       "      <line x1=\"18.77\" y1=\"-2.08\" x2=\"19.35\" y2=\"-2.41\" stroke-dasharray=\"0.15 0.05\"/>\n",
       "      <line x1=\"19.35\" y1=\"-2.41\" x2=\"19.92\" y2=\"-2.08\" stroke-dasharray=\"0.15 0.05\"/>\n",
       "      <line x1=\"19.92\" y1=\"-2.08\" x2=\"19.92\" y2=\"-1.42\" stroke-dasharray=\"0.15 0.05\"/>\n",
       "      <line x1=\"19.92\" y1=\"-1.42\" x2=\"19.35\" y2=\"-1.08\" stroke-dasharray=\"0.15 0.05\"/>\n",
       "      <line x1=\"19.35\" y1=\"-1.08\" x2=\"18.77\" y2=\"-1.42\" stroke-dasharray=\"0.15 0.05\"/>\n",
       "      <line x1=\"18.77\" y1=\"-1.42\" x2=\"18.77\" y2=\"-2.08\" stroke-dasharray=\"0.15 0.05\"/>\n",
       "    </g>\n",
       "    <g font-family=\"monospace\">\n",
       "      <g fill=\"#F0C8A0\" font-family=\"sans-serif\">\n",
       "        <text x=\"17.92\" y=\"-2.57\" dx=\"-0.35\" dy=\"0.20\" font-size=\"0.50\">Si</text>\n",
       "      </g>\n",
       "      <g fill=\"#1FF01F\" font-family=\"sans-serif\">\n",
       "        <text x=\"17.51\" y=\"-1.86\" dx=\"-0.35\" dy=\"0.20\" font-size=\"0.50\">Cl</text>\n",
       "      </g>\n",
       "    </g>\n",
       "  </g>\n",
       "  <g>\n",
       "<rect x=\"24.46182630412682\" y=\"-2.9249999999990024\" rx=\"0.5849999999998005\" ry=\"0.5849999999998005\" width=\"6.862499358683845\" height=\"5.849999999998005\" stroke=\"black\" stroke-width=\".0025\" fill=\"#98EEFF\" fill-opacity=\"0.30\"/>\n",
       "    <defs>\n",
       "      <mask id=\"mask-127ffc70-9cf2-4573-a2b8-018fc02a16eb\">\n",
       "        <rect x=\"-0.62\" y=\"-5.10\" width=\"32.42\" height=\"10.19\" fill=\"white\"/>\n",
       "        <g fill=\"black\">\n",
       "          <ellipse cx=\"26.59\" cy=\"-0.00\" rx=\"0.3\" ry=\"0.2\"/>\n",
       "          <circle cx=\"27.54\" cy=\"0.00\" r=\"0.20\"/>\n",
       "          <circle cx=\"30.42\" cy=\"0.71\" r=\"0.20\"/>\n",
       "          <circle cx=\"30.01\" cy=\"1.43\" r=\"0.20\"/>\n",
       "          <circle cx=\"28.77\" cy=\"2.14\" r=\"0.20\"/>\n",
       "        </g>\n",
       "        <g font-family=\"monospace\" stroke=\"black\">\n",
       "          <g font-family=\"sans-serif\" font-size=\"0.50\" stroke-width=\"0.05\">\n",
       "            <text x=\"26.71\" y=\"-0.00\" dx=\"-0.35\" dy=\"0.20\">Si</text>\n",
       "            <text x=\"27.54\" y=\"0.00\" dx=\"-0.20\" dy=\"0.20\">O</text>\n",
       "            <text x=\"30.42\" y=\"0.71\" dx=\"-0.20\" dy=\"0.20\">N</text>\n",
       "            <text x=\"30.01\" y=\"1.43\" dx=\"-0.20\" dy=\"0.20\">NH</text>\n",
       "            <text x=\"28.77\" y=\"2.14\" dx=\"-0.20\" dy=\"0.20\">O</text>\n",
       "          </g>\n",
       "        </g>\n",
       "      </mask>\n",
       "    </defs>\n",
       "    <g fill=\"none\" stroke=\"black\" stroke-width=\"0.04\" mask=\"url(#mask-127ffc70-9cf2-4573-a2b8-018fc02a16eb)\">\n",
       "      <line x1=\"25.06\" y1=\"-0.00\" x2=\"25.89\" y2=\"-0.00\"/>\n",
       "      <line x1=\"25.89\" y1=\"-0.00\" x2=\"25.60\" y2=\"-0.78\"/>\n",
       "      <line x1=\"25.89\" y1=\"-0.00\" x2=\"25.60\" y2=\"0.78\"/>\n",
       "      <line x1=\"25.89\" y1=\"-0.00\" x2=\"26.71\" y2=\"-0.00\"/>\n",
       "      <line x1=\"26.71\" y1=\"-0.00\" x2=\"27.54\" y2=\"0.00\"/>\n",
       "      <line x1=\"26.71\" y1=\"-0.00\" x2=\"26.71\" y2=\"-0.82\"/>\n",
       "      <line x1=\"26.71\" y1=\"-0.00\" x2=\"26.71\" y2=\"0.82\"/>\n",
       "      <line x1=\"27.54\" y1=\"0.00\" x2=\"27.95\" y2=\"0.71\"/>\n",
       "      <line x1=\"27.95\" y1=\"0.71\" x2=\"28.77\" y2=\"0.71\"/>\n",
       "      <line x1=\"28.72\" y1=\"0.68\" x2=\"29.13\" y2=\"-0.03\"/>\n",
       "      <line x1=\"28.83\" y1=\"0.74\" x2=\"29.24\" y2=\"0.03\"/>\n",
       "      <line x1=\"28.77\" y1=\"0.71\" x2=\"29.19\" y2=\"1.43\"/>\n",
       "      <line x1=\"29.19\" y1=\"0.00\" x2=\"30.01\" y2=\"0.00\"/>\n",
       "      <line x1=\"30.06\" y1=\"-0.03\" x2=\"30.48\" y2=\"0.68\"/>\n",
       "      <line x1=\"29.96\" y1=\"0.03\" x2=\"30.37\" y2=\"0.74\"/>\n",
       "      <line x1=\"30.42\" y1=\"0.71\" x2=\"30.01\" y2=\"1.43\"/>\n",
       "      <line x1=\"30.01\" y1=\"1.43\" x2=\"29.19\" y2=\"1.43\"/>\n",
       "      <line x1=\"29.24\" y1=\"1.46\" x2=\"28.83\" y2=\"2.17\"/>\n",
       "      <line x1=\"29.13\" y1=\"1.40\" x2=\"28.72\" y2=\"2.11\"/>\n",
       "      <line x1=\"26.71\" y1=\"-0.82\" x2=\"27.43\" y2=\"-1.24\"/>\n",
       "      <line x1=\"26.71\" y1=\"-0.82\" x2=\"26.00\" y2=\"-1.24\"/>\n",
       "      <line x1=\"27.43\" y1=\"-1.24\" x2=\"27.43\" y2=\"-2.06\"/>\n",
       "      <line x1=\"27.43\" y1=\"-2.06\" x2=\"26.71\" y2=\"-2.47\"/>\n",
       "      <line x1=\"26.71\" y1=\"-2.47\" x2=\"26.00\" y2=\"-2.06\"/>\n",
       "      <line x1=\"26.00\" y1=\"-2.06\" x2=\"26.00\" y2=\"-1.24\"/>\n",
       "      <line x1=\"26.71\" y1=\"0.82\" x2=\"27.43\" y2=\"1.24\"/>\n",
       "      <line x1=\"26.71\" y1=\"0.82\" x2=\"26.00\" y2=\"1.24\"/>\n",
       "      <line x1=\"27.43\" y1=\"1.24\" x2=\"27.43\" y2=\"2.06\"/>\n",
       "      <line x1=\"27.43\" y1=\"2.06\" x2=\"26.71\" y2=\"2.47\"/>\n",
       "      <line x1=\"26.71\" y1=\"2.47\" x2=\"26.00\" y2=\"2.06\"/>\n",
       "      <line x1=\"26.00\" y1=\"2.06\" x2=\"26.00\" y2=\"1.24\"/>\n",
       "      <line x1=\"26.71\" y1=\"0.99\" x2=\"27.29\" y2=\"1.32\" stroke-dasharray=\"0.15 0.05\"/>\n",
       "      <line x1=\"27.29\" y1=\"1.32\" x2=\"27.29\" y2=\"1.98\" stroke-dasharray=\"0.15 0.05\"/>\n",
       "      <line x1=\"27.29\" y1=\"1.98\" x2=\"26.71\" y2=\"2.31\" stroke-dasharray=\"0.15 0.05\"/>\n",
       "      <line x1=\"26.71\" y1=\"2.31\" x2=\"26.14\" y2=\"1.98\" stroke-dasharray=\"0.15 0.05\"/>\n",
       "      <line x1=\"26.14\" y1=\"1.98\" x2=\"26.14\" y2=\"1.32\" stroke-dasharray=\"0.15 0.05\"/>\n",
       "      <line x1=\"26.14\" y1=\"1.32\" x2=\"26.71\" y2=\"0.99\" stroke-dasharray=\"0.15 0.05\"/>\n",
       "      <line x1=\"26.71\" y1=\"-0.99\" x2=\"27.29\" y2=\"-1.32\" stroke-dasharray=\"0.15 0.05\"/>\n",
       "      <line x1=\"27.29\" y1=\"-1.32\" x2=\"27.29\" y2=\"-1.98\" stroke-dasharray=\"0.15 0.05\"/>\n",
       "      <line x1=\"27.29\" y1=\"-1.98\" x2=\"26.71\" y2=\"-2.31\" stroke-dasharray=\"0.15 0.05\"/>\n",
       "      <line x1=\"26.71\" y1=\"-2.31\" x2=\"26.14\" y2=\"-1.98\" stroke-dasharray=\"0.15 0.05\"/>\n",
       "      <line x1=\"26.14\" y1=\"-1.98\" x2=\"26.14\" y2=\"-1.32\" stroke-dasharray=\"0.15 0.05\"/>\n",
       "      <line x1=\"26.14\" y1=\"-1.32\" x2=\"26.71\" y2=\"-0.99\" stroke-dasharray=\"0.15 0.05\"/>\n",
       "    </g>\n",
       "    <g font-family=\"monospace\">\n",
       "      <g fill=\"#F0C8A0\" font-family=\"sans-serif\">\n",
       "        <text x=\"26.71\" y=\"-0.00\" dx=\"-0.35\" dy=\"0.20\" font-size=\"0.50\">Si</text>\n",
       "      </g>\n",
       "      <g fill=\"#FF0D0D\" font-family=\"sans-serif\">\n",
       "        <text x=\"27.54\" y=\"0.00\" dx=\"-0.20\" dy=\"0.20\" font-size=\"0.50\">O</text>\n",
       "      </g>\n",
       "      <g fill=\"#3050F8\" font-family=\"sans-serif\">\n",
       "        <text x=\"30.42\" y=\"0.71\" dx=\"-0.20\" dy=\"0.20\" font-size=\"0.50\">N</text>\n",
       "      </g>\n",
       "      <g fill=\"#3050F8\" font-family=\"sans-serif\">\n",
       "        <text x=\"30.01\" y=\"1.43\" dx=\"-0.20\" dy=\"0.20\" font-size=\"0.50\">NH</text>\n",
       "      </g>\n",
       "      <g fill=\"#FF0D0D\" font-family=\"sans-serif\">\n",
       "        <text x=\"28.77\" y=\"2.14\" dx=\"-0.20\" dy=\"0.20\" font-size=\"0.50\">O</text>\n",
       "      </g>\n",
       "    </g>\n",
       "  </g>\n",
       "</svg>"
      ],
      "text/plain": [
       "<IPython.core.display.SVG object>"
      ]
     },
     "metadata": {},
     "output_type": "display_data"
    },
    {
     "name": "stdout",
     "output_type": "stream",
     "text": [
      "-------- Path starts from node #66 with total route score -0.11078304643496137 --------\n"
     ]
    },
    {
     "data": {
      "image/svg+xml": [
       "<svg xmlns=\"http://www.w3.org/2000/svg\" width=\"19.91cm\" height=\"6.12cm\" viewBox=\"-0.62 -5.10 33.19 10.19\" version=\"1.1\">\n",
       "  <defs>\n",
       "    <marker id=\"arrow\" markerWidth=\"10\" markerHeight=\"10\" refX=\"0\" refY=\"3\" orient=\"auto\">\n",
       "      <path d=\"M0,0 L0,6 L9,3\"/>\n",
       "    </marker>\n",
       "  </defs>\n",
       "  <polyline points=\"21.00 -2.57, 22.34 -2.57, 22.34 0.00, 24.00 0.00\" fill=\"none\" stroke=\"black\" stroke-width=\".04\" marker-end=\"url(#arrow)\"/>  <circle cx=\"22.335927403092246\" cy=\"-2.5717062520514085\" r=\"0.1\"/>\n",
       "  <polyline points=\"19.60 3.15, 22.34 3.15, 22.34 0.00, 24.00 0.00\" fill=\"none\" stroke=\"black\" stroke-width=\".04\" marker-end=\"url(#arrow)\"/>  <circle cx=\"22.335927403092246\" cy=\"3.1499996793429617\" r=\"0.1\"/>\n",
       "  <polyline points=\"11.72 0.00, 13.05 0.00, 13.05 3.15, 14.72 3.15\" fill=\"none\" stroke=\"black\" stroke-width=\".04\" marker-end=\"url(#arrow)\"/>  <circle cx=\"13.049101098965178\" cy=\"0.0\" r=\"0.1\"/>\n",
       "  <polyline points=\"1.00 -4.03, 5.19 -4.03, 5.19 0.00, 6.86 0.00\" fill=\"none\" stroke=\"black\" stroke-width=\".04\" marker-end=\"url(#arrow)\"/>  <circle cx=\"5.191218276609755\" cy=\"-4.031249759507018\" r=\"0.1\"/>\n",
       "  <polyline points=\"3.86 0.00, 5.19 0.00, 5.19 0.00, 6.86 0.00\" fill=\"none\" stroke=\"black\" stroke-width=\".04\" marker-end=\"url(#arrow)\"/>  <circle cx=\"5.191218276609755\" cy=\"2.220446049250313e-16\" r=\"0.1\"/>\n",
       "  <polyline points=\"1.00 4.03, 5.19 4.03, 5.19 0.00, 6.86 0.00\" fill=\"none\" stroke=\"black\" stroke-width=\".04\" marker-end=\"url(#arrow)\"/>  <circle cx=\"5.191218276609755\" cy=\"4.031249759507018\" r=\"0.1\"/>\n",
       "  <g>\n",
       "<rect x=\"-0.6\" y=\"3.581249759507018\" rx=\"0.09000000000000004\" ry=\"0.09000000000000004\" width=\"1.5\" height=\"0.9000000000000004\" stroke=\"black\" stroke-width=\".0025\" fill=\"#9BFAB3\" fill-opacity=\"0.30\"/>\n",
       "    <g font-family=\"monospace\">\n",
       "      <g fill=\"#FF0D0D\" font-family=\"sans-serif\">\n",
       "        <text x=\"0.00\" y=\"4.03\" dx=\"-0.20\" dy=\"0.20\" font-size=\"0.50\">OH<tspan dy=\"0.15\" font-size=\"0.35\">2</tspan></text>\n",
       "      </g>\n",
       "    </g>\n",
       "  </g>\n",
       "  <g>\n",
       "<rect x=\"-0.6\" y=\"-1.4812497595070175\" rx=\"0.2962499519014036\" ry=\"0.2962499519014036\" width=\"4.357884943276422\" height=\"2.9624995190140355\" stroke=\"black\" stroke-width=\".0025\" fill=\"#9BFAB3\" fill-opacity=\"0.30\"/>\n",
       "    <defs>\n",
       "      <mask id=\"mask-46d8ef00-dbe6-4136-89ed-81dbc4b1a7fc\">\n",
       "        <rect x=\"-0.62\" y=\"-5.10\" width=\"33.19\" height=\"10.19\" fill=\"white\"/>\n",
       "        <g fill=\"black\">\n",
       "          <circle cx=\"2.86\" cy=\"0.62\" r=\"0.20\"/>\n",
       "          <circle cx=\"2.14\" cy=\"1.03\" r=\"0.20\"/>\n",
       "          <circle cx=\"0.71\" cy=\"1.03\" r=\"0.20\"/>\n",
       "          <circle cx=\"0.00\" cy=\"-1.03\" r=\"0.20\"/>\n",
       "        </g>\n",
       "        <g font-family=\"monospace\" stroke=\"black\">\n",
       "          <g font-family=\"sans-serif\" font-size=\"0.50\" stroke-width=\"0.05\">\n",
       "            <text x=\"2.86\" y=\"0.62\" dx=\"-0.20\" dy=\"0.20\">N</text>\n",
       "            <text x=\"2.14\" y=\"1.03\" dx=\"-0.20\" dy=\"0.20\">NH</text>\n",
       "            <text x=\"0.71\" y=\"1.03\" dx=\"-0.20\" dy=\"0.20\">O</text>\n",
       "            <text x=\"0.00\" y=\"-1.03\" dx=\"-0.20\" dy=\"0.20\">N</text>\n",
       "          </g>\n",
       "        </g>\n",
       "      </mask>\n",
       "    </defs>\n",
       "    <g fill=\"none\" stroke=\"black\" stroke-width=\"0.04\" mask=\"url(#mask-46d8ef00-dbe6-4136-89ed-81dbc4b1a7fc)\">\n",
       "      <line x1=\"2.14\" y1=\"1.03\" x2=\"1.43\" y2=\"0.62\"/>\n",
       "      <line x1=\"2.14\" y1=\"1.03\" x2=\"2.86\" y2=\"0.62\"/>\n",
       "      <line x1=\"1.46\" y1=\"0.67\" x2=\"0.74\" y2=\"1.08\"/>\n",
       "      <line x1=\"1.40\" y1=\"0.57\" x2=\"0.68\" y2=\"0.98\"/>\n",
       "      <line x1=\"1.43\" y1=\"0.62\" x2=\"1.43\" y2=\"-0.21\"/>\n",
       "      <line x1=\"1.43\" y1=\"-0.21\" x2=\"0.71\" y2=\"-0.62\"/>\n",
       "      <line x1=\"1.40\" y1=\"-0.26\" x2=\"2.11\" y2=\"-0.67\"/>\n",
       "      <line x1=\"1.46\" y1=\"-0.15\" x2=\"2.17\" y2=\"-0.57\"/>\n",
       "      <line x1=\"0.65\" y1=\"-0.51\" x2=\"-0.06\" y2=\"-0.92\"/>\n",
       "      <line x1=\"0.71\" y1=\"-0.62\" x2=\"0.00\" y2=\"-1.03\"/>\n",
       "      <line x1=\"0.78\" y1=\"-0.73\" x2=\"0.06\" y2=\"-1.14\"/>\n",
       "      <line x1=\"2.14\" y1=\"-0.62\" x2=\"2.86\" y2=\"-0.21\"/>\n",
       "      <line x1=\"2.92\" y1=\"-0.21\" x2=\"2.92\" y2=\"0.62\"/>\n",
       "      <line x1=\"2.80\" y1=\"-0.21\" x2=\"2.80\" y2=\"0.62\"/>\n",
       "    </g>\n",
       "    <g font-family=\"monospace\">\n",
       "      <g fill=\"#3050F8\" font-family=\"sans-serif\">\n",
       "        <text x=\"2.86\" y=\"0.62\" dx=\"-0.20\" dy=\"0.20\" font-size=\"0.50\">N</text>\n",
       "      </g>\n",
       "      <g fill=\"#3050F8\" font-family=\"sans-serif\">\n",
       "        <text x=\"2.14\" y=\"1.03\" dx=\"-0.20\" dy=\"0.20\" font-size=\"0.50\">NH</text>\n",
       "      </g>\n",
       "      <g fill=\"#FF0D0D\" font-family=\"sans-serif\">\n",
       "        <text x=\"0.71\" y=\"1.03\" dx=\"-0.20\" dy=\"0.20\" font-size=\"0.50\">O</text>\n",
       "      </g>\n",
       "      <g fill=\"#3050F8\" font-family=\"sans-serif\">\n",
       "        <text x=\"0.00\" y=\"-1.03\" dx=\"-0.20\" dy=\"0.20\" font-size=\"0.50\">N</text>\n",
       "      </g>\n",
       "    </g>\n",
       "  </g>\n",
       "  <g>\n",
       "<rect x=\"-0.6\" y=\"-4.481249759507018\" rx=\"0.09000000000000004\" ry=\"0.09000000000000004\" width=\"1.5\" height=\"0.9000000000000004\" stroke=\"black\" stroke-width=\".0025\" fill=\"#9BFAB3\" fill-opacity=\"0.30\"/>\n",
       "    <g font-family=\"monospace\">\n",
       "      <g fill=\"#FF0D0D\" font-family=\"sans-serif\">\n",
       "        <text x=\"0.00\" y=\"-4.03\" dx=\"-0.20\" dy=\"0.20\" font-size=\"0.50\">OH</text>\n",
       "      </g>\n",
       "      <g font-family=\"monospace\" fill=\"black\" font-size=\"0.30\">\n",
       "        <text x=\"0.00\" y=\"-4.03\" dx=\"0.05\" dy=\"-0.20\">-</text>\n",
       "      </g>\n",
       "    </g>\n",
       "  </g>\n",
       "  <g>\n",
       "<rect x=\"7.257884943276423\" y=\"-1.6875001603270046\" rx=\"0.3375000320654009\" ry=\"0.3375000320654009\" width=\"4.357882822355421\" height=\"3.375000320654009\" stroke=\"black\" stroke-width=\".0025\" fill=\"#F0AB90\" fill-opacity=\"0.30\"/>\n",
       "    <defs>\n",
       "      <mask id=\"mask-2d346646-65c5-46a7-b5fd-b1909c5e0a68\">\n",
       "        <rect x=\"-0.62\" y=\"-5.10\" width=\"33.19\" height=\"10.19\" fill=\"white\"/>\n",
       "        <g fill=\"black\">\n",
       "          <circle cx=\"7.86\" cy=\"-0.00\" r=\"0.20\"/>\n",
       "          <circle cx=\"10.72\" cy=\"-0.83\" r=\"0.20\"/>\n",
       "          <circle cx=\"10.00\" cy=\"-1.24\" r=\"0.20\"/>\n",
       "          <circle cx=\"8.57\" cy=\"-1.24\" r=\"0.20\"/>\n",
       "          <circle cx=\"8.57\" cy=\"1.24\" r=\"0.20\"/>\n",
       "        </g>\n",
       "        <g font-family=\"monospace\" stroke=\"black\">\n",
       "          <g font-family=\"sans-serif\" font-size=\"0.50\" stroke-width=\"0.05\">\n",
       "            <text x=\"7.86\" y=\"-0.00\" dx=\"-0.20\" dy=\"0.20\">OH</text>\n",
       "            <text x=\"10.72\" y=\"-0.83\" dx=\"-0.20\" dy=\"0.20\">N</text>\n",
       "            <text x=\"10.00\" y=\"-1.24\" dx=\"-0.20\" dy=\"0.20\">NH</text>\n",
       "            <text x=\"8.57\" y=\"-1.24\" dx=\"-0.20\" dy=\"0.20\">O</text>\n",
       "            <text x=\"8.57\" y=\"1.24\" dx=\"-0.20\" dy=\"0.20\">O</text>\n",
       "          </g>\n",
       "        </g>\n",
       "      </mask>\n",
       "    </defs>\n",
       "    <g fill=\"none\" stroke=\"black\" stroke-width=\"0.04\" mask=\"url(#mask-2d346646-65c5-46a7-b5fd-b1909c5e0a68)\">\n",
       "      <line x1=\"10.00\" y1=\"-1.24\" x2=\"9.29\" y2=\"-0.82\"/>\n",
       "      <line x1=\"10.00\" y1=\"-1.24\" x2=\"10.72\" y2=\"-0.83\"/>\n",
       "      <line x1=\"10.72\" y1=\"-0.00\" x2=\"10.00\" y2=\"0.41\"/>\n",
       "      <line x1=\"10.66\" y1=\"-0.00\" x2=\"10.66\" y2=\"-0.83\"/>\n",
       "      <line x1=\"10.78\" y1=\"-0.00\" x2=\"10.78\" y2=\"-0.83\"/>\n",
       "      <line x1=\"9.97\" y1=\"0.46\" x2=\"9.26\" y2=\"0.05\"/>\n",
       "      <line x1=\"10.03\" y1=\"0.36\" x2=\"9.32\" y2=\"-0.05\"/>\n",
       "      <line x1=\"9.29\" y1=\"0.00\" x2=\"8.57\" y2=\"0.41\"/>\n",
       "      <line x1=\"9.29\" y1=\"0.00\" x2=\"9.29\" y2=\"-0.82\"/>\n",
       "      <line x1=\"8.57\" y1=\"0.41\" x2=\"7.86\" y2=\"-0.00\"/>\n",
       "      <line x1=\"8.63\" y1=\"0.41\" x2=\"8.63\" y2=\"1.24\"/>\n",
       "      <line x1=\"8.51\" y1=\"0.41\" x2=\"8.51\" y2=\"1.24\"/>\n",
       "      <line x1=\"9.26\" y1=\"-0.77\" x2=\"8.54\" y2=\"-1.19\"/>\n",
       "      <line x1=\"9.32\" y1=\"-0.88\" x2=\"8.60\" y2=\"-1.29\"/>\n",
       "    </g>\n",
       "    <g font-family=\"monospace\">\n",
       "      <g fill=\"#FF0D0D\" font-family=\"sans-serif\">\n",
       "        <text x=\"7.86\" y=\"-0.00\" dx=\"-0.20\" dy=\"0.20\" font-size=\"0.50\">OH</text>\n",
       "      </g>\n",
       "      <g fill=\"#3050F8\" font-family=\"sans-serif\">\n",
       "        <text x=\"10.72\" y=\"-0.83\" dx=\"-0.20\" dy=\"0.20\" font-size=\"0.50\">N</text>\n",
       "      </g>\n",
       "      <g fill=\"#3050F8\" font-family=\"sans-serif\">\n",
       "        <text x=\"10.00\" y=\"-1.24\" dx=\"-0.20\" dy=\"0.20\" font-size=\"0.50\">NH</text>\n",
       "      </g>\n",
       "      <g fill=\"#FF0D0D\" font-family=\"sans-serif\">\n",
       "        <text x=\"8.57\" y=\"-1.24\" dx=\"-0.20\" dy=\"0.20\" font-size=\"0.50\">O</text>\n",
       "      </g>\n",
       "      <g fill=\"#FF0D0D\" font-family=\"sans-serif\">\n",
       "        <text x=\"8.57\" y=\"1.24\" dx=\"-0.20\" dy=\"0.20\" font-size=\"0.50\">O</text>\n",
       "      </g>\n",
       "    </g>\n",
       "  </g>\n",
       "  <g>\n",
       "<rect x=\"15.115767765631842\" y=\"1.6282934272915537\" rx=\"0.30434125041028165\" ry=\"0.30434125041028165\" width=\"4.387500641312828\" height=\"3.0434125041028164\" stroke=\"black\" stroke-width=\".0025\" fill=\"#F0AB90\" fill-opacity=\"0.30\"/>\n",
       "    <defs>\n",
       "      <mask id=\"mask-30ceb55f-2871-4255-abcb-fd225a357736\">\n",
       "        <rect x=\"-0.62\" y=\"-5.10\" width=\"33.19\" height=\"10.19\" fill=\"white\"/>\n",
       "        <g fill=\"black\">\n",
       "          <circle cx=\"18.60\" cy=\"2.79\" r=\"0.20\"/>\n",
       "          <circle cx=\"15.72\" cy=\"3.51\" r=\"0.20\"/>\n",
       "          <circle cx=\"16.13\" cy=\"2.79\" r=\"0.20\"/>\n",
       "          <circle cx=\"17.37\" cy=\"2.08\" r=\"0.20\"/>\n",
       "        </g>\n",
       "        <g font-family=\"monospace\" stroke=\"black\">\n",
       "          <g font-family=\"sans-serif\" font-size=\"0.50\" stroke-width=\"0.05\">\n",
       "            <text x=\"18.60\" y=\"2.79\" dx=\"-0.20\" dy=\"0.20\">OH</text>\n",
       "            <text x=\"15.72\" y=\"3.51\" dx=\"-0.20\" dy=\"0.20\">N</text>\n",
       "            <text x=\"16.13\" y=\"2.79\" dx=\"-0.20\" dy=\"0.20\">NH</text>\n",
       "            <text x=\"17.37\" y=\"2.08\" dx=\"-0.20\" dy=\"0.20\">O</text>\n",
       "          </g>\n",
       "        </g>\n",
       "      </mask>\n",
       "    </defs>\n",
       "    <g fill=\"none\" stroke=\"black\" stroke-width=\"0.04\" mask=\"url(#mask-30ceb55f-2871-4255-abcb-fd225a357736)\">\n",
       "      <line x1=\"17.37\" y1=\"3.51\" x2=\"18.19\" y2=\"3.51\"/>\n",
       "      <line x1=\"17.42\" y1=\"3.54\" x2=\"17.01\" y2=\"4.25\"/>\n",
       "      <line x1=\"17.31\" y1=\"3.48\" x2=\"16.90\" y2=\"4.19\"/>\n",
       "      <line x1=\"17.37\" y1=\"3.51\" x2=\"16.95\" y2=\"2.79\"/>\n",
       "      <line x1=\"18.19\" y1=\"3.51\" x2=\"18.60\" y2=\"2.79\"/>\n",
       "      <line x1=\"16.95\" y1=\"4.22\" x2=\"16.13\" y2=\"4.22\"/>\n",
       "      <line x1=\"16.08\" y1=\"4.25\" x2=\"15.66\" y2=\"3.54\"/>\n",
       "      <line x1=\"16.18\" y1=\"4.19\" x2=\"15.77\" y2=\"3.48\"/>\n",
       "      <line x1=\"15.72\" y1=\"3.51\" x2=\"16.13\" y2=\"2.79\"/>\n",
       "      <line x1=\"16.13\" y1=\"2.79\" x2=\"16.95\" y2=\"2.79\"/>\n",
       "      <line x1=\"16.90\" y1=\"2.76\" x2=\"17.31\" y2=\"2.05\"/>\n",
       "      <line x1=\"17.01\" y1=\"2.82\" x2=\"17.42\" y2=\"2.11\"/>\n",
       "    </g>\n",
       "    <g font-family=\"monospace\">\n",
       "      <g fill=\"#FF0D0D\" font-family=\"sans-serif\">\n",
       "        <text x=\"18.60\" y=\"2.79\" dx=\"-0.20\" dy=\"0.20\" font-size=\"0.50\">OH</text>\n",
       "      </g>\n",
       "      <g fill=\"#3050F8\" font-family=\"sans-serif\">\n",
       "        <text x=\"15.72\" y=\"3.51\" dx=\"-0.20\" dy=\"0.20\" font-size=\"0.50\">N</text>\n",
       "      </g>\n",
       "      <g fill=\"#3050F8\" font-family=\"sans-serif\">\n",
       "        <text x=\"16.13\" y=\"2.79\" dx=\"-0.20\" dy=\"0.20\" font-size=\"0.50\">NH</text>\n",
       "      </g>\n",
       "      <g fill=\"#FF0D0D\" font-family=\"sans-serif\">\n",
       "        <text x=\"17.37\" y=\"2.08\" dx=\"-0.20\" dy=\"0.20\" font-size=\"0.50\">O</text>\n",
       "      </g>\n",
       "    </g>\n",
       "  </g>\n",
       "  <g>\n",
       "<rect x=\"15.115767765631842\" y=\"-4.671705931394371\" rx=\"0.41999993586859247\" ry=\"0.41999993586859247\" width=\"5.78682630412707\" height=\"4.1999993586859246\" stroke=\"black\" stroke-width=\".0025\" fill=\"#9BFAB3\" fill-opacity=\"0.30\"/>\n",
       "    <defs>\n",
       "      <mask id=\"mask-ce5ea403-0890-4cc6-8f8f-016ece0e4ed7\">\n",
       "        <rect x=\"-0.62\" y=\"-5.10\" width=\"33.19\" height=\"10.19\" fill=\"white\"/>\n",
       "        <g fill=\"black\">\n",
       "          <ellipse cx=\"17.73\" cy=\"-2.57\" rx=\"0.3\" ry=\"0.2\"/>\n",
       "          <ellipse cx=\"18.15\" cy=\"-3.29\" rx=\"0.3\" ry=\"0.2\"/>\n",
       "        </g>\n",
       "        <g font-family=\"monospace\" stroke=\"black\">\n",
       "          <g font-family=\"sans-serif\" font-size=\"0.50\" stroke-width=\"0.05\">\n",
       "            <text x=\"17.86\" y=\"-2.57\" dx=\"-0.35\" dy=\"0.20\">Si</text>\n",
       "            <text x=\"18.27\" y=\"-3.29\" dx=\"-0.35\" dy=\"0.20\">Cl</text>\n",
       "          </g>\n",
       "        </g>\n",
       "      </mask>\n",
       "    </defs>\n",
       "    <g fill=\"none\" stroke=\"black\" stroke-width=\"0.04\" mask=\"url(#mask-ce5ea403-0890-4cc6-8f8f-016ece0e4ed7)\">\n",
       "      <line x1=\"17.14\" y1=\"-2.98\" x2=\"17.86\" y2=\"-2.57\"/>\n",
       "      <line x1=\"17.14\" y1=\"-2.98\" x2=\"16.43\" y2=\"-2.57\"/>\n",
       "      <line x1=\"17.14\" y1=\"-2.98\" x2=\"17.14\" y2=\"-3.81\"/>\n",
       "      <line x1=\"17.86\" y1=\"-2.57\" x2=\"18.57\" y2=\"-2.16\"/>\n",
       "      <line x1=\"17.86\" y1=\"-2.57\" x2=\"18.27\" y2=\"-3.29\"/>\n",
       "      <line x1=\"17.86\" y1=\"-2.57\" x2=\"17.45\" y2=\"-1.86\"/>\n",
       "      <line x1=\"18.57\" y1=\"-2.16\" x2=\"18.57\" y2=\"-1.33\"/>\n",
       "      <line x1=\"18.57\" y1=\"-2.16\" x2=\"19.29\" y2=\"-2.57\"/>\n",
       "      <line x1=\"17.45\" y1=\"-1.86\" x2=\"17.98\" y2=\"-1.23\"/>\n",
       "      <line x1=\"17.45\" y1=\"-1.86\" x2=\"17.03\" y2=\"-1.14\"/>\n",
       "      <line x1=\"17.45\" y1=\"-1.86\" x2=\"16.63\" y2=\"-2.00\"/>\n",
       "      <line x1=\"18.57\" y1=\"-1.33\" x2=\"19.29\" y2=\"-0.92\"/>\n",
       "      <line x1=\"19.29\" y1=\"-0.92\" x2=\"20.00\" y2=\"-1.33\"/>\n",
       "      <line x1=\"20.00\" y1=\"-1.33\" x2=\"20.00\" y2=\"-2.16\"/>\n",
       "      <line x1=\"20.00\" y1=\"-2.16\" x2=\"19.29\" y2=\"-2.57\"/>\n",
       "      <line x1=\"16.43\" y1=\"-2.57\" x2=\"15.72\" y2=\"-2.98\"/>\n",
       "      <line x1=\"15.72\" y1=\"-2.98\" x2=\"15.72\" y2=\"-3.81\"/>\n",
       "      <line x1=\"15.72\" y1=\"-3.81\" x2=\"16.43\" y2=\"-4.22\"/>\n",
       "      <line x1=\"16.43\" y1=\"-4.22\" x2=\"17.14\" y2=\"-3.81\"/>\n",
       "      <line x1=\"17.00\" y1=\"-3.07\" x2=\"16.43\" y2=\"-2.73\" stroke-dasharray=\"0.15 0.05\"/>\n",
       "      <line x1=\"16.43\" y1=\"-2.73\" x2=\"15.86\" y2=\"-3.07\" stroke-dasharray=\"0.15 0.05\"/>\n",
       "      <line x1=\"15.86\" y1=\"-3.07\" x2=\"15.86\" y2=\"-3.73\" stroke-dasharray=\"0.15 0.05\"/>\n",
       "      <line x1=\"15.86\" y1=\"-3.73\" x2=\"16.43\" y2=\"-4.06\" stroke-dasharray=\"0.15 0.05\"/>\n",
       "      <line x1=\"16.43\" y1=\"-4.06\" x2=\"17.00\" y2=\"-3.73\" stroke-dasharray=\"0.15 0.05\"/>\n",
       "      <line x1=\"17.00\" y1=\"-3.73\" x2=\"17.00\" y2=\"-3.07\" stroke-dasharray=\"0.15 0.05\"/>\n",
       "      <line x1=\"18.71\" y1=\"-2.08\" x2=\"18.71\" y2=\"-1.42\" stroke-dasharray=\"0.15 0.05\"/>\n",
       "      <line x1=\"18.71\" y1=\"-1.42\" x2=\"19.29\" y2=\"-1.08\" stroke-dasharray=\"0.15 0.05\"/>\n",
       "      <line x1=\"19.29\" y1=\"-1.08\" x2=\"19.86\" y2=\"-1.42\" stroke-dasharray=\"0.15 0.05\"/>\n",
       "      <line x1=\"19.86\" y1=\"-1.42\" x2=\"19.86\" y2=\"-2.08\" stroke-dasharray=\"0.15 0.05\"/>\n",
       "      <line x1=\"19.86\" y1=\"-2.08\" x2=\"19.29\" y2=\"-2.41\" stroke-dasharray=\"0.15 0.05\"/>\n",
       "      <line x1=\"19.29\" y1=\"-2.41\" x2=\"18.71\" y2=\"-2.08\" stroke-dasharray=\"0.15 0.05\"/>\n",
       "    </g>\n",
       "    <g font-family=\"monospace\">\n",
       "      <g fill=\"#F0C8A0\" font-family=\"sans-serif\">\n",
       "        <text x=\"17.86\" y=\"-2.57\" dx=\"-0.35\" dy=\"0.20\" font-size=\"0.50\">Si</text>\n",
       "      </g>\n",
       "      <g fill=\"#1FF01F\" font-family=\"sans-serif\">\n",
       "        <text x=\"18.27\" y=\"-3.29\" dx=\"-0.35\" dy=\"0.20\" font-size=\"0.50\">Cl</text>\n",
       "      </g>\n",
       "    </g>\n",
       "  </g>\n",
       "  <g>\n",
       "<rect x=\"24.402594069758912\" y=\"-2.5124999999997923\" rx=\"0.5024999999999585\" ry=\"0.5024999999999585\" width=\"7.687500320656369\" height=\"5.024999999999585\" stroke=\"black\" stroke-width=\".0025\" fill=\"#98EEFF\" fill-opacity=\"0.30\"/>\n",
       "    <defs>\n",
       "      <mask id=\"mask-8582bee2-ecbf-48ff-8531-23445182dbb3\">\n",
       "        <rect x=\"-0.62\" y=\"-5.10\" width=\"33.19\" height=\"10.19\" fill=\"white\"/>\n",
       "        <g fill=\"black\">\n",
       "          <ellipse cx=\"28.59\" cy=\"-0.41\" rx=\"0.3\" ry=\"0.2\"/>\n",
       "          <circle cx=\"27.89\" cy=\"-0.41\" r=\"0.20\"/>\n",
       "          <circle cx=\"25.00\" cy=\"0.30\" r=\"0.20\"/>\n",
       "          <circle cx=\"25.42\" cy=\"-0.41\" r=\"0.20\"/>\n",
       "          <circle cx=\"26.65\" cy=\"-1.13\" r=\"0.20\"/>\n",
       "        </g>\n",
       "        <g font-family=\"monospace\" stroke=\"black\">\n",
       "          <g font-family=\"sans-serif\" font-size=\"0.50\" stroke-width=\"0.05\">\n",
       "            <text x=\"28.72\" y=\"-0.41\" dx=\"-0.35\" dy=\"0.20\">Si</text>\n",
       "            <text x=\"27.89\" y=\"-0.41\" dx=\"-0.20\" dy=\"0.20\">O</text>\n",
       "            <text x=\"25.00\" y=\"0.30\" dx=\"-0.20\" dy=\"0.20\">N</text>\n",
       "            <text x=\"25.42\" y=\"-0.41\" dx=\"-0.20\" dy=\"0.20\">NH</text>\n",
       "            <text x=\"26.65\" y=\"-1.13\" dx=\"-0.20\" dy=\"0.20\">O</text>\n",
       "          </g>\n",
       "        </g>\n",
       "      </mask>\n",
       "    </defs>\n",
       "    <g fill=\"none\" stroke=\"black\" stroke-width=\"0.04\" mask=\"url(#mask-8582bee2-ecbf-48ff-8531-23445182dbb3)\">\n",
       "      <line x1=\"28.72\" y1=\"-2.06\" x2=\"28.72\" y2=\"-1.24\"/>\n",
       "      <line x1=\"28.72\" y1=\"-1.24\" x2=\"27.89\" y2=\"-1.24\"/>\n",
       "      <line x1=\"28.72\" y1=\"-1.24\" x2=\"29.49\" y2=\"-1.52\"/>\n",
       "      <line x1=\"28.72\" y1=\"-1.24\" x2=\"28.72\" y2=\"-0.41\"/>\n",
       "      <line x1=\"28.72\" y1=\"-0.41\" x2=\"27.89\" y2=\"-0.41\"/>\n",
       "      <line x1=\"28.72\" y1=\"-0.41\" x2=\"29.54\" y2=\"-0.41\"/>\n",
       "      <line x1=\"28.72\" y1=\"-0.41\" x2=\"28.72\" y2=\"0.41\"/>\n",
       "      <line x1=\"27.89\" y1=\"-0.41\" x2=\"27.48\" y2=\"0.30\"/>\n",
       "      <line x1=\"27.48\" y1=\"0.30\" x2=\"26.65\" y2=\"0.30\"/>\n",
       "      <line x1=\"26.70\" y1=\"0.33\" x2=\"26.29\" y2=\"1.05\"/>\n",
       "      <line x1=\"26.60\" y1=\"0.27\" x2=\"26.19\" y2=\"0.99\"/>\n",
       "      <line x1=\"26.65\" y1=\"0.30\" x2=\"26.24\" y2=\"-0.41\"/>\n",
       "      <line x1=\"26.24\" y1=\"1.02\" x2=\"25.42\" y2=\"1.02\"/>\n",
       "      <line x1=\"25.36\" y1=\"1.05\" x2=\"24.95\" y2=\"0.33\"/>\n",
       "      <line x1=\"25.47\" y1=\"0.99\" x2=\"25.05\" y2=\"0.27\"/>\n",
       "      <line x1=\"25.00\" y1=\"0.30\" x2=\"25.42\" y2=\"-0.41\"/>\n",
       "      <line x1=\"25.42\" y1=\"-0.41\" x2=\"26.24\" y2=\"-0.41\"/>\n",
       "      <line x1=\"26.19\" y1=\"-0.44\" x2=\"26.60\" y2=\"-1.16\"/>\n",
       "      <line x1=\"26.29\" y1=\"-0.38\" x2=\"26.70\" y2=\"-1.10\"/>\n",
       "      <line x1=\"29.54\" y1=\"-0.41\" x2=\"29.95\" y2=\"-1.13\"/>\n",
       "      <line x1=\"29.54\" y1=\"-0.41\" x2=\"29.95\" y2=\"0.30\"/>\n",
       "      <line x1=\"29.95\" y1=\"-1.13\" x2=\"30.78\" y2=\"-1.13\"/>\n",
       "      <line x1=\"30.78\" y1=\"-1.13\" x2=\"31.19\" y2=\"-0.41\"/>\n",
       "      <line x1=\"31.19\" y1=\"-0.41\" x2=\"30.78\" y2=\"0.30\"/>\n",
       "      <line x1=\"30.78\" y1=\"0.30\" x2=\"29.95\" y2=\"0.30\"/>\n",
       "      <line x1=\"28.72\" y1=\"0.41\" x2=\"28.00\" y2=\"0.82\"/>\n",
       "      <line x1=\"28.72\" y1=\"0.41\" x2=\"29.43\" y2=\"0.83\"/>\n",
       "      <line x1=\"28.00\" y1=\"0.82\" x2=\"28.00\" y2=\"1.65\"/>\n",
       "      <line x1=\"28.00\" y1=\"1.65\" x2=\"28.72\" y2=\"2.06\"/>\n",
       "      <line x1=\"28.72\" y1=\"2.06\" x2=\"29.43\" y2=\"1.65\"/>\n",
       "      <line x1=\"29.43\" y1=\"1.65\" x2=\"29.43\" y2=\"0.83\"/>\n",
       "      <line x1=\"28.72\" y1=\"0.57\" x2=\"28.14\" y2=\"0.91\" stroke-dasharray=\"0.15 0.05\"/>\n",
       "      <line x1=\"28.14\" y1=\"0.91\" x2=\"28.14\" y2=\"1.57\" stroke-dasharray=\"0.15 0.05\"/>\n",
       "      <line x1=\"28.14\" y1=\"1.57\" x2=\"28.72\" y2=\"1.90\" stroke-dasharray=\"0.15 0.05\"/>\n",
       "      <line x1=\"28.72\" y1=\"1.90\" x2=\"29.29\" y2=\"1.57\" stroke-dasharray=\"0.15 0.05\"/>\n",
       "      <line x1=\"29.29\" y1=\"1.57\" x2=\"29.29\" y2=\"0.91\" stroke-dasharray=\"0.15 0.05\"/>\n",
       "      <line x1=\"29.29\" y1=\"0.91\" x2=\"28.72\" y2=\"0.57\" stroke-dasharray=\"0.15 0.05\"/>\n",
       "      <line x1=\"29.70\" y1=\"-0.41\" x2=\"30.03\" y2=\"-0.99\" stroke-dasharray=\"0.15 0.05\"/>\n",
       "      <line x1=\"30.03\" y1=\"-0.99\" x2=\"30.70\" y2=\"-0.99\" stroke-dasharray=\"0.15 0.05\"/>\n",
       "      <line x1=\"30.70\" y1=\"-0.99\" x2=\"31.03\" y2=\"-0.41\" stroke-dasharray=\"0.15 0.05\"/>\n",
       "      <line x1=\"31.03\" y1=\"-0.41\" x2=\"30.70\" y2=\"0.16\" stroke-dasharray=\"0.15 0.05\"/>\n",
       "      <line x1=\"30.70\" y1=\"0.16\" x2=\"30.03\" y2=\"0.16\" stroke-dasharray=\"0.15 0.05\"/>\n",
       "      <line x1=\"30.03\" y1=\"0.16\" x2=\"29.70\" y2=\"-0.41\" stroke-dasharray=\"0.15 0.05\"/>\n",
       "    </g>\n",
       "    <g font-family=\"monospace\">\n",
       "      <g fill=\"#F0C8A0\" font-family=\"sans-serif\">\n",
       "        <text x=\"28.72\" y=\"-0.41\" dx=\"-0.35\" dy=\"0.20\" font-size=\"0.50\">Si</text>\n",
       "      </g>\n",
       "      <g fill=\"#FF0D0D\" font-family=\"sans-serif\">\n",
       "        <text x=\"27.89\" y=\"-0.41\" dx=\"-0.20\" dy=\"0.20\" font-size=\"0.50\">O</text>\n",
       "      </g>\n",
       "      <g fill=\"#3050F8\" font-family=\"sans-serif\">\n",
       "        <text x=\"25.00\" y=\"0.30\" dx=\"-0.20\" dy=\"0.20\" font-size=\"0.50\">N</text>\n",
       "      </g>\n",
       "      <g fill=\"#3050F8\" font-family=\"sans-serif\">\n",
       "        <text x=\"25.42\" y=\"-0.41\" dx=\"-0.20\" dy=\"0.20\" font-size=\"0.50\">NH</text>\n",
       "      </g>\n",
       "      <g fill=\"#FF0D0D\" font-family=\"sans-serif\">\n",
       "        <text x=\"26.65\" y=\"-1.13\" dx=\"-0.20\" dy=\"0.20\" font-size=\"0.50\">O</text>\n",
       "      </g>\n",
       "    </g>\n",
       "  </g>\n",
       "</svg>"
      ],
      "text/plain": [
       "<IPython.core.display.SVG object>"
      ]
     },
     "metadata": {},
     "output_type": "display_data"
    },
    {
     "name": "stdout",
     "output_type": "stream",
     "text": [
      "-------- Path starts from node #62 with total route score -0.11078304643496137 --------\n"
     ]
    },
    {
     "data": {
      "image/svg+xml": [
       "<svg xmlns=\"http://www.w3.org/2000/svg\" width=\"20.05cm\" height=\"5.62cm\" viewBox=\"-0.62 -4.68 33.41 9.37\" version=\"1.1\">\n",
       "  <defs>\n",
       "    <marker id=\"arrow\" markerWidth=\"10\" markerHeight=\"10\" refX=\"0\" refY=\"3\" orient=\"auto\">\n",
       "      <path d=\"M0,0 L0,6 L9,3\"/>\n",
       "    </marker>\n",
       "  </defs>\n",
       "  <polyline points=\"21.70 -2.57, 23.03 -2.57, 23.03 0.00, 24.70 0.00\" fill=\"none\" stroke=\"black\" stroke-width=\".04\" marker-end=\"url(#arrow)\"/>  <circle cx=\"23.02871716832284\" cy=\"-2.5717072702735866\" r=\"0.1\"/>\n",
       "  <polyline points=\"19.63 2.74, 23.03 2.74, 23.03 0.00, 24.70 0.00\" fill=\"none\" stroke=\"black\" stroke-width=\".04\" marker-end=\"url(#arrow)\"/>  <circle cx=\"23.02871716832284\" cy=\"2.7374999999998755\" r=\"0.1\"/>\n",
       "  <polyline points=\"11.75 0.00, 13.08 0.00, 13.08 2.74, 14.75 2.74\" fill=\"none\" stroke=\"black\" stroke-width=\".04\" marker-end=\"url(#arrow)\"/>  <circle cx=\"13.078717168323342\" cy=\"0.0\" r=\"0.1\"/>\n",
       "  <polyline points=\"2.43 -2.74, 5.19 -2.74, 5.19 0.00, 6.86 0.00\" fill=\"none\" stroke=\"black\" stroke-width=\".04\" marker-end=\"url(#arrow)\"/>  <circle cx=\"5.191218276609755\" cy=\"-2.737499999999719\" r=\"0.1\"/>\n",
       "  <polyline points=\"3.86 2.21, 5.19 2.21, 5.19 0.00, 6.86 0.00\" fill=\"none\" stroke=\"black\" stroke-width=\".04\" marker-end=\"url(#arrow)\"/>  <circle cx=\"5.191218276609755\" cy=\"2.2144709581221615\" r=\"0.1\"/>\n",
       "  <g>\n",
       "<rect x=\"-0.6\" y=\"0.5269709581224424\" rx=\"0.3374999999999439\" ry=\"0.3374999999999439\" width=\"4.357884943276422\" height=\"3.3749999999994387\" stroke=\"black\" stroke-width=\".0025\" fill=\"#9BFAB3\" fill-opacity=\"0.30\"/>\n",
       "    <defs>\n",
       "      <mask id=\"mask-1ca5d7e0-67a7-4bcc-a507-ab37ec511738\">\n",
       "        <rect x=\"-0.62\" y=\"-4.68\" width=\"33.41\" height=\"9.37\" fill=\"white\"/>\n",
       "        <g fill=\"black\">\n",
       "          <circle cx=\"2.86\" cy=\"3.04\" r=\"0.20\"/>\n",
       "          <circle cx=\"2.86\" cy=\"2.21\" r=\"0.20\"/>\n",
       "          <circle cx=\"2.14\" cy=\"0.98\" r=\"0.20\"/>\n",
       "          <circle cx=\"0.00\" cy=\"1.39\" r=\"0.20\"/>\n",
       "        </g>\n",
       "        <g font-family=\"monospace\" stroke=\"black\">\n",
       "          <g font-family=\"sans-serif\" font-size=\"0.50\" stroke-width=\"0.05\">\n",
       "            <text x=\"2.86\" y=\"3.04\" dx=\"-0.20\" dy=\"0.20\">N</text>\n",
       "            <text x=\"2.86\" y=\"2.21\" dx=\"-0.20\" dy=\"0.20\">NH</text>\n",
       "            <text x=\"2.14\" y=\"0.98\" dx=\"-0.20\" dy=\"0.20\">O</text>\n",
       "            <text x=\"0.00\" y=\"1.39\" dx=\"-0.20\" dy=\"0.20\">N</text>\n",
       "          </g>\n",
       "        </g>\n",
       "      </mask>\n",
       "    </defs>\n",
       "    <g fill=\"none\" stroke=\"black\" stroke-width=\"0.04\" mask=\"url(#mask-1ca5d7e0-67a7-4bcc-a507-ab37ec511738)\">\n",
       "      <line x1=\"2.20\" y1=\"0.98\" x2=\"2.20\" y2=\"1.80\"/>\n",
       "      <line x1=\"2.08\" y1=\"0.98\" x2=\"2.08\" y2=\"1.80\"/>\n",
       "      <line x1=\"2.14\" y1=\"1.80\" x2=\"1.43\" y2=\"2.21\"/>\n",
       "      <line x1=\"2.14\" y1=\"1.80\" x2=\"2.86\" y2=\"2.21\"/>\n",
       "      <line x1=\"1.43\" y1=\"2.21\" x2=\"0.71\" y2=\"1.80\"/>\n",
       "      <line x1=\"1.49\" y1=\"2.21\" x2=\"1.49\" y2=\"3.04\"/>\n",
       "      <line x1=\"1.37\" y1=\"2.21\" x2=\"1.37\" y2=\"3.04\"/>\n",
       "      <line x1=\"0.65\" y1=\"1.91\" x2=\"-0.06\" y2=\"1.50\"/>\n",
       "      <line x1=\"0.71\" y1=\"1.80\" x2=\"0.00\" y2=\"1.39\"/>\n",
       "      <line x1=\"0.78\" y1=\"1.69\" x2=\"0.06\" y2=\"1.28\"/>\n",
       "      <line x1=\"1.43\" y1=\"3.04\" x2=\"2.14\" y2=\"3.45\"/>\n",
       "      <line x1=\"2.11\" y1=\"3.40\" x2=\"2.83\" y2=\"2.99\"/>\n",
       "      <line x1=\"2.17\" y1=\"3.50\" x2=\"2.89\" y2=\"3.09\"/>\n",
       "      <line x1=\"2.86\" y1=\"2.21\" x2=\"2.86\" y2=\"3.04\"/>\n",
       "    </g>\n",
       "    <g font-family=\"monospace\">\n",
       "      <g fill=\"#3050F8\" font-family=\"sans-serif\">\n",
       "        <text x=\"2.86\" y=\"3.04\" dx=\"-0.20\" dy=\"0.20\" font-size=\"0.50\">N</text>\n",
       "      </g>\n",
       "      <g fill=\"#3050F8\" font-family=\"sans-serif\">\n",
       "        <text x=\"2.86\" y=\"2.21\" dx=\"-0.20\" dy=\"0.20\" font-size=\"0.50\">NH</text>\n",
       "      </g>\n",
       "      <g fill=\"#FF0D0D\" font-family=\"sans-serif\">\n",
       "        <text x=\"2.14\" y=\"0.98\" dx=\"-0.20\" dy=\"0.20\" font-size=\"0.50\">O</text>\n",
       "      </g>\n",
       "      <g fill=\"#3050F8\" font-family=\"sans-serif\">\n",
       "        <text x=\"0.00\" y=\"1.39\" dx=\"-0.20\" dy=\"0.20\" font-size=\"0.50\">N</text>\n",
       "      </g>\n",
       "    </g>\n",
       "  </g>\n",
       "  <g>\n",
       "<rect x=\"-0.6\" y=\"-3.901970958121881\" rx=\"0.23289419162443237\" ry=\"0.23289419162443237\" width=\"2.9289419162443235\" height=\"2.3289419162443235\" stroke=\"black\" stroke-width=\".0025\" fill=\"#9BFAB3\" fill-opacity=\"0.30\"/>\n",
       "    <defs>\n",
       "      <mask id=\"mask-33bef48a-cfb8-4037-aa40-3a4511958867\">\n",
       "        <rect x=\"-0.62\" y=\"-4.68\" width=\"33.41\" height=\"9.37\" fill=\"white\"/>\n",
       "        <g fill=\"black\">\n",
       "          <circle cx=\"1.43\" cy=\"-2.32\" r=\"0.20\"/>\n",
       "          <circle cx=\"0.30\" cy=\"-2.02\" r=\"0.20\"/>\n",
       "          <circle cx=\"0.71\" cy=\"-2.74\" r=\"0.20\"/>\n",
       "          <circle cx=\"1.13\" cy=\"-3.45\" r=\"0.20\"/>\n",
       "          <circle cx=\"0.00\" cy=\"-3.15\" r=\"0.20\"/>\n",
       "        </g>\n",
       "        <g font-family=\"monospace\" stroke=\"black\">\n",
       "          <g font-family=\"sans-serif\" font-size=\"0.50\" stroke-width=\"0.05\">\n",
       "            <text x=\"1.43\" y=\"-2.32\" dx=\"-0.20\" dy=\"0.20\">OH</text>\n",
       "            <text x=\"0.30\" y=\"-2.02\" dx=\"-0.20\" dy=\"0.20\">OH</text>\n",
       "            <text x=\"0.71\" y=\"-2.74\" dx=\"-0.20\" dy=\"0.20\">S</text>\n",
       "            <text x=\"1.13\" y=\"-3.45\" dx=\"-0.20\" dy=\"0.20\">O</text>\n",
       "            <text x=\"0.00\" y=\"-3.15\" dx=\"-0.20\" dy=\"0.20\">O</text>\n",
       "          </g>\n",
       "        </g>\n",
       "      </mask>\n",
       "    </defs>\n",
       "    <g fill=\"none\" stroke=\"black\" stroke-width=\"0.04\" mask=\"url(#mask-33bef48a-cfb8-4037-aa40-3a4511958867)\">\n",
       "      <line x1=\"0.30\" y1=\"-2.02\" x2=\"0.71\" y2=\"-2.74\"/>\n",
       "      <line x1=\"0.71\" y1=\"-2.74\" x2=\"1.43\" y2=\"-2.32\"/>\n",
       "      <line x1=\"0.66\" y1=\"-2.77\" x2=\"1.08\" y2=\"-3.48\"/>\n",
       "      <line x1=\"0.77\" y1=\"-2.71\" x2=\"1.18\" y2=\"-3.42\"/>\n",
       "      <line x1=\"0.68\" y1=\"-2.69\" x2=\"-0.03\" y2=\"-3.10\"/>\n",
       "      <line x1=\"0.74\" y1=\"-2.79\" x2=\"0.03\" y2=\"-3.20\"/>\n",
       "    </g>\n",
       "    <g font-family=\"monospace\">\n",
       "      <g fill=\"#FF0D0D\" font-family=\"sans-serif\">\n",
       "        <text x=\"1.43\" y=\"-2.32\" dx=\"-0.20\" dy=\"0.20\" font-size=\"0.50\">OH</text>\n",
       "      </g>\n",
       "      <g fill=\"#FF0D0D\" font-family=\"sans-serif\">\n",
       "        <text x=\"0.30\" y=\"-2.02\" dx=\"-0.20\" dy=\"0.20\" font-size=\"0.50\">OH</text>\n",
       "      </g>\n",
       "      <g fill=\"#C6C600\" font-family=\"sans-serif\">\n",
       "        <text x=\"0.71\" y=\"-2.74\" dx=\"-0.20\" dy=\"0.20\" font-size=\"0.50\">S</text>\n",
       "      </g>\n",
       "      <g fill=\"#FF0D0D\" font-family=\"sans-serif\">\n",
       "        <text x=\"1.13\" y=\"-3.45\" dx=\"-0.20\" dy=\"0.20\" font-size=\"0.50\">O</text>\n",
       "      </g>\n",
       "      <g fill=\"#FF0D0D\" font-family=\"sans-serif\">\n",
       "        <text x=\"0.00\" y=\"-3.15\" dx=\"-0.20\" dy=\"0.20\" font-size=\"0.50\">O</text>\n",
       "      </g>\n",
       "    </g>\n",
       "  </g>\n",
       "  <g>\n",
       "<rect x=\"7.257884943276421\" y=\"-1.521706992577021\" rx=\"0.3043413985154042\" ry=\"0.3043413985154042\" width=\"4.387498891713587\" height=\"3.043413985154042\" stroke=\"black\" stroke-width=\".0025\" fill=\"#F0AB90\" fill-opacity=\"0.30\"/>\n",
       "    <defs>\n",
       "      <mask id=\"mask-0f86d6f6-8982-4676-80d3-cbd9e3a1c50c\">\n",
       "        <rect x=\"-0.62\" y=\"-4.68\" width=\"33.41\" height=\"9.37\" fill=\"white\"/>\n",
       "        <g fill=\"black\">\n",
       "          <circle cx=\"10.75\" cy=\"-1.07\" r=\"0.20\"/>\n",
       "          <circle cx=\"7.86\" cy=\"-0.36\" r=\"0.20\"/>\n",
       "          <circle cx=\"8.27\" cy=\"0.36\" r=\"0.20\"/>\n",
       "          <circle cx=\"9.51\" cy=\"1.07\" r=\"0.20\"/>\n",
       "          <circle cx=\"10.75\" cy=\"0.36\" r=\"0.20\"/>\n",
       "        </g>\n",
       "        <g font-family=\"monospace\" stroke=\"black\">\n",
       "          <g font-family=\"sans-serif\" font-size=\"0.50\" stroke-width=\"0.05\">\n",
       "            <text x=\"10.75\" y=\"-1.07\" dx=\"-0.20\" dy=\"0.20\">OH</text>\n",
       "            <text x=\"7.86\" y=\"-0.36\" dx=\"-0.20\" dy=\"0.20\">N</text>\n",
       "            <text x=\"8.27\" y=\"0.36\" dx=\"-0.20\" dy=\"0.20\">NH</text>\n",
       "            <text x=\"9.51\" y=\"1.07\" dx=\"-0.20\" dy=\"0.20\">O</text>\n",
       "            <text x=\"10.75\" y=\"0.36\" dx=\"-0.20\" dy=\"0.20\">O</text>\n",
       "          </g>\n",
       "        </g>\n",
       "      </mask>\n",
       "    </defs>\n",
       "    <g fill=\"none\" stroke=\"black\" stroke-width=\"0.04\" mask=\"url(#mask-0f86d6f6-8982-4676-80d3-cbd9e3a1c50c)\">\n",
       "      <line x1=\"8.27\" y1=\"0.36\" x2=\"9.10\" y2=\"0.36\"/>\n",
       "      <line x1=\"8.27\" y1=\"0.36\" x2=\"7.86\" y2=\"-0.36\"/>\n",
       "      <line x1=\"8.27\" y1=\"-1.07\" x2=\"9.10\" y2=\"-1.07\"/>\n",
       "      <line x1=\"8.32\" y1=\"-1.04\" x2=\"7.91\" y2=\"-0.33\"/>\n",
       "      <line x1=\"8.22\" y1=\"-1.10\" x2=\"7.81\" y2=\"-0.39\"/>\n",
       "      <line x1=\"9.15\" y1=\"-1.10\" x2=\"9.56\" y2=\"-0.39\"/>\n",
       "      <line x1=\"9.04\" y1=\"-1.04\" x2=\"9.46\" y2=\"-0.33\"/>\n",
       "      <line x1=\"9.51\" y1=\"-0.36\" x2=\"10.33\" y2=\"-0.36\"/>\n",
       "      <line x1=\"9.51\" y1=\"-0.36\" x2=\"9.10\" y2=\"0.36\"/>\n",
       "      <line x1=\"10.33\" y1=\"-0.36\" x2=\"10.75\" y2=\"-1.07\"/>\n",
       "      <line x1=\"10.38\" y1=\"-0.39\" x2=\"10.80\" y2=\"0.33\"/>\n",
       "      <line x1=\"10.28\" y1=\"-0.33\" x2=\"10.69\" y2=\"0.39\"/>\n",
       "      <line x1=\"9.15\" y1=\"0.33\" x2=\"9.56\" y2=\"1.04\"/>\n",
       "      <line x1=\"9.04\" y1=\"0.39\" x2=\"9.46\" y2=\"1.10\"/>\n",
       "    </g>\n",
       "    <g font-family=\"monospace\">\n",
       "      <g fill=\"#FF0D0D\" font-family=\"sans-serif\">\n",
       "        <text x=\"10.75\" y=\"-1.07\" dx=\"-0.20\" dy=\"0.20\" font-size=\"0.50\">OH</text>\n",
       "      </g>\n",
       "      <g fill=\"#3050F8\" font-family=\"sans-serif\">\n",
       "        <text x=\"7.86\" y=\"-0.36\" dx=\"-0.20\" dy=\"0.20\" font-size=\"0.50\">N</text>\n",
       "      </g>\n",
       "      <g fill=\"#3050F8\" font-family=\"sans-serif\">\n",
       "        <text x=\"8.27\" y=\"0.36\" dx=\"-0.20\" dy=\"0.20\" font-size=\"0.50\">NH</text>\n",
       "      </g>\n",
       "      <g fill=\"#FF0D0D\" font-family=\"sans-serif\">\n",
       "        <text x=\"9.51\" y=\"1.07\" dx=\"-0.20\" dy=\"0.20\" font-size=\"0.50\">O</text>\n",
       "      </g>\n",
       "      <g fill=\"#FF0D0D\" font-family=\"sans-serif\">\n",
       "        <text x=\"10.75\" y=\"0.36\" dx=\"-0.20\" dy=\"0.20\" font-size=\"0.50\">O</text>\n",
       "      </g>\n",
       "    </g>\n",
       "  </g>\n",
       "  <g>\n",
       "<rect x=\"15.145383834990009\" y=\"1.2157927297262885\" rx=\"0.30434145405471735\" ry=\"0.30434145405471735\" width=\"4.387499038026389\" height=\"3.0434145405471735\" stroke=\"black\" stroke-width=\".0025\" fill=\"#F0AB90\" fill-opacity=\"0.30\"/>\n",
       "    <defs>\n",
       "      <mask id=\"mask-11775e63-5bd5-4c50-b91c-76a604fb8906\">\n",
       "        <rect x=\"-0.62\" y=\"-4.68\" width=\"33.41\" height=\"9.37\" fill=\"white\"/>\n",
       "        <g fill=\"black\">\n",
       "          <circle cx=\"15.75\" cy=\"1.67\" r=\"0.20\"/>\n",
       "          <circle cx=\"18.63\" cy=\"2.38\" r=\"0.20\"/>\n",
       "          <circle cx=\"18.22\" cy=\"3.09\" r=\"0.20\"/>\n",
       "          <circle cx=\"16.98\" cy=\"3.81\" r=\"0.20\"/>\n",
       "        </g>\n",
       "        <g font-family=\"monospace\" stroke=\"black\">\n",
       "          <g font-family=\"sans-serif\" font-size=\"0.50\" stroke-width=\"0.05\">\n",
       "            <text x=\"15.75\" y=\"1.67\" dx=\"-0.20\" dy=\"0.20\">OH</text>\n",
       "            <text x=\"18.63\" y=\"2.38\" dx=\"-0.20\" dy=\"0.20\">N</text>\n",
       "            <text x=\"18.22\" y=\"3.09\" dx=\"-0.20\" dy=\"0.20\">NH</text>\n",
       "            <text x=\"16.98\" y=\"3.81\" dx=\"-0.20\" dy=\"0.20\">O</text>\n",
       "          </g>\n",
       "        </g>\n",
       "      </mask>\n",
       "    </defs>\n",
       "    <g fill=\"none\" stroke=\"black\" stroke-width=\"0.04\" mask=\"url(#mask-11775e63-5bd5-4c50-b91c-76a604fb8906)\">\n",
       "      <line x1=\"16.98\" y1=\"2.38\" x2=\"16.16\" y2=\"2.38\"/>\n",
       "      <line x1=\"16.93\" y1=\"2.35\" x2=\"17.34\" y2=\"1.64\"/>\n",
       "      <line x1=\"17.03\" y1=\"2.41\" x2=\"17.45\" y2=\"1.70\"/>\n",
       "      <line x1=\"16.98\" y1=\"2.38\" x2=\"17.40\" y2=\"3.09\"/>\n",
       "      <line x1=\"16.16\" y1=\"2.38\" x2=\"15.75\" y2=\"1.67\"/>\n",
       "      <line x1=\"17.40\" y1=\"1.67\" x2=\"18.22\" y2=\"1.67\"/>\n",
       "      <line x1=\"18.27\" y1=\"1.64\" x2=\"18.68\" y2=\"2.35\"/>\n",
       "      <line x1=\"18.17\" y1=\"1.70\" x2=\"18.58\" y2=\"2.41\"/>\n",
       "      <line x1=\"18.63\" y1=\"2.38\" x2=\"18.22\" y2=\"3.09\"/>\n",
       "      <line x1=\"18.22\" y1=\"3.09\" x2=\"17.40\" y2=\"3.09\"/>\n",
       "      <line x1=\"17.45\" y1=\"3.12\" x2=\"17.03\" y2=\"3.84\"/>\n",
       "      <line x1=\"17.34\" y1=\"3.06\" x2=\"16.93\" y2=\"3.78\"/>\n",
       "    </g>\n",
       "    <g font-family=\"monospace\">\n",
       "      <g fill=\"#FF0D0D\" font-family=\"sans-serif\">\n",
       "        <text x=\"15.75\" y=\"1.67\" dx=\"-0.20\" dy=\"0.20\" font-size=\"0.50\">OH</text>\n",
       "      </g>\n",
       "      <g fill=\"#3050F8\" font-family=\"sans-serif\">\n",
       "        <text x=\"18.63\" y=\"2.38\" dx=\"-0.20\" dy=\"0.20\" font-size=\"0.50\">N</text>\n",
       "      </g>\n",
       "      <g fill=\"#3050F8\" font-family=\"sans-serif\">\n",
       "        <text x=\"18.22\" y=\"3.09\" dx=\"-0.20\" dy=\"0.20\" font-size=\"0.50\">NH</text>\n",
       "      </g>\n",
       "      <g fill=\"#FF0D0D\" font-family=\"sans-serif\">\n",
       "        <text x=\"16.98\" y=\"3.81\" dx=\"-0.20\" dy=\"0.20\" font-size=\"0.50\">O</text>\n",
       "      </g>\n",
       "    </g>\n",
       "  </g>\n",
       "  <g>\n",
       "<rect x=\"15.145383834990007\" y=\"-4.259207270273461\" rx=\"0.33749999999997504\" ry=\"0.33749999999997504\" width=\"6.449999999999498\" height=\"3.3749999999997504\" stroke=\"black\" stroke-width=\".0025\" fill=\"#9BFAB3\" fill-opacity=\"0.30\"/>\n",
       "    <defs>\n",
       "      <mask id=\"mask-9fab7530-89a2-4774-b632-684e30a6a825\">\n",
       "        <rect x=\"-0.62\" y=\"-4.68\" width=\"33.41\" height=\"9.37\" fill=\"white\"/>\n",
       "        <g fill=\"black\">\n",
       "          <ellipse cx=\"18.10\" cy=\"-2.16\" rx=\"0.3\" ry=\"0.2\"/>\n",
       "          <ellipse cx=\"18.10\" cy=\"-1.33\" rx=\"0.3\" ry=\"0.2\"/>\n",
       "        </g>\n",
       "        <g font-family=\"monospace\" stroke=\"black\">\n",
       "          <g font-family=\"sans-serif\" font-size=\"0.50\" stroke-width=\"0.05\">\n",
       "            <text x=\"18.22\" y=\"-2.16\" dx=\"-0.35\" dy=\"0.20\">Si</text>\n",
       "            <text x=\"18.22\" y=\"-1.33\" dx=\"-0.35\" dy=\"0.20\">Cl</text>\n",
       "          </g>\n",
       "        </g>\n",
       "      </mask>\n",
       "    </defs>\n",
       "    <g fill=\"none\" stroke=\"black\" stroke-width=\"0.04\" mask=\"url(#mask-9fab7530-89a2-4774-b632-684e30a6a825)\">\n",
       "      <line x1=\"17.40\" y1=\"-2.16\" x2=\"18.22\" y2=\"-2.16\"/>\n",
       "      <line x1=\"17.40\" y1=\"-2.16\" x2=\"16.98\" y2=\"-2.87\"/>\n",
       "      <line x1=\"17.40\" y1=\"-2.16\" x2=\"16.98\" y2=\"-1.44\"/>\n",
       "      <line x1=\"18.22\" y1=\"-2.16\" x2=\"19.05\" y2=\"-2.16\"/>\n",
       "      <line x1=\"18.22\" y1=\"-2.16\" x2=\"18.22\" y2=\"-1.33\"/>\n",
       "      <line x1=\"18.22\" y1=\"-2.16\" x2=\"18.22\" y2=\"-2.98\"/>\n",
       "      <line x1=\"19.05\" y1=\"-2.16\" x2=\"19.46\" y2=\"-1.44\"/>\n",
       "      <line x1=\"19.05\" y1=\"-2.16\" x2=\"19.46\" y2=\"-2.87\"/>\n",
       "      <line x1=\"18.22\" y1=\"-2.98\" x2=\"17.45\" y2=\"-3.27\"/>\n",
       "      <line x1=\"18.22\" y1=\"-2.98\" x2=\"18.22\" y2=\"-3.81\"/>\n",
       "      <line x1=\"18.22\" y1=\"-2.98\" x2=\"19.00\" y2=\"-3.27\"/>\n",
       "      <line x1=\"19.46\" y1=\"-1.44\" x2=\"20.28\" y2=\"-1.44\"/>\n",
       "      <line x1=\"20.28\" y1=\"-1.44\" x2=\"20.70\" y2=\"-2.16\"/>\n",
       "      <line x1=\"20.70\" y1=\"-2.16\" x2=\"20.28\" y2=\"-2.87\"/>\n",
       "      <line x1=\"20.28\" y1=\"-2.87\" x2=\"19.46\" y2=\"-2.87\"/>\n",
       "      <line x1=\"16.98\" y1=\"-2.87\" x2=\"16.16\" y2=\"-2.87\"/>\n",
       "      <line x1=\"16.16\" y1=\"-2.87\" x2=\"15.75\" y2=\"-2.16\"/>\n",
       "      <line x1=\"15.75\" y1=\"-2.16\" x2=\"16.16\" y2=\"-1.44\"/>\n",
       "      <line x1=\"16.16\" y1=\"-1.44\" x2=\"16.98\" y2=\"-1.44\"/>\n",
       "      <line x1=\"17.23\" y1=\"-2.16\" x2=\"16.90\" y2=\"-2.73\" stroke-dasharray=\"0.15 0.05\"/>\n",
       "      <line x1=\"16.90\" y1=\"-2.73\" x2=\"16.24\" y2=\"-2.73\" stroke-dasharray=\"0.15 0.05\"/>\n",
       "      <line x1=\"16.24\" y1=\"-2.73\" x2=\"15.91\" y2=\"-2.16\" stroke-dasharray=\"0.15 0.05\"/>\n",
       "      <line x1=\"15.91\" y1=\"-2.16\" x2=\"16.24\" y2=\"-1.58\" stroke-dasharray=\"0.15 0.05\"/>\n",
       "      <line x1=\"16.24\" y1=\"-1.58\" x2=\"16.90\" y2=\"-1.58\" stroke-dasharray=\"0.15 0.05\"/>\n",
       "      <line x1=\"16.90\" y1=\"-1.58\" x2=\"17.23\" y2=\"-2.16\" stroke-dasharray=\"0.15 0.05\"/>\n",
       "      <line x1=\"19.21\" y1=\"-2.16\" x2=\"19.54\" y2=\"-1.58\" stroke-dasharray=\"0.15 0.05\"/>\n",
       "      <line x1=\"19.54\" y1=\"-1.58\" x2=\"20.20\" y2=\"-1.58\" stroke-dasharray=\"0.15 0.05\"/>\n",
       "      <line x1=\"20.20\" y1=\"-1.58\" x2=\"20.53\" y2=\"-2.16\" stroke-dasharray=\"0.15 0.05\"/>\n",
       "      <line x1=\"20.53\" y1=\"-2.16\" x2=\"20.20\" y2=\"-2.73\" stroke-dasharray=\"0.15 0.05\"/>\n",
       "      <line x1=\"20.20\" y1=\"-2.73\" x2=\"19.54\" y2=\"-2.73\" stroke-dasharray=\"0.15 0.05\"/>\n",
       "      <line x1=\"19.54\" y1=\"-2.73\" x2=\"19.21\" y2=\"-2.16\" stroke-dasharray=\"0.15 0.05\"/>\n",
       "    </g>\n",
       "    <g font-family=\"monospace\">\n",
       "      <g fill=\"#F0C8A0\" font-family=\"sans-serif\">\n",
       "        <text x=\"18.22\" y=\"-2.16\" dx=\"-0.35\" dy=\"0.20\" font-size=\"0.50\">Si</text>\n",
       "      </g>\n",
       "      <g fill=\"#1FF01F\" font-family=\"sans-serif\">\n",
       "        <text x=\"18.22\" y=\"-1.33\" dx=\"-0.35\" dy=\"0.20\" font-size=\"0.50\">Cl</text>\n",
       "      </g>\n",
       "    </g>\n",
       "  </g>\n",
       "  <g>\n",
       "<rect x=\"25.095383834989505\" y=\"-2.346705540904526\" rx=\"0.46934110818090524\" ry=\"0.46934110818090524\" width=\"7.2157672102374235\" height=\"4.693411081809052\" stroke=\"black\" stroke-width=\".0025\" fill=\"#98EEFF\" fill-opacity=\"0.30\"/>\n",
       "    <defs>\n",
       "      <mask id=\"mask-f6d3ddf1-7341-49b5-96b0-d60ea14d336b\">\n",
       "        <rect x=\"-0.62\" y=\"-4.68\" width=\"33.41\" height=\"9.37\" fill=\"white\"/>\n",
       "        <g fill=\"black\">\n",
       "          <ellipse cx=\"29.14\" cy=\"-0.25\" rx=\"0.3\" ry=\"0.2\"/>\n",
       "          <circle cx=\"28.55\" cy=\"-0.66\" r=\"0.20\"/>\n",
       "          <circle cx=\"25.70\" cy=\"-1.48\" r=\"0.20\"/>\n",
       "          <circle cx=\"26.41\" cy=\"-1.90\" r=\"0.20\"/>\n",
       "          <circle cx=\"27.84\" cy=\"-1.90\" r=\"0.20\"/>\n",
       "        </g>\n",
       "        <g font-family=\"monospace\" stroke=\"black\">\n",
       "          <g font-family=\"sans-serif\" font-size=\"0.50\" stroke-width=\"0.05\">\n",
       "            <text x=\"29.27\" y=\"-0.25\" dx=\"-0.35\" dy=\"0.20\">Si</text>\n",
       "            <text x=\"28.55\" y=\"-0.66\" dx=\"-0.20\" dy=\"0.20\">O</text>\n",
       "            <text x=\"25.70\" y=\"-1.48\" dx=\"-0.20\" dy=\"0.20\">N</text>\n",
       "            <text x=\"26.41\" y=\"-1.90\" dx=\"-0.20\" dy=\"0.20\">NH</text>\n",
       "            <text x=\"27.84\" y=\"-1.90\" dx=\"-0.20\" dy=\"0.20\">O</text>\n",
       "          </g>\n",
       "        </g>\n",
       "      </mask>\n",
       "    </defs>\n",
       "    <g fill=\"none\" stroke=\"black\" stroke-width=\"0.04\" mask=\"url(#mask-f6d3ddf1-7341-49b5-96b0-d60ea14d336b)\">\n",
       "      <line x1=\"30.09\" y1=\"-1.68\" x2=\"29.68\" y2=\"-0.96\"/>\n",
       "      <line x1=\"29.68\" y1=\"-0.96\" x2=\"30.49\" y2=\"-0.82\"/>\n",
       "      <line x1=\"29.68\" y1=\"-0.96\" x2=\"28.97\" y2=\"-1.37\"/>\n",
       "      <line x1=\"29.68\" y1=\"-0.96\" x2=\"29.27\" y2=\"-0.25\"/>\n",
       "      <line x1=\"29.27\" y1=\"-0.25\" x2=\"28.55\" y2=\"-0.66\"/>\n",
       "      <line x1=\"29.27\" y1=\"-0.25\" x2=\"28.86\" y2=\"0.47\"/>\n",
       "      <line x1=\"29.27\" y1=\"-0.25\" x2=\"29.98\" y2=\"0.17\"/>\n",
       "      <line x1=\"28.55\" y1=\"-0.66\" x2=\"27.84\" y2=\"-0.25\"/>\n",
       "      <line x1=\"27.84\" y1=\"-0.25\" x2=\"27.12\" y2=\"-0.66\"/>\n",
       "      <line x1=\"27.15\" y1=\"-0.61\" x2=\"26.44\" y2=\"-0.19\"/>\n",
       "      <line x1=\"27.09\" y1=\"-0.71\" x2=\"26.38\" y2=\"-0.30\"/>\n",
       "      <line x1=\"27.12\" y1=\"-0.66\" x2=\"27.12\" y2=\"-1.48\"/>\n",
       "      <line x1=\"26.41\" y1=\"-0.25\" x2=\"25.70\" y2=\"-0.66\"/>\n",
       "      <line x1=\"25.64\" y1=\"-0.66\" x2=\"25.64\" y2=\"-1.48\"/>\n",
       "      <line x1=\"25.76\" y1=\"-0.66\" x2=\"25.76\" y2=\"-1.48\"/>\n",
       "      <line x1=\"25.70\" y1=\"-1.48\" x2=\"26.41\" y2=\"-1.90\"/>\n",
       "      <line x1=\"26.41\" y1=\"-1.90\" x2=\"27.12\" y2=\"-1.48\"/>\n",
       "      <line x1=\"27.09\" y1=\"-1.54\" x2=\"27.81\" y2=\"-1.95\"/>\n",
       "      <line x1=\"27.15\" y1=\"-1.43\" x2=\"27.87\" y2=\"-1.84\"/>\n",
       "      <line x1=\"28.86\" y1=\"0.47\" x2=\"28.03\" y2=\"0.47\"/>\n",
       "      <line x1=\"28.86\" y1=\"0.47\" x2=\"29.27\" y2=\"1.18\"/>\n",
       "      <line x1=\"28.03\" y1=\"0.47\" x2=\"27.62\" y2=\"1.18\"/>\n",
       "      <line x1=\"27.62\" y1=\"1.18\" x2=\"28.03\" y2=\"1.90\"/>\n",
       "      <line x1=\"28.03\" y1=\"1.90\" x2=\"28.86\" y2=\"1.90\"/>\n",
       "      <line x1=\"28.86\" y1=\"1.90\" x2=\"29.27\" y2=\"1.18\"/>\n",
       "      <line x1=\"29.98\" y1=\"0.17\" x2=\"29.98\" y2=\"0.99\"/>\n",
       "      <line x1=\"29.98\" y1=\"0.17\" x2=\"30.70\" y2=\"-0.25\"/>\n",
       "      <line x1=\"29.98\" y1=\"0.99\" x2=\"30.70\" y2=\"1.40\"/>\n",
       "      <line x1=\"30.70\" y1=\"1.40\" x2=\"31.41\" y2=\"0.99\"/>\n",
       "      <line x1=\"31.41\" y1=\"0.99\" x2=\"31.41\" y2=\"0.17\"/>\n",
       "      <line x1=\"31.41\" y1=\"0.17\" x2=\"30.70\" y2=\"-0.25\"/>\n",
       "      <line x1=\"30.12\" y1=\"0.25\" x2=\"30.12\" y2=\"0.91\" stroke-dasharray=\"0.15 0.05\"/>\n",
       "      <line x1=\"30.12\" y1=\"0.91\" x2=\"30.70\" y2=\"1.24\" stroke-dasharray=\"0.15 0.05\"/>\n",
       "      <line x1=\"30.70\" y1=\"1.24\" x2=\"31.27\" y2=\"0.91\" stroke-dasharray=\"0.15 0.05\"/>\n",
       "      <line x1=\"31.27\" y1=\"0.91\" x2=\"31.27\" y2=\"0.25\" stroke-dasharray=\"0.15 0.05\"/>\n",
       "      <line x1=\"31.27\" y1=\"0.25\" x2=\"30.70\" y2=\"-0.09\" stroke-dasharray=\"0.15 0.05\"/>\n",
       "      <line x1=\"30.70\" y1=\"-0.09\" x2=\"30.12\" y2=\"0.25\" stroke-dasharray=\"0.15 0.05\"/>\n",
       "      <line x1=\"28.77\" y1=\"0.61\" x2=\"28.11\" y2=\"0.61\" stroke-dasharray=\"0.15 0.05\"/>\n",
       "      <line x1=\"28.11\" y1=\"0.61\" x2=\"27.78\" y2=\"1.18\" stroke-dasharray=\"0.15 0.05\"/>\n",
       "      <line x1=\"27.78\" y1=\"1.18\" x2=\"28.11\" y2=\"1.76\" stroke-dasharray=\"0.15 0.05\"/>\n",
       "      <line x1=\"28.11\" y1=\"1.76\" x2=\"28.77\" y2=\"1.76\" stroke-dasharray=\"0.15 0.05\"/>\n",
       "      <line x1=\"28.77\" y1=\"1.76\" x2=\"29.11\" y2=\"1.18\" stroke-dasharray=\"0.15 0.05\"/>\n",
       "      <line x1=\"29.11\" y1=\"1.18\" x2=\"28.77\" y2=\"0.61\" stroke-dasharray=\"0.15 0.05\"/>\n",
       "    </g>\n",
       "    <g font-family=\"monospace\">\n",
       "      <g fill=\"#F0C8A0\" font-family=\"sans-serif\">\n",
       "        <text x=\"29.27\" y=\"-0.25\" dx=\"-0.35\" dy=\"0.20\" font-size=\"0.50\">Si</text>\n",
       "      </g>\n",
       "      <g fill=\"#FF0D0D\" font-family=\"sans-serif\">\n",
       "        <text x=\"28.55\" y=\"-0.66\" dx=\"-0.20\" dy=\"0.20\" font-size=\"0.50\">O</text>\n",
       "      </g>\n",
       "      <g fill=\"#3050F8\" font-family=\"sans-serif\">\n",
       "        <text x=\"25.70\" y=\"-1.48\" dx=\"-0.20\" dy=\"0.20\" font-size=\"0.50\">N</text>\n",
       "      </g>\n",
       "      <g fill=\"#3050F8\" font-family=\"sans-serif\">\n",
       "        <text x=\"26.41\" y=\"-1.90\" dx=\"-0.20\" dy=\"0.20\" font-size=\"0.50\">NH</text>\n",
       "      </g>\n",
       "      <g fill=\"#FF0D0D\" font-family=\"sans-serif\">\n",
       "        <text x=\"27.84\" y=\"-1.90\" dx=\"-0.20\" dy=\"0.20\" font-size=\"0.50\">O</text>\n",
       "      </g>\n",
       "    </g>\n",
       "  </g>\n",
       "</svg>"
      ],
      "text/plain": [
       "<IPython.core.display.SVG object>"
      ]
     },
     "metadata": {},
     "output_type": "display_data"
    },
    {
     "name": "stdout",
     "output_type": "stream",
     "text": [
      "-------- Path starts from node #65 with total route score -0.11078304643496137 --------\n"
     ]
    },
    {
     "data": {
      "image/svg+xml": [
       "<svg xmlns=\"http://www.w3.org/2000/svg\" width=\"20.20cm\" height=\"6.12cm\" viewBox=\"-0.62 -5.10 33.66 10.19\" version=\"1.1\">\n",
       "  <defs>\n",
       "    <marker id=\"arrow\" markerWidth=\"10\" markerHeight=\"10\" refX=\"0\" refY=\"3\" orient=\"auto\">\n",
       "      <path d=\"M0,0 L0,6 L9,3\"/>\n",
       "    </marker>\n",
       "  </defs>\n",
       "  <polyline points=\"21.47 -2.57, 22.81 -2.57, 22.81 0.00, 24.47 0.00\" fill=\"none\" stroke=\"black\" stroke-width=\".04\" marker-end=\"url(#arrow)\"/>  <circle cx=\"22.807659319304975\" cy=\"-2.571706437183243\" r=\"0.1\"/>\n",
       "  <polyline points=\"20.07 3.15, 22.81 3.15, 22.81 0.00, 24.47 0.00\" fill=\"none\" stroke=\"black\" stroke-width=\".04\" marker-end=\"url(#arrow)\"/>  <circle cx=\"22.807659319304975\" cy=\"3.1499990380286347\" r=\"0.1\"/>\n",
       "  <polyline points=\"12.19 0.00, 13.52 0.00, 13.52 3.15, 15.19 3.15\" fill=\"none\" stroke=\"black\" stroke-width=\".04\" marker-end=\"url(#arrow)\"/>  <circle cx=\"13.520831904390343\" cy=\"0.0\" r=\"0.1\"/>\n",
       "  <polyline points=\"2.24 -2.57, 5.63 -2.57, 5.63 0.00, 7.30 0.00\" fill=\"none\" stroke=\"black\" stroke-width=\".04\" marker-end=\"url(#arrow)\"/>  <circle cx=\"5.633333333333334\" cy=\"-2.571706437183243\" r=\"0.1\"/>\n",
       "  <polyline points=\"4.30 2.21, 5.63 2.21, 5.63 0.00, 7.30 0.00\" fill=\"none\" stroke=\"black\" stroke-width=\".04\" marker-end=\"url(#arrow)\"/>  <circle cx=\"5.633333333333334\" cy=\"2.214470958122162\" r=\"0.1\"/>\n",
       "  <g>\n",
       "<rect x=\"-0.6\" y=\"0.6927645209389188\" rx=\"0.3043412874366487\" ry=\"0.3043412874366487\" width=\"4.8\" height=\"3.0434128743664868\" stroke=\"black\" stroke-width=\".0025\" fill=\"#9BFAB3\" fill-opacity=\"0.30\"/>\n",
       "    <defs>\n",
       "      <mask id=\"mask-9215af64-f2f7-4cd3-94fb-df3a7b305a8e\">\n",
       "        <rect x=\"-0.62\" y=\"-5.10\" width=\"33.66\" height=\"10.19\" fill=\"white\"/>\n",
       "        <g fill=\"black\">\n",
       "          <circle cx=\"3.30\" cy=\"2.57\" r=\"0.20\"/>\n",
       "          <circle cx=\"2.89\" cy=\"1.86\" r=\"0.20\"/>\n",
       "          <circle cx=\"1.65\" cy=\"1.14\" r=\"0.20\"/>\n",
       "          <circle cx=\"0.00\" cy=\"2.57\" r=\"0.20\"/>\n",
       "        </g>\n",
       "        <g font-family=\"monospace\" stroke=\"black\">\n",
       "          <g font-family=\"sans-serif\" font-size=\"0.50\" stroke-width=\"0.05\">\n",
       "            <text x=\"3.30\" y=\"2.57\" dx=\"-0.20\" dy=\"0.20\">N</text>\n",
       "            <text x=\"2.89\" y=\"1.86\" dx=\"-0.20\" dy=\"0.20\">NH</text>\n",
       "            <text x=\"1.65\" y=\"1.14\" dx=\"-0.20\" dy=\"0.20\">O</text>\n",
       "            <text x=\"0.00\" y=\"2.57\" dx=\"-0.20\" dy=\"0.20\">N</text>\n",
       "          </g>\n",
       "        </g>\n",
       "      </mask>\n",
       "    </defs>\n",
       "    <g fill=\"none\" stroke=\"black\" stroke-width=\"0.04\" mask=\"url(#mask-9215af64-f2f7-4cd3-94fb-df3a7b305a8e)\">\n",
       "      <line x1=\"2.89\" y1=\"3.29\" x2=\"2.06\" y2=\"3.29\"/>\n",
       "      <line x1=\"2.84\" y1=\"3.26\" x2=\"3.25\" y2=\"2.54\"/>\n",
       "      <line x1=\"2.94\" y1=\"3.32\" x2=\"3.35\" y2=\"2.60\"/>\n",
       "      <line x1=\"2.89\" y1=\"1.86\" x2=\"2.06\" y2=\"1.86\"/>\n",
       "      <line x1=\"2.89\" y1=\"1.86\" x2=\"3.30\" y2=\"2.57\"/>\n",
       "      <line x1=\"2.01\" y1=\"1.89\" x2=\"1.60\" y2=\"1.17\"/>\n",
       "      <line x1=\"2.11\" y1=\"1.83\" x2=\"1.70\" y2=\"1.11\"/>\n",
       "      <line x1=\"2.06\" y1=\"1.86\" x2=\"1.65\" y2=\"2.57\"/>\n",
       "      <line x1=\"1.65\" y1=\"2.57\" x2=\"0.83\" y2=\"2.57\"/>\n",
       "      <line x1=\"1.70\" y1=\"2.54\" x2=\"2.11\" y2=\"3.26\"/>\n",
       "      <line x1=\"1.60\" y1=\"2.60\" x2=\"2.01\" y2=\"3.32\"/>\n",
       "      <line x1=\"0.83\" y1=\"2.70\" x2=\"0.00\" y2=\"2.70\"/>\n",
       "      <line x1=\"0.83\" y1=\"2.57\" x2=\"0.00\" y2=\"2.57\"/>\n",
       "      <line x1=\"0.82\" y1=\"2.44\" x2=\"-0.00\" y2=\"2.44\"/>\n",
       "    </g>\n",
       "    <g font-family=\"monospace\">\n",
       "      <g fill=\"#3050F8\" font-family=\"sans-serif\">\n",
       "        <text x=\"3.30\" y=\"2.57\" dx=\"-0.20\" dy=\"0.20\" font-size=\"0.50\">N</text>\n",
       "      </g>\n",
       "      <g fill=\"#3050F8\" font-family=\"sans-serif\">\n",
       "        <text x=\"2.89\" y=\"1.86\" dx=\"-0.20\" dy=\"0.20\" font-size=\"0.50\">NH</text>\n",
       "      </g>\n",
       "      <g fill=\"#FF0D0D\" font-family=\"sans-serif\">\n",
       "        <text x=\"1.65\" y=\"1.14\" dx=\"-0.20\" dy=\"0.20\" font-size=\"0.50\">O</text>\n",
       "      </g>\n",
       "      <g fill=\"#3050F8\" font-family=\"sans-serif\">\n",
       "        <text x=\"0.00\" y=\"2.57\" dx=\"-0.20\" dy=\"0.20\" font-size=\"0.50\">N</text>\n",
       "      </g>\n",
       "    </g>\n",
       "  </g>\n",
       "  <g>\n",
       "<rect x=\"-0.6\" y=\"-3.736177395305405\" rx=\"0.23289419162443237\" ry=\"0.23289419162443237\" width=\"2.7375000000000003\" height=\"2.3289419162443235\" stroke=\"black\" stroke-width=\".0025\" fill=\"#9BFAB3\" fill-opacity=\"0.30\"/>\n",
       "    <defs>\n",
       "      <mask id=\"mask-54053080-0c63-47d2-a2b5-49db2b1a6684\">\n",
       "        <rect x=\"-0.62\" y=\"-5.10\" width=\"33.66\" height=\"10.19\" fill=\"white\"/>\n",
       "        <g fill=\"black\">\n",
       "          <circle cx=\"1.24\" cy=\"-1.86\" r=\"0.20\"/>\n",
       "          <circle cx=\"1.24\" cy=\"-3.29\" r=\"0.20\"/>\n",
       "        </g>\n",
       "        <g font-family=\"monospace\" stroke=\"black\">\n",
       "          <g font-family=\"sans-serif\" font-size=\"0.50\" stroke-width=\"0.05\">\n",
       "            <text x=\"1.24\" y=\"-1.86\" dx=\"-0.20\" dy=\"0.20\">OH</text>\n",
       "            <text x=\"1.24\" y=\"-3.29\" dx=\"-0.20\" dy=\"0.20\">O</text>\n",
       "          </g>\n",
       "        </g>\n",
       "      </mask>\n",
       "    </defs>\n",
       "    <g fill=\"none\" stroke=\"black\" stroke-width=\"0.04\" mask=\"url(#mask-54053080-0c63-47d2-a2b5-49db2b1a6684)\">\n",
       "      <line x1=\"1.29\" y1=\"-3.26\" x2=\"0.88\" y2=\"-2.54\"/>\n",
       "      <line x1=\"1.19\" y1=\"-3.32\" x2=\"0.77\" y2=\"-2.60\"/>\n",
       "      <line x1=\"0.82\" y1=\"-2.57\" x2=\"1.24\" y2=\"-1.86\"/>\n",
       "      <line x1=\"0.82\" y1=\"-2.57\" x2=\"0.00\" y2=\"-2.57\"/>\n",
       "    </g>\n",
       "    <g font-family=\"monospace\">\n",
       "      <g fill=\"#FF0D0D\" font-family=\"sans-serif\">\n",
       "        <text x=\"1.24\" y=\"-1.86\" dx=\"-0.20\" dy=\"0.20\" font-size=\"0.50\">OH</text>\n",
       "      </g>\n",
       "      <g fill=\"#FF0D0D\" font-family=\"sans-serif\">\n",
       "        <text x=\"1.24\" y=\"-3.29\" dx=\"-0.20\" dy=\"0.20\" font-size=\"0.50\">O</text>\n",
       "      </g>\n",
       "    </g>\n",
       "  </g>\n",
       "  <g>\n",
       "<rect x=\"7.700000000000001\" y=\"-1.5217067148802392\" rx=\"0.30434134297604787\" ry=\"0.30434134297604787\" width=\"4.387498571057009\" height=\"3.0434134297604785\" stroke=\"black\" stroke-width=\".0025\" fill=\"#F0AB90\" fill-opacity=\"0.30\"/>\n",
       "    <defs>\n",
       "      <mask id=\"mask-c738a396-22b8-4b64-8e25-328faca354c0\">\n",
       "        <rect x=\"-0.62\" y=\"-5.10\" width=\"33.66\" height=\"10.19\" fill=\"white\"/>\n",
       "        <g fill=\"black\">\n",
       "          <circle cx=\"8.30\" cy=\"1.07\" r=\"0.20\"/>\n",
       "          <circle cx=\"11.19\" cy=\"0.36\" r=\"0.20\"/>\n",
       "          <circle cx=\"10.77\" cy=\"-0.36\" r=\"0.20\"/>\n",
       "          <circle cx=\"9.54\" cy=\"-1.07\" r=\"0.20\"/>\n",
       "          <circle cx=\"8.30\" cy=\"-0.36\" r=\"0.20\"/>\n",
       "        </g>\n",
       "        <g font-family=\"monospace\" stroke=\"black\">\n",
       "          <g font-family=\"sans-serif\" font-size=\"0.50\" stroke-width=\"0.05\">\n",
       "            <text x=\"8.30\" y=\"1.07\" dx=\"-0.20\" dy=\"0.20\">OH</text>\n",
       "            <text x=\"11.19\" y=\"0.36\" dx=\"-0.20\" dy=\"0.20\">N</text>\n",
       "            <text x=\"10.77\" y=\"-0.36\" dx=\"-0.20\" dy=\"0.20\">NH</text>\n",
       "            <text x=\"9.54\" y=\"-1.07\" dx=\"-0.20\" dy=\"0.20\">O</text>\n",
       "            <text x=\"8.30\" y=\"-0.36\" dx=\"-0.20\" dy=\"0.20\">O</text>\n",
       "          </g>\n",
       "        </g>\n",
       "      </mask>\n",
       "    </defs>\n",
       "    <g fill=\"none\" stroke=\"black\" stroke-width=\"0.04\" mask=\"url(#mask-c738a396-22b8-4b64-8e25-328faca354c0)\">\n",
       "      <line x1=\"10.77\" y1=\"-0.36\" x2=\"9.95\" y2=\"-0.36\"/>\n",
       "      <line x1=\"10.77\" y1=\"-0.36\" x2=\"11.19\" y2=\"0.36\"/>\n",
       "      <line x1=\"10.77\" y1=\"1.07\" x2=\"9.95\" y2=\"1.07\"/>\n",
       "      <line x1=\"10.72\" y1=\"1.04\" x2=\"11.14\" y2=\"0.33\"/>\n",
       "      <line x1=\"10.83\" y1=\"1.10\" x2=\"11.24\" y2=\"0.39\"/>\n",
       "      <line x1=\"9.90\" y1=\"1.10\" x2=\"9.49\" y2=\"0.39\"/>\n",
       "      <line x1=\"10.00\" y1=\"1.04\" x2=\"9.59\" y2=\"0.33\"/>\n",
       "      <line x1=\"9.54\" y1=\"0.36\" x2=\"8.71\" y2=\"0.36\"/>\n",
       "      <line x1=\"9.54\" y1=\"0.36\" x2=\"9.95\" y2=\"-0.36\"/>\n",
       "      <line x1=\"8.71\" y1=\"0.36\" x2=\"8.30\" y2=\"1.07\"/>\n",
       "      <line x1=\"8.66\" y1=\"0.39\" x2=\"8.25\" y2=\"-0.33\"/>\n",
       "      <line x1=\"8.76\" y1=\"0.33\" x2=\"8.35\" y2=\"-0.39\"/>\n",
       "      <line x1=\"9.90\" y1=\"-0.33\" x2=\"9.49\" y2=\"-1.04\"/>\n",
       "      <line x1=\"10.00\" y1=\"-0.39\" x2=\"9.59\" y2=\"-1.10\"/>\n",
       "    </g>\n",
       "    <g font-family=\"monospace\">\n",
       "      <g fill=\"#FF0D0D\" font-family=\"sans-serif\">\n",
       "        <text x=\"8.30\" y=\"1.07\" dx=\"-0.20\" dy=\"0.20\" font-size=\"0.50\">OH</text>\n",
       "      </g>\n",
       "      <g fill=\"#3050F8\" font-family=\"sans-serif\">\n",
       "        <text x=\"11.19\" y=\"0.36\" dx=\"-0.20\" dy=\"0.20\" font-size=\"0.50\">N</text>\n",
       "      </g>\n",
       "      <g fill=\"#3050F8\" font-family=\"sans-serif\">\n",
       "        <text x=\"10.77\" y=\"-0.36\" dx=\"-0.20\" dy=\"0.20\" font-size=\"0.50\">NH</text>\n",
       "      </g>\n",
       "      <g fill=\"#FF0D0D\" font-family=\"sans-serif\">\n",
       "        <text x=\"9.54\" y=\"-1.07\" dx=\"-0.20\" dy=\"0.20\" font-size=\"0.50\">O</text>\n",
       "      </g>\n",
       "      <g fill=\"#FF0D0D\" font-family=\"sans-serif\">\n",
       "        <text x=\"8.30\" y=\"-0.36\" dx=\"-0.20\" dy=\"0.20\" font-size=\"0.50\">O</text>\n",
       "      </g>\n",
       "    </g>\n",
       "  </g>\n",
       "  <g>\n",
       "<rect x=\"15.58749857105701\" y=\"1.628292600845392\" rx=\"0.3043412874366486\" ry=\"0.3043412874366486\" width=\"4.3874999999999975\" height=\"3.043412874366486\" stroke=\"black\" stroke-width=\".0025\" fill=\"#F0AB90\" fill-opacity=\"0.30\"/>\n",
       "    <defs>\n",
       "      <mask id=\"mask-acdc4adf-9cfe-4d5a-9050-6118b1c9779b\">\n",
       "        <rect x=\"-0.62\" y=\"-5.10\" width=\"33.66\" height=\"10.19\" fill=\"white\"/>\n",
       "        <g fill=\"black\">\n",
       "          <circle cx=\"16.19\" cy=\"3.51\" r=\"0.20\"/>\n",
       "          <circle cx=\"19.07\" cy=\"2.79\" r=\"0.20\"/>\n",
       "          <circle cx=\"18.66\" cy=\"3.51\" r=\"0.20\"/>\n",
       "          <circle cx=\"17.42\" cy=\"4.22\" r=\"0.20\"/>\n",
       "        </g>\n",
       "        <g font-family=\"monospace\" stroke=\"black\">\n",
       "          <g font-family=\"sans-serif\" font-size=\"0.50\" stroke-width=\"0.05\">\n",
       "            <text x=\"16.19\" y=\"3.51\" dx=\"-0.20\" dy=\"0.20\">OH</text>\n",
       "            <text x=\"19.07\" y=\"2.79\" dx=\"-0.20\" dy=\"0.20\">N</text>\n",
       "            <text x=\"18.66\" y=\"3.51\" dx=\"-0.20\" dy=\"0.20\">NH</text>\n",
       "            <text x=\"17.42\" y=\"4.22\" dx=\"-0.20\" dy=\"0.20\">O</text>\n",
       "          </g>\n",
       "        </g>\n",
       "      </mask>\n",
       "    </defs>\n",
       "    <g fill=\"none\" stroke=\"black\" stroke-width=\"0.04\" mask=\"url(#mask-acdc4adf-9cfe-4d5a-9050-6118b1c9779b)\">\n",
       "      <line x1=\"17.42\" y1=\"2.79\" x2=\"16.60\" y2=\"2.79\"/>\n",
       "      <line x1=\"17.37\" y1=\"2.76\" x2=\"17.79\" y2=\"2.05\"/>\n",
       "      <line x1=\"17.48\" y1=\"2.82\" x2=\"17.89\" y2=\"2.11\"/>\n",
       "      <line x1=\"17.42\" y1=\"2.79\" x2=\"17.84\" y2=\"3.51\"/>\n",
       "      <line x1=\"16.60\" y1=\"2.79\" x2=\"16.19\" y2=\"3.51\"/>\n",
       "      <line x1=\"17.84\" y1=\"2.08\" x2=\"18.66\" y2=\"2.08\"/>\n",
       "      <line x1=\"18.71\" y1=\"2.05\" x2=\"19.13\" y2=\"2.76\"/>\n",
       "      <line x1=\"18.61\" y1=\"2.11\" x2=\"19.02\" y2=\"2.82\"/>\n",
       "      <line x1=\"19.07\" y1=\"2.79\" x2=\"18.66\" y2=\"3.51\"/>\n",
       "      <line x1=\"18.66\" y1=\"3.51\" x2=\"17.84\" y2=\"3.51\"/>\n",
       "      <line x1=\"17.89\" y1=\"3.54\" x2=\"17.48\" y2=\"4.25\"/>\n",
       "      <line x1=\"17.79\" y1=\"3.48\" x2=\"17.37\" y2=\"4.19\"/>\n",
       "    </g>\n",
       "    <g font-family=\"monospace\">\n",
       "      <g fill=\"#FF0D0D\" font-family=\"sans-serif\">\n",
       "        <text x=\"16.19\" y=\"3.51\" dx=\"-0.20\" dy=\"0.20\" font-size=\"0.50\">OH</text>\n",
       "      </g>\n",
       "      <g fill=\"#3050F8\" font-family=\"sans-serif\">\n",
       "        <text x=\"19.07\" y=\"2.79\" dx=\"-0.20\" dy=\"0.20\" font-size=\"0.50\">N</text>\n",
       "      </g>\n",
       "      <g fill=\"#3050F8\" font-family=\"sans-serif\">\n",
       "        <text x=\"18.66\" y=\"3.51\" dx=\"-0.20\" dy=\"0.20\" font-size=\"0.50\">NH</text>\n",
       "      </g>\n",
       "      <g fill=\"#FF0D0D\" font-family=\"sans-serif\">\n",
       "        <text x=\"17.42\" y=\"4.22\" dx=\"-0.20\" dy=\"0.20\" font-size=\"0.50\">O</text>\n",
       "      </g>\n",
       "    </g>\n",
       "  </g>\n",
       "  <g>\n",
       "<rect x=\"15.58749857105701\" y=\"-4.671705475211878\" rx=\"0.41999980760572697\" ry=\"0.41999980760572697\" width=\"5.786827414914631\" height=\"4.19999807605727\" stroke=\"black\" stroke-width=\".0025\" fill=\"#9BFAB3\" fill-opacity=\"0.30\"/>\n",
       "    <defs>\n",
       "      <mask id=\"mask-7f4fa50d-74e1-45f9-a3a3-32f850093ee1\">\n",
       "        <rect x=\"-0.62\" y=\"-5.10\" width=\"33.66\" height=\"10.19\" fill=\"white\"/>\n",
       "        <g fill=\"black\">\n",
       "          <ellipse cx=\"18.21\" cy=\"-2.57\" rx=\"0.3\" ry=\"0.2\"/>\n",
       "          <ellipse cx=\"17.79\" cy=\"-1.86\" rx=\"0.3\" ry=\"0.2\"/>\n",
       "        </g>\n",
       "        <g font-family=\"monospace\" stroke=\"black\">\n",
       "          <g font-family=\"sans-serif\" font-size=\"0.50\" stroke-width=\"0.05\">\n",
       "            <text x=\"18.33\" y=\"-2.57\" dx=\"-0.35\" dy=\"0.20\">Si</text>\n",
       "            <text x=\"17.92\" y=\"-1.86\" dx=\"-0.35\" dy=\"0.20\">Cl</text>\n",
       "          </g>\n",
       "        </g>\n",
       "      </mask>\n",
       "    </defs>\n",
       "    <g fill=\"none\" stroke=\"black\" stroke-width=\"0.04\" mask=\"url(#mask-7f4fa50d-74e1-45f9-a3a3-32f850093ee1)\">\n",
       "      <line x1=\"19.05\" y1=\"-2.16\" x2=\"18.33\" y2=\"-2.57\"/>\n",
       "      <line x1=\"19.05\" y1=\"-2.16\" x2=\"19.05\" y2=\"-1.33\"/>\n",
       "      <line x1=\"19.05\" y1=\"-2.16\" x2=\"19.76\" y2=\"-2.57\"/>\n",
       "      <line x1=\"18.33\" y1=\"-2.57\" x2=\"17.62\" y2=\"-2.98\"/>\n",
       "      <line x1=\"18.33\" y1=\"-2.57\" x2=\"17.92\" y2=\"-1.86\"/>\n",
       "      <line x1=\"18.33\" y1=\"-2.57\" x2=\"18.74\" y2=\"-3.29\"/>\n",
       "      <line x1=\"17.62\" y1=\"-2.98\" x2=\"16.90\" y2=\"-2.57\"/>\n",
       "      <line x1=\"17.62\" y1=\"-2.98\" x2=\"17.62\" y2=\"-3.81\"/>\n",
       "      <line x1=\"18.74\" y1=\"-3.29\" x2=\"18.21\" y2=\"-3.92\"/>\n",
       "      <line x1=\"18.74\" y1=\"-3.29\" x2=\"19.16\" y2=\"-4.00\"/>\n",
       "      <line x1=\"18.74\" y1=\"-3.29\" x2=\"19.56\" y2=\"-3.14\"/>\n",
       "      <line x1=\"16.90\" y1=\"-2.57\" x2=\"16.19\" y2=\"-2.98\"/>\n",
       "      <line x1=\"16.19\" y1=\"-2.98\" x2=\"16.19\" y2=\"-3.81\"/>\n",
       "      <line x1=\"16.19\" y1=\"-3.81\" x2=\"16.90\" y2=\"-4.22\"/>\n",
       "      <line x1=\"16.90\" y1=\"-4.22\" x2=\"17.62\" y2=\"-3.81\"/>\n",
       "      <line x1=\"19.05\" y1=\"-1.33\" x2=\"19.76\" y2=\"-0.92\"/>\n",
       "      <line x1=\"19.76\" y1=\"-0.92\" x2=\"20.47\" y2=\"-1.33\"/>\n",
       "      <line x1=\"20.47\" y1=\"-1.33\" x2=\"20.47\" y2=\"-2.16\"/>\n",
       "      <line x1=\"20.47\" y1=\"-2.16\" x2=\"19.76\" y2=\"-2.57\"/>\n",
       "      <line x1=\"19.19\" y1=\"-2.08\" x2=\"19.19\" y2=\"-1.42\" stroke-dasharray=\"0.15 0.05\"/>\n",
       "      <line x1=\"19.19\" y1=\"-1.42\" x2=\"19.76\" y2=\"-1.08\" stroke-dasharray=\"0.15 0.05\"/>\n",
       "      <line x1=\"19.76\" y1=\"-1.08\" x2=\"20.33\" y2=\"-1.42\" stroke-dasharray=\"0.15 0.05\"/>\n",
       "      <line x1=\"20.33\" y1=\"-1.42\" x2=\"20.33\" y2=\"-2.08\" stroke-dasharray=\"0.15 0.05\"/>\n",
       "      <line x1=\"20.33\" y1=\"-2.08\" x2=\"19.76\" y2=\"-2.41\" stroke-dasharray=\"0.15 0.05\"/>\n",
       "      <line x1=\"19.76\" y1=\"-2.41\" x2=\"19.19\" y2=\"-2.08\" stroke-dasharray=\"0.15 0.05\"/>\n",
       "      <line x1=\"17.48\" y1=\"-3.07\" x2=\"16.90\" y2=\"-2.73\" stroke-dasharray=\"0.15 0.05\"/>\n",
       "      <line x1=\"16.90\" y1=\"-2.73\" x2=\"16.33\" y2=\"-3.07\" stroke-dasharray=\"0.15 0.05\"/>\n",
       "      <line x1=\"16.33\" y1=\"-3.07\" x2=\"16.33\" y2=\"-3.73\" stroke-dasharray=\"0.15 0.05\"/>\n",
       "      <line x1=\"16.33\" y1=\"-3.73\" x2=\"16.90\" y2=\"-4.06\" stroke-dasharray=\"0.15 0.05\"/>\n",
       "      <line x1=\"16.90\" y1=\"-4.06\" x2=\"17.48\" y2=\"-3.73\" stroke-dasharray=\"0.15 0.05\"/>\n",
       "      <line x1=\"17.48\" y1=\"-3.73\" x2=\"17.48\" y2=\"-3.07\" stroke-dasharray=\"0.15 0.05\"/>\n",
       "    </g>\n",
       "    <g font-family=\"monospace\">\n",
       "      <g fill=\"#F0C8A0\" font-family=\"sans-serif\">\n",
       "        <text x=\"18.33\" y=\"-2.57\" dx=\"-0.35\" dy=\"0.20\" font-size=\"0.50\">Si</text>\n",
       "      </g>\n",
       "      <g fill=\"#1FF01F\" font-family=\"sans-serif\">\n",
       "        <text x=\"17.92\" y=\"-1.86\" dx=\"-0.35\" dy=\"0.20\" font-size=\"0.50\">Cl</text>\n",
       "      </g>\n",
       "    </g>\n",
       "  </g>\n",
       "  <g>\n",
       "<rect x=\"24.874325985971637\" y=\"-2.5125\" rx=\"0.5025000000000001\" ry=\"0.5025000000000001\" width=\"7.687500000000007\" height=\"5.025\" stroke=\"black\" stroke-width=\".0025\" fill=\"#98EEFF\" fill-opacity=\"0.30\"/>\n",
       "    <defs>\n",
       "      <mask id=\"mask-a7aa9f1a-bce3-4068-a9d1-1620979a64dd\">\n",
       "        <rect x=\"-0.62\" y=\"-5.10\" width=\"33.66\" height=\"10.19\" fill=\"white\"/>\n",
       "        <g fill=\"black\">\n",
       "          <ellipse cx=\"27.82\" cy=\"-0.41\" rx=\"0.3\" ry=\"0.2\"/>\n",
       "          <circle cx=\"28.77\" cy=\"-0.41\" r=\"0.20\"/>\n",
       "          <circle cx=\"31.66\" cy=\"0.30\" r=\"0.20\"/>\n",
       "          <circle cx=\"31.25\" cy=\"-0.41\" r=\"0.20\"/>\n",
       "          <circle cx=\"30.01\" cy=\"-1.13\" r=\"0.20\"/>\n",
       "        </g>\n",
       "        <g font-family=\"monospace\" stroke=\"black\">\n",
       "          <g font-family=\"sans-serif\" font-size=\"0.50\" stroke-width=\"0.05\">\n",
       "            <text x=\"27.95\" y=\"-0.41\" dx=\"-0.35\" dy=\"0.20\">Si</text>\n",
       "            <text x=\"28.77\" y=\"-0.41\" dx=\"-0.20\" dy=\"0.20\">O</text>\n",
       "            <text x=\"31.66\" y=\"0.30\" dx=\"-0.20\" dy=\"0.20\">N</text>\n",
       "            <text x=\"31.25\" y=\"-0.41\" dx=\"-0.20\" dy=\"0.20\">NH</text>\n",
       "            <text x=\"30.01\" y=\"-1.13\" dx=\"-0.20\" dy=\"0.20\">O</text>\n",
       "          </g>\n",
       "        </g>\n",
       "      </mask>\n",
       "    </defs>\n",
       "    <g fill=\"none\" stroke=\"black\" stroke-width=\"0.04\" mask=\"url(#mask-a7aa9f1a-bce3-4068-a9d1-1620979a64dd)\">\n",
       "      <line x1=\"27.95\" y1=\"-2.06\" x2=\"27.95\" y2=\"-1.24\"/>\n",
       "      <line x1=\"27.95\" y1=\"-1.24\" x2=\"28.77\" y2=\"-1.24\"/>\n",
       "      <line x1=\"27.95\" y1=\"-1.24\" x2=\"27.17\" y2=\"-1.52\"/>\n",
       "      <line x1=\"27.95\" y1=\"-1.24\" x2=\"27.95\" y2=\"-0.41\"/>\n",
       "      <line x1=\"27.95\" y1=\"-0.41\" x2=\"28.77\" y2=\"-0.41\"/>\n",
       "      <line x1=\"27.95\" y1=\"-0.41\" x2=\"27.95\" y2=\"0.41\"/>\n",
       "      <line x1=\"27.95\" y1=\"-0.41\" x2=\"27.12\" y2=\"-0.41\"/>\n",
       "      <line x1=\"28.77\" y1=\"-0.41\" x2=\"29.19\" y2=\"0.30\"/>\n",
       "      <line x1=\"29.19\" y1=\"0.30\" x2=\"30.01\" y2=\"0.30\"/>\n",
       "      <line x1=\"30.06\" y1=\"0.27\" x2=\"30.48\" y2=\"0.99\"/>\n",
       "      <line x1=\"29.96\" y1=\"0.33\" x2=\"30.37\" y2=\"1.05\"/>\n",
       "      <line x1=\"30.01\" y1=\"0.30\" x2=\"30.42\" y2=\"-0.41\"/>\n",
       "      <line x1=\"30.42\" y1=\"1.02\" x2=\"31.25\" y2=\"1.02\"/>\n",
       "      <line x1=\"31.20\" y1=\"0.99\" x2=\"31.61\" y2=\"0.27\"/>\n",
       "      <line x1=\"31.30\" y1=\"1.05\" x2=\"31.71\" y2=\"0.33\"/>\n",
       "      <line x1=\"31.66\" y1=\"0.30\" x2=\"31.25\" y2=\"-0.41\"/>\n",
       "      <line x1=\"31.25\" y1=\"-0.41\" x2=\"30.42\" y2=\"-0.41\"/>\n",
       "      <line x1=\"30.37\" y1=\"-0.38\" x2=\"29.96\" y2=\"-1.10\"/>\n",
       "      <line x1=\"30.48\" y1=\"-0.44\" x2=\"30.06\" y2=\"-1.16\"/>\n",
       "      <line x1=\"27.95\" y1=\"0.41\" x2=\"28.66\" y2=\"0.82\"/>\n",
       "      <line x1=\"27.95\" y1=\"0.41\" x2=\"27.23\" y2=\"0.83\"/>\n",
       "      <line x1=\"28.66\" y1=\"0.82\" x2=\"28.66\" y2=\"1.65\"/>\n",
       "      <line x1=\"28.66\" y1=\"1.65\" x2=\"27.95\" y2=\"2.06\"/>\n",
       "      <line x1=\"27.95\" y1=\"2.06\" x2=\"27.23\" y2=\"1.65\"/>\n",
       "      <line x1=\"27.23\" y1=\"1.65\" x2=\"27.23\" y2=\"0.83\"/>\n",
       "      <line x1=\"27.12\" y1=\"-0.41\" x2=\"26.71\" y2=\"-1.13\"/>\n",
       "      <line x1=\"27.12\" y1=\"-0.41\" x2=\"26.71\" y2=\"0.30\"/>\n",
       "      <line x1=\"26.71\" y1=\"-1.13\" x2=\"25.89\" y2=\"-1.13\"/>\n",
       "      <line x1=\"25.89\" y1=\"-1.13\" x2=\"25.47\" y2=\"-0.41\"/>\n",
       "      <line x1=\"25.47\" y1=\"-0.41\" x2=\"25.89\" y2=\"0.30\"/>\n",
       "      <line x1=\"25.89\" y1=\"0.30\" x2=\"26.71\" y2=\"0.30\"/>\n",
       "      <line x1=\"26.96\" y1=\"-0.41\" x2=\"26.63\" y2=\"-0.99\" stroke-dasharray=\"0.15 0.05\"/>\n",
       "      <line x1=\"26.63\" y1=\"-0.99\" x2=\"25.97\" y2=\"-0.99\" stroke-dasharray=\"0.15 0.05\"/>\n",
       "      <line x1=\"25.97\" y1=\"-0.99\" x2=\"25.64\" y2=\"-0.41\" stroke-dasharray=\"0.15 0.05\"/>\n",
       "      <line x1=\"25.64\" y1=\"-0.41\" x2=\"25.97\" y2=\"0.16\" stroke-dasharray=\"0.15 0.05\"/>\n",
       "      <line x1=\"25.97\" y1=\"0.16\" x2=\"26.63\" y2=\"0.16\" stroke-dasharray=\"0.15 0.05\"/>\n",
       "      <line x1=\"26.63\" y1=\"0.16\" x2=\"26.96\" y2=\"-0.41\" stroke-dasharray=\"0.15 0.05\"/>\n",
       "      <line x1=\"27.95\" y1=\"0.57\" x2=\"28.52\" y2=\"0.91\" stroke-dasharray=\"0.15 0.05\"/>\n",
       "      <line x1=\"28.52\" y1=\"0.91\" x2=\"28.52\" y2=\"1.57\" stroke-dasharray=\"0.15 0.05\"/>\n",
       "      <line x1=\"28.52\" y1=\"1.57\" x2=\"27.95\" y2=\"1.90\" stroke-dasharray=\"0.15 0.05\"/>\n",
       "      <line x1=\"27.95\" y1=\"1.90\" x2=\"27.37\" y2=\"1.57\" stroke-dasharray=\"0.15 0.05\"/>\n",
       "      <line x1=\"27.37\" y1=\"1.57\" x2=\"27.37\" y2=\"0.91\" stroke-dasharray=\"0.15 0.05\"/>\n",
       "      <line x1=\"27.37\" y1=\"0.91\" x2=\"27.95\" y2=\"0.57\" stroke-dasharray=\"0.15 0.05\"/>\n",
       "    </g>\n",
       "    <g font-family=\"monospace\">\n",
       "      <g fill=\"#F0C8A0\" font-family=\"sans-serif\">\n",
       "        <text x=\"27.95\" y=\"-0.41\" dx=\"-0.35\" dy=\"0.20\" font-size=\"0.50\">Si</text>\n",
       "      </g>\n",
       "      <g fill=\"#FF0D0D\" font-family=\"sans-serif\">\n",
       "        <text x=\"28.77\" y=\"-0.41\" dx=\"-0.20\" dy=\"0.20\" font-size=\"0.50\">O</text>\n",
       "      </g>\n",
       "      <g fill=\"#3050F8\" font-family=\"sans-serif\">\n",
       "        <text x=\"31.66\" y=\"0.30\" dx=\"-0.20\" dy=\"0.20\" font-size=\"0.50\">N</text>\n",
       "      </g>\n",
       "      <g fill=\"#3050F8\" font-family=\"sans-serif\">\n",
       "        <text x=\"31.25\" y=\"-0.41\" dx=\"-0.20\" dy=\"0.20\" font-size=\"0.50\">NH</text>\n",
       "      </g>\n",
       "      <g fill=\"#FF0D0D\" font-family=\"sans-serif\">\n",
       "        <text x=\"30.01\" y=\"-1.13\" dx=\"-0.20\" dy=\"0.20\" font-size=\"0.50\">O</text>\n",
       "      </g>\n",
       "    </g>\n",
       "  </g>\n",
       "</svg>"
      ],
      "text/plain": [
       "<IPython.core.display.SVG object>"
      ]
     },
     "metadata": {},
     "output_type": "display_data"
    }
   ],
   "source": [
    "for n, node_id in enumerate(tree.winning_nodes):\n",
    "    print(\n",
    "        f\"-------- Path starts from node #{node_id} with total route score {tree.route_score(node_id)} --------\"\n",
    "    )\n",
    "    display(SVG(get_route_svg(tree, node_id)))\n",
    "    if n == 3:\n",
    "        break"
   ]
  }
 ],
 "metadata": {
  "kernelspec": {
   "display_name": "synplan",
   "language": "python",
   "name": "synplan_env"
  },
  "language_info": {
   "codemirror_mode": {
    "name": "ipython",
    "version": 3
   },
   "file_extension": ".py",
   "mimetype": "text/x-python",
   "name": "python",
   "nbconvert_exporter": "python",
   "pygments_lexer": "ipython3",
   "version": "3.11.9"
  }
 },
 "nbformat": 4,
 "nbformat_minor": 5
}
