{
 "cells": [
  {
   "cell_type": "markdown",
   "id": "15da330e-122c-4f2d-82bc-8a684a7bed90",
   "metadata": {},
   "source": [
    "# SynPlanner Pipeline\n",
    "\n",
    "**Introduction.** Welcome to the SynPlanner tutorial, a detailed guide on utilizing a sophisticated retrosynthetic planning tool that combines Monte Carlo Tree Search (MCTS) with neural networks. This tutorial is designed for synthetic chemists and chemoinformaticians looking to deepen their understanding and application of SynPlanner in their work.\n",
    "\n",
    "**About SynPlanner.** SynPlanner is aimed as a one-box solution for building retrosynthesis planners and includes the original modules for reaction data curation, reaction rules extraction, retrosynthetic models training, and retrosynthesis planning. SynPlanner is based on the open-source Python 3 packages for reaction chemoinformatics and deep learning frameworks.\n",
    "\n",
    "**Tutorial focus.** This tutorial will lead through the steps of extraction of reaction rules, training retrosynthetic models (ranking policy network), and retrosynthesis planning in SynPlanner."
   ]
  },
  {
   "cell_type": "markdown",
   "id": "49c096e8-f13f-4d15-bbd8-d6a7553a944f",
   "metadata": {},
   "source": [
    "## 1. Set up input and output data locations"
   ]
  },
  {
   "cell_type": "code",
   "execution_count": 5,
   "id": "c5053330-261d-41e4-aeaa-901a20b4be02",
   "metadata": {},
   "outputs": [
    {
     "data": {
      "application/vnd.jupyter.widget-view+json": {
       "model_id": "03adaa8a8a5f4d87bdba8d8aba2a0cc6",
       "version_major": 2,
       "version_minor": 0
      },
      "text/plain": [
       "Fetching 25 files:   0%|          | 0/25 [00:00<?, ?it/s]"
      ]
     },
     "metadata": {},
     "output_type": "display_data"
    }
   ],
   "source": [
    "import os\n",
    "import pickle\n",
    "import shutil\n",
    "from pathlib import Path\n",
    "from synplan.utils.loading import download_all_data\n",
    "\n",
    "# download SynPlanner data\n",
    "data_folder = Path(\"synplan_data\").resolve()\n",
    "download_all_data(save_to=data_folder)\n",
    "\n",
    "# results folder\n",
    "results_folder = Path(\"general_tutorial_results\").resolve()\n",
    "results_folder.mkdir(exist_ok=True)\n",
    "\n",
    "# input data\n",
    "original_data_path = data_folder.joinpath(\"tutorial/uspto_tutorial.smi\").resolve(strict=True) # replace with custom data if needed\n",
    "# original_data_path = data_folder.joinpath(\"uspto/uspto_standardized.smi\").resolve(strict=True) # replace with custom data if needed\n",
    "\n",
    "building_blocks_path = data_folder.joinpath(\"building_blocks/building_blocks_em_sa_ln.smi\").resolve(strict=True)\n",
    "\n",
    "# output data\n",
    "standardized_data_path = results_folder.joinpath(\"uspto_standardized.smi\")\n",
    "filtered_data_path = results_folder.joinpath(\"uspto_filtered.smi\")\n",
    "reaction_rules_path = results_folder.joinpath(\"uspto_reaction_rules.pickle\")\n",
    "ranking_policy_network_folder = results_folder.joinpath(\"ranking_policy_network\")\n",
    "ranking_policy_dataset_path = ranking_policy_network_folder.joinpath(\"ranking_policy_dataset.pt\") # the generated training set"
   ]
  },
  {
   "cell_type": "markdown",
   "id": "3b8da9d6-ebed-461d-9b5a-b3b4349d8b13",
   "metadata": {},
   "source": [
    "## 2. Reaction data standardization"
   ]
  },
  {
   "cell_type": "code",
   "execution_count": 6,
   "id": "409c5635-9d6c-443c-82b9-30aa69c32fc5",
   "metadata": {},
   "outputs": [],
   "source": [
    "from synplan.chem.data.standardizing import (\n",
    "    ReactionStandardizationConfig,\n",
    "    standardize_reactions_from_file,\n",
    ")\n",
    "\n",
    "from synplan.chem.data.standardizing import (\n",
    "    ReactionMappingStandardizer,\n",
    "    FunctionalGroupsConfig,\n",
    "    KekuleFormConfig,\n",
    "    CheckValenceConfig,\n",
    "    ImplicifyHydrogensConfig,\n",
    "    CheckIsotopesConfig,\n",
    "    AromaticFormConfig,\n",
    "    MappingFixConfig,\n",
    "    UnchangedPartsConfig,\n",
    "    DuplicateReactionConfig,\n",
    ")"
   ]
  },
  {
   "cell_type": "markdown",
   "id": "bc7e3475-6c17-43ba-bc32-4db673c85a00",
   "metadata": {},
   "source": [
    "### Standardization configuration"
   ]
  },
  {
   "cell_type": "code",
   "execution_count": 7,
   "id": "b17c184e-8e4b-4248-8a43-85ab243a08ea",
   "metadata": {},
   "outputs": [],
   "source": [
    "standardization_config = ReactionStandardizationConfig(\n",
    "    reaction_mapping_config=ReactionMappingStandardizer(),\n",
    "    functional_groups_config=FunctionalGroupsConfig(),\n",
    "    kekule_form_config=KekuleFormConfig(),\n",
    "    check_valence_config=CheckValenceConfig(),\n",
    "    implicify_hydrogens_config=ImplicifyHydrogensConfig(),\n",
    "    check_isotopes_config=CheckIsotopesConfig(),\n",
    "    aromatic_form_config=AromaticFormConfig(),\n",
    "    mapping_fix_config=MappingFixConfig(),\n",
    "    unchanged_parts_config=UnchangedPartsConfig(),\n",
    "    duplicate_reaction_config=DuplicateReactionConfig(),\n",
    ")"
   ]
  },
  {
   "cell_type": "markdown",
   "id": "3d4973f1-3fae-4983-9a96-15b18b3c98a2",
   "metadata": {},
   "source": [
    "### Running standardization"
   ]
  },
  {
   "cell_type": "code",
   "execution_count": 8,
   "id": "957c639d-5aa1-49a5-b3e3-788feba90611",
   "metadata": {},
   "outputs": [
    {
     "name": "stderr",
     "output_type": "stream",
     "text": [
      "Number of reactions processed: 71832 [07:24]\n"
     ]
    },
    {
     "name": "stdout",
     "output_type": "stream",
     "text": [
      "Initial number of parsed reactions: 71832\n",
      "Standardized number of reactions: 69446\n"
     ]
    }
   ],
   "source": [
    "shutil.copy(original_data_path, results_folder.joinpath('uspto_original.smi'))\n",
    "\n",
    "standardize_reactions_from_file(\n",
    "    config=standardization_config,\n",
    "    input_reaction_data_path=original_data_path,\n",
    "    standardized_reaction_data_path=standardized_data_path,\n",
    "    num_cpus=4,\n",
    "    batch_size=100,\n",
    ")"
   ]
  },
  {
   "cell_type": "markdown",
   "id": "29abf54c-d4c9-4457-b55e-8c00e0919118",
   "metadata": {},
   "source": [
    "## 3. Reaction data filtration"
   ]
  },
  {
   "cell_type": "code",
   "execution_count": 9,
   "id": "2431d2d0-4f74-4e4f-aa89-d7dd5f810d3b",
   "metadata": {},
   "outputs": [],
   "source": [
    "from synplan.chem.data.filtering import (\n",
    "    ReactionFilterConfig,  # the main config class\n",
    "    filter_reactions_from_file,  # reaction filtration function\n",
    "    # reaction filters:\n",
    "    CCRingBreakingConfig,\n",
    "    WrongCHBreakingConfig,\n",
    "    CCsp3BreakingConfig,\n",
    "    DynamicBondsConfig,\n",
    "    MultiCenterConfig,\n",
    "    NoReactionConfig,\n",
    "    SmallMoleculesConfig,\n",
    ")"
   ]
  },
  {
   "cell_type": "markdown",
   "id": "ae5b6c9d-4b43-4878-b281-a148320b20f1",
   "metadata": {},
   "source": [
    "### Filtration configuration"
   ]
  },
  {
   "cell_type": "code",
   "execution_count": 10,
   "id": "6d5e4a23-e800-4f03-ba46-e3cb3737dc4d",
   "metadata": {},
   "outputs": [],
   "source": [
    "filtration_config = ReactionFilterConfig(\n",
    "    dynamic_bonds_config=DynamicBondsConfig(\n",
    "        min_bonds_number=1,  # minimum number of dynamic bonds for a reaction\n",
    "        max_bonds_number=6,\n",
    "    ),  # maximum number of dynamic bonds for a reaction\n",
    "    no_reaction_config=NoReactionConfig(),  # configuration for the 'no reaction' filter.\n",
    "    multi_center_config=MultiCenterConfig(),  # configuration for the 'multi-center reaction' filter\n",
    "    wrong_ch_breaking_config=WrongCHBreakingConfig(),  # configuration for the 'C-H breaking' filter\n",
    "    cc_sp3_breaking_config=CCsp3BreakingConfig(),  # configuration for the 'Csp3-C breaking' filter\n",
    "    cc_ring_breaking_config=CCRingBreakingConfig(),\n",
    ")  # configuration for the 'C-C ring breaking' filter"
   ]
  },
  {
   "cell_type": "markdown",
   "id": "3de6526d-b3f9-4b4a-8641-d6fb170a85a0",
   "metadata": {},
   "source": [
    "### Runing filtration"
   ]
  },
  {
   "cell_type": "code",
   "execution_count": 11,
   "id": "fb964f3a-5569-4b98-8979-f139a67ab3ef",
   "metadata": {},
   "outputs": [
    {
     "name": "stderr",
     "output_type": "stream",
     "text": [
      "Number of reactions processed: 69446 [04:17]\n"
     ]
    },
    {
     "name": "stdout",
     "output_type": "stream",
     "text": [
      "Initial number of reactions: 69446\n",
      "Removed number of reactions: 1\n"
     ]
    }
   ],
   "source": [
    "filter_reactions_from_file(\n",
    "    config=filtration_config,\n",
    "    input_reaction_data_path=standardized_data_path,  # the path to the standardized reaction data file\n",
    "    filtered_reaction_data_path=filtered_data_path,  # the path to the filtered reaction data file\n",
    "    num_cpus=4,\n",
    "    batch_size=100,\n",
    ")"
   ]
  },
  {
   "cell_type": "markdown",
   "id": "cbbc5add-1108-49d8-bbcf-d31fe9d57df2",
   "metadata": {},
   "source": [
    "## 4. Reaction rules extraction"
   ]
  },
  {
   "cell_type": "code",
   "execution_count": 12,
   "id": "420642b6-5a4a-4688-9b93-f8c068ac0a9f",
   "metadata": {},
   "outputs": [],
   "source": [
    "from synplan.utils.config import RuleExtractionConfig\n",
    "from synplan.chem.reaction_rules.extraction import extract_rules_from_reactions"
   ]
  },
  {
   "cell_type": "markdown",
   "id": "018359c9-f721-49f3-810c-bff7b961ee2c",
   "metadata": {},
   "source": [
    "### Rule extraction configuration"
   ]
  },
  {
   "cell_type": "code",
   "execution_count": 13,
   "id": "0e1a6557-2532-48b8-8d41-3fe842665353",
   "metadata": {},
   "outputs": [],
   "source": [
    "extraction_config = RuleExtractionConfig(\n",
    "    min_popularity=3,\n",
    "    environment_atom_count=1,\n",
    "    multicenter_rules=True,\n",
    "    include_rings=False,\n",
    "    keep_leaving_groups=True,\n",
    "    keep_incoming_groups=False,\n",
    "    keep_reagents=False,\n",
    "    atom_info_retention={\n",
    "        \"reaction_center\": {\n",
    "            \"neighbors\": True,  # retains information about neighboring atoms to the reaction center\n",
    "            \"hybridization\": True,  # preserves the hybridization state of atoms at the reaction center\n",
    "            \"implicit_hydrogens\": False,  # includes data on implicit hydrogen atoms attached to the reaction center\n",
    "            \"ring_sizes\": False,  # keeps information about the sizes of rings that reaction center atoms are part of\n",
    "        },\n",
    "        \"environment\": {\n",
    "            \"neighbors\": False,  # retains information about neighboring atoms to the atoms in the environment of the reaction center\n",
    "            \"hybridization\": False,  # preserves the hybridization state of atoms in the environment\n",
    "            \"implicit_hydrogens\": False,  # includes data on implicit hydrogen atoms attached to atoms in the environment\n",
    "            \"ring_sizes\": False,  # keeps information about the sizes of rings that environment atoms are part of\n",
    "        },\n",
    "    },\n",
    ")"
   ]
  },
  {
   "cell_type": "markdown",
   "id": "90c318ae-3844-4585-a129-530120ebcfd9",
   "metadata": {},
   "source": [
    "### Running rule extraction"
   ]
  },
  {
   "cell_type": "code",
   "execution_count": 14,
   "id": "e42f25c1-f169-479f-9699-0d97815482ab",
   "metadata": {},
   "outputs": [
    {
     "name": "stderr",
     "output_type": "stream",
     "text": [
      "Number of reactions processed: 69445 [03:47]\n"
     ]
    },
    {
     "name": "stdout",
     "output_type": "stream",
     "text": [
      "Number of extracted reaction rules: 21881\n"
     ]
    }
   ],
   "source": [
    "extract_rules_from_reactions(\n",
    "    config=extraction_config,  # the configuration settings for rule extraction\n",
    "    reaction_data_path=filtered_data_path,  # path to the reaction data file\n",
    "    reaction_rules_path=reaction_rules_path,  # path to the pickle file where the extracted reaction rules will be stored\n",
    "    num_cpus=4,\n",
    "    batch_size=100,\n",
    ")"
   ]
  },
  {
   "cell_type": "markdown",
   "id": "20e55911-23de-410e-b242-d0e95e36314e",
   "metadata": {},
   "source": [
    "## 5. Ranking policy training"
   ]
  },
  {
   "cell_type": "code",
   "execution_count": 15,
   "id": "a669dcd8-21e8-4c07-820c-78c1a46b0e06",
   "metadata": {},
   "outputs": [],
   "source": [
    "from synplan.utils.config import PolicyNetworkConfig\n",
    "from synplan.ml.training.supervised import create_policy_dataset, run_policy_training"
   ]
  },
  {
   "cell_type": "markdown",
   "id": "708e1581-3255-4ead-a4e9-6a3843a66655",
   "metadata": {},
   "source": [
    "### Ranking policy configuration"
   ]
  },
  {
   "cell_type": "code",
   "execution_count": 16,
   "id": "ffdb63c6-7ef0-4b54-b769-45b0c3dac5ea",
   "metadata": {},
   "outputs": [],
   "source": [
    "training_config = PolicyNetworkConfig(\n",
    "    policy_type=\"ranking\",  # the type of policy network\n",
    "    num_conv_layers=5,  # the number of graph convolutional layers in the network\n",
    "    vector_dim=512,  # the dimensionality of the final embedding vector\n",
    "    learning_rate=0.0008,  # the learning rate for the training process\n",
    "    dropout=0.4,  # the dropout rate\n",
    "    num_epoch=100,  # the number of epochs for training\n",
    "    batch_size=100,\n",
    ")  # the size of training batch of input data"
   ]
  },
  {
   "cell_type": "markdown",
   "id": "900ca916-d294-4a8c-b356-7d9c903f89b5",
   "metadata": {},
   "source": [
    "### Ranking policy training dataset"
   ]
  },
  {
   "cell_type": "code",
   "execution_count": 17,
   "id": "73f0fbbe-14d2-4e89-a106-5c4fd1a46de6",
   "metadata": {},
   "outputs": [
    {
     "name": "stderr",
     "output_type": "stream",
     "text": [
      "Number of reactions processed: 69445 [09:42]\n"
     ]
    },
    {
     "name": "stdout",
     "output_type": "stream",
     "text": [
      "Training set size: 52512, validation set size: 13128\n"
     ]
    }
   ],
   "source": [
    "datamodule = create_policy_dataset(\n",
    "    dataset_type=\"ranking\",\n",
    "    reaction_rules_path=reaction_rules_path,\n",
    "    molecules_or_reactions_path=filtered_data_path,\n",
    "    output_path=ranking_policy_dataset_path,\n",
    "    batch_size=training_config.batch_size,\n",
    "    num_cpus=4,\n",
    ")"
   ]
  },
  {
   "cell_type": "markdown",
   "id": "f939e33f-3c32-429a-aa93-c1ae9cf14696",
   "metadata": {},
   "source": [
    "### Running ranking policy training"
   ]
  },
  {
   "cell_type": "code",
   "execution_count": 18,
   "id": "a3203d41-1ac6-4bba-a6ce-420ec7444b2a",
   "metadata": {},
   "outputs": [
    {
     "name": "stderr",
     "output_type": "stream",
     "text": [
      "GPU available: True (cuda), used: True\n",
      "TPU available: False, using: 0 TPU cores\n",
      "HPU available: False, using: 0 HPUs\n"
     ]
    },
    {
     "name": "stdout",
     "output_type": "stream",
     "text": [
      "Policy network balanced accuracy: 0.995\n"
     ]
    }
   ],
   "source": [
    "run_policy_training(\n",
    "    datamodule,  # the prepared data module for training\n",
    "    config=training_config,  # the training configuration\n",
    "    results_path=ranking_policy_network_folder,\n",
    ")  # path to save the training results"
   ]
  },
  {
   "cell_type": "markdown",
   "id": "2f7a35be-8fec-4542-be66-a539170b4e55",
   "metadata": {},
   "source": [
    "## 6. Tree search with the ranking policy network and rollout evaluation"
   ]
  },
  {
   "cell_type": "code",
   "execution_count": 19,
   "id": "5d8c97cd-0e70-47a8-9fc1-7f0dc8351c5f",
   "metadata": {},
   "outputs": [],
   "source": [
    "from CGRtools import smiles\n",
    "\n",
    "from IPython.display import SVG, display\n",
    "\n",
    "from synplan.utils.visualisation import get_route_svg\n",
    "from synplan.mcts.tree import Tree\n",
    "from synplan.mcts.expansion import PolicyNetworkFunction\n",
    "from synplan.utils.config import TreeConfig\n",
    "from synplan.utils.loading import load_reaction_rules, load_building_blocks"
   ]
  },
  {
   "cell_type": "markdown",
   "id": "23718d32-74d7-4aca-bdbb-9b47f780e75d",
   "metadata": {},
   "source": [
    "### MCTS configuration"
   ]
  },
  {
   "cell_type": "code",
   "execution_count": 20,
   "id": "17f18c3b-1889-4e7f-bbbf-fc8b51f5f469",
   "metadata": {},
   "outputs": [],
   "source": [
    "tree_config = TreeConfig(\n",
    "    search_strategy=\"expansion_first\",\n",
    "    evaluation_type=\"rollout\",\n",
    "    max_iterations=300,\n",
    "    max_time=120,\n",
    "    max_depth=9,\n",
    "    min_mol_size=0,\n",
    "    init_node_value=0.5,\n",
    "    ucb_type=\"uct\",\n",
    "    c_ucb=0.1,\n",
    ")"
   ]
  },
  {
   "cell_type": "markdown",
   "id": "9c6aab08-22ee-4bd8-88b3-310896dc66c5",
   "metadata": {},
   "source": [
    "### Choose the target molecule"
   ]
  },
  {
   "cell_type": "code",
   "execution_count": 21,
   "id": "070630a3-489d-48c1-933a-0b05881881c6",
   "metadata": {},
   "outputs": [
    {
     "data": {
      "image/svg+xml": [
       "<svg width=\"7.69cm\" height=\"5.37cm\" viewBox=\"-6.81 -2.28 7.69 5.37\" xmlns=\"http://www.w3.org/2000/svg\" version=\"1.1\">\n",
       "  <g>\n",
       "    <defs>\n",
       "      <mask id=\"mask-92be33f4-8c70-4523-9a61-2789d5dd0a65\">\n",
       "        <rect x=\"-6.81\" y=\"-2.28\" width=\"7.69\" height=\"5.37\" fill=\"white\"/>\n",
       "        <g fill=\"black\">\n",
       "          <ellipse cx=\"-2.60\" cy=\"-0.00\" rx=\"0.3\" ry=\"0.2\"/>\n",
       "          <circle cx=\"-3.30\" cy=\"-0.00\" r=\"0.20\"/>\n",
       "          <circle cx=\"-6.19\" cy=\"0.71\" r=\"0.20\"/>\n",
       "          <circle cx=\"-5.77\" cy=\"-0.00\" r=\"0.20\"/>\n",
       "          <circle cx=\"-4.54\" cy=\"-0.71\" r=\"0.20\"/>\n",
       "        </g>\n",
       "        <g font-family=\"monospace\" stroke=\"black\">\n",
       "          <g font-family=\"sans-serif\" font-size=\"0.50\" stroke-width=\"0.05\">\n",
       "            <text x=\"-2.47\" y=\"-0.00\" dx=\"-0.35\" dy=\"0.20\">Si</text>\n",
       "            <text x=\"-3.30\" y=\"-0.00\" dx=\"-0.20\" dy=\"0.20\">O</text>\n",
       "            <text x=\"-6.19\" y=\"0.71\" dx=\"-0.20\" dy=\"0.20\">N</text>\n",
       "            <text x=\"-5.77\" y=\"-0.00\" dx=\"-0.20\" dy=\"0.20\">NH</text>\n",
       "            <text x=\"-4.54\" y=\"-0.71\" dx=\"-0.20\" dy=\"0.20\">O</text>\n",
       "          </g>\n",
       "        </g>\n",
       "      </mask>\n",
       "    </defs>\n",
       "    <g fill=\"none\" stroke=\"black\" stroke-width=\"0.04\"  mask=\"url(#mask-92be33f4-8c70-4523-9a61-2789d5dd0a65)\">\n",
       "      <line x1=\"-1.70\" y1=\"-1.11\" x2=\"-2.47\" y2=\"-0.83\"/>\n",
       "      <line x1=\"-2.47\" y1=\"-0.83\" x2=\"-2.47\" y2=\"-1.65\"/>\n",
       "      <line x1=\"-2.47\" y1=\"-0.83\" x2=\"-3.30\" y2=\"-0.83\"/>\n",
       "      <line x1=\"-2.47\" y1=\"-0.83\" x2=\"-2.47\" y2=\"-0.00\"/>\n",
       "      <line x1=\"-2.47\" y1=\"-0.00\" x2=\"-3.30\" y2=\"-0.00\"/>\n",
       "      <line x1=\"-2.47\" y1=\"-0.00\" x2=\"-1.65\" y2=\"-0.00\"/>\n",
       "      <line x1=\"-2.47\" y1=\"-0.00\" x2=\"-2.48\" y2=\"0.82\"/>\n",
       "      <line x1=\"-3.30\" y1=\"-0.00\" x2=\"-3.71\" y2=\"0.71\"/>\n",
       "      <line x1=\"-3.71\" y1=\"0.71\" x2=\"-4.54\" y2=\"0.71\"/>\n",
       "      <line x1=\"-4.49\" y1=\"0.74\" x2=\"-4.90\" y2=\"1.46\"/>\n",
       "      <line x1=\"-4.59\" y1=\"0.68\" x2=\"-5.00\" y2=\"1.40\"/>\n",
       "      <line x1=\"-4.54\" y1=\"0.71\" x2=\"-4.95\" y2=\"-0.00\"/>\n",
       "      <line x1=\"-4.95\" y1=\"1.43\" x2=\"-5.77\" y2=\"1.43\"/>\n",
       "      <line x1=\"-5.83\" y1=\"1.46\" x2=\"-6.24\" y2=\"0.74\"/>\n",
       "      <line x1=\"-5.72\" y1=\"1.40\" x2=\"-6.14\" y2=\"0.68\"/>\n",
       "      <line x1=\"-6.19\" y1=\"0.71\" x2=\"-5.77\" y2=\"-0.00\"/>\n",
       "      <line x1=\"-5.77\" y1=\"-0.00\" x2=\"-4.95\" y2=\"-0.00\"/>\n",
       "      <line x1=\"-5.00\" y1=\"-0.03\" x2=\"-4.59\" y2=\"-0.74\"/>\n",
       "      <line x1=\"-4.90\" y1=\"0.03\" x2=\"-4.49\" y2=\"-0.68\"/>\n",
       "      <line x1=\"-1.65\" y1=\"-0.00\" x2=\"-1.24\" y2=\"0.71\"/>\n",
       "      <line x1=\"-1.65\" y1=\"-0.00\" x2=\"-1.24\" y2=\"-0.71\"/>\n",
       "      <line x1=\"-1.24\" y1=\"0.71\" x2=\"-0.41\" y2=\"0.71\"/>\n",
       "      <line x1=\"-0.41\" y1=\"0.71\" x2=\"0.00\" y2=\"-0.00\"/>\n",
       "      <line x1=\"0.00\" y1=\"-0.00\" x2=\"-0.41\" y2=\"-0.71\"/>\n",
       "      <line x1=\"-0.41\" y1=\"-0.71\" x2=\"-1.24\" y2=\"-0.71\"/>\n",
       "      <line x1=\"-2.48\" y1=\"0.82\" x2=\"-3.19\" y2=\"1.24\"/>\n",
       "      <line x1=\"-2.48\" y1=\"0.82\" x2=\"-1.76\" y2=\"1.24\"/>\n",
       "      <line x1=\"-3.19\" y1=\"1.24\" x2=\"-3.19\" y2=\"2.06\"/>\n",
       "      <line x1=\"-3.19\" y1=\"2.06\" x2=\"-2.48\" y2=\"2.47\"/>\n",
       "      <line x1=\"-2.48\" y1=\"2.47\" x2=\"-1.76\" y2=\"2.06\"/>\n",
       "      <line x1=\"-1.76\" y1=\"2.06\" x2=\"-1.76\" y2=\"1.24\"/>\n",
       "      <line x1=\"-2.48\" y1=\"0.99\" x2=\"-3.05\" y2=\"1.32\" stroke-dasharray=\"0.15 0.05\"/>\n",
       "      <line x1=\"-3.05\" y1=\"1.32\" x2=\"-3.05\" y2=\"1.98\" stroke-dasharray=\"0.15 0.05\"/>\n",
       "      <line x1=\"-3.05\" y1=\"1.98\" x2=\"-2.48\" y2=\"2.31\" stroke-dasharray=\"0.15 0.05\"/>\n",
       "      <line x1=\"-2.48\" y1=\"2.31\" x2=\"-1.90\" y2=\"1.98\" stroke-dasharray=\"0.15 0.05\"/>\n",
       "      <line x1=\"-1.90\" y1=\"1.98\" x2=\"-1.90\" y2=\"1.32\" stroke-dasharray=\"0.15 0.05\"/>\n",
       "      <line x1=\"-1.90\" y1=\"1.32\" x2=\"-2.48\" y2=\"0.99\" stroke-dasharray=\"0.15 0.05\"/>\n",
       "      <line x1=\"-1.49\" y1=\"-0.00\" x2=\"-1.16\" y2=\"0.57\" stroke-dasharray=\"0.15 0.05\"/>\n",
       "      <line x1=\"-1.16\" y1=\"0.57\" x2=\"-0.49\" y2=\"0.57\" stroke-dasharray=\"0.15 0.05\"/>\n",
       "      <line x1=\"-0.49\" y1=\"0.57\" x2=\"-0.16\" y2=\"-0.00\" stroke-dasharray=\"0.15 0.05\"/>\n",
       "      <line x1=\"-0.16\" y1=\"-0.00\" x2=\"-0.49\" y2=\"-0.57\" stroke-dasharray=\"0.15 0.05\"/>\n",
       "      <line x1=\"-0.49\" y1=\"-0.57\" x2=\"-1.16\" y2=\"-0.57\" stroke-dasharray=\"0.15 0.05\"/>\n",
       "      <line x1=\"-1.16\" y1=\"-0.57\" x2=\"-1.49\" y2=\"-0.00\" stroke-dasharray=\"0.15 0.05\"/>\n",
       "    </g>\n",
       "    <g font-family=\"monospace\">\n",
       "      <g fill=\"#F0C8A0\" font-family=\"sans-serif\">\n",
       "        <text x=\"-2.47\" y=\"-0.00\" dx=\"-0.35\" dy=\"0.20\" font-size=\"0.50\">Si</text>\n",
       "      </g>\n",
       "      <g fill=\"#FF0D0D\" font-family=\"sans-serif\">\n",
       "        <text x=\"-3.30\" y=\"-0.00\" dx=\"-0.20\" dy=\"0.20\" font-size=\"0.50\">O</text>\n",
       "      </g>\n",
       "      <g fill=\"#3050F8\" font-family=\"sans-serif\">\n",
       "        <text x=\"-6.19\" y=\"0.71\" dx=\"-0.20\" dy=\"0.20\" font-size=\"0.50\">N</text>\n",
       "      </g>\n",
       "      <g fill=\"#3050F8\" font-family=\"sans-serif\">\n",
       "        <text x=\"-5.77\" y=\"-0.00\" dx=\"-0.20\" dy=\"0.20\" font-size=\"0.50\">NH</text>\n",
       "      </g>\n",
       "      <g fill=\"#FF0D0D\" font-family=\"sans-serif\">\n",
       "        <text x=\"-4.54\" y=\"-0.71\" dx=\"-0.20\" dy=\"0.20\" font-size=\"0.50\">O</text>\n",
       "      </g>\n",
       "    </g>\n",
       "  </g>\n",
       "</svg>"
      ],
      "text/plain": [
       "<CGRtools.containers.molecule.MoleculeContainer at 0x7f6732df3b70>"
      ]
     },
     "execution_count": 21,
     "metadata": {},
     "output_type": "execute_result"
    }
   ],
   "source": [
    "example_molecule = \"CC(C)(C)[Si](OCc1ccn[nH]c1=O)(c1ccccc1)c1ccccc1\"\n",
    "\n",
    "target = smiles(example_molecule)\n",
    "target.canonicalize()\n",
    "target.clean2d()\n",
    "target"
   ]
  },
  {
   "cell_type": "markdown",
   "id": "35fe4682-4ba3-4bbe-9aa1-87f71c41fd44",
   "metadata": {},
   "source": [
    "### Run retrosynthetic planning"
   ]
  },
  {
   "cell_type": "code",
   "execution_count": 22,
   "id": "343ed059-a57b-470d-b33c-8bc8207b68dd",
   "metadata": {},
   "outputs": [],
   "source": [
    "# initialize the policy function\n",
    "ranking_policy_network = ranking_policy_network_folder.joinpath(\"policy_network.ckpt\")\n",
    "policy_config = PolicyNetworkConfig(weights_path=ranking_policy_network)\n",
    "policy_function = PolicyNetworkFunction(policy_config=policy_config)\n",
    "\n",
    "reaction_rules = load_reaction_rules(reaction_rules_path)\n",
    "building_blocks = load_building_blocks(building_blocks_path)"
   ]
  },
  {
   "cell_type": "code",
   "execution_count": 23,
   "id": "d5359d1a-06a0-4797-88f1-edafbbfe3b07",
   "metadata": {},
   "outputs": [],
   "source": [
    "tree = Tree(\n",
    "    target=target,\n",
    "    config=tree_config,\n",
    "    reaction_rules=reaction_rules,\n",
    "    building_blocks=building_blocks,\n",
    "    expansion_function=policy_function,\n",
    "    evaluation_function=None,\n",
    ")"
   ]
  },
  {
   "cell_type": "code",
   "execution_count": 24,
   "id": "f770fe0c-645c-49c6-9589-00f08fd6d515",
   "metadata": {},
   "outputs": [
    {
     "data": {
      "application/vnd.jupyter.widget-view+json": {
       "model_id": "dd4c30d1c3a04dadb972cb68dceb0fc3",
       "version_major": 2,
       "version_minor": 0
      },
      "text/plain": [
       "  0%|          | 0/300 [00:00<?, ?it/s]"
      ]
     },
     "metadata": {},
     "output_type": "display_data"
    },
    {
     "name": "stderr",
     "output_type": "stream",
     "text": [
      "WARNING:root:\n",
      "The target molecule was not expanded.\n"
     ]
    },
    {
     "data": {
      "text/plain": [
       "Tree for: c1ccccc1[Si](c2ccccc2)(OCC=3C(=O)NN=CC=3)C(C)(C)C\n",
       "Time: 0.0 seconds\n",
       "Number of nodes: 1\n",
       "Number of iterations: 1\n",
       "Number of visited nodes: 1\n",
       "Number of found routes: 0"
      ]
     },
     "execution_count": 24,
     "metadata": {},
     "output_type": "execute_result"
    }
   ],
   "source": [
    "tree_solved = False\n",
    "for solved, node_id in tree:\n",
    "    if solved:\n",
    "        tree_solved = True\n",
    "tree"
   ]
  },
  {
   "cell_type": "markdown",
   "id": "ebe6eef0-791f-456f-8d9d-5e7d7f80f910",
   "metadata": {},
   "source": [
    "### Retrosynthetic routes visualisation"
   ]
  },
  {
   "cell_type": "code",
   "execution_count": 25,
   "id": "b53f2832-a5ec-43ee-86d3-6fa3952fc784",
   "metadata": {},
   "outputs": [],
   "source": [
    "for n, node_id in enumerate(tree.winning_nodes):\n",
    "    print(\n",
    "        f\"-------- Path starts from node #{node_id} with total route score {tree.route_score(node_id)} --------\"\n",
    "    )\n",
    "    display(SVG(get_route_svg(tree, node_id)))\n",
    "    if n == 3:\n",
    "        break"
   ]
  }
 ],
 "metadata": {
  "kernelspec": {
   "display_name": "synplan",
   "language": "python",
   "name": "synplan_env"
  },
  "language_info": {
   "codemirror_mode": {
    "name": "ipython",
    "version": 3
   },
   "file_extension": ".py",
   "mimetype": "text/x-python",
   "name": "python",
   "nbconvert_exporter": "python",
   "pygments_lexer": "ipython3",
   "version": "3.11.9"
  }
 },
 "nbformat": 4,
 "nbformat_minor": 5
}
