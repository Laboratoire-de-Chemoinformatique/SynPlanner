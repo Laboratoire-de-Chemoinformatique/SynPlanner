{
 "cells": [
  {
   "attachments": {},
   "cell_type": "markdown",
   "id": "7dbab38eb2c6bac9",
   "metadata": {},
   "source": [
    "# Data curation\n",
    "\n",
    "This tutorial demonstrates how to prepare data (reaction standardization and filtration) before reaction rules extraction and retrosynthetic model training in ``SynPlanner``"
   ]
  },
  {
   "cell_type": "markdown",
   "id": "c78c2a63-756b-4a1c-9801-6dcf79cf3da9",
   "metadata": {},
   "source": [
    "## Basic recommendations\n",
    "\n",
    "1. We do not recommend using more than 4-8 CPUs during data standardization. The bottleneck are I/O operations that are not yet properlyparallelized."
   ]
  },
  {
   "cell_type": "markdown",
   "id": "2caefbd54c1ecce6",
   "metadata": {},
   "source": [
    "## 1. Set up input and output data locations\n",
    "\n",
    "The ``SynPlanner`` input data will be downloaded from the ``HuggingFace`` repository to the specified directory."
   ]
  },
  {
   "cell_type": "code",
   "execution_count": 7,
   "id": "41e93a39d4614581",
   "metadata": {
    "jupyter": {
     "is_executing": true
    }
   },
   "outputs": [
    {
     "data": {
      "application/vnd.jupyter.widget-view+json": {
       "model_id": "3a1097afea2749a19ebd52353a71d2eb",
       "version_major": 2,
       "version_minor": 0
      },
      "text/plain": [
       "Fetching 25 files:   0%|          | 0/25 [00:00<?, ?it/s]"
      ]
     },
     "metadata": {},
     "output_type": "display_data"
    }
   ],
   "source": [
    "import os\n",
    "import shutil\n",
    "from pathlib import Path\n",
    "from synplan.utils.loading import download_all_data\n",
    "\n",
    "# download SynPlanner data\n",
    "data_folder = Path(\"synplan_data\").resolve()\n",
    "download_all_data(save_to=data_folder)\n",
    "\n",
    "# results folder\n",
    "results_folder = Path(\"tutorial_results\").resolve()\n",
    "results_folder.mkdir(exist_ok=True)\n",
    "\n",
    "# input data\n",
    "original_data_path = data_folder.joinpath(\"tutorial/uspto_tutorial.smi\").resolve(strict=True) # replace with custom data if needed\n",
    "shutil.copy(original_data_path, results_folder.joinpath('uspto_original.smi')) # copy original data to the results folder for consistency\n",
    "\n",
    "# output_data\n",
    "standardized_data_path = results_folder.joinpath(\"uspto_standardized.smi\")\n",
    "filtered_data_path = results_folder.joinpath(\"uspto_filtered.smi\")"
   ]
  },
  {
   "cell_type": "markdown",
   "id": "9be2deb0cdf65dff",
   "metadata": {},
   "source": [
    "## 2. Reaction standardization"
   ]
  },
  {
   "cell_type": "markdown",
   "id": "f3468ce1-3d35-49cf-b176-ec216a4ee9e2",
   "metadata": {},
   "source": [
    "The reaction data standardization protocol includes the standardization of individual molecules (reagents, reactants, and products) and the standardization of reactions (e.g. reaction equation balancing). \n",
    "\n",
    "More details about reaction standardization protocol in ``SynPlanner`` can be found **here** in official document.\n",
    "\n",
    "\n",
    "<div class=\"alert alert-info\">\n",
    "<b>Note</b>\n",
    "\n",
    "In this tutorial, the input data are already standardized by a slightly different protocol. It omits major tautomer selection done by ChemAxon standardizer.\n",
    "</div>"
   ]
  },
  {
   "cell_type": "markdown",
   "id": "4b7680ae87317474",
   "metadata": {},
   "source": [
    "### Standardization configuration\n",
    "\n",
    "The next step is to configure the reaction standardization process. We do this using the `ReactionStandardizationConfig` class in ``SynPlanner``. This class allows for the specification of various parameters and settings for the standardization process.\n",
    "\n",
    "More details about reaction standardization configuration in ``SynPlanner`` can be found **here** in official document."
   ]
  },
  {
   "cell_type": "code",
   "execution_count": 2,
   "id": "c1f36dec5ff7f3cd",
   "metadata": {},
   "outputs": [],
   "source": [
    "from synplan.chem.data.standardizing import (\n",
    "    ReactionStandardizationConfig, # the main config class\n",
    "    standardize_reactions_from_file, # reaction standardization function\n",
    "    # reaction standardizers\n",
    "    ReactionMappingConfig,\n",
    "    FunctionalGroupsConfig,\n",
    "    KekuleFormConfig,\n",
    "    CheckValenceConfig,\n",
    "    ImplicifyHydrogensConfig,\n",
    "    CheckIsotopesConfig,\n",
    "    AromaticFormConfig,\n",
    "    MappingFixConfig,\n",
    "    UnchangedPartsConfig,\n",
    "    DuplicateReactionConfig,\n",
    ")\n",
    "\n",
    "# specify the list of applied reaction standardizers\n",
    "standardization_config = ReactionStandardizationConfig(\n",
    "    reaction_mapping_config=ReactionMappingConfig(),\n",
    "    kekule_form_config=KekuleFormConfig(),\n",
    "    check_valence_config=CheckValenceConfig(),\n",
    "    implicify_hydrogens_config=ImplicifyHydrogensConfig(),\n",
    "    check_isotopes_config=CheckIsotopesConfig(),\n",
    "    aromatic_form_config=AromaticFormConfig(),\n",
    "    mapping_fix_config=MappingFixConfig(),\n",
    "    unchanged_parts_config=UnchangedPartsConfig(),\n",
    "    duplicate_reaction_config=DuplicateReactionConfig(),\n",
    ")"
   ]
  },
  {
   "attachments": {},
   "cell_type": "markdown",
   "id": "7015f804ae1a28ea",
   "metadata": {},
   "source": [
    "<div class=\"alert alert-info\">\n",
    "<b>Note</b>\n",
    "\n",
    "If the reaction standardizer name (`..._config`) is listed in the `ReactionStandardizationConfig` (see above), it means that this standardizer will be activated.\n",
    "</div>\n",
    "\n",
    "As mentioned before, it is possible to apply only desirable standardizers to the reactions. For example, if you only want to perform reaction mapping, you can specify only two configs in `ReactionStandardizationConfig`:\n",
    "\n",
    "``` python \n",
    "\n",
    "standardization_config = ReactionStandardizationConfig(\n",
    "    reaction_mapping_config=ReactionStandardizationConfig(),\n",
    "    reaction_mapping_config=ReactionMappingConfig(),\n",
    ")\n",
    "```"
   ]
  },
  {
   "cell_type": "markdown",
   "id": "af7b3cb97b0957dc",
   "metadata": {},
   "source": [
    "### Running standardization\n",
    "\n",
    "Once this standardization configuration is in place, we can proceed to apply these standardizers to the source reaction data:"
   ]
  },
  {
   "cell_type": "code",
   "execution_count": 3,
   "id": "80a59191f1c4f991",
   "metadata": {},
   "outputs": [
    {
     "name": "stderr",
     "output_type": "stream",
     "text": [
      "Number of reactions processed: 71832 [05:28]\n"
     ]
    },
    {
     "name": "stdout",
     "output_type": "stream",
     "text": [
      "Initial number of parsed reactions: 71832\n",
      "Standardized number of reactions: 69446\n"
     ]
    }
   ],
   "source": [
    "standardize_reactions_from_file(\n",
    "    config=standardization_config,\n",
    "    input_reaction_data_path=original_data_path, # original input data\n",
    "    standardized_reaction_data_path=standardized_data_path, # standardized output data\n",
    "    num_cpus=4,\n",
    "    batch_size=100,\n",
    ")"
   ]
  },
  {
   "cell_type": "markdown",
   "id": "ba54bb31fd1d34f2",
   "metadata": {},
   "source": [
    "## 3. Reaction filtration\n",
    "\n",
    "In ``SynPlanner``, reaction data filtration is a crucial step to ensure the validity of reaction rules used in retrosynthetic planning.\n",
    "\n",
    "More details about reaction filtration protocol in ``SynPlanner`` can be found **here** in official document."
   ]
  },
  {
   "cell_type": "markdown",
   "id": "39e80a59eb18ffa9",
   "metadata": {},
   "source": [
    "### Filtration configuration\n",
    "\n",
    "The next step is to configure the reaction filtration process. We do this using the `ReactionFilterConfig` class in ``SynPlanner``. This class allows for the specification of various parameters and settings for the filtration process.\n",
    "\n",
    "More details about reaction filtration configuration in ``SynPlanner`` can be found **here** in official document."
   ]
  },
  {
   "cell_type": "code",
   "execution_count": 4,
   "id": "9c4b733e0ef4adb9",
   "metadata": {},
   "outputs": [],
   "source": [
    "from synplan.chem.data.filtering import (\n",
    "    ReactionFilterConfig,  # the main config class\n",
    "    filter_reactions_from_file,  # reaction filtration function\n",
    "    # reaction filters:\n",
    "    CCRingBreakingConfig,\n",
    "    WrongCHBreakingConfig,\n",
    "    CCsp3BreakingConfig,\n",
    "    DynamicBondsConfig,\n",
    "    MultiCenterConfig,\n",
    "    NoReactionConfig,\n",
    "    SmallMoleculesConfig,\n",
    ")\n",
    "\n",
    "# specify the list of applied reaction filters\n",
    "filtration_config = ReactionFilterConfig(\n",
    "    dynamic_bonds_config=DynamicBondsConfig(\n",
    "        min_bonds_number=1, # minimum number of dynamic bonds for a reaction\n",
    "        max_bonds_number=6, # maximum number of dynamic bonds for a reaction\n",
    "    ),  \n",
    "    no_reaction_config=NoReactionConfig(),  \n",
    "    multi_center_config=MultiCenterConfig(),  \n",
    "    wrong_ch_breaking_config=WrongCHBreakingConfig(),  \n",
    "    cc_sp3_breaking_config=CCsp3BreakingConfig(),\n",
    "    cc_ring_breaking_config=CCRingBreakingConfig(),\n",
    ")"
   ]
  },
  {
   "cell_type": "markdown",
   "id": "1c0c3dd7-39b4-4f40-a661-c6ede07f1a94",
   "metadata": {},
   "source": [
    "<div class=\"alert alert-info\">\n",
    "<b>Note</b>\n",
    "\n",
    "If the reaction filter name (`..._config`) is listed in the `ReactionFilterConfig` (see above), it means that this folter will be activated.\n",
    "</div>"
   ]
  },
  {
   "cell_type": "markdown",
   "id": "5cd17e60-7be6-4186-855a-19cdaf071baf",
   "metadata": {},
   "source": [
    "### Running filtration\n",
    "\n",
    "Once the filtration configuration is in place, we can proceed to apply these filters to the source reaction data:"
   ]
  },
  {
   "cell_type": "code",
   "execution_count": 5,
   "id": "b21f428a44983c99",
   "metadata": {},
   "outputs": [
    {
     "name": "stderr",
     "output_type": "stream",
     "text": [
      "Number of reactions processed: 69446 [04:17]\n"
     ]
    },
    {
     "name": "stdout",
     "output_type": "stream",
     "text": [
      "Initial number of reactions: 69446\n",
      "Removed number of reactions: 1\n"
     ]
    }
   ],
   "source": [
    "filter_reactions_from_file(\n",
    "    config=filtration_config,\n",
    "    input_reaction_data_path=standardized_data_path, # standardized input data\n",
    "    filtered_reaction_data_path=filtered_data_path, # filtered output data\n",
    "    num_cpus=4,\n",
    "    batch_size=100,\n",
    ")"
   ]
  },
  {
   "cell_type": "markdown",
   "id": "aed3b18c-7f05-44c2-8363-6db14b32992a",
   "metadata": {},
   "source": [
    "## Results\n",
    "\n",
    "If the tutorial is executed successfully, you will get in the results folder three reaction data files: \n",
    "- original reaction data\n",
    "- standardized reaction data\n",
    "- filtered reaction data"
   ]
  },
  {
   "cell_type": "code",
   "execution_count": 6,
   "id": "12555bc5-6235-4634-bb7a-bbe9df624665",
   "metadata": {},
   "outputs": [
    {
     "data": {
      "text/plain": [
       "[PosixPath('/home1/dima/synplanner/docs_tutorials/tutorial_results/uspto_original.smi'),\n",
       " PosixPath('/home1/dima/synplanner/docs_tutorials/tutorial_results/uspto_standardized.smi'),\n",
       " PosixPath('/home1/dima/synplanner/docs_tutorials/tutorial_results/uspto_filtered.smi')]"
      ]
     },
     "execution_count": 6,
     "metadata": {},
     "output_type": "execute_result"
    }
   ],
   "source": [
    "sorted(Path(results_folder).iterdir(), key=os.path.getmtime, reverse=False)"
   ]
  },
  {
   "cell_type": "markdown",
   "id": "e641107f-77c7-4399-ba42-6d41501903fc",
   "metadata": {},
   "source": [
    "# Next step: Reaction rule extraction\n",
    "\n",
    "Prepared filtered reaction data can be used now for reaction rules extraction (see the corresponding tutorial)."
   ]
  }
 ],
 "metadata": {
  "kernelspec": {
   "display_name": "synplan",
   "language": "python",
   "name": "synplan_env"
  },
  "language_info": {
   "codemirror_mode": {
    "name": "ipython",
    "version": 3
   },
   "file_extension": ".py",
   "mimetype": "text/x-python",
   "name": "python",
   "nbconvert_exporter": "python",
   "pygments_lexer": "ipython3",
   "version": "3.11.9"
  }
 },
 "nbformat": 4,
 "nbformat_minor": 5
}
