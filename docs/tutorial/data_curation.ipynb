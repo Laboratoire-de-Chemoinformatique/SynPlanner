{
 "cells": [
  {
   "cell_type": "markdown",
   "id": "7dbab38eb2c6bac9",
   "metadata": {},
   "source": [
    "# Data curation"
   ]
  },
  {
   "cell_type": "markdown",
   "id": "d732f1bf5859e676",
   "metadata": {},
   "source": [
    "This tutorial will lead through the steps of data curation (reaction standardization and filtration) in SynPlanner.\n",
    "\n",
    "### Prerequisites\n",
    "\n",
    "There are two reaction datasets versions:\n",
    "\n",
    "1) Standardized USPTO dataset (around 1.3 M reactions)\n",
    "2) USPTO tutorial dataset around(72K reactions)\n",
    "\n",
    "For educational, demonstrative purposes and on machines with limited computational resources (CPU and RAM) it is recommended to use USPTO tutorial dataset. The full reaction dataset practically is executable now only on computational servers."
   ]
  },
  {
   "cell_type": "markdown",
   "id": "2caefbd54c1ecce6",
   "metadata": {},
   "source": [
    "## 1. Set up input and output data locations"
   ]
  },
  {
   "cell_type": "markdown",
   "id": "3ea88f5ea7d0965a",
   "metadata": {},
   "source": [
    "The SynPlanner input data will be downloaded from the [HuggingFace repository](https://huggingface.co/Laboratoire-De-Chemoinformatique/SynPlanner) to the current directory."
   ]
  },
  {
   "cell_type": "code",
   "execution_count": 1,
   "id": "41e93a39d4614581",
   "metadata": {
    "jupyter": {
     "is_executing": true
    }
   },
   "outputs": [
    {
     "data": {
      "application/vnd.jupyter.widget-view+json": {
       "model_id": "b0699f16382e42a998d9c622740e67c5",
       "version_major": 2,
       "version_minor": 0
      },
      "text/plain": [
       "Fetching 25 files:   0%|          | 0/25 [00:00<?, ?it/s]"
      ]
     },
     "metadata": {},
     "output_type": "display_data"
    },
    {
     "data": {
      "application/vnd.jupyter.widget-view+json": {
       "model_id": "d24bd4129d964a9497bc7b8c4ace2171",
       "version_major": 2,
       "version_minor": 0
      },
      "text/plain": [
       "(…)sascore/targets_with_sascore_1.5_2.5.smi:   0%|          | 0.00/4.36k [00:00<?, ?B/s]"
      ]
     },
     "metadata": {},
     "output_type": "display_data"
    },
    {
     "data": {
      "application/vnd.jupyter.widget-view+json": {
       "model_id": "e8020d8d200e4653835f3864fb0a408c",
       "version_major": 2,
       "version_minor": 0
      },
      "text/plain": [
       "(…)sascore/targets_with_sascore_3.5_4.5.smi:   0%|          | 0.00/5.40k [00:00<?, ?B/s]"
      ]
     },
     "metadata": {},
     "output_type": "display_data"
    },
    {
     "data": {
      "application/vnd.jupyter.widget-view+json": {
       "model_id": "d9b35574c2f047bda400136950c26c4e",
       "version_major": 2,
       "version_minor": 0
      },
      "text/plain": [
       "(…)sascore/targets_with_sascore_4.5_5.5.smi:   0%|          | 0.00/6.09k [00:00<?, ?B/s]"
      ]
     },
     "metadata": {},
     "output_type": "display_data"
    },
    {
     "data": {
      "application/vnd.jupyter.widget-view+json": {
       "model_id": "d5a147577b9a491abfe7561d06b3cc31",
       "version_major": 2,
       "version_minor": 0
      },
      "text/plain": [
       ".gitignore:   0%|          | 0.00/1.96k [00:00<?, ?B/s]"
      ]
     },
     "metadata": {},
     "output_type": "display_data"
    },
    {
     "data": {
      "application/vnd.jupyter.widget-view+json": {
       "model_id": "e790c440e183409aaa5813441e5faa33",
       "version_major": 2,
       "version_minor": 0
      },
      "text/plain": [
       "README.md:   0%|          | 0.00/21.0 [00:00<?, ?B/s]"
      ]
     },
     "metadata": {},
     "output_type": "display_data"
    },
    {
     "data": {
      "application/vnd.jupyter.widget-view+json": {
       "model_id": "2eb6e5550e8549d498b727a243312e08",
       "version_major": 2,
       "version_minor": 0
      },
      "text/plain": [
       "(…)sascore/targets_with_sascore_2.5_3.5.smi:   0%|          | 0.00/4.88k [00:00<?, ?B/s]"
      ]
     },
     "metadata": {},
     "output_type": "display_data"
    },
    {
     "data": {
      "application/vnd.jupyter.widget-view+json": {
       "model_id": "508a5194fbd4424386300ff5ff732f6f",
       "version_major": 2,
       "version_minor": 0
      },
      "text/plain": [
       ".gitattributes:   0%|          | 0.00/1.52k [00:00<?, ?B/s]"
      ]
     },
     "metadata": {},
     "output_type": "display_data"
    },
    {
     "data": {
      "application/vnd.jupyter.widget-view+json": {
       "model_id": "1a00f487b6ef43d3982e8eab19533244",
       "version_major": 2,
       "version_minor": 0
      },
      "text/plain": [
       "(…)sascore/targets_with_sascore_5.5_6.5.smi:   0%|          | 0.00/6.50k [00:00<?, ?B/s]"
      ]
     },
     "metadata": {},
     "output_type": "display_data"
    },
    {
     "data": {
      "application/vnd.jupyter.widget-view+json": {
       "model_id": "89765976c9f244bb9addec2c97265357",
       "version_major": 2,
       "version_minor": 0
      },
      "text/plain": [
       "(…)sascore/targets_with_sascore_7.5_8.5.smi:   0%|          | 0.00/7.30k [00:00<?, ?B/s]"
      ]
     },
     "metadata": {},
     "output_type": "display_data"
    },
    {
     "data": {
      "application/vnd.jupyter.widget-view+json": {
       "model_id": "c53d35e84c3b488abee952b8c0ff3f40",
       "version_major": 2,
       "version_minor": 0
      },
      "text/plain": [
       "(…)sascore/targets_with_sascore_6.5_7.5.smi:   0%|          | 0.00/6.76k [00:00<?, ?B/s]"
      ]
     },
     "metadata": {},
     "output_type": "display_data"
    },
    {
     "data": {
      "application/vnd.jupyter.widget-view+json": {
       "model_id": "fca72e21250f43e98099bda6fd536801",
       "version_major": 2,
       "version_minor": 0
      },
      "text/plain": [
       "(…)ding_blocks/building_blocks_em_sa_ln.smi:   0%|          | 0.00/5.78M [00:00<?, ?B/s]"
      ]
     },
     "metadata": {},
     "output_type": "display_data"
    },
    {
     "data": {
      "application/vnd.jupyter.widget-view+json": {
       "model_id": "1141281594aa4c4c9a5ffd36d409ca9e",
       "version_major": 2,
       "version_minor": 0
      },
      "text/plain": [
       "(…)ecules_for_filtering_policy_training.zip:   0%|          | 0.00/18.0M [00:00<?, ?B/s]"
      ]
     },
     "metadata": {},
     "output_type": "display_data"
    },
    {
     "data": {
      "application/vnd.jupyter.widget-view+json": {
       "model_id": "77f474bf886a42b3b541435110f4fbc4",
       "version_major": 2,
       "version_minor": 0
      },
      "text/plain": [
       "targets_for_value_network_training.zip:   0%|          | 0.00/735k [00:00<?, ?B/s]"
      ]
     },
     "metadata": {},
     "output_type": "display_data"
    },
    {
     "data": {
      "application/vnd.jupyter.widget-view+json": {
       "model_id": "96487a89c0e547f1942737c8be3d3510",
       "version_major": 2,
       "version_minor": 0
      },
      "text/plain": [
       "building_blocks_em_sa_ln.sdf.zip:   0%|          | 0.00/28.1M [00:00<?, ?B/s]"
      ]
     },
     "metadata": {},
     "output_type": "display_data"
    },
    {
     "data": {
      "application/vnd.jupyter.widget-view+json": {
       "model_id": "2bd75212200948769eb7df82aeb11fbf",
       "version_major": 2,
       "version_minor": 0
      },
      "text/plain": [
       "uspto_filtered.zip:   0%|          | 0.00/5.22M [00:00<?, ?B/s]"
      ]
     },
     "metadata": {},
     "output_type": "display_data"
    },
    {
     "data": {
      "application/vnd.jupyter.widget-view+json": {
       "model_id": "88236379fa834514a1a7c1586bb87992",
       "version_major": 2,
       "version_minor": 0
      },
      "text/plain": [
       "uspto_standardized.zip:   0%|          | 0.00/5.88M [00:00<?, ?B/s]"
      ]
     },
     "metadata": {},
     "output_type": "display_data"
    },
    {
     "data": {
      "application/vnd.jupyter.widget-view+json": {
       "model_id": "2d101cfa05ea4f6a929eb59578e5d88f",
       "version_major": 2,
       "version_minor": 0
      },
      "text/plain": [
       "ranking_policy_dataset.pt:   0%|          | 0.00/70.5M [00:00<?, ?B/s]"
      ]
     },
     "metadata": {},
     "output_type": "display_data"
    },
    {
     "data": {
      "application/vnd.jupyter.widget-view+json": {
       "model_id": "e7679d85817d4c99b241297d8ba25aaa",
       "version_major": 2,
       "version_minor": 0
      },
      "text/plain": [
       "ranking_policy_network.ckpt:   0%|          | 0.00/151M [00:00<?, ?B/s]"
      ]
     },
     "metadata": {},
     "output_type": "display_data"
    },
    {
     "data": {
      "application/vnd.jupyter.widget-view+json": {
       "model_id": "8def9b64149b45ef928376c68fd3ca06",
       "version_major": 2,
       "version_minor": 0
      },
      "text/plain": [
       "uspto_reaction_rules.zip:   0%|          | 0.00/7.29M [00:00<?, ?B/s]"
      ]
     },
     "metadata": {},
     "output_type": "display_data"
    },
    {
     "data": {
      "application/vnd.jupyter.widget-view+json": {
       "model_id": "e4a6c298643d4ccfb8c7215c8a795488",
       "version_major": 2,
       "version_minor": 0
      },
      "text/plain": [
       "uspto_tutorial.zip:   0%|          | 0.00/5.94M [00:00<?, ?B/s]"
      ]
     },
     "metadata": {},
     "output_type": "display_data"
    },
    {
     "data": {
      "application/vnd.jupyter.widget-view+json": {
       "model_id": "e8869eb8815547468e58467ec292d75b",
       "version_major": 2,
       "version_minor": 0
      },
      "text/plain": [
       "uspto_reaction_rules.pickle:   0%|          | 0.00/45.5M [00:00<?, ?B/s]"
      ]
     },
     "metadata": {},
     "output_type": "display_data"
    },
    {
     "data": {
      "application/vnd.jupyter.widget-view+json": {
       "model_id": "3eac6346b6b2409993405ede220d10f9",
       "version_major": 2,
       "version_minor": 0
      },
      "text/plain": [
       "uspto_standardized.zip:   0%|          | 0.00/119M [00:00<?, ?B/s]"
      ]
     },
     "metadata": {},
     "output_type": "display_data"
    },
    {
     "data": {
      "application/vnd.jupyter.widget-view+json": {
       "model_id": "c593fd00c33c46dc97e0cd0f204db33f",
       "version_major": 2,
       "version_minor": 0
      },
      "text/plain": [
       "filtering_policy_network.ckpt:   0%|          | 0.00/312M [00:00<?, ?B/s]"
      ]
     },
     "metadata": {},
     "output_type": "display_data"
    },
    {
     "data": {
      "application/vnd.jupyter.widget-view+json": {
       "model_id": "2a692768bcc14318a5641a52d14c4895",
       "version_major": 2,
       "version_minor": 0
      },
      "text/plain": [
       "ranking_policy_network.ckpt:   0%|          | 0.00/164M [00:00<?, ?B/s]"
      ]
     },
     "metadata": {},
     "output_type": "display_data"
    },
    {
     "data": {
      "application/vnd.jupyter.widget-view+json": {
       "model_id": "6ca3c90d1fc94ed8a9fd53090ba06759",
       "version_major": 2,
       "version_minor": 0
      },
      "text/plain": [
       "value_network.ckpt:   0%|          | 0.00/15.9M [00:00<?, ?B/s]"
      ]
     },
     "metadata": {},
     "output_type": "display_data"
    },
    {
     "name": "stdout",
     "output_type": "stream",
     "text": [
      "Extracted molecules_for_filtering_policy_training.smi to /home1/dima/synplanner/tutorials_new/synplan_data/chembl\n",
      "Extracted targets_for_value_network_training.smi to /home1/dima/synplanner/tutorials_new/synplan_data/chembl\n",
      "Extracted uspto_standardized.smi to /home1/dima/synplanner/tutorials_new/synplan_data/uspto\n",
      "Extracted uspto_tutorial.smi to /home1/dima/synplanner/tutorials_new/synplan_data/tutorial\n",
      "Extracted uspto_filtered.smi to /home1/dima/synplanner/tutorials_new/synplan_data/tutorial/data_curation\n",
      "Extracted uspto_standardized.smi to /home1/dima/synplanner/tutorials_new/synplan_data/tutorial/data_curation\n",
      "Extracted uspto_reaction_rules.pickle to /home1/dima/synplanner/tutorials_new/synplan_data/tutorial/rules_extraction\n",
      "Extracted building_blocks_em_sa_ln.sdf to /home1/dima/synplanner/tutorials_new/synplan_data/building_blocks\n"
     ]
    }
   ],
   "source": [
    "import os\n",
    "import shutil\n",
    "from pathlib import Path\n",
    "from synplan.utils.loading import download_all_data\n",
    "\n",
    "# download SynPlanner data\n",
    "data_folder = Path(\"synplan_data\").resolve()\n",
    "download_all_data(save_to=data_folder)\n",
    "\n",
    "# results folder\n",
    "results_folder = Path(\"tutorial_results\").resolve()\n",
    "results_folder.mkdir(exist_ok=True)\n",
    "\n",
    "# input data\n",
    "original_data_path = data_folder.joinpath(\"tutorial/uspto_tutorial.smi\").resolve(strict=True) # replace with custom data if needed\n",
    "shutil.copy(original_data_path, results_folder.joinpath('uspto_original.smi')) # copy original data to the results folder for consistency\n",
    "\n",
    "# output_data\n",
    "standardized_data_path = results_folder.joinpath(\"uspto_standardized.smi\")\n",
    "filtered_data_path = results_folder.joinpath(\"uspto_filtered.smi\")"
   ]
  },
  {
   "cell_type": "markdown",
   "id": "9be2deb0cdf65dff",
   "metadata": {},
   "source": [
    "## 2. Reaction data standardization"
   ]
  },
  {
   "cell_type": "markdown",
   "id": "b5c6fe9eb9d19031",
   "metadata": {},
   "source": [
    "The reaction data are standardized using an original protocol for reaction data curation\n",
    "[published earlier](https://doi.org/10.1002/minf.202100119). This protocol includes two layers:\n",
    "standardization of individual molecules (reactants, reagents, products) and reaction standardization.\n",
    "Steps for standardization of individual molecules is following:\n",
    "\n",
    "* dearomatization\n",
    "* isotope removal\n",
    "* stereo mark removal\n",
    "* explicit hydrogen removal\n",
    "* small fragment removal\n",
    "* solvent removal\n",
    "* salt stripping\n",
    "* charge neutralization\n",
    "* functional group standardization\n",
    "* valence checking \n",
    "* aromatization\n",
    "\n",
    "The reaction standardization layer is following: \n",
    "\n",
    "* reaction role assignment\n",
    "* reaction equation balancing\n",
    "* atom-to-atom mapping\n",
    "* duplicate reactions removal\n",
    "\n",
    "<div class=\"alert alert-info\">\n",
    "<b>Note</b> \n",
    "    \n",
    "In this tutorial, the input data are already standardized by a slightly different protocol from the original paper. It omits major tautomer selection done by ChemAxon standardizer.\n",
    "</div>\n",
    "\n",
    "### Reaction atom mapping\n",
    "Reaction atom-to-atom (AAM) mapping in SynPlanner is performed with GraphormerMapper,\n",
    "a new algorithm for AAM based on a transformer neural network adopted for the direct processing of molecular graphs\n",
    "as sets of atoms and bonds, as opposed to SMILES/SELFIES sequence-based approaches, in combination with the\n",
    "Bidirectional Encoder Representations from Transformers (BERT) network. The graph transformer serves to extract molecular features that are tied to atoms and bonds. The BERT network is used for chemical transformation learning.\n",
    "In a [benchmarking study](https://doi.org/10.1021/acs.jcim.2c00344), it was demonstrated  that GraphormerMapper\n",
    "is superior to the state-of-the-art IBM RxnMapper algorithm in the “Golden” benchmarking data set\n",
    "(total correctly mapped reactions 89.5% vs. 84.5%).\n",
    "\n",
    "### Configuration\n",
    "\n",
    "Reaction standardization protocol can be adjusted using the configuration YAML file. There are 14 options included:\n",
    "\n",
    "| Reaction standardizer       | Description                                                     |\n",
    "|-----------------------------|-----------------------------------------------------------------|\n",
    "| reaction_mapping_config     | Maps atoms of the reaction using GraphormerMapper               |\n",
    "| functional_groups_config    | Standardization of functional groups                            |\n",
    "| kekule_form_config          | Transforms molecules to Kekule form when possible               |\n",
    "| check_valence_config        | Checks atom valences                                            |\n",
    "| implicify_hydrogens_config  | Removes hydrogen atoms                                          |\n",
    "| check_isotopes_config       | Checks and cleans isotope atoms when possible                   |\n",
    "| split_ions_config           | Splits ions in reaction when possible                           |\n",
    "| aromatic_form_config        | Transforms molecules to aromatic form when possible             |\n",
    "| mapping_fix_config          | Fixes atom-to-atom mapping in reaction when needed and possible |\n",
    "| unchanged_parts_config      | Removes unchanged parts in reaction                             |\n",
    "| small_molecules_config      | Removes small molecule from reaction                            |\n",
    "| remove_reagents_config      | Removes reagents from reaction                                  |\n",
    "| rebalance_reaction_config   | Rebalances reaction                                             |\n",
    "| duplicate_reaction_config   | Removes duplicate reactions                                     |\n",
    "\n",
    "\n",
    "<div class=\"alert alert-info\">\n",
    "<b>Note</b>  \n",
    "    \n",
    "If the reaction standardizer name (`..._config`) is listed in the configuration file `standardization.yaml` or in `ReactionStandardizationConfig` (see below), it means that this standardizer will be activated.\n",
    "</div>\n"
   ]
  },
  {
   "cell_type": "markdown",
   "id": "4b7680ae87317474",
   "metadata": {},
   "source": [
    "### Setting up the reaction standardization configuration\n",
    "\n",
    "All configuration objects and functions can be imported from the `synplan.chem.data.standardizing` module:"
   ]
  },
  {
   "cell_type": "code",
   "execution_count": 2,
   "id": "c1f36dec5ff7f3cd",
   "metadata": {},
   "outputs": [],
   "source": [
    "from synplan.chem.data.standardizing import (\n",
    "    ReactionStandardizationConfig, # the main config class\n",
    "    standardize_reactions_from_file, # reaction standardization function\n",
    "    # reaction standardizers\n",
    "    ReactionMappingConfig,\n",
    "    FunctionalGroupsConfig,\n",
    "    KekuleFormConfig,\n",
    "    CheckValenceConfig,\n",
    "    ImplicifyHydrogensConfig,\n",
    "    CheckIsotopesConfig,\n",
    "    AromaticFormConfig,\n",
    "    MappingFixConfig,\n",
    "    UnchangedPartsConfig,\n",
    "    DuplicateReactionConfig,\n",
    ")"
   ]
  },
  {
   "cell_type": "markdown",
   "id": "769c1b523a5ab969",
   "metadata": {},
   "source": [
    "The next step is to configure the reaction standardization process. We do this using the `ReactionStandardizationConfig` class in SynPlanner. This class allows for the specification of various parameters and settings for the standardization process."
   ]
  },
  {
   "cell_type": "code",
   "execution_count": 3,
   "id": "11d7c142cd714092",
   "metadata": {},
   "outputs": [],
   "source": [
    "standardization_config = ReactionStandardizationConfig(\n",
    "    reaction_mapping_config=ReactionMappingConfig(),\n",
    "    kekule_form_config=KekuleFormConfig(),\n",
    "    check_valence_config=CheckValenceConfig(),\n",
    "    implicify_hydrogens_config=ImplicifyHydrogensConfig(),\n",
    "    check_isotopes_config=CheckIsotopesConfig(),\n",
    "    aromatic_form_config=AromaticFormConfig(),\n",
    "    mapping_fix_config=MappingFixConfig(),\n",
    "    unchanged_parts_config=UnchangedPartsConfig(),\n",
    "    duplicate_reaction_config=DuplicateReactionConfig(),\n",
    ")"
   ]
  },
  {
   "cell_type": "markdown",
   "id": "7015f804ae1a28ea",
   "metadata": {},
   "source": [
    "As mentioned before, you are not obliged to provide all standardization configs to `ReactionStandardizationConfig`. For example, if you only want to perform mapping, you can basically specify only two configs:\n",
    "\n",
    "``` python \n",
    "\n",
    "standardization_config = ReactionStandardizationConfig(\n",
    "    reaction_mapping_config=ReactionStandardizationConfig(),\n",
    "    mapping_fix_config=MappingFixConfig(),\n",
    ")\n",
    "```"
   ]
  },
  {
   "cell_type": "markdown",
   "id": "af7b3cb97b0957dc",
   "metadata": {},
   "source": [
    "### Running standardization\n",
    "\n",
    "Once this standardization configuration is in place, we can proceed to apply these standardizers to our reaction data:"
   ]
  },
  {
   "cell_type": "code",
   "execution_count": 4,
   "id": "80a59191f1c4f991",
   "metadata": {},
   "outputs": [
    {
     "name": "stderr",
     "output_type": "stream",
     "text": [
      "Number of reactions processed: 71832 [05:26]\n"
     ]
    },
    {
     "name": "stdout",
     "output_type": "stream",
     "text": [
      "Initial number of parsed reactions: 71832\n",
      "Standardized number of reactions: 69446\n"
     ]
    }
   ],
   "source": [
    "standardize_reactions_from_file(\n",
    "    config=standardization_config,\n",
    "    input_reaction_data_path=original_data_path, # original input data\n",
    "    standardized_reaction_data_path=standardized_data_path, # standardized output data\n",
    "    num_cpus=4,\n",
    "    batch_size=100,\n",
    ")"
   ]
  },
  {
   "cell_type": "markdown",
   "id": "63e240d8e4be5d4e",
   "metadata": {},
   "source": [
    "<div class=\"alert alert-info\">\n",
    "<b>Note</b> \n",
    "    \n",
    "We do not recommend using more than 4-8 CPUs during data curation. The bottleneck are I/O operations that are not yet parallelized. Also, if you do not have enough RAM on your local machine, it is recommended to reduce `batch_size` number.\n",
    "</div>"
   ]
  },
  {
   "cell_type": "markdown",
   "id": "ba54bb31fd1d34f2",
   "metadata": {},
   "source": [
    "## 3. Reaction data filtration"
   ]
  },
  {
   "cell_type": "markdown",
   "id": "39e80a59eb18ffa9",
   "metadata": {},
   "source": [
    "In SynPlanner, reaction data filtration is a crucial step to ensure the quality and accuracy of the data used for retrosynthetic analysis. The USPTO dataset, a standardized but unfiltered collection of reaction records, serves as the primary data source. However, this dataset may contain records with no reaction center or atom-to-atom mapping errors.\n",
    "\n",
    "### Configuration\n",
    "\n",
    "The current version of SynPlanner includes 11 reaction filters (see below).\n",
    "In brackets, it is shown how this filter should be listed in the configuration file to be activated.\n",
    "\n",
    "| Reaction filter                | Description                                                                                                |\n",
    "|--------------------------------|------------------------------------------------------------------------------------------------------------|\n",
    "| compete_products_config        | Checks if there are compete reactions                                                                      |\n",
    "| dynamic_bonds_config           | Checks if there is an unacceptable number of dynamic bonds in Condensed Graph of Reaction (CGR)            |\n",
    "| small_molecules_config         | Checks if there are only small molecules in the reaction or if there is only one small reactant or product |\n",
    "| cgr_connected_components_config| Checks if CGR contains unrelated components (without reagents)                                             |\n",
    "| rings_change_config            | Checks if there is changing rings number in the reaction                                                   |\n",
    "| strange_carbons_config         | Checks if there are 'strange' carbons in the reaction                                                      |\n",
    "| no_reaction_config             | Checks if there is no reaction in the provided reaction container                                          |\n",
    "| multi_center_config            | Checks if there is a multicenter reaction                                                                  |\n",
    "| wrong_ch_breaking_config       | Checks for incorrect C-C bond formation from breaking a C-H bond                                           |\n",
    "| cc_sp3_breaking_config         | Checks if there is C(sp3)-C bond breaking                                                                  |\n",
    "| cc_ring_breaking_config        | Checks if a reaction involves ring C-C bond breaking                                                       |\n",
    "\n",
    "\n"
   ]
  },
  {
   "cell_type": "markdown",
   "id": "efbeb7f919915734",
   "metadata": {},
   "source": [
    "### Setting up the reaction filtration configuration\n",
    "\n",
    "In this section, we will walk through the steps to configure and apply a reaction filtration process using the `ReactionFilterConfig` class from the SynPlanner library. This class is essential for specifying various parameters and settings needed for the filtration."
   ]
  },
  {
   "cell_type": "code",
   "execution_count": 5,
   "id": "9c4b733e0ef4adb9",
   "metadata": {},
   "outputs": [],
   "source": [
    "from synplan.chem.data.filtering import (\n",
    "    ReactionFilterConfig,  # the main config class\n",
    "    filter_reactions_from_file,  # reaction filtration function\n",
    "    # reaction filters:\n",
    "    CCRingBreakingConfig,\n",
    "    WrongCHBreakingConfig,\n",
    "    CCsp3BreakingConfig,\n",
    "    DynamicBondsConfig,\n",
    "    MultiCenterConfig,\n",
    "    NoReactionConfig,\n",
    "    SmallMoleculesConfig,\n",
    ")"
   ]
  },
  {
   "cell_type": "markdown",
   "id": "52c85a37d60a1b36",
   "metadata": {},
   "source": [
    "Next, we need to specify the parameters and settings for the reaction filtration process. These parameters can be customized according to your needs. Here’s how you can set up the configuration:"
   ]
  },
  {
   "cell_type": "code",
   "execution_count": 6,
   "id": "5d98cd414c051fac",
   "metadata": {},
   "outputs": [],
   "source": [
    "filtration_config = ReactionFilterConfig(\n",
    "    dynamic_bonds_config=DynamicBondsConfig(\n",
    "        min_bonds_number=1, # minimum number of dynamic bonds for a reaction\n",
    "        max_bonds_number=6, # maximum number of dynamic bonds for a reaction\n",
    "    ),  \n",
    "    no_reaction_config=NoReactionConfig(),  \n",
    "    multi_center_config=MultiCenterConfig(),  \n",
    "    wrong_ch_breaking_config=WrongCHBreakingConfig(),  \n",
    "    cc_sp3_breaking_config=CCsp3BreakingConfig(),\n",
    "    cc_ring_breaking_config=CCRingBreakingConfig(),\n",
    ")"
   ]
  },
  {
   "cell_type": "markdown",
   "id": "d6b52f06f58bf517",
   "metadata": {},
   "source": [
    "By setting up `filtration_config`, we are essentially telling SynPlanner what filters to apply and how to apply them. This step is crucial for ensuring that the data we use for further analysis is as accurate and reliable as possible. The reaction filters we apply here are based on the specific needs of our analysis and the characteristics of the USPTO dataset.\n",
    "\n",
    "Once this configuration is in place, we can proceed to apply these filters to our reaction data:"
   ]
  },
  {
   "cell_type": "code",
   "execution_count": 7,
   "id": "b21f428a44983c99",
   "metadata": {},
   "outputs": [
    {
     "name": "stderr",
     "output_type": "stream",
     "text": [
      "Number of reactions processed: 69446 [04:17]\n"
     ]
    },
    {
     "name": "stdout",
     "output_type": "stream",
     "text": [
      "Initial number of reactions: 69446\n",
      "Removed number of reactions: 1\n"
     ]
    }
   ],
   "source": [
    "filter_reactions_from_file(\n",
    "    config=filtration_config,\n",
    "    input_reaction_data_path=standardized_data_path, # standardized input data\n",
    "    filtered_reaction_data_path=filtered_data_path, # filtered output data\n",
    "    num_cpus=4,\n",
    "    batch_size=100,\n",
    ")"
   ]
  },
  {
   "cell_type": "markdown",
   "id": "aed3b18c-7f05-44c2-8363-6db14b32992a",
   "metadata": {},
   "source": [
    "## 4. Results"
   ]
  },
  {
   "cell_type": "markdown",
   "id": "74e98b99-4ee8-40ed-ae19-6f6333b989ff",
   "metadata": {},
   "source": [
    "If the tutorial is executed successfully, you will get in the results folder three reaction data files: \n",
    "- original reaction data\n",
    "- standardized reaction data\n",
    "- filtered reaction data"
   ]
  },
  {
   "cell_type": "code",
   "execution_count": 10,
   "id": "12555bc5-6235-4634-bb7a-bbe9df624665",
   "metadata": {},
   "outputs": [
    {
     "data": {
      "text/plain": [
       "[PosixPath('/home1/dima/synplanner/tutorials_new/tutorial_results/uspto_original.smi'),\n",
       " PosixPath('/home1/dima/synplanner/tutorials_new/tutorial_results/uspto_standardized.smi'),\n",
       " PosixPath('/home1/dima/synplanner/tutorials_new/tutorial_results/uspto_filtered.smi'),\n",
       " PosixPath('/home1/dima/synplanner/tutorials_new/tutorial_results/uspto_reaction_rules.pickle'),\n",
       " PosixPath('/home1/dima/synplanner/tutorials_new/tutorial_results/ranking_policy_network')]"
      ]
     },
     "execution_count": 10,
     "metadata": {},
     "output_type": "execute_result"
    }
   ],
   "source": [
    "sorted(Path(results_folder).iterdir(), key=os.path.getmtime, reverse=False)"
   ]
  },
  {
   "cell_type": "markdown",
   "id": "e641107f-77c7-4399-ba42-6d41501903fc",
   "metadata": {},
   "source": [
    "## 5. Next step - reaction rule extraction"
   ]
  },
  {
   "cell_type": "markdown",
   "id": "ece498f6-1ef7-4a8e-8eed-d5d09013ba7d",
   "metadata": {},
   "source": [
    "Prepared filtered reaction data can be used now for reaction rules extraction (see the corresponding tutorial)."
   ]
  }
 ],
 "metadata": {
  "kernelspec": {
   "display_name": "synplan",
   "language": "python",
   "name": "synplan_env"
  },
  "language_info": {
   "codemirror_mode": {
    "name": "ipython",
    "version": 3
   },
   "file_extension": ".py",
   "mimetype": "text/x-python",
   "name": "python",
   "nbconvert_exporter": "python",
   "pygments_lexer": "ipython3",
   "version": "3.11.9"
  }
 },
 "nbformat": 4,
 "nbformat_minor": 5
}
