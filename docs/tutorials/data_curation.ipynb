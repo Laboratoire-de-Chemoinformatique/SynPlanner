{
 "cells": [
  {
   "metadata": {},
   "cell_type": "markdown",
   "source": "# Data curation",
   "id": "7dbab38eb2c6bac9"
  },
  {
   "metadata": {},
   "cell_type": "markdown",
   "source": [
    "This tutorial will lead through the steps of extraction of reaction rules, training retrosynthetic models (ranking policy network), and retrosynthetic planning in SynPlanner.\n",
    "\n",
    "### Prerequisites\n",
    "\n",
    "There are two reaction datasets versions:\n",
    "\n",
    "1) Standardized USPTO dataset (around 1.3 M reactions) used for preparation of real retrosynthetic planner\n",
    "2) USPTO tutorial dataset reduced to 72K reactions.\n",
    "\n",
    "For educational, demonstrative purposes and on machines with limited computational resources (CPU and RAM) it is recommended to use USPTO tutorial dataset. The full reaction dataset practically is executable now only on computational servers."
   ],
   "id": "d732f1bf5859e676"
  },
  {
   "metadata": {},
   "cell_type": "markdown",
   "source": "## 1. Download input data",
   "id": "2caefbd54c1ecce6"
  },
  {
   "metadata": {},
   "cell_type": "markdown",
   "source": "The input data will be downloaded from the [HuggingFace repository](https://huggingface.co/Laboratoire-De-Chemoinformatique/SynPlanner) to the current directory.",
   "id": "3ea88f5ea7d0965a"
  },
  {
   "metadata": {},
   "cell_type": "markdown",
   "source": "",
   "id": "9cec536f3b28d0a1"
  },
  {
   "metadata": {
    "jupyter": {
     "is_executing": true
    }
   },
   "cell_type": "code",
   "source": [
    "from pathlib import Path\n",
    "from synplan.utils.loading import download_all_data\n",
    "\n",
    "# replace this path where you want to keep all your results\n",
    "root_folder = Path(\".\").resolve()  \n",
    "root_folder.mkdir(root_folder, exist_ok=True)\n",
    "\n",
    "download_all_data(save_to=root_folder)\n",
    "tutorial_folder = root_folder.joinpath(\"tutorial\")"
   ],
   "id": "41e93a39d4614581",
   "outputs": [],
   "execution_count": null
  },
  {
   "metadata": {},
   "cell_type": "markdown",
   "source": "## 2. Reaction data standardization",
   "id": "9be2deb0cdf65dff"
  },
  {
   "metadata": {},
   "cell_type": "markdown",
   "source": [
    "The reaction data are standardized using an original protocol for reaction data curation\n",
    "[published earlier](https://doi.org/10.1002/minf.202100119). This protocol includes two layers:\n",
    "standardization of individual molecules (reactants, reagents, products) and reaction standardization.\n",
    "Steps for standardization of individual molecules is following:\n",
    "\n",
    "* dearomatization\n",
    "* isotope removal\n",
    "* stereo mark removal\n",
    "* explicit hydrogen removal\n",
    "* small fragment removal\n",
    "* solvent removal\n",
    "* salt stripping\n",
    "* charge neutralization\n",
    "* functional group standardization\n",
    "* valence checking \n",
    "* aromatization\n",
    "\n",
    "The reaction standardization layer is following: \n",
    "\n",
    "* reaction role assignment\n",
    "* reaction equation balancing\n",
    "* atom-to-atom mapping\n",
    "* duplicate reactions removal\n",
    "\n",
    "<div class=\"alert alert-info\">\n",
    "**Note**  \n",
    "    \n",
    "In this tutorial, the input data are already standardized by a slightly different protocol from the original paper. It omits major tautomer selection done by ChemAxon standardizer.\n",
    "</div>\n",
    "\n",
    "### Reaction atom mapping. \n",
    "Reaction atom-to-atom (AAM) mapping in SynPlanner is performed with GraphormerMapper,\n",
    "a new algorithm for AAM based on a transformer neural network adopted for the direct processing of molecular graphs\n",
    "as sets of atoms and bonds, as opposed to SMILES/SELFIES sequence-based approaches, in combination with the\n",
    "Bidirectional Encoder Representations from Transformers (BERT) network. The graph transformer serves to extract molecular features that are tied to atoms and bonds. The BERT network is used for chemical transformation learning.\n",
    "In a [benchmarking study](https://doi.org/10.1021/acs.jcim.2c00344), it was demonstrated  that GraphormerMapper\n",
    "is superior to the state-of-the-art IBM RxnMapper algorithm in the “Golden” benchmarking data set\n",
    "(total correctly mapped reactions 89.5% vs. 84.5%).\n",
    "\n",
    "### Configuration\n",
    "\n",
    "Reaction standardization protocol can be adjusted using the configuration YAML file. There are 14 options included:\n",
    "\n",
    "| Reaction standardizer       | Description                                                     |\n",
    "|-----------------------------|-----------------------------------------------------------------|\n",
    "| reaction_mapping_config     | Maps atoms of the reaction using GraphormerMapper                     |\n",
    "| functional_groups_config    | Standardization of functional groups                            |\n",
    "| kekule_form_config          | Transforms molecules to Kekule form when possible               |\n",
    "| check_valence_config        | Checks atom valences                                            |\n",
    "| implicify_hydrogens_config  | Removes hydrogen atoms                                          |\n",
    "| check_isotopes_config       | Checks and cleans isotope atoms when possible                   |\n",
    "| split_ions_config           | Splits ions in reaction when possible                           |\n",
    "| aromatic_form_config        | Transforms molecules to aromatic form when possible             |\n",
    "| mapping_fix_config          | Fixes atom-to-atom mapping in reaction when needed and possible |\n",
    "| unchanged_parts_config      | Removes unchanged parts in reaction                             |\n",
    "| small_molecules_config      | Removes small molecule from reaction                            |\n",
    "| remove_reagents_config      | Removes reagents from reaction                                  |\n",
    "| rebalance_reaction_config   | Rebalances reaction                                             |\n",
    "| duplicate_reaction_config   | Removes duplicate reactions                                     |\n",
    "\n",
    "\n",
    "<div class=\"alert alert-info\">\n",
    "**Note**  \n",
    "    \n",
    "If the reaction standardizer name (`..._config`) is listed in the configuration file `standardization.yaml` or in `ReactionStandardizationConfig` (see below), it means that this standardizer will be activated.\n",
    "</div>\n"
   ],
   "id": "b5c6fe9eb9d19031"
  },
  {
   "metadata": {},
   "cell_type": "markdown",
   "source": [
    "### Setting up the reaction standardization configuration\n",
    "\n",
    "All configuration objects and functions can be imported from the `synplan.chem.data.standardizing` module:"
   ],
   "id": "4b7680ae87317474"
  },
  {
   "metadata": {},
   "cell_type": "code",
   "outputs": [],
   "execution_count": 6,
   "source": [
    "from synplan.chem.data.standardizing import (\n",
    "    ReactionStandardizationConfig,\n",
    "    standardize_reactions_from_file,\n",
    "    ReactionMappingStandardizer,\n",
    "    FunctionalGroupsConfig,\n",
    "    KekuleFormConfig,\n",
    "    CheckValenceConfig,\n",
    "    ImplicifyHydrogensConfig,\n",
    "    CheckIsotopesConfig,\n",
    "    AromaticFormConfig,\n",
    "    MappingFixConfig,\n",
    "    UnchangedPartsConfig,\n",
    "    DuplicateReactionConfig,\n",
    ")"
   ],
   "id": "c1f36dec5ff7f3cd"
  },
  {
   "metadata": {},
   "cell_type": "markdown",
   "source": "The next step is to configure the reaction standardization process. We do this using the `ReactionStandardizationConfig` class in SynPlanner. This class allows for the specification of various parameters and settings for the standardization process.",
   "id": "769c1b523a5ab969"
  },
  {
   "metadata": {},
   "cell_type": "code",
   "outputs": [],
   "execution_count": 7,
   "source": [
    "standardization_config = ReactionStandardizationConfig(\n",
    "    reaction_mapping_config=ReactionStandardizationConfig(), # the main config class\n",
    "    functional_groups_config=FunctionalGroupsConfig(), # reaction standardization function\n",
    "    # reaction standardizers:\n",
    "    kekule_form_config=KekuleFormConfig(),\n",
    "    check_valence_config=CheckValenceConfig(),\n",
    "    implicify_hydrogens_config=ImplicifyHydrogensConfig(),\n",
    "    check_isotopes_config=CheckIsotopesConfig(),\n",
    "    aromatic_form_config=AromaticFormConfig(),\n",
    "    mapping_fix_config=MappingFixConfig(),\n",
    "    unchanged_parts_config=UnchangedPartsConfig(),\n",
    "    duplicate_reaction_config=DuplicateReactionConfig(),\n",
    ")"
   ],
   "id": "11d7c142cd714092"
  },
  {
   "metadata": {},
   "cell_type": "markdown",
   "source": [
    "As mentioned before, you are not obliged to provide all standardization configs to `ReactionStandardizationConfig`. For example, if you only want to perform mapping, you can basically specify only two configs:\n",
    "\n",
    "``` python \n",
    "\n",
    "standardization_config = ReactionStandardizationConfig(\n",
    "    reaction_mapping_config=ReactionStandardizationConfig(),\n",
    "    mapping_fix_config=MappingFixConfig(),\n",
    ")\n",
    "```"
   ],
   "id": "7015f804ae1a28ea"
  },
  {
   "metadata": {},
   "cell_type": "markdown",
   "source": [
    "### Running the standardization\n",
    "\n",
    "Once this standardization configuration is in place, we can proceed to apply these standardizers to our reaction data:"
   ],
   "id": "af7b3cb97b0957dc"
  },
  {
   "metadata": {},
   "cell_type": "code",
   "outputs": [
    {
     "name": "stderr",
     "output_type": "stream",
     "text": [
      "Number of reactions processed: 71832 [08:45]\n"
     ]
    },
    {
     "name": "stdout",
     "output_type": "stream",
     "text": [
      "Initial number of parsed reactions: 71832\n",
      "Standardized number of reactions: 69446\n"
     ]
    }
   ],
   "execution_count": 8,
   "source": [
    "reaction_data = tutorial_folder.joinpath(\"uspto_tutorial.smi\").resolve(strict=True)\n",
    "standardized_data = tutorial_folder.joinpath(\"data_curation/uspto_standardized.smi\").resolve()\n",
    "\n",
    "standardize_reactions_from_file(\n",
    "    config=standardization_config,\n",
    "    input_reaction_data_path=reaction_data,\n",
    "    standardized_reaction_data_path=standardized_data,\n",
    "    num_cpus=4,\n",
    "    batch_size=100,\n",
    ")"
   ],
   "id": "80a59191f1c4f991"
  },
  {
   "metadata": {},
   "cell_type": "markdown",
   "source": [
    "<div class=\"alert alert-info\">\n",
    "**Note**  \n",
    "    \n",
    "We do not recommend using more than 4-8 CPUs during data curation. The bottleneck are I/O operations that are not yet parallelized. Also, if you do not have enough RAM on your local machine, it is recommended to reduce `batch_size` number.\n",
    "</div>"
   ],
   "id": "63e240d8e4be5d4e"
  },
  {
   "metadata": {},
   "cell_type": "markdown",
   "source": "## 3. Reaction data filtration",
   "id": "ba54bb31fd1d34f2"
  },
  {
   "metadata": {},
   "cell_type": "markdown",
   "source": [
    "In SynPlanner, reaction data filtration is a crucial step to ensure the quality and accuracy of the data used for retrosynthetic analysis. The USPTO dataset, a standardized but unfiltered collection of reaction records, serves as the primary data source. However, this dataset may contain records with no reaction center or atom-to-atom mapping errors.\n",
    "\n",
    "### Configuration\n",
    "\n",
    "The current version of SynPlanner includes 11 reaction filters (see below).\n",
    "In brackets, it is shown how this filter should be listed in the configuration file to be activated.\n",
    "\n",
    "| Reaction filter                | Description                                                                                                |\n",
    "|--------------------------------|------------------------------------------------------------------------------------------------------------|\n",
    "| compete_products_config        | Checks if there are compete reactions                                                                      |\n",
    "| dynamic_bonds_config           | Checks if there is an unacceptable number of dynamic bonds in Condensed Graph of Reaction (CGR)            |\n",
    "| small_molecules_config         | Checks if there are only small molecules in the reaction or if there is only one small reactant or product |\n",
    "| cgr_connected_components_config| Checks if CGR contains unrelated components (without reagents)                                             |\n",
    "| rings_change_config            | Checks if there is changing rings number in the reaction                                                   |\n",
    "| strange_carbons_config         | Checks if there are 'strange' carbons in the reaction                                                      |\n",
    "| no_reaction_config             | Checks if there is no reaction in the provided reaction container                                          |\n",
    "| multi_center_config            | Checks if there is a multicenter reaction                                                                  |\n",
    "| wrong_ch_breaking_config       | Checks for incorrect C-C bond formation from breaking a C-H bond                                           |\n",
    "| cc_sp3_breaking_config         | Checks if there is C(sp3)-C bond breaking                                                                  |\n",
    "| cc_ring_breaking_config        | Checks if a reaction involves ring C-C bond breaking                                                       |\n",
    "\n",
    "\n"
   ],
   "id": "39e80a59eb18ffa9"
  },
  {
   "metadata": {},
   "cell_type": "markdown",
   "source": [
    "### Setting up the reaction filtration configuration\n",
    "\n",
    "In this section, we will walk through the steps to configure and apply a reaction filtration process using the `ReactionFilterConfig` class from the SynPlanner library. This class is essential for specifying various parameters and settings needed for the filtration."
   ],
   "id": "efbeb7f919915734"
  },
  {
   "metadata": {},
   "cell_type": "code",
   "outputs": [],
   "execution_count": 9,
   "source": [
    "from synplan.chem.data.filtering import (\n",
    "    ReactionFilterConfig,  # the main config class\n",
    "    filter_reactions_from_file,  # reaction filtration function\n",
    "    # reaction filters:\n",
    "    CCRingBreakingConfig,\n",
    "    WrongCHBreakingConfig,\n",
    "    CCsp3BreakingConfig,\n",
    "    DynamicBondsConfig,\n",
    "    MultiCenterConfig,\n",
    "    NoReactionConfig,\n",
    "    SmallMoleculesConfig,\n",
    ")"
   ],
   "id": "9c4b733e0ef4adb9"
  },
  {
   "metadata": {},
   "cell_type": "markdown",
   "source": "Next, we need to specify the parameters and settings for the reaction filtration process. These parameters can be customized according to your needs. Here’s how you can set up the configuration:",
   "id": "52c85a37d60a1b36"
  },
  {
   "metadata": {},
   "cell_type": "code",
   "outputs": [],
   "execution_count": 10,
   "source": [
    "filtration_config = ReactionFilterConfig(\n",
    "    dynamic_bonds_config=DynamicBondsConfig(\n",
    "        min_bonds_number=1, # minimum number of dynamic bonds for a reaction\n",
    "        max_bonds_number=6, # maximum number of dynamic bonds for a reaction\n",
    "    ),  \n",
    "    no_reaction_config=NoReactionConfig(),  \n",
    "    multi_center_config=MultiCenterConfig(),  \n",
    "    wrong_ch_breaking_config=WrongCHBreakingConfig(),  \n",
    "    cc_sp3_breaking_config=CCsp3BreakingConfig(),\n",
    "    cc_ring_breaking_config=CCRingBreakingConfig(),\n",
    ")"
   ],
   "id": "5d98cd414c051fac"
  },
  {
   "metadata": {},
   "cell_type": "markdown",
   "source": [
    "By setting up `filtration_config`, we are essentially telling SynPlanner what filters to apply and how to apply them. This step is crucial for ensuring that the data we use for further analysis is as accurate and reliable as possible. The reaction filters we apply here are based on the specific needs of our analysis and the characteristics of the USPTO dataset.\n",
    "\n",
    "Once this configuration is in place, we can proceed to apply these filters to our reaction data:"
   ],
   "id": "d6b52f06f58bf517"
  },
  {
   "metadata": {},
   "cell_type": "code",
   "outputs": [
    {
     "name": "stderr",
     "output_type": "stream",
     "text": [
      "Number of reactions processed: 69446 [04:45]\n"
     ]
    },
    {
     "name": "stdout",
     "output_type": "stream",
     "text": [
      "Initial number of reactions: 69446\n",
      "Removed number of reactions: 1\n"
     ]
    }
   ],
   "execution_count": 11,
   "source": [
    "# previously standardized reaction data file\n",
    "standardized_data = tutorial_folder.joinpath(\"data_curation/uspto_standardized.smi\").resolve(strict=True)\n",
    "# filtered reaction data file\n",
    "filtered_data_path = root_folder.joinpath(\"data_curation/uspto_filtered.smi\")  \n",
    "\n",
    "filter_reactions_from_file(\n",
    "    config=filtration_config,\n",
    "    input_reaction_data_path=standardized_data, \n",
    "    filtered_reaction_data_path=filtered_data_path,\n",
    "    num_cpus=4,\n",
    "    batch_size=100,\n",
    ")"
   ],
   "id": "b21f428a44983c99"
  }
 ],
 "metadata": {
  "kernelspec": {
   "display_name": "Python 3",
   "language": "python",
   "name": "python3"
  },
  "language_info": {
   "codemirror_mode": {
    "name": "ipython",
    "version": 2
   },
   "file_extension": ".py",
   "mimetype": "text/x-python",
   "name": "python",
   "nbconvert_exporter": "python",
   "pygments_lexer": "ipython2",
   "version": "2.7.6"
  }
 },
 "nbformat": 4,
 "nbformat_minor": 5
}
