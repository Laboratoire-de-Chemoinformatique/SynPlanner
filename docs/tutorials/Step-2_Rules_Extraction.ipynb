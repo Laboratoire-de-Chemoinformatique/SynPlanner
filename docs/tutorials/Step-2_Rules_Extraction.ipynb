{
 "cells": [
  {
   "cell_type": "markdown",
   "id": "690c9b858063695d",
   "metadata": {},
   "source": [
    "# Step 2: Reaction Rules Extraction\n",
    "\n",
    "This tutorial demonstrates how to extract reaction rules from reaction data in ``SynPlanner``"
   ]
  },
  {
   "cell_type": "markdown",
   "id": "170a9d2b-0e50-4d7a-ac02-b80704917f1a",
   "metadata": {},
   "source": [
    "## Basic recommendations\n",
    "\n",
    "1. The specificity of extracted reaction rules can be adjusted by the configuration of the extraction protocol\n",
    "\n",
    "3. The extracted reaction rules are stored as the pickled list of ``CGRtools`` ``ReactionContainer`` objects. Currently, there is no implementation of the conversion of the extracted reaction rules to portable representation (e.g. reaction SMARTS). "
   ]
  },
  {
   "cell_type": "markdown",
   "id": "4190986585cbc98a",
   "metadata": {},
   "source": [
    "## 1. Set up input and output data locations\n",
    "\n",
    "The ``SynPlanner`` input data will be downloaded from the ``HuggingFace`` repository to the specified directory."
   ]
  },
  {
   "cell_type": "code",
   "execution_count": 1,
   "id": "93ffd2226585e933",
   "metadata": {},
   "outputs": [
    {
     "data": {
      "application/vnd.jupyter.widget-view+json": {
       "model_id": "d4b84b05ba704f4ea3cbfc5bf317ee39",
       "version_major": 2,
       "version_minor": 0
      },
      "text/plain": [
       "Fetching 25 files:   0%|          | 0/25 [00:00<?, ?it/s]"
      ]
     },
     "metadata": {},
     "output_type": "display_data"
    }
   ],
   "source": [
    "import os\n",
    "import pickle\n",
    "import shutil\n",
    "from pathlib import Path\n",
    "from synplan.utils.loading import download_all_data\n",
    "\n",
    "# download SynPlanner data\n",
    "data_folder = Path(\"synplan_data\").resolve()\n",
    "download_all_data(save_to=data_folder)\n",
    "\n",
    "# results folder\n",
    "results_folder = Path(\"tutorial_results\").resolve()\n",
    "results_folder.mkdir(exist_ok=True)\n",
    "\n",
    "# input data\n",
    "# use default filtered data from tutorial folder or replace with custom data prepared with data curation tutorial\n",
    "filtered_data_path = results_folder.joinpath(\"uspto_filtered.smi\") \n",
    "\n",
    "# output_data\n",
    "reaction_rules_path = results_folder.joinpath(\"uspto_reaction_rules.pickle\")"
   ]
  },
  {
   "attachments": {},
   "cell_type": "markdown",
   "id": "2e7fb61dd627146c",
   "metadata": {},
   "source": [
    "## 2. Reaction rules extraction\n",
    "\n",
    "The reaction rule extraction protocol in ``SynPlanner`` includes several steps (e.g. reaction center identification and specification, reaction rule validation, etc.)\n",
    "\n",
    "More details about reaction rule extraction protocol in ``SynPlanner`` can be found in <a href=\"https://synplanner.readthedocs.io/en/latest/methods/extraction.html\">official documentation</a>."
   ]
  },
  {
   "cell_type": "markdown",
   "id": "35e54a29-f434-4029-8a04-c4c647c2fe0f",
   "metadata": {},
   "source": [
    "### Extraction configuration\n",
    "\n",
    "The next step is to configure the reaction rule extraction process. We do this using the `RuleExtractionConfig` class in ``SynPlanner``. This class allows for the specification of various parameters and settings for the reaction rule extraction process.\n",
    "\n",
    "More details about reaction rule extraction configuration in ``SynPlanner`` can be found in <a href=\"https://synplanner.readthedocs.io/en/latest/configuration/extraction.html\">official documentation</a>."
   ]
  },
  {
   "cell_type": "code",
   "execution_count": 2,
   "id": "10b539ec0f753d6e",
   "metadata": {},
   "outputs": [],
   "source": [
    "from synplan.utils.config import RuleExtractionConfig\n",
    "from synplan.chem.reaction_rules.extraction import extract_rules_from_reactions\n",
    "\n",
    "extraction_config = RuleExtractionConfig(\n",
    "    min_popularity=3,\n",
    "    environment_atom_count=1,\n",
    "    multicenter_rules=True,\n",
    "    include_rings=False,\n",
    "    keep_leaving_groups=True,\n",
    "    keep_incoming_groups=False,\n",
    "    keep_reagents=False,\n",
    "    atom_info_retention={\n",
    "        \"reaction_center\": {\n",
    "            \"neighbors\": True,  # retains information about neighboring atoms to the reaction center\n",
    "            \"hybridization\": True,  # preserves the hybridization state of atoms at the reaction center\n",
    "            \"implicit_hydrogens\": False,  # includes data on implicit hydrogen atoms attached to the reaction center\n",
    "            \"ring_sizes\": False,  # keeps information about the sizes of rings that reaction center atoms are part of\n",
    "        },\n",
    "        \"environment\": {\n",
    "            \"neighbors\": False,  # retains information about neighboring atoms to the atoms in the environment of the reaction center\n",
    "            \"hybridization\": False,  # preserves the hybridization state of atoms in the environment\n",
    "            \"implicit_hydrogens\": False,  # includes data on implicit hydrogen atoms attached to atoms in the environment\n",
    "            \"ring_sizes\": False,  # keeps information about the sizes of rings that environment atoms are part of\n",
    "        },\n",
    "    },\n",
    ")"
   ]
  },
  {
   "cell_type": "markdown",
   "id": "e66db19d723a0ae9",
   "metadata": {},
   "source": [
    "### Running extraction\n",
    "\n",
    "After configuring the rule extraction settings in ``SynPlanner``, the next step is to apply these configurations to extract reaction rules from the reaction data. This is achieved using the `extract_rules_from_reactions` function."
   ]
  },
  {
   "cell_type": "code",
   "execution_count": 3,
   "id": "2fc24da16b02ed11",
   "metadata": {},
   "outputs": [
    {
     "name": "stderr",
     "output_type": "stream",
     "text": [
      "Number of reactions processed: 1019304 [1:03:45]\n"
     ]
    },
    {
     "name": "stdout",
     "output_type": "stream",
     "text": [
      "Number of extracted reaction rules: 24422\n"
     ]
    }
   ],
   "source": [
    "extract_rules_from_reactions(\n",
    "    config=extraction_config,  # the configuration settings for rule extraction\n",
    "    reaction_data_path=filtered_data_path,  # path to the reaction data file\n",
    "    reaction_rules_path=reaction_rules_path,  # path to the pickle file where the extracted reaction rules will be stored\n",
    "    num_cpus=4,\n",
    "    batch_size=100,\n",
    ")"
   ]
  },
  {
   "cell_type": "markdown",
   "id": "5d005185ede5491b",
   "metadata": {},
   "source": [
    "The extracted reaction rules can be loaded and visually inspected (the reaction rules are sorted by popularity):"
   ]
  },
  {
   "cell_type": "code",
   "execution_count": 4,
   "id": "94505695d8bd8512",
   "metadata": {},
   "outputs": [],
   "source": [
    "with open(reaction_rules_path, \"rb\") as f:\n",
    "    reaction_rules_list = [i[0] for i in pickle.load(f)]\n",
    "for rule in reaction_rules_list:\n",
    "    rule.clean2d()"
   ]
  },
  {
   "cell_type": "code",
   "execution_count": 5,
   "id": "814c3cce2b94b2ea",
   "metadata": {},
   "outputs": [
    {
     "data": {
      "image/svg+xml": [
       "<svg width=\"7.75cm\" height=\"1.66cm\" viewBox=\"-0.62 -0.83 7.75 1.66\" xmlns=\"http://www.w3.org/2000/svg\" version=\"1.1\">\n",
       "  <defs>\n",
       "    <marker id=\"arrow\" markerWidth=\"10\" markerHeight=\"10\" refX=\"0\" refY=\"3\" orient=\"auto\">\n",
       "      <path d=\"M0,0 L0,6 L9,3\"/>\n",
       "    </marker>\n",
       "  </defs>\n",
       "  <line x1=\"1.82\" y1=\"0\" x2=\"3.82\" y2=\"0\" fill=\"none\" stroke=\"black\" stroke-width=\".04\" marker-end=\"url(#arrow)\"/>\n",
       "  <g>\n",
       "    <defs>\n",
       "      <mask id=\"mask-76b518b2-a166-4ae5-ab85-2dd17b83a457\">\n",
       "        <rect x=\"-0.62\" y=\"-0.83\" width=\"7.75\" height=\"1.66\" fill=\"white\"/>\n",
       "        <g fill=\"black\">\n",
       "          <circle cx=\"0.82\" cy=\"0.00\" r=\"0.20\"/>\n",
       "        </g>\n",
       "        <g font-family=\"monospace\" stroke=\"black\">\n",
       "          <g font-family=\"sans-serif\" font-size=\"0.50\" stroke-width=\"0.05\">\n",
       "           <text x=\"0.82\" y=\"0.00\" dx=\"-0.20\" dy=\"0.20\">O</text>\n",
       "          </g>\n",
       "          <g font-family=\"monospace\" font-size=\"0.3\" stroke-width=\"0.03\">\n",
       "           <text x=\"0.00\" y=\"-0.00\" dx=\"0.07\" dy=\"0.15\">3</text>\n",
       "           <text x=\"0.00\" y=\"-0.00\" dx=\"0.07\" dy=\"0.33\">d</text>\n",
       "           <text x=\"0.82\" y=\"0.00\" dx=\"0.17\" dy=\"0.15\">1</text>\n",
       "           <text x=\"0.82\" y=\"0.00\" dx=\"0.17\" dy=\"0.33\">s</text>\n",
       "          </g>\n",
       "        </g>\n",
       "      </mask>\n",
       "    </defs>\n",
       "    <g fill=\"none\" stroke=\"black\" stroke-width=\"0.04\"  mask=\"url(#mask-76b518b2-a166-4ae5-ab85-2dd17b83a457)\">\n",
       "      <line x1=\"-0.62\" y1=\"-0.83\" x2=\"7.13\" y2=\"-0.83\" stroke=\"none\"/>\n",
       "      <line x1=\"0.00\" y1=\"-0.00\" x2=\"0.82\" y2=\"0.00\"/>\n",
       "    </g>\n",
       "    <g font-family=\"monospace\">\n",
       "      <g fill=\"#FF0D0D\" font-family=\"sans-serif\">\n",
       "        <text x=\"0.82\" y=\"0.00\" dx=\"-0.20\" dy=\"0.20\" font-size=\"0.50\">O</text>\n",
       "      </g>\n",
       "      <g fill=\"#5D8AA8\" font-family=\"monospace\" font-size=\"0.30\">\n",
       "        <text x=\"0.00\" y=\"-0.00\" dx=\"0.075\" dy=\"0.15\" text-anchor=\"start\">3</text>\n",
       "        <text x=\"0.82\" y=\"0.00\" dx=\"0.175\" dy=\"0.15\" text-anchor=\"start\">1</text>\n",
       "        <text x=\"0.00\" y=\"-0.00\" dx=\"0.075\" dy=\"0.33\" text-anchor=\"start\">d</text>\n",
       "        <text x=\"0.82\" y=\"0.00\" dx=\"0.175\" dy=\"0.33\" text-anchor=\"start\">s</text>\n",
       "      </g>\n",
       "    </g>\n",
       "  </g>\n",
       "  <g>\n",
       "    <defs>\n",
       "      <mask id=\"mask-d7858269-b870-4aca-9c68-ced460b5286f\">\n",
       "        <rect x=\"-0.62\" y=\"-0.83\" width=\"7.75\" height=\"1.66\" fill=\"white\"/>\n",
       "        <g fill=\"black\">\n",
       "          <circle cx=\"5.54\" cy=\"-0.21\" r=\"0.20\"/>\n",
       "        </g>\n",
       "        <g font-family=\"monospace\" stroke=\"black\">\n",
       "          <g font-family=\"sans-serif\" font-size=\"0.50\" stroke-width=\"0.05\">\n",
       "           <text x=\"5.54\" y=\"-0.21\" dx=\"-0.20\" dy=\"0.20\">O</text>\n",
       "          </g>\n",
       "          <g font-family=\"monospace\" font-size=\"0.3\" stroke-width=\"0.03\">\n",
       "           <text x=\"4.82\" y=\"0.21\" dx=\"0.07\" dy=\"0.15\">3</text>\n",
       "           <text x=\"4.82\" y=\"0.21\" dx=\"0.07\" dy=\"0.33\">d</text>\n",
       "           <text x=\"5.54\" y=\"-0.21\" dx=\"0.17\" dy=\"0.15\">2</text>\n",
       "           <text x=\"5.54\" y=\"-0.21\" dx=\"0.17\" dy=\"0.33\">s</text>\n",
       "           <text x=\"6.25\" y=\"0.21\" dx=\"0.07\" dy=\"0.15\">1</text>\n",
       "           <text x=\"6.25\" y=\"0.21\" dx=\"0.07\" dy=\"0.33\">s</text>\n",
       "          </g>\n",
       "        </g>\n",
       "      </mask>\n",
       "    </defs>\n",
       "    <g fill=\"none\" stroke=\"black\" stroke-width=\"0.04\"  mask=\"url(#mask-d7858269-b870-4aca-9c68-ced460b5286f)\">\n",
       "      <line x1=\"4.82\" y1=\"0.21\" x2=\"5.54\" y2=\"-0.21\"/>\n",
       "      <line x1=\"5.54\" y1=\"-0.21\" x2=\"6.25\" y2=\"0.21\"/>\n",
       "    </g>\n",
       "    <g font-family=\"monospace\">\n",
       "      <g fill=\"#FF0D0D\" font-family=\"sans-serif\">\n",
       "        <text x=\"5.54\" y=\"-0.21\" dx=\"-0.20\" dy=\"0.20\" font-size=\"0.50\">O</text>\n",
       "      </g>\n",
       "      <g fill=\"#5D8AA8\" font-family=\"monospace\" font-size=\"0.30\">\n",
       "        <text x=\"4.82\" y=\"0.21\" dx=\"0.075\" dy=\"0.15\" text-anchor=\"start\">3</text>\n",
       "        <text x=\"5.54\" y=\"-0.21\" dx=\"0.175\" dy=\"0.15\" text-anchor=\"start\">2</text>\n",
       "        <text x=\"6.25\" y=\"0.21\" dx=\"0.075\" dy=\"0.15\" text-anchor=\"start\">1</text>\n",
       "        <text x=\"4.82\" y=\"0.21\" dx=\"0.075\" dy=\"0.33\" text-anchor=\"start\">d</text>\n",
       "        <text x=\"5.54\" y=\"-0.21\" dx=\"0.175\" dy=\"0.33\" text-anchor=\"start\">s</text>\n",
       "        <text x=\"6.25\" y=\"0.21\" dx=\"0.075\" dy=\"0.33\" text-anchor=\"start\">s</text>\n",
       "      </g>\n",
       "    </g>\n",
       "  </g>\n",
       "</svg>"
      ],
      "text/plain": [
       "<CGRtools.containers.reaction.ReactionContainer at 0x7fc1e4388600>"
      ]
     },
     "execution_count": 5,
     "metadata": {},
     "output_type": "execute_result"
    }
   ],
   "source": [
    "reaction_rules_list[0]"
   ]
  },
  {
   "cell_type": "code",
   "execution_count": 6,
   "id": "37bbc4c13dbf68b6",
   "metadata": {},
   "outputs": [
    {
     "data": {
      "image/svg+xml": [
       "<svg width=\"8.47cm\" height=\"1.66cm\" viewBox=\"-0.62 -0.83 8.47 1.66\" xmlns=\"http://www.w3.org/2000/svg\" version=\"1.1\">\n",
       "  <defs>\n",
       "    <marker id=\"arrow\" markerWidth=\"10\" markerHeight=\"10\" refX=\"0\" refY=\"3\" orient=\"auto\">\n",
       "      <path d=\"M0,0 L0,6 L9,3\"/>\n",
       "    </marker>\n",
       "  </defs>\n",
       "  <line x1=\"1.82\" y1=\"0\" x2=\"3.82\" y2=\"0\" fill=\"none\" stroke=\"black\" stroke-width=\".04\" marker-end=\"url(#arrow)\"/>\n",
       "  <g>\n",
       "    <defs>\n",
       "      <mask id=\"mask-b820b0f6-1850-4ac0-a52e-334c0c047767\">\n",
       "        <rect x=\"-0.62\" y=\"-0.83\" width=\"8.47\" height=\"1.66\" fill=\"white\"/>\n",
       "        <g fill=\"black\">\n",
       "          <circle cx=\"0.82\" cy=\"0.00\" r=\"0.20\"/>\n",
       "        </g>\n",
       "        <g font-family=\"monospace\" stroke=\"black\">\n",
       "          <g font-family=\"sans-serif\" font-size=\"0.50\" stroke-width=\"0.05\">\n",
       "           <text x=\"0.82\" y=\"0.00\" dx=\"-0.20\" dy=\"0.20\">O</text>\n",
       "          </g>\n",
       "          <g font-family=\"monospace\" font-size=\"0.3\" stroke-width=\"0.03\">\n",
       "           <text x=\"0.00\" y=\"-0.00\" dx=\"0.07\" dy=\"0.15\">3</text>\n",
       "           <text x=\"0.00\" y=\"-0.00\" dx=\"0.07\" dy=\"0.33\">d</text>\n",
       "           <text x=\"0.82\" y=\"0.00\" dx=\"0.17\" dy=\"0.15\">1</text>\n",
       "           <text x=\"0.82\" y=\"0.00\" dx=\"0.17\" dy=\"0.33\">s</text>\n",
       "          </g>\n",
       "        </g>\n",
       "      </mask>\n",
       "    </defs>\n",
       "    <g fill=\"none\" stroke=\"black\" stroke-width=\"0.04\"  mask=\"url(#mask-b820b0f6-1850-4ac0-a52e-334c0c047767)\">\n",
       "      <line x1=\"-0.62\" y1=\"-0.83\" x2=\"7.84\" y2=\"-0.83\" stroke=\"none\"/>\n",
       "      <line x1=\"0.00\" y1=\"-0.00\" x2=\"0.82\" y2=\"0.00\"/>\n",
       "    </g>\n",
       "    <g font-family=\"monospace\">\n",
       "      <g fill=\"#FF0D0D\" font-family=\"sans-serif\">\n",
       "        <text x=\"0.82\" y=\"0.00\" dx=\"-0.20\" dy=\"0.20\" font-size=\"0.50\">O</text>\n",
       "      </g>\n",
       "      <g fill=\"#5D8AA8\" font-family=\"monospace\" font-size=\"0.30\">\n",
       "        <text x=\"0.00\" y=\"-0.00\" dx=\"0.075\" dy=\"0.15\" text-anchor=\"start\">3</text>\n",
       "        <text x=\"0.82\" y=\"0.00\" dx=\"0.175\" dy=\"0.15\" text-anchor=\"start\">1</text>\n",
       "        <text x=\"0.00\" y=\"-0.00\" dx=\"0.075\" dy=\"0.33\" text-anchor=\"start\">d</text>\n",
       "        <text x=\"0.82\" y=\"0.00\" dx=\"0.175\" dy=\"0.33\" text-anchor=\"start\">s</text>\n",
       "      </g>\n",
       "    </g>\n",
       "  </g>\n",
       "  <g>\n",
       "    <defs>\n",
       "      <mask id=\"mask-1057a169-7dd4-4d67-9431-348694774973\">\n",
       "        <rect x=\"-0.62\" y=\"-0.83\" width=\"8.47\" height=\"1.66\" fill=\"white\"/>\n",
       "        <g fill=\"black\">\n",
       "          <circle cx=\"5.54\" cy=\"0.21\" r=\"0.20\"/>\n",
       "        </g>\n",
       "        <g font-family=\"monospace\" stroke=\"black\">\n",
       "          <g font-family=\"sans-serif\" font-size=\"0.50\" stroke-width=\"0.05\">\n",
       "           <text x=\"5.54\" y=\"0.21\" dx=\"-0.20\" dy=\"0.20\">O</text>\n",
       "          </g>\n",
       "          <g font-family=\"monospace\" font-size=\"0.3\" stroke-width=\"0.03\">\n",
       "           <text x=\"4.82\" y=\"-0.21\" dx=\"0.07\" dy=\"0.15\">3</text>\n",
       "           <text x=\"4.82\" y=\"-0.21\" dx=\"0.07\" dy=\"0.33\">d</text>\n",
       "           <text x=\"5.54\" y=\"0.21\" dx=\"0.17\" dy=\"0.15\">2</text>\n",
       "           <text x=\"5.54\" y=\"0.21\" dx=\"0.17\" dy=\"0.33\">s</text>\n",
       "           <text x=\"6.25\" y=\"-0.21\" dx=\"0.07\" dy=\"0.15\">2</text>\n",
       "           <text x=\"6.25\" y=\"-0.21\" dx=\"0.07\" dy=\"0.33\">s</text>\n",
       "           <text x=\"6.97\" y=\"0.21\" dx=\"0.07\" dy=\"0.15\">1</text>\n",
       "           <text x=\"6.97\" y=\"0.21\" dx=\"0.07\" dy=\"0.33\">s</text>\n",
       "          </g>\n",
       "        </g>\n",
       "      </mask>\n",
       "    </defs>\n",
       "    <g fill=\"none\" stroke=\"black\" stroke-width=\"0.04\"  mask=\"url(#mask-1057a169-7dd4-4d67-9431-348694774973)\">\n",
       "      <line x1=\"4.82\" y1=\"-0.21\" x2=\"5.54\" y2=\"0.21\"/>\n",
       "      <line x1=\"5.54\" y1=\"0.21\" x2=\"6.25\" y2=\"-0.21\"/>\n",
       "      <line x1=\"6.25\" y1=\"-0.21\" x2=\"6.97\" y2=\"0.21\"/>\n",
       "    </g>\n",
       "    <g font-family=\"monospace\">\n",
       "      <g fill=\"#FF0D0D\" font-family=\"sans-serif\">\n",
       "        <text x=\"5.54\" y=\"0.21\" dx=\"-0.20\" dy=\"0.20\" font-size=\"0.50\">O</text>\n",
       "      </g>\n",
       "      <g fill=\"#5D8AA8\" font-family=\"monospace\" font-size=\"0.30\">\n",
       "        <text x=\"4.82\" y=\"-0.21\" dx=\"0.075\" dy=\"0.15\" text-anchor=\"start\">3</text>\n",
       "        <text x=\"5.54\" y=\"0.21\" dx=\"0.175\" dy=\"0.15\" text-anchor=\"start\">2</text>\n",
       "        <text x=\"6.25\" y=\"-0.21\" dx=\"0.075\" dy=\"0.15\" text-anchor=\"start\">2</text>\n",
       "        <text x=\"6.97\" y=\"0.21\" dx=\"0.075\" dy=\"0.15\" text-anchor=\"start\">1</text>\n",
       "        <text x=\"4.82\" y=\"-0.21\" dx=\"0.075\" dy=\"0.33\" text-anchor=\"start\">d</text>\n",
       "        <text x=\"5.54\" y=\"0.21\" dx=\"0.175\" dy=\"0.33\" text-anchor=\"start\">s</text>\n",
       "        <text x=\"6.25\" y=\"-0.21\" dx=\"0.075\" dy=\"0.33\" text-anchor=\"start\">s</text>\n",
       "        <text x=\"6.97\" y=\"0.21\" dx=\"0.075\" dy=\"0.33\" text-anchor=\"start\">s</text>\n",
       "      </g>\n",
       "    </g>\n",
       "  </g>\n",
       "</svg>"
      ],
      "text/plain": [
       "<CGRtools.containers.reaction.ReactionContainer at 0x7fc1e4388fa0>"
      ]
     },
     "execution_count": 6,
     "metadata": {},
     "output_type": "execute_result"
    }
   ],
   "source": [
    "reaction_rules_list[1]"
   ]
  },
  {
   "cell_type": "code",
   "execution_count": 7,
   "id": "c7350a870fbbf2d0",
   "metadata": {},
   "outputs": [
    {
     "data": {
      "image/svg+xml": [
       "<svg width=\"11.11cm\" height=\"2.68cm\" viewBox=\"-0.62 -1.34 11.11 2.68\" xmlns=\"http://www.w3.org/2000/svg\" version=\"1.1\">\n",
       "  <defs>\n",
       "    <marker id=\"arrow\" markerWidth=\"10\" markerHeight=\"10\" refX=\"0\" refY=\"3\" orient=\"auto\">\n",
       "      <path d=\"M0,0 L0,6 L9,3\"/>\n",
       "    </marker>\n",
       "  </defs>\n",
       "  <line x1=\"3.14\" y1=\"0\" x2=\"5.14\" y2=\"0\" fill=\"none\" stroke=\"black\" stroke-width=\".04\" marker-end=\"url(#arrow)\"/>\n",
       "  <g fill=\"none\" stroke=\"black\" stroke-width=\".04\">\n",
       "    <line x1=\"7.52\" y1=\"0\" x2=\"7.82\" y2=\"0\"/>\n",
       "    <line x1=\"7.67\" y1=\"0.15\" x2=\"7.67\" y2=\"-0.15\"/>\n",
       "  </g>\n",
       "  <g>\n",
       "    <defs>\n",
       "      <mask id=\"mask-65378866-ddfe-4b52-9a23-e7da996ee194\">\n",
       "        <rect x=\"-0.62\" y=\"-1.34\" width=\"11.11\" height=\"2.68\" fill=\"white\"/>\n",
       "        <g fill=\"black\">\n",
       "          <circle cx=\"0.71\" cy=\"0.62\" r=\"0.20\"/>\n",
       "          <circle cx=\"2.14\" cy=\"0.62\" r=\"0.20\"/>\n",
       "        </g>\n",
       "        <g font-family=\"monospace\" stroke=\"black\">\n",
       "          <g font-family=\"sans-serif\" font-size=\"0.50\" stroke-width=\"0.05\">\n",
       "           <text x=\"0.71\" y=\"0.62\" dx=\"-0.20\" dy=\"0.20\">O</text>\n",
       "           <text x=\"2.14\" y=\"0.62\" dx=\"-0.20\" dy=\"0.20\">N</text>\n",
       "          </g>\n",
       "          <g font-family=\"monospace\" font-size=\"0.3\" stroke-width=\"0.03\">\n",
       "           <text x=\"0.00\" y=\"0.21\" dx=\"0.07\" dy=\"0.15\">3</text>\n",
       "           <text x=\"0.00\" y=\"0.21\" dx=\"0.07\" dy=\"0.33\">a</text>\n",
       "           <text x=\"0.71\" y=\"0.62\" dx=\"0.17\" dy=\"0.15\">2</text>\n",
       "           <text x=\"0.71\" y=\"0.62\" dx=\"0.17\" dy=\"0.33\">s</text>\n",
       "           <text x=\"1.43\" y=\"0.21\" dx=\"0.07\" dy=\"0.15\">3</text>\n",
       "           <text x=\"1.43\" y=\"0.21\" dx=\"0.07\" dy=\"0.33\">a</text>\n",
       "           <text x=\"2.14\" y=\"0.62\" dx=\"0.17\" dy=\"0.15\">2</text>\n",
       "           <text x=\"2.14\" y=\"0.62\" dx=\"0.17\" dy=\"0.33\">a</text>\n",
       "           <text x=\"1.43\" y=\"-0.62\" dx=\"0.07\" dy=\"0.15\">2</text>\n",
       "           <text x=\"1.43\" y=\"-0.62\" dx=\"0.07\" dy=\"0.33\">a</text>\n",
       "          </g>\n",
       "        </g>\n",
       "      </mask>\n",
       "    </defs>\n",
       "    <g fill=\"none\" stroke=\"black\" stroke-width=\"0.04\"  mask=\"url(#mask-65378866-ddfe-4b52-9a23-e7da996ee194)\">\n",
       "      <line x1=\"0.00\" y1=\"0.21\" x2=\"0.71\" y2=\"0.62\"/>\n",
       "      <line x1=\"0.71\" y1=\"0.62\" x2=\"1.43\" y2=\"0.21\"/>\n",
       "      <line x1=\"1.46\" y1=\"0.15\" x2=\"2.17\" y2=\"0.57\"/>\n",
       "      <line x1=\"1.40\" y1=\"0.26\" x2=\"2.11\" y2=\"0.67\" stroke-dasharray=\"0.15 0.05\"/>\n",
       "      <line x1=\"1.37\" y1=\"0.21\" x2=\"1.37\" y2=\"-0.62\"/>\n",
       "      <line x1=\"1.49\" y1=\"0.21\" x2=\"1.49\" y2=\"-0.62\" stroke-dasharray=\"0.15 0.05\"/>\n",
       "    </g>\n",
       "    <g font-family=\"monospace\">\n",
       "      <g fill=\"#FF0D0D\" font-family=\"sans-serif\">\n",
       "        <text x=\"0.71\" y=\"0.62\" dx=\"-0.20\" dy=\"0.20\" font-size=\"0.50\">O</text>\n",
       "      </g>\n",
       "      <g fill=\"#3050F8\" font-family=\"sans-serif\">\n",
       "        <text x=\"2.14\" y=\"0.62\" dx=\"-0.20\" dy=\"0.20\" font-size=\"0.50\">N</text>\n",
       "      </g>\n",
       "      <g fill=\"#5D8AA8\" font-family=\"monospace\" font-size=\"0.30\">\n",
       "        <text x=\"0.00\" y=\"0.21\" dx=\"0.075\" dy=\"0.15\" text-anchor=\"start\">3</text>\n",
       "        <text x=\"0.71\" y=\"0.62\" dx=\"0.175\" dy=\"0.15\" text-anchor=\"start\">2</text>\n",
       "        <text x=\"1.43\" y=\"0.21\" dx=\"0.075\" dy=\"0.15\" text-anchor=\"start\">3</text>\n",
       "        <text x=\"2.14\" y=\"0.62\" dx=\"0.175\" dy=\"0.15\" text-anchor=\"start\">2</text>\n",
       "        <text x=\"1.43\" y=\"-0.62\" dx=\"0.075\" dy=\"0.15\" text-anchor=\"start\">2</text>\n",
       "        <text x=\"0.00\" y=\"0.21\" dx=\"0.075\" dy=\"0.33\" text-anchor=\"start\">a</text>\n",
       "        <text x=\"0.71\" y=\"0.62\" dx=\"0.175\" dy=\"0.33\" text-anchor=\"start\">s</text>\n",
       "        <text x=\"1.43\" y=\"0.21\" dx=\"0.075\" dy=\"0.33\" text-anchor=\"start\">a</text>\n",
       "        <text x=\"2.14\" y=\"0.62\" dx=\"0.175\" dy=\"0.33\" text-anchor=\"start\">a</text>\n",
       "        <text x=\"1.43\" y=\"-0.62\" dx=\"0.075\" dy=\"0.33\" text-anchor=\"start\">a</text>\n",
       "      </g>\n",
       "    </g>\n",
       "  </g>\n",
       "  <g>\n",
       "    <defs>\n",
       "      <mask id=\"mask-66780cc8-c608-4f75-907c-fd4c97d12598\">\n",
       "        <rect x=\"-0.62\" y=\"-1.34\" width=\"11.11\" height=\"2.68\" fill=\"white\"/>\n",
       "        <g fill=\"black\">\n",
       "          <circle cx=\"6.14\" cy=\"-0.00\" r=\"0.20\"/>\n",
       "        </g>\n",
       "        <g font-family=\"monospace\" stroke=\"black\">\n",
       "          <g font-family=\"sans-serif\" font-size=\"0.50\" stroke-width=\"0.05\">\n",
       "           <text x=\"6.14\" y=\"-0.00\" dx=\"-0.20\" dy=\"0.20\">O</text>\n",
       "          </g>\n",
       "          <g font-family=\"monospace\" font-size=\"0.3\" stroke-width=\"0.03\">\n",
       "           <text x=\"6.97\" y=\"0.00\" dx=\"0.07\" dy=\"0.15\">3</text>\n",
       "           <text x=\"6.97\" y=\"0.00\" dx=\"0.07\" dy=\"0.33\">a</text>\n",
       "           <text x=\"6.14\" y=\"-0.00\" dx=\"0.17\" dy=\"0.15\">1</text>\n",
       "           <text x=\"6.14\" y=\"-0.00\" dx=\"0.17\" dy=\"0.33\">s</text>\n",
       "          </g>\n",
       "        </g>\n",
       "      </mask>\n",
       "    </defs>\n",
       "    <g fill=\"none\" stroke=\"black\" stroke-width=\"0.04\"  mask=\"url(#mask-66780cc8-c608-4f75-907c-fd4c97d12598)\">\n",
       "      <line x1=\"-0.62\" y1=\"-1.34\" x2=\"10.48\" y2=\"-1.34\" stroke=\"none\"/>\n",
       "      <line x1=\"6.97\" y1=\"0.00\" x2=\"6.14\" y2=\"-0.00\"/>\n",
       "    </g>\n",
       "    <g font-family=\"monospace\">\n",
       "      <g fill=\"#FF0D0D\" font-family=\"sans-serif\">\n",
       "        <text x=\"6.14\" y=\"-0.00\" dx=\"-0.20\" dy=\"0.20\" font-size=\"0.50\">O</text>\n",
       "      </g>\n",
       "      <g fill=\"#5D8AA8\" font-family=\"monospace\" font-size=\"0.30\">\n",
       "        <text x=\"6.97\" y=\"0.00\" dx=\"0.075\" dy=\"0.15\" text-anchor=\"start\">3</text>\n",
       "        <text x=\"6.14\" y=\"-0.00\" dx=\"0.175\" dy=\"0.15\" text-anchor=\"start\">1</text>\n",
       "        <text x=\"6.97\" y=\"0.00\" dx=\"0.075\" dy=\"0.33\" text-anchor=\"start\">a</text>\n",
       "        <text x=\"6.14\" y=\"-0.00\" dx=\"0.175\" dy=\"0.33\" text-anchor=\"start\">s</text>\n",
       "      </g>\n",
       "    </g>\n",
       "  </g>\n",
       "  <g>\n",
       "    <defs>\n",
       "      <mask id=\"mask-bce3f98f-febe-4d83-b89b-3afcda5bab4b\">\n",
       "        <rect x=\"-0.62\" y=\"-1.34\" width=\"11.11\" height=\"2.68\" fill=\"white\"/>\n",
       "        <g fill=\"black\">\n",
       "          <circle cx=\"9.61\" cy=\"-0.71\" r=\"0.20\"/>\n",
       "          <ellipse cx=\"8.24\" cy=\"-0.00\" rx=\"0.3\" ry=\"0.2\"/>\n",
       "        </g>\n",
       "        <g font-family=\"monospace\" stroke=\"black\">\n",
       "          <g font-family=\"sans-serif\" font-size=\"0.50\" stroke-width=\"0.05\">\n",
       "           <text x=\"9.61\" y=\"-0.71\" dx=\"-0.20\" dy=\"0.20\">N</text>\n",
       "           <text x=\"8.37\" y=\"-0.00\" dx=\"-0.35\" dy=\"0.20\">Cl</text>\n",
       "          </g>\n",
       "          <g font-family=\"monospace\" font-size=\"0.3\" stroke-width=\"0.03\">\n",
       "           <text x=\"9.61\" y=\"-0.71\" dx=\"0.17\" dy=\"0.15\">2</text>\n",
       "           <text x=\"9.61\" y=\"-0.71\" dx=\"0.17\" dy=\"0.33\">a</text>\n",
       "           <text x=\"9.19\" y=\"-0.00\" dx=\"0.07\" dy=\"0.15\">3</text>\n",
       "           <text x=\"9.19\" y=\"-0.00\" dx=\"0.07\" dy=\"0.33\">a</text>\n",
       "           <text x=\"8.37\" y=\"-0.00\" dx=\"0.33\" dy=\"0.15\">1</text>\n",
       "           <text x=\"8.37\" y=\"-0.00\" dx=\"0.33\" dy=\"0.33\">s</text>\n",
       "           <text x=\"9.61\" y=\"0.71\" dx=\"0.07\" dy=\"0.15\">2</text>\n",
       "           <text x=\"9.61\" y=\"0.71\" dx=\"0.07\" dy=\"0.33\">a</text>\n",
       "          </g>\n",
       "        </g>\n",
       "      </mask>\n",
       "    </defs>\n",
       "    <g fill=\"none\" stroke=\"black\" stroke-width=\"0.04\"  mask=\"url(#mask-bce3f98f-febe-4d83-b89b-3afcda5bab4b)\">\n",
       "      <line x1=\"9.66\" y1=\"-0.68\" x2=\"9.25\" y2=\"0.03\"/>\n",
       "      <line x1=\"9.55\" y1=\"-0.74\" x2=\"9.14\" y2=\"-0.03\" stroke-dasharray=\"0.15 0.05\"/>\n",
       "      <line x1=\"9.19\" y1=\"-0.00\" x2=\"8.37\" y2=\"-0.00\"/>\n",
       "      <line x1=\"9.25\" y1=\"-0.03\" x2=\"9.66\" y2=\"0.68\"/>\n",
       "      <line x1=\"9.14\" y1=\"0.03\" x2=\"9.55\" y2=\"0.74\" stroke-dasharray=\"0.15 0.05\"/>\n",
       "    </g>\n",
       "    <g font-family=\"monospace\">\n",
       "      <g fill=\"#3050F8\" font-family=\"sans-serif\">\n",
       "        <text x=\"9.61\" y=\"-0.71\" dx=\"-0.20\" dy=\"0.20\" font-size=\"0.50\">N</text>\n",
       "      </g>\n",
       "      <g fill=\"#1FF01F\" font-family=\"sans-serif\">\n",
       "        <text x=\"8.37\" y=\"-0.00\" dx=\"-0.35\" dy=\"0.20\" font-size=\"0.50\">Cl</text>\n",
       "      </g>\n",
       "      <g fill=\"#5D8AA8\" font-family=\"monospace\" font-size=\"0.30\">\n",
       "        <text x=\"9.61\" y=\"-0.71\" dx=\"0.175\" dy=\"0.15\" text-anchor=\"start\">2</text>\n",
       "        <text x=\"9.19\" y=\"-0.00\" dx=\"0.075\" dy=\"0.15\" text-anchor=\"start\">3</text>\n",
       "        <text x=\"8.37\" y=\"-0.00\" dx=\"0.325\" dy=\"0.15\" text-anchor=\"start\">1</text>\n",
       "        <text x=\"9.61\" y=\"0.71\" dx=\"0.075\" dy=\"0.15\" text-anchor=\"start\">2</text>\n",
       "        <text x=\"9.61\" y=\"-0.71\" dx=\"0.175\" dy=\"0.33\" text-anchor=\"start\">a</text>\n",
       "        <text x=\"9.19\" y=\"-0.00\" dx=\"0.075\" dy=\"0.33\" text-anchor=\"start\">a</text>\n",
       "        <text x=\"8.37\" y=\"-0.00\" dx=\"0.325\" dy=\"0.33\" text-anchor=\"start\">s</text>\n",
       "        <text x=\"9.61\" y=\"0.71\" dx=\"0.075\" dy=\"0.33\" text-anchor=\"start\">a</text>\n",
       "      </g>\n",
       "    </g>\n",
       "  </g>\n",
       "</svg>"
      ],
      "text/plain": [
       "<CGRtools.containers.reaction.ReactionContainer at 0x7fc1e41e7a10>"
      ]
     },
     "execution_count": 7,
     "metadata": {},
     "output_type": "execute_result"
    }
   ],
   "source": [
    "reaction_rules_list[100]"
   ]
  },
  {
   "attachments": {},
   "cell_type": "markdown",
   "id": "f25227bd-d1ca-4212-af52-6419aa0efda6",
   "metadata": {},
   "source": [
    "## Results\n",
    "\n",
    "If the tutorial is executed successfully, you will get in the results folder three reaction data files (from reaction curation tutorial) and corresponding extracted reaction rules:\n",
    "- original reaction data\n",
    "- standardized reaction data\n",
    "- filtered reaction data\n",
    "- extracted reaction rules"
   ]
  },
  {
   "cell_type": "code",
   "execution_count": 8,
   "id": "9021fdf9-31d7-4488-8654-fcf28faa6082",
   "metadata": {},
   "outputs": [
    {
     "data": {
      "text/plain": [
       "[PosixPath('/home1/dima/synplanner/tutorials/tutorial_results/uspto_original.smi'),\n",
       " PosixPath('/home1/dima/synplanner/tutorials/tutorial_results/uspto_standardized.smi'),\n",
       " PosixPath('/home1/dima/synplanner/tutorials/tutorial_results/uspto_filtered.smi'),\n",
       " PosixPath('/home1/dima/synplanner/tutorials/tutorial_results/uspto_reaction_rules.pickle')]"
      ]
     },
     "execution_count": 8,
     "metadata": {},
     "output_type": "execute_result"
    }
   ],
   "source": [
    "sorted(Path(results_folder).iterdir(), key=os.path.getmtime, reverse=False)"
   ]
  }
 ],
 "metadata": {
  "kernelspec": {
   "display_name": "synplan",
   "language": "python",
   "name": "synplan_env"
  },
  "language_info": {
   "codemirror_mode": {
    "name": "ipython",
    "version": 3
   },
   "file_extension": ".py",
   "mimetype": "text/x-python",
   "name": "python",
   "nbconvert_exporter": "python",
   "pygments_lexer": "ipython3",
   "version": "3.11.9"
  }
 },
 "nbformat": 4,
 "nbformat_minor": 5
}
